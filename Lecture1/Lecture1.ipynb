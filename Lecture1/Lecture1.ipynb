{
 "cells": [
  {
   "cell_type": "markdown",
   "id": "a51ebac5",
   "metadata": {
    "slideshow": {
     "slide_type": "slide"
    }
   },
   "source": [
    "<br />\n",
    "<br />\n",
    "\n",
    "<center><h1><b>Lecture 1</b></h1></center>\n",
    "<center><h1><b>Introduction to Computation and Programming</b></h1></center>\n",
    "\n",
    "<center><h4>Time: 1EF (13:20 ~ 15:10) and 4B (09:00 ~ 09:50)</h4></center>\n",
    "<br />\n",
    "\n",
    "<center><h2>Chieh-En Lee<sup>1</sup> (李杰恩) and Chung-Hao Tien<sup>2</sup> (田仲豪)</h2></center>\n",
    "\n",
    "<center>\n",
    "<h4>{<a href=\"mailto:celee@nycu.edu.tw\">celee</a><sup>1</sup>, \n",
    "<a href=\"mailto:chtien@nycu.edu.tw\">chtien</a><sup>2</sup>}@nycu.edu.tw</h4>\n",
    "</center>\n",
    "\n",
    "<center><h3>Department of Photonics, NYCU</h3></center>\n",
    "\n",
    "<br />\n",
    "<center><h5>Introduction to Computer and Computer Science, 2022 Fall</h5></center>"
   ]
  },
  {
   "cell_type": "markdown",
   "id": "fe725f41",
   "metadata": {
    "slideshow": {
     "slide_type": "slide"
    }
   },
   "source": [
    "## Today\n",
    "\n",
    "- Course information  \n",
    "- What will you learn in this course?  \n",
    "- What is computation?  \n",
    "- Introduction to Python - the fundamental  \n",
    "- Objects, expressions, and numerical types  \n",
    "- Variables and assignment  "
   ]
  },
  {
   "cell_type": "markdown",
   "id": "61aa6754",
   "metadata": {},
   "source": [
    "## Course information\n",
    "\n",
    "- Time: \n",
    "    * 1EF, 4B @CY203\n",
    "\n",
    "- Teaching assistants:\n",
    "|Name|Email|Office|\n",
    "|:--:|:--|--|\n",
    "|吳嘉倫|piep1e.ee07@nycu.edu.tw|CY501|\n",
    "|黃子原|steven013032.eo08@nctu.edu.tw|CY502|\n",
    "\n",
    "- Grading:\n",
    "|Item|Percentage|\n",
    "|:--:|:--:|\n",
    "|Homework|80%|\n",
    "|Final project|20%|\n",
    "|Quiz|10%|\n",
    "\n",
    "- Office hour:\n",
    "    * ??? @CY501\n",
    "    * Please contact us via email before coming\n",
    "\n",
    "- Prepare a mobile device and bring it here!!!\n",
    "\n",
    "- Reference book (not necessary):\n",
    "    * John V. Guttag, Introduction to Computation and Programming Using Python: with Application to Understanding Data 2nd ed., MIT Press 2016\n"
   ]
  },
  {
   "attachments": {},
   "cell_type": "markdown",
   "id": "1b20e060",
   "metadata": {},
   "source": [
    "## What can you learn in this course?\n",
    "\n",
    "- Python\n",
    "- The logic of programming thinking\n",
    "- Relative knowledge about data structure and algorithms\n",
    "- Data visualization\n",
    "- Have the ability to read, to understand, and to use open sources\n",
    "- How to use the computer for solving the problems during your entire life\n",
    "- **How to apply logistic thinking to your life**\n",
    "- What’s next?\n",
    "    * Linear algebra and programming\n",
    "    * Basic concept of image processing\n",
    "    * Basic concept of machine learning\n"
   ]
  },
  {
   "cell_type": "markdown",
   "id": "b1950b04",
   "metadata": {},
   "source": [
    "## Where can you find the handouts?\n",
    "\n",
    "- GitHub of OISLAB-COAV:\n",
    "    * [NYCUDOPCS repository](https://github.com/ABCofGaGaSu)\n",
    "\n",
    "- The format of the handouts is `*.ipynb`. You can open this file via your browser.\n",
    "    * For example, this is today's handout.\n",
    "    * A Link..."
   ]
  },
  {
   "cell_type": "markdown",
   "id": "b5b7c1e8",
   "metadata": {},
   "source": [
    "## Rules\n",
    "\n",
    "- Criterion of homeworks (NORMAL case):  \n",
    "|Item|Percentage|\n",
    "|:--:|:--:|\n",
    "|Executable|60%|\n",
    "|Result|20%|\n",
    "|Others|20%|\n",
    "\n",
    "- Collaboration of homeworks:\n",
    "    * You are allowed to collaborate with anyone. Please list the names of all collaborators in your homework submission.\n",
    "    * No plagiarism\n",
    "    * For example:  \n",
    "\n",
    "```python\n",
    "\"\"\"\n",
    "Created on Sun Aug 7 01:23:45 2022\n",
    "\n",
    "@author: Chieh-En Lee, student ID\n",
    "\n",
    "@collaborators: Jia-Lun Wu and Tzu-Yuan Huang\n",
    "\"\"\"\n",
    "```\n",
    "\n",
    "- The deadline is deadline, no extension.\n",
    "\n",
    "- Criterion of homeworks (ABNORMAL case):  \n",
    "|Item|Percentage|\n",
    "|:--:|:--:|\n",
    "|Executable|10%|\n",
    "|Result|10%|\n",
    "|Presentation|80%|\n"
   ]
  },
  {
   "attachments": {},
   "cell_type": "markdown",
   "id": "97584fc9",
   "metadata": {},
   "source": [
    "## About presentation\n",
    "\n",
    "- The objective is to provide you a chance to practice your presentation skills.\n",
    "- In each homework assignments, we will choose __5 students__ as the presenters to explain the programs they written.\n",
    "- You only have __3 minutes__ for your presentation. Here are some instructions:\n",
    "    1. You don't need to explain your code line-by-line.\n",
    "    2. Explain your understanding of the question.\n",
    "    3. Explain the logic of your code.\n",
    "    4. Keep your mind clear, there will be a Q&A after your presentation.\n",
    "\n",
    "<br />\n",
    "<center><h4>Be ready! You will be chosen randomly by the computer.</h4></center>\n",
    "\n",
    "\n"
   ]
  },
  {
   "cell_type": "markdown",
   "id": "0162560e",
   "metadata": {},
   "source": [
    "## What is computer?\n",
    "\n",
    "![image](https://github.com/bruce88617/nycudopcs/blob/main/Lecture1/fig01.png)\n",
    "\n"
   ]
  },
  {
   "cell_type": "markdown",
   "id": "e6bebd29",
   "metadata": {},
   "source": [
    "<img align=\"left\" height=auto width=900px src=\"https://github.com/bruce88617/nycudopcs/blob/main/Lecture1/fig01.png\">\n"
   ]
  },
  {
   "cell_type": "code",
   "execution_count": null,
   "id": "22f01d95",
   "metadata": {},
   "outputs": [],
   "source": []
  }
 ],
 "metadata": {
  "kernelspec": {
   "display_name": "Python 3 (ipykernel)",
   "language": "python",
   "name": "python3"
  },
  "language_info": {
   "codemirror_mode": {
    "name": "ipython",
    "version": 3
   },
   "file_extension": ".py",
   "mimetype": "text/x-python",
   "name": "python",
   "nbconvert_exporter": "python",
   "pygments_lexer": "ipython3",
   "version": "3.8.10"
  }
 },
 "nbformat": 4,
 "nbformat_minor": 5
}
