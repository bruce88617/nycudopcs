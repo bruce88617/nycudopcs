{
 "cells": [
  {
   "cell_type": "markdown",
   "id": "a51ebac5",
   "metadata": {
    "slideshow": {
     "slide_type": "slide"
    }
   },
   "source": [
    "<br />\n",
    "<br />\n",
    "\n",
    "<center><h1><b>Lecture 1</b></h1></center>\n",
    "<center><h1><b>Introduction to Computation and Programming</b></h1></center>\n",
    "\n",
    "<center><h4>Time: 1EF (13:20 ~ 15:10) and 4B (09:00 ~ 09:50)</h4></center>\n",
    "<br />\n",
    "\n",
    "<center><h2>Chieh-En Lee<sup>1</sup> (李杰恩) and Chung-Hao Tien<sup>2</sup> (田仲豪)</h2></center>\n",
    "\n",
    "<center>\n",
    "<h4>{<a href=\"mailto:celee@nycu.edu.tw\">celee</a><sup>1</sup>, \n",
    "<a href=\"mailto:chtien@nycu.edu.tw\">chtien</a><sup>2</sup>}@nycu.edu.tw</h4>\n",
    "</center>\n",
    "\n",
    "<center><h3>Department of Photonics, NYCU</h3></center>\n",
    "\n",
    "<br />\n",
    "<center><h5>Introduction to Computer and Computer Science, 2022 Fall</h5></center>"
   ]
  },
  {
   "cell_type": "markdown",
   "id": "fe725f41",
   "metadata": {
    "slideshow": {
     "slide_type": "slide"
    }
   },
   "source": [
    "## Today\n",
    "\n",
    "- Course information  \n",
    "- What will you learn in this course?  \n",
    "- What is computation?  \n",
    "- Introduction to Python - the fundamental  \n",
    "- Objects, expressions, and numerical types  \n",
    "- Variables and assignment  "
   ]
  },
  {
   "cell_type": "markdown",
   "id": "61aa6754",
   "metadata": {},
   "source": [
    "## Course information\n",
    "\n",
    "- Time: \n",
    "    * 1EF, 4B @CY203\n",
    "\n",
    "- Teaching assistants:\n",
    "\n",
    "|Name|Email|Office|\n",
    "|:--:|:--|--|\n",
    "|吳嘉倫|piep1e.ee07@nycu.edu.tw|CY501|\n",
    "|黃子原|steven013032.eo08@nctu.edu.tw|CY502|\n",
    "\n",
    "- Grading:\n",
    "\n",
    "|Item|Percentage|\n",
    "|:--:|:--:|\n",
    "|Homework|80%|\n",
    "|Final project|20%|\n",
    "|Quiz|10%|\n",
    "\n",
    "- Office hour:\n",
    "    * ??? @CY502\n",
    "    * Please contact us via email before coming\n",
    "\n",
    "- Prepare a mobile device and bring it here!!!\n",
    "\n",
    "- Reference book (not necessary):\n",
    "    * John V. Guttag, Introduction to Computation and Programming Using Python: with Application to Understanding Data 2nd ed., MIT Press 2016\n"
   ]
  },
  {
   "attachments": {},
   "cell_type": "markdown",
   "id": "822019c7",
   "metadata": {},
   "source": [
    "## What can you learn in this course?\n",
    "\n",
    "- Python\n",
    "- The logic of programming thinking\n",
    "- Relative knowledge about data structure and algorithms\n",
    "- Data visualization\n",
    "- Have the ability to read, to understand, and to use open sources\n",
    "- How to use the computer for solving the problems during your entire life\n",
    "- **How to apply logistic thinking to your life**\n",
    "- What’s next?\n",
    "    * Linear algebra and programming\n",
    "    * Basic concept of image processing\n",
    "    * Basic concept of machine learning\n"
   ]
  },
  {
   "cell_type": "markdown",
   "id": "b1950b04",
   "metadata": {},
   "source": [
    "## Where can you find the handouts?\n",
    "\n",
    "- GitHub of OISLAB-COAV:\n",
    "    * [NYCUDOPCS repository](https://github.com/ABCofGaGaSu)\n",
    "\n",
    "- The format of the handouts is `*.ipynb`. You can open this file via your browser.\n",
    "    * For example, this is today's handout.\n",
    "    * A Link..."
   ]
  },
  {
   "cell_type": "markdown",
   "id": "b5b7c1e8",
   "metadata": {},
   "source": [
    "## Rules\n",
    "\n",
    "- Criterion of homeworks (NORMAL case):  \n",
    "\n",
    "\n",
    "|Item|Percentage|\n",
    "|:--:|:--:|\n",
    "|Executable|60%|\n",
    "|Result|20%|\n",
    "|Others|20%|\n",
    "\n",
    "- Collaboration of homeworks:\n",
    "    * You are allowed to collaborate with anyone. Please list the names of all collaborators in your homework submission.\n",
    "    * No plagiarism\n",
    "    * For example:  \n",
    "\n",
    "```python\n",
    "\"\"\"\n",
    "Created on Sun Aug 7 01:23:45 2022\n",
    "\n",
    "@author: Chieh-En Lee, student ID\n",
    "\n",
    "@collaborators: Jia-Lun Wu and Tzu-Yuan Huang\n",
    "\"\"\"\n",
    "```\n",
    "\n",
    "- The deadline is deadline, no extension.\n",
    "\n",
    "- Criterion of homeworks (ABNORMAL case):  \n",
    "\n",
    "\n",
    "|Item|Percentage|\n",
    "|:--:|:--:|\n",
    "|Executable|10%|\n",
    "|Result|10%|\n",
    "|Presentation|80%|\n"
   ]
  },
  {
   "attachments": {},
   "cell_type": "markdown",
   "id": "222afcd4",
   "metadata": {},
   "source": [
    "## About presentation\n",
    "\n",
    "- The objective is to provide you a chance to practice your presentation skills.\n",
    "- In each homework assignments, we will choose __5 students__ as the presenters to explain the programs they written.\n",
    "- You only have __3 minutes__ for your presentation. Here are some instructions:\n",
    "    1. You don't need to explain your code line-by-line.\n",
    "    2. Explain your understanding of the question.\n",
    "    3. Explain the logic of your code.\n",
    "    4. Keep your mind clear, there will be a Q&A after your presentation.\n",
    "\n",
    "<br />\n",
    "<center><h4>Be ready! You will be chosen randomly by the computer.</h4></center>\n",
    "\n",
    "\n"
   ]
  },
  {
   "cell_type": "markdown",
   "id": "986ad9a0",
   "metadata": {},
   "source": [
    "## What is computer?\n",
    "\n",
    "<img align=\"left\" height=auto width=900px src=\"https://raw.githubusercontent.com/bruce88617/nycudopcs/main/Lecture1/fig01.png\">\n",
    "\n",
    "<br />\n",
    "\n",
    "- What does computer do?\n",
    "    * Calculation\n",
    "    * Paper works?\n",
    "    * Video games?\n",
    "\n",
    "<br />\n",
    "<center><h4>Computers will only do what you tell them to do!!!</h4></center>\n"
   ]
  },
  {
   "cell_type": "markdown",
   "id": "773668d2",
   "metadata": {},
   "source": [
    "## Two kinds of knowledge\n",
    "\n",
    "- Declarative knowledge\n",
    "    * Composed of statements of fact\n",
    "        - We need proteins, carbohydrates fats, and waters to survive.\n",
    "- Imperative knowledge\n",
    "    * Instructions or recipes\n",
    "        - How to cook\n",
    "\n",
    "#### A simple example\n",
    "\n",
    "- Finding the square root of a number\n",
    "    * The square root of a number 𝑥 is 𝑦 such that 𝑦∗𝑦=𝑥\n",
    "- How do we use a computer to find it?\n",
    "    1. Start with a guess 𝑔.\n",
    "    2. If 𝑔∗𝑔 is close enough to 𝑥, stop and say that 𝑔 is the answer.\n",
    "    3. Otherwise create a new guess by averaging 𝑔 and 𝑥∕𝑔.\n",
    "    4. Repeat the process until close enough."
   ]
  },
  {
   "cell_type": "markdown",
   "id": "73437663",
   "metadata": {},
   "source": [
    "## Python\n",
    "\n",
    "- An interpreted programming language, not a compiled programming language\n",
    "    * What is their difference?\n",
    "- Can be typed directly in a **Python Shell** or in a file\n"
   ]
  },
  {
   "cell_type": "code",
   "execution_count": 1,
   "id": "8bf382ff",
   "metadata": {},
   "outputs": [
    {
     "name": "stdout",
     "output_type": "stream",
     "text": [
      "Hello, world!\n",
      "Xi Winiie the Pooh\n"
     ]
    }
   ],
   "source": [
    "print(\"Hello, world!\")\n",
    "print(\"Xi Winiie the Pooh\")"
   ]
  },
  {
   "cell_type": "markdown",
   "id": "dfb00e9e",
   "metadata": {},
   "source": [
    "## Objects\n",
    "\n",
    "- It’s something that Python can manipulate. In other words, you can write a program to manipulate it.\n",
    "- There are different types of objects in Python, which defines what kinds of things the programs can do to them.  \n",
    "- Common objects in Python:\n",
    "\n",
    "|Name|Type|Example|\n",
    "|:--:|:--:|:--:|\n",
    "|String|**str**|`9527`|\n",
    "|Integer|**int**|`87`|\n",
    "|Floating-point number|**float**|`3.14152`|\n",
    "|Complex number|**complex**|`1.3+4j`|\n",
    "|Booling|**bool**|`True` or `False`|\n",
    "|Nonetype|**None**|`None`|\n",
    "|Tuple|**tuple**|`(1, 2, 3)`|\n",
    "|List|**list**|`[4, 5, 6]`|\n",
    "|Dictionary|**dict**|`{\"key1\": (1, 2, 3)}`|\n"
   ]
  },
  {
   "cell_type": "code",
   "execution_count": 6,
   "id": "913b88b1",
   "metadata": {},
   "outputs": [
    {
     "data": {
      "text/plain": [
       "int"
      ]
     },
     "execution_count": 6,
     "metadata": {},
     "output_type": "execute_result"
    }
   ],
   "source": [
    "type(9527)"
   ]
  },
  {
   "cell_type": "code",
   "execution_count": 7,
   "id": "0db87739",
   "metadata": {},
   "outputs": [
    {
     "data": {
      "text/plain": [
       "str"
      ]
     },
     "execution_count": 7,
     "metadata": {},
     "output_type": "execute_result"
    }
   ],
   "source": [
    "type(\"9527\")"
   ]
  },
  {
   "cell_type": "code",
   "execution_count": 8,
   "id": "2daedec9",
   "metadata": {},
   "outputs": [
    {
     "data": {
      "text/plain": [
       "int"
      ]
     },
     "execution_count": 8,
     "metadata": {},
     "output_type": "execute_result"
    }
   ],
   "source": [
    "type(\"9527\")\n",
    "type(9527)"
   ]
  },
  {
   "cell_type": "code",
   "execution_count": 9,
   "id": "75f43702",
   "metadata": {},
   "outputs": [
    {
     "name": "stdout",
     "output_type": "stream",
     "text": [
      "<class 'int'>\n",
      "<class 'str'>\n",
      "<class 'dict'>\n"
     ]
    }
   ],
   "source": [
    "print(type(9527))\n",
    "print(type(\"9527\"))\n",
    "print(type({\"1\": 234}))"
   ]
  },
  {
   "cell_type": "markdown",
   "id": "46dfe744",
   "metadata": {},
   "source": [
    "## Data type conversion\n",
    "\n",
    "- You can convert the type of object."
   ]
  },
  {
   "cell_type": "code",
   "execution_count": 11,
   "id": "b4bea6ff",
   "metadata": {},
   "outputs": [
    {
     "name": "stdout",
     "output_type": "stream",
     "text": [
      "<class 'int'>\n",
      "<class 'str'>\n",
      "<class 'float'>\n"
     ]
    }
   ],
   "source": [
    "print(type(9527))\n",
    "print(type(str(9527)))\n",
    "print(type(float(9527)))"
   ]
  },
  {
   "cell_type": "markdown",
   "id": "af4fa7f0",
   "metadata": {},
   "source": [
    "## Operators\n",
    "\n",
    "|Operation|Python code|Example|\n",
    "|:--:|:--:|:--:|\n",
    "|Addition, +|**`+`**|`1+1=2`|\n",
    "|Subtraction, -|**`-`**|`5-3=2`|\n",
    "|Multiplication, ×|**`*`**|`5*3=15`|\n",
    "|Division, ÷|**`/`**|`20/5=4`|\n",
    "|Quotient|**`//`**|`13//5=2`|\n",
    "|Remainder|**`%`**|`13%5=3`|\n",
    "|Power|**`**`**|`2**5=32`|\n",
    "|Equal|**`==`**|`13==5`|\n",
    "|Unequal|**`!=`**|`\"13\"!=13`|\n",
    "|Greater than|**`>`**|`94>87`|\n",
    "|Less than|**`<`**|`94<87`|\n",
    "|Greater than or equal|**`>=`**|`94>=87`|\n",
    "|Less than or equal|**`<=`**|`94<=87`|\n"
   ]
  },
  {
   "cell_type": "markdown",
   "id": "b44f30c9",
   "metadata": {},
   "source": [
    "## Variables and assignment\n",
    "\n",
    "- `=` is an assignment of an object to a variable.\n",
    "- Example:\n",
    "\n",
    "<br />\n",
    "<img align=\"left\" height=auto width=900px src=\"https://raw.githubusercontent.com/bruce88617/nycudopcs/main/Lecture1/fig02.png\">\n",
    "<br />\n",
    "\n",
    "- Values are stored in the computer memory.\n",
    "- An assignment binds name to value.\n",
    "- Binding values can be invoked by typing variables.\n",
    "- Multiple assignments is also allowed in Python."
   ]
  },
  {
   "cell_type": "code",
   "execution_count": 12,
   "id": "f583d4ad",
   "metadata": {},
   "outputs": [],
   "source": [
    "pi = 3\n",
    "radius = 10\n",
    "circum = 2*pi*radius\n",
    "print(\"pi =\", pi)\n",
    "print(\"radius =\", radius)\n",
    "print(\"circum =\", circum)"
   ]
  },
  {
   "cell_type": "code",
   "execution_count": null,
   "id": "a176a496",
   "metadata": {},
   "outputs": [],
   "source": [
    "pi, radius = 3, 10\n",
    "circum = 2*pi*radius\n",
    "print(\"pi =\", pi)\n",
    "print(\"radius =\", radius)\n",
    "print(\"circum =\", circum)"
   ]
  },
  {
   "cell_type": "code",
   "execution_count": 14,
   "id": "dfd8520c",
   "metadata": {},
   "outputs": [
    {
     "name": "stdout",
     "output_type": "stream",
     "text": [
      "radius = 94\n",
      "radius = 95\n"
     ]
    }
   ],
   "source": [
    "radius = 94\n",
    "print(\"radius =\", radius)\n",
    "radius = radius + 1\n",
    "print(\"radius =\", radius)"
   ]
  },
  {
   "cell_type": "markdown",
   "id": "79ec0fa6",
   "metadata": {},
   "source": [
    "## String formatting\n",
    "\n",
    "- %-formatting\n",
    "\n",
    "```python\n",
    "text = 'world'\n",
    "print('hello %s' % text)\n",
    "\n",
    "print('%x' % 10)\n",
    "\n",
    "print('Xi %s %s' % ('Winnie', 'the Pooh'))\n",
    "```\n",
    "\n",
    "- str-format\n",
    "\n",
    "```python\n",
    "text = 'world'\n",
    "print('Hello {}!'.format(text))\n",
    "\n",
    "print('{:x}'.format(10))\n",
    "\n",
    "print('Xi {} {}'.format('Winnie', 'the Pooh'))\n",
    "```\n",
    "\n",
    "- f-string\n",
    "\n",
    "```python\n",
    "text = 'world'\n",
    "print('Hello {}!'.format(text))\n",
    "\n",
    "print('{:x}'.format(10))\n",
    "\n",
    "print('Xi {} {}'.format('Winnie', 'the Pooh'))\n",
    "```\n",
    "\n"
   ]
  },
  {
   "cell_type": "code",
   "execution_count": 18,
   "id": "86f6f4f0",
   "metadata": {},
   "outputs": [
    {
     "name": "stdout",
     "output_type": "stream",
     "text": [
      "1.200000e+01\n"
     ]
    }
   ],
   "source": [
    "print('%e' % 12)"
   ]
  },
  {
   "cell_type": "code",
   "execution_count": null,
   "id": "264ec532",
   "metadata": {},
   "outputs": [],
   "source": []
  }
 ],
 "metadata": {
  "interpreter": {
   "hash": "5fe2e5cd560f36aa3aedf58cd7990de02027c6dec68ca092676a4258cbc93843"
  },
  "kernelspec": {
   "display_name": "Python 3.8.10 ('nycudopcs')",
   "language": "python",
   "name": "python3"
  },
  "language_info": {
   "codemirror_mode": {
    "name": "ipython",
    "version": 3
   },
   "file_extension": ".py",
   "mimetype": "text/x-python",
   "name": "python",
   "nbconvert_exporter": "python",
   "pygments_lexer": "ipython3",
   "version": "3.8.10"
  }
 },
 "nbformat": 4,
 "nbformat_minor": 5
}
