{
 "cells": [
  {
   "cell_type": "markdown",
   "metadata": {},
   "source": [
    "<br />\n",
    "<br />\n",
    "\n",
    "<center><h1><b>Lecture 2</b></h1></center>\n",
    "<center><h1><b>Environment, Branching, and Iteration</b></h1></center>\n",
    "\n",
    "<center><h4>Time: 1EF (13:20 ~ 15:10) and 4B (09:00 ~ 09:50)</h4></center>\n",
    "<br />\n",
    "\n",
    "<center><h2>Chieh-En Lee<sup>1</sup> (李杰恩) and Chung-Hao Tien<sup>2</sup> (田仲豪)</h2></center>\n",
    "\n",
    "<center>\n",
    "<h4>{<a href=\"mailto:celee@nycu.edu.tw\">celee</a><sup>1</sup>, \n",
    "<a href=\"mailto:chtien@nycu.edu.tw\">chtien</a><sup>2</sup>}@nycu.edu.tw</h4>\n",
    "</center>\n",
    "\n",
    "<center><h3><a href=\"https://dop.nycu.edu.tw/ch/index.html\">Department of Photonics, NYCU</h3></center>\n",
    "\n",
    "<br />\n",
    "<center><h5><a href=\"https://github.com/bruce88617/nycudopcs\">Introduction to Computer and Computer Science, 2022 Fall</h5></center>"
   ]
  },
  {
   "cell_type": "markdown",
   "metadata": {},
   "source": [
    "## Last time\n",
    "\n",
    "- Course information\n",
    "- What is computation?  \n",
    "- Introduction to Python - the fundamental  \n",
    "- Objects, expressions, and numerical types  \n",
    "- Variables and assignment  \n"
   ]
  },
  {
   "cell_type": "markdown",
   "metadata": {},
   "source": [
    "## **Today**\n",
    "\n",
    "<html>\n",
    "<head>\n",
    "</head>\n",
    "<body>\n",
    "<ul>\n",
    "  <li><a href=\"#env\">Environment control</a></li>\n",
    "  <li><a href=\"#virtualenv\">Virtual environment</a></li>\n",
    "  <li><a href=\"#windowsterminal\">Windows Terminal</a></li>\n",
    "  <li><a href=\"#jupyter\">Jupyter</a></li>\n",
    "  <li><a href=\"#string\">String</a></li>\n",
    "  <li><a href=\"#branch&conditional\">Branching and conditionals</a></li>\n",
    "  <li><a href=\"#iteration&loop\">Iteration and loops</a></li>\n",
    "  <li><a href=\"#homework\">Homework</a></li>\n",
    "</ul>\n",
    "\n",
    "</body>"
   ]
  },
  {
   "cell_type": "markdown",
   "metadata": {},
   "source": [
    "<a id='env'></a>\n",
    "\n",
    "## **Environment management**\n",
    "\n",
    "- Why do we need this?\n",
    "    1. Version compatibility of different modules\n",
    "    2. Projects\n",
    "    3. Convenience\n",
    "- Rule of thumb  \n",
    "\n",
    "\n",
    "<img align=\"center\" height=auto width=900px src=\"https://raw.githubusercontent.com/bruce88617/nycudopcs/main/Lecture1/assets/fig05.png\">\n",
    "<br />\n",
    "\n",
    "<center><h4>Keep your base environment clean!!!</h4></center>\n",
    "<center><h4>Do <b>NOT</b> install any unnecessary module in your base environment!!!</h4></center>\n",
    "<br />\n"
   ]
  },
  {
   "cell_type": "markdown",
   "metadata": {},
   "source": [
    "<a id=\"virtualenv\"></a>\n",
    "\n",
    "## **Virtual environment module `virtualenv`**  \n",
    "\n",
    "\n",
    "1. Install **virtualenv** via `pip install virtualenv`\n",
    "\n",
    "<img align=\"center\" height=auto width=900px src=\"https://raw.githubusercontent.com/bruce88617/nycudopcs/main/Lecture2/assets/fig01.png\">\n",
    "<br />\n",
    "\n",
    "2. Create a folder (e.g. `Envs`) for your python environments  \n",
    "\n",
    "<img align=\"center\" height=auto width=900px src=\"https://raw.githubusercontent.com/bruce88617/nycudopcs/main/Lecture2/assets/fig02.png\">\n",
    "<br />\n",
    "<br />\n",
    "<img align=\"center\" height=auto width=900px src=\"https://raw.githubusercontent.com/bruce88617/nycudopcs/main/Lecture2/assets/fig03.png\">\n",
    "<br />\n",
    "\n",
    "\n",
    "3. Change the directory to `cd/d \"O:\\Envs\"` and create a virtual environment via `virtualenv ENV_NAME`  \n",
    "\n",
    "<img align=\"center\" height=auto width=900px src=\"https://raw.githubusercontent.com/bruce88617/nycudopcs/main/Lecture2/assets/fig04.png\">\n",
    "<br />\n",
    "<br />\n",
    "<img align=\"center\" height=auto width=900px src=\"https://raw.githubusercontent.com/bruce88617/nycudopcs/main/Lecture2/assets/fig05.png\">\n",
    "<br />\n",
    "\n",
    "4. Activate your virtual environment  \n",
    "\n",
    "<img align=\"center\" height=auto width=900px src=\"https://raw.githubusercontent.com/bruce88617/nycudopcs/main/Lecture2/assets/fig06.png\">\n",
    "<br />\n",
    "\n"
   ]
  },
  {
   "cell_type": "markdown",
   "metadata": {},
   "source": [
    "<a id=\"windowsterminal\"></a>\n",
    "\n",
    "\n",
    "## **Windows Terminal**\n",
    "\n",
    "\n",
    "- Why bother?\n",
    "    - Because I am lazy\n",
    "    - Easy to define your command prompt  \n",
    "\n",
    "1. Find and install ***Windows Terminal*** in **Microsoft Store**  \n",
    "\n",
    "<img align=\"center\" height=auto width=900px src=\"https://raw.githubusercontent.com/bruce88617/nycudopcs/main/Lecture2/assets/fig07.png\">\n",
    "<br />\n",
    "\n",
    "\n",
    "2. Define your command prompt  \n",
    "\n",
    "<img align=\"center\" height=auto width=900px src=\"https://raw.githubusercontent.com/bruce88617/nycudopcs/main/Lecture2/assets/fig08.png\">\n",
    "<br />\n",
    "\n",
    "<br />\n",
    "<img align=\"center\" height=auto width=900px src=\"https://raw.githubusercontent.com/bruce88617/nycudopcs/main/Lecture2/assets/fig09.png\">\n",
    "<br />\n",
    "\n",
    "- The directories will be different on your computer  \n",
    "\n",
    "|Item|Example|\n",
    "|:--:|:--|\n",
    "|**名稱**|virtualenv_nycudopcs|\n",
    "|**命令列**|`cmd.exe /k O:\\Envs\\nycudopcs\\Scripts\\activate`|\n",
    "|**啟動時載入的目錄**|`D:\\NYCU_Courses\\DOPCS`|\n",
    "|**圖示**|`D:\\Images\\nctu_logo.png`|\n",
    "\n",
    "\n",
    "<br />\n",
    "<img align=\"center\" height=auto width=900px src=\"https://raw.githubusercontent.com/bruce88617/nycudopcs/main/Lecture2/assets/fig10.png\">\n",
    "<br />\n",
    "<br />\n",
    "\n",
    "<center><h4><b>Hang on, one more to do!!!</b></h4></center>\n"
   ]
  },
  {
   "cell_type": "markdown",
   "metadata": {},
   "source": [
    "<a id=\"jupyter\"></a>\n",
    "\n",
    "## **Jupyter**\n",
    "\n",
    "<img align=\"center\" height=100px width=auto src=\"https://jupyter.org/assets/homepage/main-logo.svg\">\n",
    "<br />\n",
    "\n",
    "1. Activate your environment and install jupyter via `pip install notebook`\n",
    "2. Start to use jupyter notebook via `jupyter notebook`\n",
    "\n",
    "<img align=\"center\" height=auto width=900px src=\"https://raw.githubusercontent.com/bruce88617/nycudopcs/main/Lecture2/assets/fig11.png\">\n",
    "<br />\n",
    "\n",
    "<center><h4><b>Congratulations!!!</b></h4></center>\n",
    "<center><h4><b>Now we have multiple choices for programming.</b></h4></center>"
   ]
  },
  {
   "cell_type": "markdown",
   "metadata": {},
   "source": [
    "<a id=\"string\"></a>\n",
    "\n",
    "## **String**  \n",
    "\n"
   ]
  },
  {
   "cell_type": "markdown",
   "metadata": {},
   "source": [
    "<a id=\"branching&conditional\"></a>\n",
    "\n",
    "## **Branching & conditional**  \n",
    "\n"
   ]
  },
  {
   "cell_type": "markdown",
   "metadata": {},
   "source": [
    "<a id=\"iteration&loop\"></a>\n",
    "\n",
    "## **Iteration and loops**  \n",
    "\n",
    "\n"
   ]
  },
  {
   "cell_type": "markdown",
   "metadata": {},
   "source": [
    "<a id=\"homework\"></a>\n",
    "\n",
    "## **Homework #1**  \n",
    "\n"
   ]
  }
 ],
 "metadata": {
  "interpreter": {
   "hash": "5fe2e5cd560f36aa3aedf58cd7990de02027c6dec68ca092676a4258cbc93843"
  },
  "kernelspec": {
   "display_name": "Python 3.8.10 ('nycudopcs')",
   "language": "python",
   "name": "python3"
  },
  "language_info": {
   "name": "python",
   "version": "3.8.10"
  },
  "orig_nbformat": 4
 },
 "nbformat": 4,
 "nbformat_minor": 2
}
