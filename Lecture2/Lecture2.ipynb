{
 "cells": [
  {
   "cell_type": "markdown",
   "metadata": {},
   "source": [
    "<br />\n",
    "<br />\n",
    "\n",
    "<center><h1><b>Lecture 2</b></h1></center>\n",
    "<center><h1><b>Branching and Iteration</b></h1></center>\n",
    "\n",
    "<center><h4>Time: 1EF (13:20 ~ 15:10) and 4B (09:00 ~ 09:50)</h4></center>\n",
    "<br />\n",
    "\n",
    "<center><h2>Chieh-En Lee<sup>1</sup> (李杰恩) and Chung-Hao Tien<sup>2</sup> (田仲豪)</h2></center>\n",
    "\n",
    "<center>\n",
    "<h4>{<a href=\"mailto:celee@nycu.edu.tw\">celee</a><sup>1</sup>, \n",
    "<a href=\"mailto:chtien@nycu.edu.tw\">chtien</a><sup>2</sup>}@nycu.edu.tw</h4>\n",
    "</center>\n",
    "\n",
    "<center><h3>Department of Photonics, NYCU</h3></center>\n",
    "\n",
    "<br />\n",
    "<center><h5>Introduction to Computer and Computer Science, 2022 Fall</h5></center>"
   ]
  },
  {
   "cell_type": "markdown",
   "metadata": {},
   "source": [
    "## Last time\n",
    "\n",
    "- Course information\n",
    "- What is computation?  \n",
    "- Introduction to Python - the fundamental  \n",
    "- Objects, expressions, and numerical types  \n",
    "- Variables and assignment  \n"
   ]
  },
  {
   "cell_type": "markdown",
   "metadata": {},
   "source": [
    "## Today\n",
    "\n",
    "- Environment control\n",
    "- Windows Terminal\n",
    "- Jupyter  \n",
    "- String  \n",
    "- Branching & conditionals  \n",
    "- Indentation  \n",
    "- Iteration and loops  \n"
   ]
  },
  {
   "cell_type": "markdown",
   "metadata": {},
   "source": [
    "## Environment management\n",
    "\n",
    "- Why do we need this?\n",
    "    1. Version compatibility of different modules\n",
    "    2. Projects\n",
    "    3. Convenience\n",
    "- Rule of thumb  \n",
    "\n",
    "\n",
    "<img align=\"center\" height=auto width=900px src=\"https://raw.githubusercontent.com/bruce88617/nycudopcs/main/Lecture1/assets/fig05.png\">\n",
    "<br />\n",
    "\n",
    "<center><h4>Keep your base environment clean!!!</h4></center>\n",
    "<center><h4>Do <b>NOT</b> install any unnecessary module in your base environment!!!</h4></center>\n",
    "<br />\n",
    "\n",
    "#### Virtual environment module \"virtualenv\"  \n",
    "\n",
    "1. Install **virtualenv** via `pip install virtualenv`\n",
    "\n",
    "<img align=\"center\" height=auto width=900px src=\"https://raw.githubusercontent.com/bruce88617/nycudopcs/main/Lecture2/assets/fig01.png\">\n",
    "<br />\n",
    "\n",
    "2. Create a folder (e.g. `Envs`) for your python environments  \n",
    "\n",
    "<img align=\"center\" height=auto width=900px src=\"https://raw.githubusercontent.com/bruce88617/nycudopcs/main/Lecture2/assets/fig02.png\">\n",
    "<br />\n",
    "<img align=\"center\" height=auto width=900px src=\"https://raw.githubusercontent.com/bruce88617/nycudopcs/main/Lecture2/assets/fig03.png\">\n",
    "<br />\n",
    "\n",
    "3. Change the directory to `cd/d \"O:\\Envs\"` and create a virtual environment via `virtualenv ENV_NAME`  \n",
    "\n",
    "<img align=\"center\" height=auto width=900px src=\"https://raw.githubusercontent.com/bruce88617/nycudopcs/main/Lecture2/assets/fig04.png\">\n",
    "<br />\n",
    "<img align=\"center\" height=auto width=900px src=\"https://raw.githubusercontent.com/bruce88617/nycudopcs/main/Lecture2/assets/fig05.png\">\n",
    "<br />\n",
    "\n",
    "4. Activate your virtual environment  \n",
    "\n",
    "<img align=\"center\" height=auto width=900px src=\"https://raw.githubusercontent.com/bruce88617/nycudopcs/main/Lecture2/assets/fig06.png\">\n",
    "<br />\n",
    "\n"
   ]
  },
  {
   "cell_type": "markdown",
   "metadata": {},
   "source": [
    "## Windows Terminal\n",
    "\n",
    "\n",
    "\n"
   ]
  }
 ],
 "metadata": {
  "interpreter": {
   "hash": "5fe2e5cd560f36aa3aedf58cd7990de02027c6dec68ca092676a4258cbc93843"
  },
  "kernelspec": {
   "display_name": "Python 3.8.10 ('nycudopcs')",
   "language": "python",
   "name": "python3"
  },
  "language_info": {
   "name": "python",
   "version": "3.8.10"
  },
  "orig_nbformat": 4
 },
 "nbformat": 4,
 "nbformat_minor": 2
}
