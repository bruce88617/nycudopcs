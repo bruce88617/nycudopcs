{
 "cells": [
  {
   "cell_type": "markdown",
   "metadata": {},
   "source": [
    "# Simple Numerical Algorithms I"
   ]
  },
  {
   "cell_type": "markdown",
   "metadata": {},
   "source": [
    "## Last time\n",
    "\n",
    "- Introduction to Python  \n",
    "- String  \n",
    "- Logistic operators  \n",
    "- Branching and conditionals\n",
    "- Iterations and loops\n"
   ]
  },
  {
   "cell_type": "markdown",
   "metadata": {},
   "source": [
    "## **Today**\n",
    "\n",
    "<html>\n",
    "<head>\n",
    "</head>\n",
    "<body>\n",
    "<ul>\n",
    "  <li><a href=\"#tag1\">Exhaustive enumeration</a></li>\n",
    "  <li><a href=\"#tag2\">Approximation</a></li>\n",
    "  <li><a href=\"#tag3\">The concept of computational complexity</a></li>\n",
    "  <li><a href=\"#tag4\">Bisection search</a></li>\n",
    "  <li><a href=\"#tag5\">Digression: Floating-point numbers</a></li>\n",
    "  <li><a href=\"#tag6\">Newton-Raphson method</a></li>\n",
    "</ul>\n",
    "\n",
    "</body>"
   ]
  },
  {
   "cell_type": "markdown",
   "metadata": {},
   "source": [
    "<a id=\"tag1\"></a>\n",
    "\n",
    "## **Exhaustive enumeration**  \n",
    "\n",
    "- The fundamental of algorithms\n",
    "    1. Start with a guess\n",
    "    2. Check if the guess is the solution\n",
    "    3. If not, keep guessing until you get the solution\n",
    "\n",
    "<br />\n",
    "\n",
    "- Example: finding the **square root** of a perfect square number $x$\n",
    "    1. Start with a guess $g$\n",
    "    2. If $g \\times g$ is close enough to $x$, stop and say that $g$ is the answer\n",
    "    3. Otherwise create a new guess $g = g + 1$\n",
    "    4. Repeat the process until close enough\n",
    "    \n"
   ]
  },
  {
   "cell_type": "code",
   "execution_count": null,
   "metadata": {},
   "outputs": [],
   "source": [
    "# Find the square root of a perfect square number\n",
    "x = int(input(\"Please enter an integer: \"))\n",
    "# Start with a guess\n",
    "g = 0\n",
    "while g**2 < x:\n",
    "    g += 1\n",
    "# Check the result\n",
    "if g**2 != x:\n",
    "    print(x, \"is not a perfect square number.\")\n",
    "else:\n",
    "    print(\"The square root of {} is {}.\".format(x, g))\n"
   ]
  },
  {
   "cell_type": "markdown",
   "metadata": {},
   "source": [
    "### Exercise\n",
    "\n",
    "- Finding the **cube root** of a perfect cube $x$\n",
    "- Here is your instruction:\n",
    "    1. Start with a guess $g$\n",
    "    2. If $g^3$ is close enough to $x$, stop and say that $g$ is the answer\n",
    "    3. Otherwise create a new guess $g = g + 1$\n",
    "    4. Repeat the process until close enough\n",
    "- Try these two numbers:\n",
    "    1. 781,229,961  \n",
    "    2. 853,860,064,303  \n"
   ]
  },
  {
   "cell_type": "markdown",
   "metadata": {},
   "source": [
    "<a id=\"tag2\"></a>\n",
    "\n",
    "## **Approximation**  \n",
    "\n",
    "- Aims to find a \"good enough\" solution  \n",
    "    1. Start with a guess $g$\n",
    "    2. Define an acceptable minimum deviation $\\epsilon$\n",
    "    2. Check if the guess is “close enough” to solution\n",
    "    3. Otherwise create a new guess by $g = g + \\epsilon^2$\n",
    "    4. Repeat the process until close enough\n",
    "\n"
   ]
  },
  {
   "cell_type": "code",
   "execution_count": null,
   "metadata": {},
   "outputs": [],
   "source": [
    "# Find the square root of an arbitrary number\n",
    "x = float(input(\"Please enter an integer: \"))\n",
    "# Start with a guess\n",
    "g = 0.0\n",
    "# Define minimum deviation\n",
    "epsilon = 0.01\n",
    "# Step\n",
    "step = epsilon**2\n",
    "numGuesses = 0\n",
    "\n",
    "while abs(g**2 - x) >= epsilon and g <= x:\n",
    "    g += step\n",
    "    numGuesses += 1\n",
    "# Check the result\n",
    "if abs(g**2 - x) >= epsilon:\n",
    "    print(\"Failed on finding the square root of {:.2f}\".format(x))\n",
    "else:\n",
    "    print(\"{:.4f} is close to the square root of {:.2f}\".format(g, x))\n",
    "# How many steps do we have?\n",
    "print(\"# of guesses = {}\".format(numGuesses))\n"
   ]
  },
  {
   "cell_type": "markdown",
   "metadata": {},
   "source": [
    "### The blindside of exhaustive enumeration\n",
    "\n",
    "- Exhaustive enumeration only works when the set of value being searched includes the answer\n",
    "- Try any number less than **1**, e.g. **0.04**  \n",
    "\n",
    "<br />\n",
    "<img align=\"center\" height=auto width=700px src=\"https://raw.githubusercontent.com/bruce88617/nycudopcs/main/Lectures/Lecture03/assets/fig1.png\">\n",
    "<br />\n"
   ]
  },
  {
   "cell_type": "markdown",
   "metadata": {},
   "source": [
    "<a id=\"tag3\"></a>\n",
    "\n",
    "## **The concept of computational complexity**  \n",
    "\n",
    "- How many guesses do our program need to find an approximated solution?\n",
    "\n",
    "<br />\n",
    "<img align=\"center\" height=auto width=700px src=\"https://raw.githubusercontent.com/bruce88617/nycudopcs/main/Lectures/Lecture03/assets/fig2.png\">\n",
    "<br />\n",
    "\n"
   ]
  },
  {
   "cell_type": "markdown",
   "metadata": {},
   "source": [
    "<a id=\"tag4\"></a>\n",
    "\n",
    "## **Bisection search**  \n",
    "\n",
    "- Divide the searching domain into half after each iteration\n",
    "- An efficient way to search the answer\n",
    "\n",
    "<br />\n",
    "<img align=\"center\" height=auto width=700px src=\"https://raw.githubusercontent.com/bruce88617/nycudopcs/main/Lectures/Lecture03/assets/fig3.png\">\n",
    "<br />\n"
   ]
  },
  {
   "cell_type": "code",
   "execution_count": null,
   "metadata": {},
   "outputs": [],
   "source": [
    "# Example of bisection search\n",
    "x = float(input(\"Please enter an integer: \"))\n",
    "# Define minimum deviation\n",
    "epsilon = 0.01\n",
    "# Set searching region\n",
    "lower_bnd = 0.0\n",
    "upper_bnd = max(1., x)\n",
    "# Start with a guess\n",
    "g = (upper_bnd + lower_bnd)/2\n",
    "numGuesses = 0\n",
    "\n",
    "while abs(g**2 - x) >= epsilon:\n",
    "    print(\"Current search region: [{:.4f}, {:.4f}]\".format(lower_bnd, upper_bnd))\n",
    "    numGuesses += 1\n",
    "    # bisection search\n",
    "    if g**2 < x:\n",
    "        lower_bnd = g\n",
    "    else:\n",
    "        upper_bnd = g\n",
    "    # define a new searching region\n",
    "    g = (upper_bnd + lower_bnd)/2\n",
    "\n",
    "# Check the result\n",
    "if abs(g**2 - x) >= epsilon:\n",
    "    print(\"Failed on finding the square root of {:.2f}\".format(x))\n",
    "else:\n",
    "    print(\"{:.4f} is close to the square root of {:.2f}\".format(g, x))\n",
    "# How many steps do we have?\n",
    "print(\"# of guesses = {}\".format(numGuesses))\n",
    "\n"
   ]
  },
  {
   "cell_type": "markdown",
   "metadata": {},
   "source": [
    "<center><h4><b>Now you should realize what is your homework?</b></h4></center>"
   ]
  },
  {
   "cell_type": "markdown",
   "metadata": {},
   "source": [
    "<a id=\"tag5\"></a>\n",
    "\n",
    "## **Digression: Floating-point numbers**  \n",
    "\n",
    "- Something you should know\n",
    "- Try this  \n",
    "\n",
    "    ```python\n",
    "    x = 0.\n",
    "    for i in range(10):\n",
    "        x += 0.1\n",
    "    if x == 1.:\n",
    "        print(x, \"= 1.0\")\n",
    "    else:\n",
    "        print(x, \"!= 1.0\")\n",
    "    ```\n"
   ]
  },
  {
   "cell_type": "code",
   "execution_count": null,
   "metadata": {},
   "outputs": [],
   "source": [
    "x = 0.\n",
    "for i in range(10):\n",
    "    x += 0.1\n",
    "if x == 1.:\n",
    "    print(x, \"= 1.0\")\n",
    "else:\n",
    "    print(x, \"!= 1.0\")\n",
    "\n",
    "print(2**.5)"
   ]
  },
  {
   "cell_type": "markdown",
   "metadata": {},
   "source": [
    "### Floating-point numbers\n",
    "\n",
    "#### Numbers in decimal system  \n",
    "\n",
    "- Mantissa, exponent, and sign\n",
    "\n",
    "    <img align=\"center\" height=100px width=auto src=\"https://raw.githubusercontent.com/bruce88617/nycudopcs/main/Lectures/Lecture03/assets/fig4.png\">\n",
    "    <br />\n",
    "\n",
    "- General form\n",
    "\n",
    "    <img align=\"center\" height=100px width=auto src=\"https://raw.githubusercontent.com/bruce88617/nycudopcs/main/Lectures/Lecture03/assets/fig5.png\">\n",
    "    <br />\n",
    "\n",
    "#### Approximation and precision  \n",
    "\n",
    "- Single-precision floating-point number\n",
    "\n",
    "    <img align=\"center\" height=auto width=600px src=\"https://raw.githubusercontent.com/bruce88617/nycudopcs/main/Lectures/Lecture03/assets/fig6.png\">\n",
    "    <br />\n",
    "\n",
    "- Double-precision floating-point number  \n",
    "\n",
    "    <img align=\"center\" height=auto width=600px src=\"https://raw.githubusercontent.com/bruce88617/nycudopcs/main/Lectures/Lecture03/assets/fig7.png\">\n",
    "    <br />\n",
    "\n",
    "- Binary numbers: base-2 numbers\n",
    "    1. $(10100110)_2 = 0 \\times 2^0 + 1 \\times 2^1 + 1 \\times 2^2 + ... + 1 \\times 2^5 + ... + 1 \\times 2^7 = (166)_{10}$\n",
    "    2. $(1.1101)_2 = 1 \\times 2^0 + 1 \\times 2^{-1} + 1 \\times 2^{-2} + 0 \\times 2^{-3} + 1 \\times 2^{-4} = (1.8125)_{10}$\n",
    "\n",
    "<br />\n",
    "  \n",
    "- General form of floating-point number: $\\pm (1.mantissa) \\times 2^{exponent}$\n",
    "    \n"
   ]
  },
  {
   "cell_type": "markdown",
   "metadata": {},
   "source": [
    "<a id=\"tag6\"></a>\n",
    "\n",
    "## **Newton-Raphson method**  \n",
    "\n",
    "- A simple and iconic technique for optimization problem (searching the local extreme values)\n",
    "- For example: finding a square root of an arbitrary number $t$\n",
    "    1. It is equivalent to find the solution of this equation: $f(x) = x^2 - t = 0$\n",
    "    2. The solution can be found iteratively via $x_{n+1} = x_{n} - \\frac{f(x_{n})}{f'({x_{n})}} $\n",
    "- Gradient descent algorithm"
   ]
  },
  {
   "cell_type": "code",
   "execution_count": null,
   "metadata": {},
   "outputs": [],
   "source": [
    "# Example of Newton-Raphson method\n",
    "# Find the square root of an arbitrary number\n",
    "t = float(input(\"Please enter an integer: \"))\n",
    "# Start with a guess\n",
    "ans = t/2\n",
    "# Define minimum deviation\n",
    "epsilon = 0.01\n",
    "numGuesses = 0\n",
    "\n",
    "while abs(ans**2 - t) >= epsilon:\n",
    "    numGuesses += 1\n",
    "    ans = ans - (ans**2 - t) / (2*ans)\n",
    "\n",
    "print(\"# of guesses: {}\".format(numGuesses))\n",
    "print(\"{:0.4f} is close enough to the square root of {}.\".format(ans, t))"
   ]
  }
 ],
 "metadata": {
  "kernelspec": {
   "display_name": "Python 3.8.10 ('nycudopcs')",
   "language": "python",
   "name": "python3"
  },
  "language_info": {
   "codemirror_mode": {
    "name": "ipython",
    "version": 3
   },
   "file_extension": ".py",
   "mimetype": "text/x-python",
   "name": "python",
   "nbconvert_exporter": "python",
   "pygments_lexer": "ipython3",
   "version": "3.11.4"
  },
  "orig_nbformat": 4,
  "vscode": {
   "interpreter": {
    "hash": "5fe2e5cd560f36aa3aedf58cd7990de02027c6dec68ca092676a4258cbc93843"
   }
  }
 },
 "nbformat": 4,
 "nbformat_minor": 2
}
