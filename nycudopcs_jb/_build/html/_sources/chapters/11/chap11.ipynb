{
 "cells": [
  {
   "cell_type": "markdown",
   "metadata": {},
   "source": [
    "# Simple Numerical Algorithms II"
   ]
  },
  {
   "cell_type": "markdown",
   "metadata": {},
   "source": [
    "## Last time\n",
    "\n",
    "- How to evaluate the efficiency of your algorithm?  \n",
    "- Orders of growth and big Oh notation  \n",
    "- Searching algorithms  "
   ]
  },
  {
   "cell_type": "markdown",
   "metadata": {},
   "source": [
    "## **Today**\n",
    "\n",
    "<html>\n",
    "<head>\n",
    "</head>\n",
    "<body>\n",
    "<ul>\n",
    "  <li><a href=\"#tag1\">Searching algorithms</a></li>\n",
    "  <li><a href=\"#tag2\">Sorting algorithms</a></li>\n",
    "  <li><a href=\"#tag3\">Lambda</a></li>\n",
    "  <li><a href=\"#tag4\">Hash table</a></li>\n",
    "</ul>\n",
    "\n",
    "</body>"
   ]
  },
  {
   "cell_type": "markdown",
   "metadata": {},
   "source": [
    "<a id=\"tag1\"></a>\n",
    "\n",
    "## **Searching algorithms**  \n",
    "\n",
    "1. Searching an element in an **UNSORTED** list\n",
    "\n",
    "    ```python\n",
    "    def searchEx(L, target):\n",
    "        exist = False\n",
    "        for i in range(len(L)):\n",
    "            if L[i] == target:\n",
    "                exist = True\n",
    "                break\n",
    "        return exist\n",
    "    ```\n",
    "\n",
    "    - The computational complexity of `searchEx` is $O(n)$.\n",
    "\n",
    "- - -\n"
   ]
  },
  {
   "cell_type": "markdown",
   "metadata": {},
   "source": [
    "2. Searching an element in an **SORTED** list\n",
    "\n",
    "    ```python\n",
    "    def searchEx2(L, target):\n",
    "        exist = False\n",
    "        for i in range(len(L)):\n",
    "            if L[i] == target:\n",
    "                exist = True\n",
    "                break\n",
    "            elif L[i] > target:\n",
    "                break\n",
    "        return exist\n",
    "    ```\n",
    "\n",
    "    - The computational complexity of `searchEx2` is still $O(n)$.\n",
    "\n",
    "- - -"
   ]
  },
  {
   "cell_type": "markdown",
   "metadata": {},
   "source": [
    "3. Searching an element in an **SORTED** list with different method\n",
    "\n",
    "    ```python\n",
    "    def searchBi(L, target):\n",
    "        def search(L, target, low, high):\n",
    "            if high == low:\n",
    "                return (L[low]==target)\n",
    "            \n",
    "            mid = (low + high)//2\n",
    "\n",
    "            if L[mid] == target:\n",
    "                return True\n",
    "            \n",
    "            elif L[mid] > target:\n",
    "                if low == mid:\n",
    "                    return False\n",
    "                else:\n",
    "                    return search(L, target, low, mid-1)\n",
    "            \n",
    "            else:\n",
    "                return search(L, target, mid+1, high)\n",
    "        \n",
    "        if len(L) == 0:\n",
    "            return False\n",
    "        else:\n",
    "            return search(L, target, 0, len(L)-1)\n",
    "    ```\n",
    "\n",
    "    - The computational complexity of `searchBi` is $O(\\log{n})$.\n",
    "\n",
    "- - -"
   ]
  },
  {
   "cell_type": "markdown",
   "metadata": {},
   "source": [
    "#### **Should we sort the list first?**\n",
    "\n",
    "|Method|Sorted?|Computational complexity|\n",
    "|:--:|:--:|:--:|\n",
    "|Linear search|$\\chi$|$O(n)$|\n",
    "|Linear search|$\\checkmark$|$O(n)$|\n",
    "|Bisection search|$\\checkmark$|$O(\\log{n})$|\n",
    "\n",
    "- Should we sort the list before we searching something?\n",
    "\n",
    "- Assuming the computational complexity of sorting algorithm is $O(sorting)$, the question becomes\n",
    "\n",
    "    * Is $O(sorting) + O(\\log{n}) < O(n)$ true?\n",
    "\n",
    "    * $O(sorting) < O(n) - O(\\log{n}) \\approx O(n)$\n",
    "\n",
    "- The complexity of sorting algorithm is $O(n)$ at least. It seems to be worthless if we sort the list before searching. However, sometimes we will do a lot of searches instead of searching once. In this case, the overall complexity will be different.\n",
    "\n",
    "    * $O(sorting) + k \\cdot O(\\log{n}) < k \\cdot O(n)$"
   ]
  },
  {
   "cell_type": "markdown",
   "metadata": {},
   "source": [
    "<a id=\"tag2\"></a>\n",
    "\n",
    "## **Sorting algorithms**  \n",
    "\n",
    "#### A. Monkey sort (Bogo sort)\n",
    "\n",
    "- While list is not sorted, random shuffles the list until it is sorted.\n",
    "\n",
    "    |Cases|$O()$|Note|\n",
    "    |:--:|:--:|:--:|\n",
    "    |Best case|$O(n)$|$O(n)$ for checking whether it is sorted|\n",
    "    |Average case|$O(n \\times n!)$|$O(n!)$ for random shuffle, $O(n)$ for checking every time|\n",
    "    |Worst case|$O(\\infin)$|You never get sorted result|\n",
    "\n",
    "- - -"
   ]
  },
  {
   "cell_type": "markdown",
   "metadata": {},
   "source": [
    "#### B. Bubble sort\n",
    "\n",
    "1. Compare consecutive pairs of elements\n",
    "2. Swap them such that smaller is first\n",
    "3. Repeat it until no more swaps have been made in one loop\n",
    "\n",
    "    |Cases|$O()$|Note|\n",
    "    |:--:|:--:|:--:|\n",
    "    |Best case|$O(n)$|for checking whether it is sorted|\n",
    "    |Average case|$O(n^2)$|for comparison and swapping|\n",
    "    |Worst case|$O(n^2)$|for comparison and swapping|\n",
    "\n",
    "    ![img](https://upload.wikimedia.org/wikipedia/commons/3/37/Bubble_sort_animation.gif)\n",
    "\n",
    "- - -"
   ]
  },
  {
   "cell_type": "markdown",
   "metadata": {},
   "source": [
    "#### C. Selection sort\n",
    "\n",
    "1. Find the minimum element in a list\n",
    "2. Swap it with the first element of list\n",
    "3. Repeat it in the remaining sub-list\n",
    "\n",
    "    |Cases|$O()$|Note|\n",
    "    |:--:|:--:|:--:|\n",
    "    |Best case|$O(n^2)$|for comparison|\n",
    "    |Average case|$O(n^2)$|for comparison and swapping|\n",
    "    |Worst case|$O(n^2)$|for comparison and swapping|\n",
    "\n",
    "    ![img](https://upload.wikimedia.org/wikipedia/commons/b/b0/Selection_sort_animation.gif)\n",
    "\n",
    "- - -"
   ]
  },
  {
   "cell_type": "markdown",
   "metadata": {},
   "source": [
    "#### D. Insertion sort\n",
    "\n",
    "1. Start from the first element\n",
    "2. When a new element comes in, compare and insert\n",
    "3. Repeat the above steps for the remaining elements\n",
    "\n",
    "    |Cases|$O()$|Note|\n",
    "    |:--:|:--:|:--:|\n",
    "    |Best case|$O(n)$|for comparison|\n",
    "    |Average case|$O(n^2)$|for comparison and swapping|\n",
    "    |Worst case|$O(n^2)$|for comparison and swapping|\n",
    "\n",
    "    ![img](https://upload.wikimedia.org/wikipedia/commons/2/25/Insertion_sort_animation.gif)"
   ]
  },
  {
   "cell_type": "markdown",
   "metadata": {},
   "source": [
    "#### E. Merge sort\n",
    "\n",
    "1. Recursively divide the current lists into sub-lists\n",
    "2. Sort the elements of 2 sub-lists and merge into one list\n",
    "3. Repeat the above steps\n",
    "\n",
    "    |Cases|$O()$|Note|\n",
    "    |:--:|:--:|:--:|\n",
    "    |Best case|$O(n\\log{n})$|for merging and sorting|\n",
    "    |Average case|$O(n\\log{n})$|for merging and sorting|\n",
    "    |Worst case|$O(n\\log{n})$|for merging and sorting|\n",
    "\n",
    "    ![img](https://upload.wikimedia.org/wikipedia/commons/c/c5/Merge_sort_animation2.gif)\n",
    "\n",
    "- - -\n",
    "\n",
    "<img align=\"center\" height=auto width=600px src=\"https://raw.githubusercontent.com/bruce88617/nycudopcs/main/Lectures/Lecture11/assets/fig1.png\">\n",
    "\n",
    "- - -\n",
    "\n",
    "<img align=\"center\" height=auto width=600px src=\"https://raw.githubusercontent.com/bruce88617/nycudopcs/main/Lectures/Lecture11/assets/fig2.png\">\n",
    "\n",
    "- - -\n",
    "\n",
    "<img align=\"center\" height=auto width=600px src=\"https://raw.githubusercontent.com/bruce88617/nycudopcs/main/Lectures/Lecture11/assets/fig3.png\">\n",
    "\n",
    "- - - "
   ]
  },
  {
   "cell_type": "code",
   "execution_count": 2,
   "metadata": {},
   "outputs": [],
   "source": [
    "# Sample code of merge sort\n",
    "\n",
    "def merge(L1, L2, compare):\n",
    "    \"\"\"\n",
    "    Assumes L1 and L2 are sorted lists and compare defines an ordering on the elements.\n",
    "    Returns a new sorted (by compare) list containing the same elements as (L1 + L2) would contain.\n",
    "    \"\"\"\n",
    "    result = []\n",
    "    i, j = 0, 0\n",
    "    while i < len(L1) and j < len(L2):\n",
    "        if compare(L1[i], L2[j]):\n",
    "            result.append(L1[i])\n",
    "            i += 1\n",
    "        else:\n",
    "            result.append(L2[j])\n",
    "            j += 1\n",
    "    while (i < len(L1)):\n",
    "        result.append(L1[i])\n",
    "        i += 1\n",
    "    while (j < len(L2)):\n",
    "        result.append(L2[j])\n",
    "        j += 1\n",
    "    return result\n",
    "\n",
    "def mergeSort(L, compare = lambda x, y: x < y):\n",
    "    \"\"\"\n",
    "    Assumes L is a list, compare defines an ordering on elements of L\n",
    "    Returns a new sorted list with the same elements as L\n",
    "    \"\"\"\n",
    "    if len(L) < 2:\n",
    "        return L[:]\n",
    "    else:\n",
    "        middle = len(L)//2\n",
    "        left = mergeSort(L[:middle], compare)\n",
    "        right = mergeSort(L[middle:], compare)\n",
    "        return merge(left, right, compare)"
   ]
  },
  {
   "cell_type": "code",
   "execution_count": 4,
   "metadata": {},
   "outputs": [
    {
     "name": "stdout",
     "output_type": "stream",
     "text": [
      "L:\n",
      "[22, -97, -19, -29, 30, 15, -61, 21, -39, 55, -67, -81, 61, 82, -31, 81, -52, 39, -18, -43]\n",
      "====================================================================================================\n",
      "L ascend:\n",
      "[-97, -81, -67, -61, -52, -43, -39, -31, -29, -19, -18, 15, 21, 22, 30, 39, 55, 61, 81, 82]\n",
      "====================================================================================================\n",
      "L descend:\n",
      "[82, 81, 61, 55, 39, 30, 22, 21, 15, -18, -19, -29, -31, -39, -43, -52, -61, -67, -81, -97]\n"
     ]
    }
   ],
   "source": [
    "import random\n",
    "\n",
    "L = []\n",
    "for i in range(20):\n",
    "    L.append(random.randint(-100,100))\n",
    "\n",
    "print(\"L:\")\n",
    "print(L)\n",
    "print(\"==\"*50)\n",
    "print(\"L ascend:\")\n",
    "print(mergeSort(L))\n",
    "print(\"==\"*50)\n",
    "print(\"L descend:\")\n",
    "print(mergeSort(L, lambda x, y: x > y))\n"
   ]
  },
  {
   "cell_type": "markdown",
   "metadata": {},
   "source": [
    "<a id=\"tag3\"></a>\n",
    "\n",
    "## **Lambda**  \n",
    "\n",
    "- A small function without name (or name `lambda`)\n",
    "\n",
    "- Syntax\n",
    "\n",
    "    ```python\n",
    "    lambda arg1, arg2, ...: <expressions>\n",
    "    ```"
   ]
  },
  {
   "cell_type": "code",
   "execution_count": 7,
   "metadata": {},
   "outputs": [
    {
     "name": "stdout",
     "output_type": "stream",
     "text": [
      "False\n",
      "b(4) = 25\n",
      "b(0) = 1\n",
      "b(1) = 4\n"
     ]
    }
   ],
   "source": [
    "# Examples\n",
    "# 1\n",
    "a = lambda x,y: x<y\n",
    "\n",
    "print(a(4,3))\n",
    "\n",
    "# 2\n",
    "b = lambda x: x**2 + 2*x**1 + 1*x**0\n",
    "\n",
    "print(\"b(4) = {}\".format(b(4)))\n",
    "print(\"b(0) = {}\".format(b(0)))\n",
    "print(\"b(1) = {}\".format(b(1)))"
   ]
  },
  {
   "cell_type": "markdown",
   "metadata": {},
   "source": [
    "## **Summary of sorting algorithms**\n",
    "\n",
    "|Cases|Monkey sort|Bubble sort|Selection sort|Insertion sort|Merge sort|\n",
    "|:--:|:--:|:--:|:--:|:--:|:--:|\n",
    "|Best case|$O(n)$|$O(n)$|$O(n^2)$|$O(n)$|$O(n\\log{n})$|\n",
    "|Average case|$O(n \\times n!)$|$O(n^2)$|$O(n^2)$|$O(n^2)$|$O(n\\log{n})$|\n",
    "|Worst case|$O(\\infin)$|$O(n^2)$|$O(n^2)$|$O(n^2)$|$O(n\\log{n})$|\n",
    "\n"
   ]
  },
  {
   "cell_type": "markdown",
   "metadata": {},
   "source": [
    "<a id='tag4'></a>\n",
    "\n",
    "## **Hash table**\n",
    "\n",
    "- The computational complexity of searching an element in a **sorted** list via **bisection search** is $O(\\log{n})$.\n",
    "\n",
    "    <img align=\"center\" height=auto width=600px src=\"https://raw.githubusercontent.com/bruce88617/nycudopcs/main/Lectures/Lecture11/assets/fig4.png\">\n",
    "\n",
    "- Is it possible to achieve this goal with $O(1)$?\n",
    "    * Using a lookup table: **Key**-**Value** pair\n",
    "\n",
    "- - -"
   ]
  },
  {
   "cell_type": "markdown",
   "metadata": {},
   "source": [
    "#### Direct access table\n",
    "\n",
    "- The easiest way\n",
    "\n",
    "    <img align=\"center\" height=auto width=800px src=\"https://raw.githubusercontent.com/bruce88617/nycudopcs/main/Lectures/Lecture11/assets/fig5.png\">\n",
    "\n",
    "- Waste space"
   ]
  },
  {
   "cell_type": "markdown",
   "metadata": {},
   "source": [
    "#### Hash table\n",
    "\n",
    "- To utilize the space efficiently\n",
    "\n",
    "    <img align=\"center\" height=auto width=800px src=\"https://raw.githubusercontent.com/bruce88617/nycudopcs/main/Lectures/Lecture11/assets/fig6.png\">\n",
    "\n",
    "- Assuming the number of keys is $n$, and the size of table is $m$. **The objective of the hash function** is mapping $n$ possible keys to $m$ buckets (the size of hash table) so that $\\text{the index of bucket} = h(\\text{key})$.\n",
    "\n",
    "- However, this is very difficult because the size of universal key space is usually $\\gg m$, resulting in the **collision**, i.e. mapping two different keys to the same bucket (index).\n",
    "\n",
    "- In this course, we are going to introduce 2 fundamental approaches to create the **hash function**.  For more approaches, you can learn it from the other courses in this campus or the Internet.\n",
    "\n",
    "- - -"
   ]
  },
  {
   "cell_type": "markdown",
   "metadata": {},
   "source": [
    "#### Division method\n",
    "\n",
    "- Calculate the **remainder** via modulus: $h(\\text{key}) = \\text{key} \\ mod \\ m$ for $m$ buckets.\n",
    "    \n",
    "    * Ex: $m = 16$\n",
    "\n",
    "    $$\n",
    "    \\begin{aligned}\n",
    "    h(\\text{key94}) &= 94 \\ mod \\ 16 &= 14, & \\ \\text{the item of key94 will be put into the} \\ 14^{th} \\ \\text{bucket.}  \\\\\n",
    "    h(\\text{key28}) &= 28 \\ mod \\ 16 &= 12, & \\ \\text{the item of key28 will be put into the} \\ 12^{th} \\ \\text{bucket.}  \\\\\n",
    "    h(\\text{key87}) &= 87 \\ mod \\ 16 &= 7, & \\ \\text{the item of key87 will be put into the} \\ 7^{th} \\ \\text{bucket.}  \\\\\n",
    "    h(\\text{key46}) &= 46 \\ mod \\ 16 &= 14, & \\ \\text{the item of key46 will be put into the} \\ {\\color{#FFFF00}{14^{th}}} \\ \\text{bucket.}  \\\\\n",
    "    \\end{aligned}\n",
    "    $$\n",
    "\n",
    "    <img align=\"center\" height=auto width=800px src=\"https://raw.githubusercontent.com/bruce88617/nycudopcs/main/Lectures/Lecture11/assets/fig7.png\">\n",
    "\n",
    "    * Pros: Quick\n",
    "    \n",
    "    * Cons: It is not easy to choose an optimal $m$ (because we never know the range of data). \n",
    "\n",
    "    <img align=\"center\" height=auto width=800px src=\"https://raw.githubusercontent.com/bruce88617/nycudopcs/main/Lectures/Lecture11/assets/fig8.png\">\n",
    "\n",
    "- - -"
   ]
  },
  {
   "cell_type": "markdown",
   "metadata": {},
   "source": [
    "#### Multiplication method\n",
    "\n",
    "- Because we never know the range or the distribution of key, it is difficult to choose an optimal $m$ for general cases.\n",
    "\n",
    "- Another way:\n",
    "    1. Assuming the size of hash table ${\\color{#FFFF00}{m}} = 2^p$\n",
    "    2. Choose a constant ${\\color{#FFFF00}{A}} \\text{, where} \\ 0 < A < 1$\n",
    "    3. For a key: $\\color{#FFFF00}{K}$, multiply $\\color{#FFFF00}{K}$ by $\\color{#FFFF00}{A}$, get $\\color{#FFFF00}{KA}$\n",
    "    4. Extract the fractional part $\\color{#FFFF00}{f}$ of $\\color{#FFFF00}{KA}$, $f = KA - \\lfloor KA \\rfloor$\n",
    "    5. Multiply $\\color{#FFFF00}{f}$ by $\\color{#FFFF00}{m}$, get $\\color{#FFFF00}{mf}$\n",
    "    6. $h(\\text{key}) = \\lfloor mf \\rfloor$\n",
    "\n",
    "<br>\n",
    "\n",
    "- Example:\n",
    "\n",
    "    $m = 2^4, \\ A = \\frac{15}{32}$\n",
    "\n",
    "    |$K \\ (\\text{decimal number})$|$K \\ (\\text{binary number})$|$KA$|$f$|$mf$|$h(\\text{key})$|\n",
    "    |:--:|:--:|:--:|:--:|:--:|:--:|\n",
    "    |$94$|$(1011110)_2$|$\\frac{1410}{32} = 44 + \\frac{1}{16}$|$(0.00010)_2$|$(0001.0)_2$|$1$|\n",
    "    |$28$|$(0011100)_2$|$\\frac{420}{32} = 13 + \\frac{1}{8}$|$(0.00100)_2$|$(0010.0)_2$|$2$|\n",
    "    |$87$|$(1010111)_2$|$\\frac{1305}{32} = 40 + \\frac{1}{2} + \\frac{1}{4} + \\frac{1}{32}$|$(0.11001)_2$|$(1100.1)_2$|$12$|\n",
    "    |$46$|$(0101110)_2$|$\\frac{690}{32} = 21 + \\frac{1}{2} + \\frac{1}{16}$|$(0.10010)_2$|$(1001.0)_2$|$9$|\n",
    "\n",
    "<br>\n",
    "\n",
    "- How to choose $A$?\n",
    "    * Use golden ratio: $\\frac{\\sqrt{5}-1}{2}$\n",
    "\n",
    "<br>\n",
    "\n",
    "- For more information, please refer to:\n",
    "    * [Second Round](https://alrightchiu.github.io/SecondRound/hash-tableintrojian-jie.html)\n",
    "    "
   ]
  }
 ],
 "metadata": {
  "kernelspec": {
   "display_name": "Python 3.8.10 ('nycudopcs')",
   "language": "python",
   "name": "python3"
  },
  "language_info": {
   "codemirror_mode": {
    "name": "ipython",
    "version": 3
   },
   "file_extension": ".py",
   "mimetype": "text/x-python",
   "name": "python",
   "nbconvert_exporter": "python",
   "pygments_lexer": "ipython3",
   "version": "3.11.5"
  },
  "orig_nbformat": 4,
  "vscode": {
   "interpreter": {
    "hash": "5fe2e5cd560f36aa3aedf58cd7990de02027c6dec68ca092676a4258cbc93843"
   }
  }
 },
 "nbformat": 4,
 "nbformat_minor": 2
}
