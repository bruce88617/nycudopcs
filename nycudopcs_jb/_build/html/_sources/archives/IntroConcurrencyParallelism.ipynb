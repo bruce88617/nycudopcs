{
 "cells": [
  {
   "cell_type": "markdown",
   "metadata": {},
   "source": [
    "# Introduction to Concurrency and Parallelism"
   ]
  },
  {
   "attachments": {},
   "cell_type": "markdown",
   "metadata": {},
   "source": [
    "## Last time\n",
    "\n",
    "- Python package: Pandas "
   ]
  },
  {
   "cell_type": "markdown",
   "metadata": {},
   "source": [
    "## **Today**\n",
    "\n",
    "<html>\n",
    "<head>\n",
    "</head>\n",
    "<body>\n",
    "<ul>\n",
    "  <li><a href=\"#tag1\">Concurrency vs. parallelism</a></li>\n",
    "  <li><a href=\"#tag2\">Multi-threading</a></li>\n",
    "  <li><a href=\"#tag3\">Multi-processing</a></li>\n",
    "  <li><a href=\"#tag4\">Shared memory and Lock</a></li>\n",
    "</ul>\n",
    "\n",
    "</body>"
   ]
  },
  {
   "cell_type": "markdown",
   "metadata": {},
   "source": [
    "<a id=\"tag1\"></a>\n",
    "\n",
    "## **Concurrency vs. parallelism**  \n",
    "\n",
    ">\n",
    "> Concurrency is about dealing with lots of things at once.  \n",
    "> Parallelism is about doing lots of things at once.  \n",
    "> \n",
    ">                                           - Rob Pike\n",
    "> \n",
    "\n",
    "<img align=\"center\" height=auto width=600px src=\"https://raw.githubusercontent.com/bruce88617/nycudopcs/main/Lectures/Lecture15/assets/fig1.png\">\n",
    "\n",
    "- - -\n",
    "\n",
    "#### Practical example\n",
    "\n",
    "<img align=\"center\" height=auto width=700px src=\"https://raw.githubusercontent.com/bruce88617/nycudopcs/main/Lectures/Lecture15/assets/fig2.png\">\n",
    "\n",
    "- - -"
   ]
  },
  {
   "cell_type": "markdown",
   "metadata": {},
   "source": [
    "<a id=\"tag2\"></a>\n",
    "\n",
    "## **Multi-threading**  \n",
    "\n",
    "#### Python build-in module `threading` \n",
    "\n",
    "- Thread-based parallelism\n",
    "- Suitable for heavy I/O task (e.g. reading & writing files)"
   ]
  },
  {
   "cell_type": "code",
   "execution_count": null,
   "metadata": {},
   "outputs": [],
   "source": [
    "import threading\n",
    "import time\n",
    "\n",
    "def job1(msg, t=1):\n",
    "    print(\"Current thread:\", threading.current_thread())\n",
    "    # print(\"Active threads:\", threading.active_count())\n",
    "    print(\"Print message: {} is working.\".format(msg))\n",
    "    time.sleep(t)\n",
    "    print(\"{} is done.\".format(msg))\n",
    "\n",
    "def job2(msg, t=5):\n",
    "    print(\"Current thread:\", threading.current_thread())\n",
    "    # print(\"Active threads:\", threading.active_count())\n",
    "    print(\"Print message: {} is working.\".format(msg))\n",
    "    time.sleep(t)\n",
    "    print(\"{} is done.\".format(msg))"
   ]
  },
  {
   "cell_type": "markdown",
   "metadata": {},
   "source": [
    "#### Example 1: create 2 threads by `Thread`"
   ]
  },
  {
   "cell_type": "code",
   "execution_count": null,
   "metadata": {},
   "outputs": [],
   "source": [
    "thread1 = threading.Thread(target=job1, name=\"T1\", args=(\"Thread 1\",))\n",
    "thread2 = threading.Thread(target=job2, name=\"T2\", args=(\"Thread 2\",))\n",
    "\n",
    "print(\"Current thread:\", threading.current_thread())\n",
    "\n",
    "print(\"=\"*50)\n",
    "thread1.start()\n",
    "thread2.start()\n",
    "print(\"=\"*50)\n",
    "\n",
    "print(\"Current thread:\", threading.current_thread())\n",
    "print(\"Active threads:\", threading.active_count())\n"
   ]
  },
  {
   "cell_type": "markdown",
   "metadata": {},
   "source": [
    "#### Example 2: `join`\n",
    "\n",
    "-  Temporately stop the `MainThread` until all thread has finished."
   ]
  },
  {
   "cell_type": "code",
   "execution_count": null,
   "metadata": {},
   "outputs": [],
   "source": [
    "thread1 = threading.Thread(target=job1, name=\"T1\", args=(\"Thread 1\",))\n",
    "thread2 = threading.Thread(target=job2, name=\"T2\", args=(\"Thread 2\",))\n",
    "\n",
    "print(\"Current thread:\", threading.current_thread())\n",
    "\n",
    "print(\"=\"*50)\n",
    "thread1.start()\n",
    "thread2.start()\n",
    "thread1.join()\n",
    "thread2.join()\n",
    "print(\"=\"*50)\n",
    "\n",
    "print(\"Current thread:\", threading.current_thread())\n",
    "print(\"Active threads:\", threading.active_count())"
   ]
  },
  {
   "cell_type": "markdown",
   "metadata": {},
   "source": [
    "#### Example 3: `daemon` thread\n",
    "\n",
    "- Automatically stop the thread when `MainThread` terminates.\n",
    "\n",
    "- There are bugs in `ipython kernel`, try the code in `example3.py`.\n",
    "\n",
    "<img align=\"center\" height=auto width=700px src=\"https://raw.githubusercontent.com/bruce88617/nycudopcs/main/Lectures/Lecture15/assets/fig4.png\">\n",
    "\n",
    "- - -"
   ]
  },
  {
   "cell_type": "markdown",
   "metadata": {},
   "source": [
    "#### Example 4: combine with `class`"
   ]
  },
  {
   "cell_type": "code",
   "execution_count": null,
   "metadata": {},
   "outputs": [],
   "source": [
    "import threading\n",
    "import time\n",
    "\n",
    "class multithread1:\n",
    "    def __init__(self, input_list):\n",
    "        self.data = input_list.copy()\n",
    "\n",
    "    def get_data(self):\n",
    "        return self.data\n",
    "\n",
    "    def job1(self, data, idx):\n",
    "        \"\"\"\n",
    "        Calculate the square number of all elements\n",
    "        \"\"\"\n",
    "        print(\"Thread {} is starting.\".format(idx))\n",
    "        for j in range(len(data)):\n",
    "            self.data[idx][j] = data[j]**2\n",
    "            time.sleep(1)\n",
    "\n",
    "    def run(self):\n",
    "        all_thread = []\n",
    "\n",
    "        # Create multi-thread\n",
    "        for i in range(len(self.data)):\n",
    "            thread = threading.Thread(target=self.job1, name=\"T{}\".format(i), args=(self.data[i],i))\n",
    "            \n",
    "            thread.start()     # What is the difference?\n",
    "            all_thread.append(thread)    \n",
    "        \n",
    "        # Temporately stop the main thread\n",
    "        for thread in all_thread:\n",
    "            # thread.start()     # What is the difference?\n",
    "            thread.join()\n"
   ]
  },
  {
   "cell_type": "code",
   "execution_count": null,
   "metadata": {},
   "outputs": [],
   "source": [
    "arr1 = [[1,2,3],[4,5,6],[7,8,9],[10,11,12]]\n",
    "\n",
    "test1 = multithread1(arr1)\n",
    "test1.run()\n",
    "print(test1.get_data())"
   ]
  },
  {
   "cell_type": "markdown",
   "metadata": {},
   "source": [
    "### Brief summary of **multi-threading**\n",
    "\n",
    "- Quick and easy to use\n",
    "\n",
    "- Achieve parallelism via **context-switch of CPU** (only use 1 CPU, low efficiency)\n",
    "\n",
    "<img align=\"center\" height=auto width=1000px src=\"https://raw.githubusercontent.com/bruce88617/nycudopcs/main/Lectures/Lecture15/assets/fig3.png\">"
   ]
  },
  {
   "cell_type": "markdown",
   "metadata": {},
   "source": [
    "<a id=\"tag3\"></a>\n",
    "\n",
    "## **Multi-processing**  \n",
    "\n",
    "- Use multiple CPUs to accomplish jobs\n",
    "\n",
    "- Require data transfer in different CPUs while execution\n",
    "\n",
    "- Suitable for complex tasks ($\\text{execution time} \\ggg \\text{data transfer time}$)"
   ]
  },
  {
   "cell_type": "markdown",
   "metadata": {},
   "source": [
    "#### Example 5: `mp.Process`\n",
    "\n",
    "- There are bugs in `ipython kernel`, try the code in `example5.py`.\n",
    "\n",
    "- There is **NO gaurantee** that all process will be finished sequentially.\n",
    "\n",
    "<img align=\"center\" height=auto width=700px src=\"https://raw.githubusercontent.com/bruce88617/nycudopcs/main/Lectures/Lecture15/assets/fig5.png\">\n",
    "\n",
    "- - -"
   ]
  },
  {
   "cell_type": "code",
   "execution_count": null,
   "metadata": {},
   "outputs": [],
   "source": [
    "import multiprocessing as mp\n",
    "\n",
    "print(\"CPU count:\", mp.cpu_count())"
   ]
  },
  {
   "cell_type": "markdown",
   "metadata": {},
   "source": [
    "#### Example 6: `mp.Pool`\n",
    "\n",
    "- There are bugs in `ipython kernel`, try the code in `example6.py`.\n",
    "\n",
    "- Use `mp.Pool` to create a **pool** of processes.\n",
    "\n",
    "- Use `mp.Pool.map` to arrange all process and return the result.\n",
    "\n",
    "<img align=\"center\" height=auto width=700px src=\"https://raw.githubusercontent.com/bruce88617/nycudopcs/main/Lectures/Lecture15/assets/fig6.png\">\n",
    "\n",
    "- - -"
   ]
  },
  {
   "cell_type": "markdown",
   "metadata": {},
   "source": [
    "#### Example 7: `mp.Pool.apply` & `mp.Pool.apply_async`\n",
    "\n",
    "- There are bugs in `ipython kernel`, try the code in `example7.py`.\n",
    "\n",
    "- `mp.Pool.apply` will block the main process untill the result is ready.\n",
    "\n",
    "- `mp.Pool.apply_async` returns a `AsyncResult` object which requires method attribute `get` to return the value.\n",
    "\n",
    "<img align=\"center\" height=auto width=700px src=\"https://raw.githubusercontent.com/bruce88617/nycudopcs/main/Lectures/Lecture15/assets/fig7.png\">\n",
    "\n",
    "- - -"
   ]
  },
  {
   "cell_type": "markdown",
   "metadata": {},
   "source": [
    "#### Example 8: `mp.Pool.map` & `mp.Pool.map_async`\n",
    "\n",
    "- There are bugs in `ipython kernel`, try the code in `example7.py`.\n",
    "\n",
    "- Same as the `apply_async`, `map_async` returns a `AsyncResult` object which requires method attribute `get` to return the value."
   ]
  },
  {
   "cell_type": "markdown",
   "metadata": {},
   "source": [
    "<a id=\"tag4\"></a>\n",
    "\n",
    "## **Shared memory and Lock**  \n",
    "\n",
    "#### Basic shared memory `mp.Value` and `mp.Array`\n",
    "\n",
    "- Use `mp.Value` to create a value allocated in shared memory.\n",
    "\n",
    "- Use `mp.Array` to create a 1-dimensional list allocated in shared memory.\n",
    "\n",
    "- List of common data type:\n",
    "\n",
    "    |Type code|C type|Python type|Minimum size in bytes|\n",
    "    |:--:|:--:|:--:|:--:|\n",
    "    |`\"b\"`|`signed char`|`int`|1|\n",
    "    |`\"B\"`|`unsigned char`|`int`|1|\n",
    "    |`\"i\"`|`signed int`|`int`|2 or 4|\n",
    "    |`\"I\"`|`unsigned int`|`int`|2 or 4|\n",
    "    |`\"f\"`|`float`|`float`|4|\n",
    "    |`\"d\"`|`double`|`float`|8|"
   ]
  },
  {
   "cell_type": "code",
   "execution_count": null,
   "metadata": {},
   "outputs": [],
   "source": [
    "# Example of shared memory\n",
    "\n",
    "import multiprocessing as mp\n",
    "\n",
    "value1 = mp.Value('i', 0) \n",
    "value2 = mp.Value('d', 3.14)\n",
    "\n",
    "array = mp.Array('i', [1, 2, 3, 4])"
   ]
  },
  {
   "cell_type": "markdown",
   "metadata": {},
   "source": [
    "#### Example 9: Race condition\n",
    "\n",
    "- When multiple threads or processes access the same memory (ex. a value in your workspace), unexpectable situation will arise. This is called the **race condition**.\n",
    "\n",
    "<img align=\"center\" height=auto width=700px src=\"https://raw.githubusercontent.com/bruce88617/nycudopcs/main/Lectures/Lecture15/assets/fig8.png\">\n",
    "\n",
    "- - -"
   ]
  },
  {
   "cell_type": "markdown",
   "metadata": {},
   "source": [
    "#### Example 10: Create a `Lock`\n",
    "\n",
    "- Use `mp.Lock` to create a **Lock** \n",
    "\n",
    "- Use `mp.Lock.acquire()` to block the memory from other processes or threads.\n",
    "\n",
    "- Use `mp.Lock.release()` to release the memory.\n",
    "\n",
    "<img align=\"center\" height=auto width=700px src=\"https://raw.githubusercontent.com/bruce88617/nycudopcs/main/Lectures/Lecture15/assets/fig9.png\">\n",
    "\n",
    "- - -"
   ]
  },
  {
   "cell_type": "markdown",
   "metadata": {},
   "source": [
    "#### Example 11: Create a `Semaphore`\n",
    "\n",
    "- Use `mp.Semaphore` to create a **Semaphore** \n",
    "\n",
    "- Unlike the `mp.Lock`, `mp.Semaphore` can assign access to multiple processes.\n",
    "\n",
    "<img align=\"center\" height=auto width=700px src=\"https://raw.githubusercontent.com/bruce88617/nycudopcs/main/Lectures/Lecture15/assets/fig10.png\">\n",
    "\n",
    "- - -"
   ]
  },
  {
   "cell_type": "markdown",
   "metadata": {},
   "source": [
    "#### `RLock`\n",
    "\n",
    "- A **recursive** lock\n",
    "\n",
    "- Use `mp.RLock` to create a **RLock** \n",
    "\n",
    "- Unlike the `Lock`, `RLock` can be acquired by multiple times or multiple processes. However, if a `RLock` object is acquired $N$ times by `acquire()`, it is locked unless it is released by $N$ times of `release()`.\n",
    "\n",
    "- Difference:\n",
    "\n",
    "    |`Lock`|`RLock`|\n",
    "    |:--|:--|\n",
    "    |A `Lock` object can not be acquired again by any thread or process <br>unless it is released by the thread or process that owns it.|A `RLock` object can be acquired multiple times <br>by any thread or process.|\n",
    "    |A `Lock` object can be released by any thread or process.|A `RLock` object can only be released by the thread/process that owns it.|\n",
    "    |Faster|`RLock` is relatively slower than `Lock`.|\n",
    "\n"
   ]
  },
  {
   "cell_type": "markdown",
   "metadata": {},
   "source": [
    "## Summary\n",
    "\n",
    "|Multi-threading|Multi-processing|\n",
    "|:-------------:|:--------------:|\n",
    "|Single processor|Multiple processors|\n",
    "|Simple and intuitive|Require data transfer|\n",
    "|Suitable for data I/O task|Suitable for heavy computation task|"
   ]
  }
 ],
 "metadata": {
  "kernelspec": {
   "display_name": "Python 3",
   "language": "python",
   "name": "python3"
  },
  "language_info": {
   "codemirror_mode": {
    "name": "ipython",
    "version": 3
   },
   "file_extension": ".py",
   "mimetype": "text/x-python",
   "name": "python",
   "nbconvert_exporter": "python",
   "pygments_lexer": "ipython3",
   "version": "3.11.4"
  },
  "orig_nbformat": 4,
  "vscode": {
   "interpreter": {
    "hash": "75b65a0529b4b8d1cd58c15a5d43792082ebbdbdf9f0634d5970d3c708930ca1"
   }
  }
 },
 "nbformat": 4,
 "nbformat_minor": 2
}
