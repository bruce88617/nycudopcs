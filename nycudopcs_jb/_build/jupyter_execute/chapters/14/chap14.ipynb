{
 "cells": [
  {
   "cell_type": "markdown",
   "metadata": {},
   "source": [
    "# `Pandas` and More Data Visualization\n",
    "\n",
    "- Please refer to [here](https://github.com/bruce88617/nycudopcs/tree/main/Lectures/Lecture14) for the data in this lecture."
   ]
  },
  {
   "cell_type": "markdown",
   "metadata": {},
   "source": [
    "## Last time\n",
    "\n",
    "- Python package: NumPy  \n",
    "- Python package: Matplotlib  "
   ]
  },
  {
   "cell_type": "markdown",
   "metadata": {},
   "source": [
    "## **Today**\n",
    "\n",
    "<html>\n",
    "<head>\n",
    "</head>\n",
    "<body>\n",
    "<ul>\n",
    "  <li><a href=\"#tag1\">Python package: Pandas</a></li>\n",
    "  <!-- <li><a href=\"#tag2\">More on Python package: Matplotlib</a></li> -->\n",
    "  <!-- <li><a href=\"#tag3\">???</a></li> -->\n",
    "</ul>\n",
    "\n",
    "</body>"
   ]
  },
  {
   "cell_type": "markdown",
   "metadata": {},
   "source": [
    "<a id=\"tag1\"></a>\n",
    "\n",
    "## **Python package: `pandas`**  \n",
    "\n",
    "- `pandas` is a Python package providing fast, flexible, and expressive data structures designed to make working with **relational** or **labeled** data both easy and intuitive.\n",
    "\n",
    "- Reference:  \n",
    "    1. [Pandas documentation](https://pandas.pydata.org/docs/index.html)\n",
    "    2. [Pandas tutorials](https://pandas.pydata.org/docs/getting_started/intro_tutorials/index.html)\n",
    "\n",
    "- - -\n",
    "\n",
    "#### Install `pandas`\n",
    "\n",
    "1. Activate your virtual environment\n",
    "\n",
    "2. Install `pandas`\n",
    "\n",
    "    ```\n",
    "    pip install pandas\n",
    "    ```\n",
    "\n",
    "    <img align=\"center\" height=auto width=500px src=\"https://raw.githubusercontent.com/bruce88617/nycudopcs/main/Lectures/Lecture14/assets/fig1.png\">\n",
    "\n",
    "- - -"
   ]
  },
  {
   "cell_type": "markdown",
   "metadata": {},
   "source": [
    "#### DataFrame and Series\n",
    "\n",
    "- A `DataFrame` is a 2-dimensional data structure that can store data of different types (including characters, integers, floating point values, categorical data and more) in columns.\n",
    "\n",
    "- Each column in a `DataFrame` is a `Series`.\n",
    "\n",
    "    <img align=\"center\" height=auto width=500px src=\"https://raw.githubusercontent.com/bruce88617/nycudopcs/main/Lectures/Lecture14/assets/fig2.png\">\n",
    "\n",
    "- - -"
   ]
  },
  {
   "cell_type": "code",
   "execution_count": 1,
   "metadata": {},
   "outputs": [
    {
     "name": "stdout",
     "output_type": "stream",
     "text": [
      "  Student ID  Gender  HW#1  HW#2  HW#3\n",
      "0  112514001  Female   100    90   100\n",
      "1  112514002    Male     0    60    75\n",
      "2  112514003   Third    70    95    80\n",
      "3  112514004  Female    90    85   100\n",
      "4  112514005    Male    80   100    60\n"
     ]
    }
   ],
   "source": [
    "import pandas as pd\n",
    "\n",
    "df1 = pd.DataFrame({\n",
    "    \"Student ID\": [\"112514001\", \"112514002\", \"112514003\", \"112514004\", \"112514005\"],\n",
    "    \"Gender\": [\"Female\", \"Male\", \"Third\", \"Female\", \"Male\"],\n",
    "    \"HW#1\": [100, 0, 70, 90, 80],\n",
    "    \"HW#2\": [90, 60, 95, 85, 100],\n",
    "    \"HW#3\": [100, 75, 80, 100, 60],\n",
    "})\n",
    "\n",
    "print(df1)"
   ]
  },
  {
   "cell_type": "code",
   "execution_count": 2,
   "metadata": {},
   "outputs": [
    {
     "name": "stdout",
     "output_type": "stream",
     "text": [
      "0    100\n",
      "1      0\n",
      "2     70\n",
      "3     90\n",
      "4     80\n",
      "Name: HW#1, dtype: int64\n"
     ]
    }
   ],
   "source": [
    "print(df1[\"HW#1\"])"
   ]
  },
  {
   "cell_type": "code",
   "execution_count": 3,
   "metadata": {},
   "outputs": [
    {
     "name": "stdout",
     "output_type": "stream",
     "text": [
      "Student ID    112514001\n",
      "Gender           Female\n",
      "HW#1                100\n",
      "HW#2                 90\n",
      "HW#3                100\n",
      "Name: 0, dtype: object\n",
      "type(df1.iloc[0]): <class 'pandas.core.series.Series'>\n"
     ]
    }
   ],
   "source": [
    "print(df1.iloc[0])\n",
    "print(\"type(df1.iloc[0]):\", type(df1.iloc[0]))"
   ]
  },
  {
   "cell_type": "code",
   "execution_count": 4,
   "metadata": {},
   "outputs": [
    {
     "name": "stdout",
     "output_type": "stream",
     "text": [
      "0    93\n",
      "1    46\n",
      "2    43\n",
      "3    68\n",
      "4    18\n",
      "Name: HW#4, dtype: int32\n"
     ]
    }
   ],
   "source": [
    "import numpy as np\n",
    "\n",
    "hw4 = pd.Series(np.random.randint(0, 100, size=(5,)), name=\"HW#4\")\n",
    "\n",
    "print(hw4)"
   ]
  },
  {
   "cell_type": "code",
   "execution_count": 5,
   "metadata": {},
   "outputs": [
    {
     "name": "stdout",
     "output_type": "stream",
     "text": [
      "  Student ID  Gender  HW#1  HW#2  HW#3  HW#4\n",
      "0  112514001  Female   100    90   100    93\n",
      "1  112514002    Male     0    60    75    46\n",
      "2  112514003   Third    70    95    80    43\n",
      "3  112514004  Female    90    85   100    68\n",
      "4  112514005    Male    80   100    60    18\n"
     ]
    }
   ],
   "source": [
    "# Add new column\n",
    "df1[\"HW#4\"] = hw4\n",
    "\n",
    "print(df1)"
   ]
  },
  {
   "cell_type": "code",
   "execution_count": 6,
   "metadata": {},
   "outputs": [
    {
     "name": "stdout",
     "output_type": "stream",
     "text": [
      "  Student ID  Gender  HW#1  HW#2  HW#3  HW#4  Final\n",
      "0  112514001  Female   100    90   100    93   96.3\n",
      "1  112514002    Male     0    60    75    46   45.1\n",
      "2  112514003   Third    70    95    80    43   77.8\n",
      "3  112514004  Female    90    85   100    68   89.3\n",
      "4  112514005    Male    80   100    60    18   73.8\n"
     ]
    }
   ],
   "source": [
    "# Add new column from existing columns\n",
    "df1[\"Final\"] = df1[\"HW#1\"]*0.3 + df1[\"HW#2\"]*0.3 + df1[\"HW#3\"]*0.3 + df1[\"HW#4\"]*0.1\n",
    "\n",
    "print(df1)"
   ]
  },
  {
   "cell_type": "markdown",
   "metadata": {},
   "source": [
    "- Using `pd.DataFrame.describe()` to acquire the basic statistics"
   ]
  },
  {
   "cell_type": "code",
   "execution_count": 7,
   "metadata": {},
   "outputs": [
    {
     "data": {
      "text/html": [
       "<div>\n",
       "<style scoped>\n",
       "    .dataframe tbody tr th:only-of-type {\n",
       "        vertical-align: middle;\n",
       "    }\n",
       "\n",
       "    .dataframe tbody tr th {\n",
       "        vertical-align: top;\n",
       "    }\n",
       "\n",
       "    .dataframe thead th {\n",
       "        text-align: right;\n",
       "    }\n",
       "</style>\n",
       "<table border=\"1\" class=\"dataframe\">\n",
       "  <thead>\n",
       "    <tr style=\"text-align: right;\">\n",
       "      <th></th>\n",
       "      <th>HW#1</th>\n",
       "      <th>HW#2</th>\n",
       "      <th>HW#3</th>\n",
       "      <th>HW#4</th>\n",
       "      <th>Final</th>\n",
       "    </tr>\n",
       "  </thead>\n",
       "  <tbody>\n",
       "    <tr>\n",
       "      <th>count</th>\n",
       "      <td>5.000000</td>\n",
       "      <td>5.000000</td>\n",
       "      <td>5.000000</td>\n",
       "      <td>5.000000</td>\n",
       "      <td>5.000000</td>\n",
       "    </tr>\n",
       "    <tr>\n",
       "      <th>mean</th>\n",
       "      <td>68.000000</td>\n",
       "      <td>86.000000</td>\n",
       "      <td>83.000000</td>\n",
       "      <td>53.600000</td>\n",
       "      <td>76.460000</td>\n",
       "    </tr>\n",
       "    <tr>\n",
       "      <th>std</th>\n",
       "      <td>39.623226</td>\n",
       "      <td>15.572412</td>\n",
       "      <td>17.175564</td>\n",
       "      <td>28.271894</td>\n",
       "      <td>19.690175</td>\n",
       "    </tr>\n",
       "    <tr>\n",
       "      <th>min</th>\n",
       "      <td>0.000000</td>\n",
       "      <td>60.000000</td>\n",
       "      <td>60.000000</td>\n",
       "      <td>18.000000</td>\n",
       "      <td>45.100000</td>\n",
       "    </tr>\n",
       "    <tr>\n",
       "      <th>25%</th>\n",
       "      <td>70.000000</td>\n",
       "      <td>85.000000</td>\n",
       "      <td>75.000000</td>\n",
       "      <td>43.000000</td>\n",
       "      <td>73.800000</td>\n",
       "    </tr>\n",
       "    <tr>\n",
       "      <th>50%</th>\n",
       "      <td>80.000000</td>\n",
       "      <td>90.000000</td>\n",
       "      <td>80.000000</td>\n",
       "      <td>46.000000</td>\n",
       "      <td>77.800000</td>\n",
       "    </tr>\n",
       "    <tr>\n",
       "      <th>75%</th>\n",
       "      <td>90.000000</td>\n",
       "      <td>95.000000</td>\n",
       "      <td>100.000000</td>\n",
       "      <td>68.000000</td>\n",
       "      <td>89.300000</td>\n",
       "    </tr>\n",
       "    <tr>\n",
       "      <th>max</th>\n",
       "      <td>100.000000</td>\n",
       "      <td>100.000000</td>\n",
       "      <td>100.000000</td>\n",
       "      <td>93.000000</td>\n",
       "      <td>96.300000</td>\n",
       "    </tr>\n",
       "  </tbody>\n",
       "</table>\n",
       "</div>"
      ],
      "text/plain": [
       "             HW#1        HW#2        HW#3       HW#4      Final\n",
       "count    5.000000    5.000000    5.000000   5.000000   5.000000\n",
       "mean    68.000000   86.000000   83.000000  53.600000  76.460000\n",
       "std     39.623226   15.572412   17.175564  28.271894  19.690175\n",
       "min      0.000000   60.000000   60.000000  18.000000  45.100000\n",
       "25%     70.000000   85.000000   75.000000  43.000000  73.800000\n",
       "50%     80.000000   90.000000   80.000000  46.000000  77.800000\n",
       "75%     90.000000   95.000000  100.000000  68.000000  89.300000\n",
       "max    100.000000  100.000000  100.000000  93.000000  96.300000"
      ]
     },
     "execution_count": 7,
     "metadata": {},
     "output_type": "execute_result"
    }
   ],
   "source": [
    "# Only for the numerical data\n",
    "df1.describe()"
   ]
  },
  {
   "cell_type": "code",
   "execution_count": 8,
   "metadata": {},
   "outputs": [
    {
     "name": "stdout",
     "output_type": "stream",
     "text": [
      "Student ID     object\n",
      "Gender         object\n",
      "HW#1            int64\n",
      "HW#2            int64\n",
      "HW#3            int64\n",
      "HW#4            int32\n",
      "Final         float64\n",
      "dtype: object\n",
      "(5, 7)\n"
     ]
    }
   ],
   "source": [
    "# Get dtype of each column\n",
    "print(df1.dtypes)\n",
    "\n",
    "# Get the shape of the DataFrame\n",
    "print(df1.shape)"
   ]
  },
  {
   "cell_type": "code",
   "execution_count": 9,
   "metadata": {},
   "outputs": [
    {
     "name": "stdout",
     "output_type": "stream",
     "text": [
      "           2050-12-29  2051-01-05  2051-01-12  2051-01-19  2051-01-26\n",
      "139514001           1           1           2           2           0\n",
      "139514002           1           1           2           1           1\n",
      "139514003           1           2           0           0           0\n",
      "139514004           1           1           0           0           0\n",
      "139514005           0           0           1           0           1\n",
      "139514006           2           1           0           1           2\n",
      "139514007           1           1           1           0           0\n",
      "139514008           1           1           0           2           2\n",
      "139514009           2           0           0           1           1\n",
      "139514010           1           0           1           1           2\n",
      "Index(['139514001', '139514002', '139514003', '139514004', '139514005',\n",
      "       '139514006', '139514007', '139514008', '139514009', '139514010'],\n",
      "      dtype='object')\n",
      "DatetimeIndex(['2050-12-29', '2051-01-05', '2051-01-12', '2051-01-19',\n",
      "               '2051-01-26'],\n",
      "              dtype='datetime64[ns]', freq='W-THU')\n"
     ]
    }
   ],
   "source": [
    "# data_range\n",
    "\n",
    "num = 10\n",
    "dates = pd.date_range(\"2050-12-25\", periods=5, freq=\"W-THU\")\n",
    "idx = [\"1395140{:02d}\".format(i+1) for i in range(num)]\n",
    "\n",
    "df2 = pd.DataFrame(np.random.randint(0, 3, (num, len(dates))), index=idx, columns=dates)\n",
    "\n",
    "print(df2)\n",
    "print(df2.index)\n",
    "print(df2.columns)"
   ]
  },
  {
   "cell_type": "markdown",
   "metadata": {},
   "source": [
    "#### Read and write tabular data\n",
    "\n",
    "- Use `DataFrame.to_*` for exporting data\n",
    "    1. [to_csv](https://pandas.pydata.org/docs/reference/api/pandas.DataFrame.to_csv.html)\n",
    "    2. [to_excel](https://pandas.pydata.org/docs/reference/api/pandas.DataFrame.to_excel.html)\n",
    "    3. ...  \n",
    "<br>\n",
    "\n",
    "- Use `pd.read_*` for reading data\n",
    "    1. [read_csv](https://pandas.pydata.org/docs/reference/api/pandas.read_csv.html)\n",
    "    2. [read_excel](https://pandas.pydata.org/docs/reference/api/pandas.read_excel.html)\n",
    "    3. ...  \n",
    "\n",
    "- *Note.* If you want to read `excel` file via `pandas`, you need to install `openpyxl` by `pip install openpyxl` first."
   ]
  },
  {
   "cell_type": "code",
   "execution_count": 10,
   "metadata": {},
   "outputs": [],
   "source": [
    "# exporting df1 as a .csv file\n",
    "\n",
    "# df1.to_csv(\"test.csv\")"
   ]
  },
  {
   "cell_type": "code",
   "execution_count": 11,
   "metadata": {},
   "outputs": [
    {
     "ename": "FileNotFoundError",
     "evalue": "[Errno 2] No such file or directory: './/data//data_batting.csv'",
     "output_type": "error",
     "traceback": [
      "\u001b[1;31m---------------------------------------------------------------------------\u001b[0m",
      "\u001b[1;31mFileNotFoundError\u001b[0m                         Traceback (most recent call last)",
      "Cell \u001b[1;32mIn[11], line 2\u001b[0m\n\u001b[0;32m      1\u001b[0m \u001b[38;5;66;03m# importing data from a .csv file\u001b[39;00m\n\u001b[1;32m----> 2\u001b[0m batting \u001b[38;5;241m=\u001b[39m \u001b[43mpd\u001b[49m\u001b[38;5;241;43m.\u001b[39;49m\u001b[43mread_csv\u001b[49m\u001b[43m(\u001b[49m\u001b[38;5;124;43m\"\u001b[39;49m\u001b[38;5;124;43m.//data//data_batting.csv\u001b[39;49m\u001b[38;5;124;43m\"\u001b[39;49m\u001b[43m)\u001b[49m\n\u001b[0;32m      4\u001b[0m \u001b[38;5;28mprint\u001b[39m(batting)\n",
      "File \u001b[1;32mO:\\Envs\\nycudopcs\\Lib\\site-packages\\pandas\\io\\parsers\\readers.py:948\u001b[0m, in \u001b[0;36mread_csv\u001b[1;34m(filepath_or_buffer, sep, delimiter, header, names, index_col, usecols, dtype, engine, converters, true_values, false_values, skipinitialspace, skiprows, skipfooter, nrows, na_values, keep_default_na, na_filter, verbose, skip_blank_lines, parse_dates, infer_datetime_format, keep_date_col, date_parser, date_format, dayfirst, cache_dates, iterator, chunksize, compression, thousands, decimal, lineterminator, quotechar, quoting, doublequote, escapechar, comment, encoding, encoding_errors, dialect, on_bad_lines, delim_whitespace, low_memory, memory_map, float_precision, storage_options, dtype_backend)\u001b[0m\n\u001b[0;32m    935\u001b[0m kwds_defaults \u001b[38;5;241m=\u001b[39m _refine_defaults_read(\n\u001b[0;32m    936\u001b[0m     dialect,\n\u001b[0;32m    937\u001b[0m     delimiter,\n\u001b[1;32m   (...)\u001b[0m\n\u001b[0;32m    944\u001b[0m     dtype_backend\u001b[38;5;241m=\u001b[39mdtype_backend,\n\u001b[0;32m    945\u001b[0m )\n\u001b[0;32m    946\u001b[0m kwds\u001b[38;5;241m.\u001b[39mupdate(kwds_defaults)\n\u001b[1;32m--> 948\u001b[0m \u001b[38;5;28;01mreturn\u001b[39;00m \u001b[43m_read\u001b[49m\u001b[43m(\u001b[49m\u001b[43mfilepath_or_buffer\u001b[49m\u001b[43m,\u001b[49m\u001b[43m \u001b[49m\u001b[43mkwds\u001b[49m\u001b[43m)\u001b[49m\n",
      "File \u001b[1;32mO:\\Envs\\nycudopcs\\Lib\\site-packages\\pandas\\io\\parsers\\readers.py:611\u001b[0m, in \u001b[0;36m_read\u001b[1;34m(filepath_or_buffer, kwds)\u001b[0m\n\u001b[0;32m    608\u001b[0m _validate_names(kwds\u001b[38;5;241m.\u001b[39mget(\u001b[38;5;124m\"\u001b[39m\u001b[38;5;124mnames\u001b[39m\u001b[38;5;124m\"\u001b[39m, \u001b[38;5;28;01mNone\u001b[39;00m))\n\u001b[0;32m    610\u001b[0m \u001b[38;5;66;03m# Create the parser.\u001b[39;00m\n\u001b[1;32m--> 611\u001b[0m parser \u001b[38;5;241m=\u001b[39m \u001b[43mTextFileReader\u001b[49m\u001b[43m(\u001b[49m\u001b[43mfilepath_or_buffer\u001b[49m\u001b[43m,\u001b[49m\u001b[43m \u001b[49m\u001b[38;5;241;43m*\u001b[39;49m\u001b[38;5;241;43m*\u001b[39;49m\u001b[43mkwds\u001b[49m\u001b[43m)\u001b[49m\n\u001b[0;32m    613\u001b[0m \u001b[38;5;28;01mif\u001b[39;00m chunksize \u001b[38;5;129;01mor\u001b[39;00m iterator:\n\u001b[0;32m    614\u001b[0m     \u001b[38;5;28;01mreturn\u001b[39;00m parser\n",
      "File \u001b[1;32mO:\\Envs\\nycudopcs\\Lib\\site-packages\\pandas\\io\\parsers\\readers.py:1448\u001b[0m, in \u001b[0;36mTextFileReader.__init__\u001b[1;34m(self, f, engine, **kwds)\u001b[0m\n\u001b[0;32m   1445\u001b[0m     \u001b[38;5;28mself\u001b[39m\u001b[38;5;241m.\u001b[39moptions[\u001b[38;5;124m\"\u001b[39m\u001b[38;5;124mhas_index_names\u001b[39m\u001b[38;5;124m\"\u001b[39m] \u001b[38;5;241m=\u001b[39m kwds[\u001b[38;5;124m\"\u001b[39m\u001b[38;5;124mhas_index_names\u001b[39m\u001b[38;5;124m\"\u001b[39m]\n\u001b[0;32m   1447\u001b[0m \u001b[38;5;28mself\u001b[39m\u001b[38;5;241m.\u001b[39mhandles: IOHandles \u001b[38;5;241m|\u001b[39m \u001b[38;5;28;01mNone\u001b[39;00m \u001b[38;5;241m=\u001b[39m \u001b[38;5;28;01mNone\u001b[39;00m\n\u001b[1;32m-> 1448\u001b[0m \u001b[38;5;28mself\u001b[39m\u001b[38;5;241m.\u001b[39m_engine \u001b[38;5;241m=\u001b[39m \u001b[38;5;28;43mself\u001b[39;49m\u001b[38;5;241;43m.\u001b[39;49m\u001b[43m_make_engine\u001b[49m\u001b[43m(\u001b[49m\u001b[43mf\u001b[49m\u001b[43m,\u001b[49m\u001b[43m \u001b[49m\u001b[38;5;28;43mself\u001b[39;49m\u001b[38;5;241;43m.\u001b[39;49m\u001b[43mengine\u001b[49m\u001b[43m)\u001b[49m\n",
      "File \u001b[1;32mO:\\Envs\\nycudopcs\\Lib\\site-packages\\pandas\\io\\parsers\\readers.py:1705\u001b[0m, in \u001b[0;36mTextFileReader._make_engine\u001b[1;34m(self, f, engine)\u001b[0m\n\u001b[0;32m   1703\u001b[0m     \u001b[38;5;28;01mif\u001b[39;00m \u001b[38;5;124m\"\u001b[39m\u001b[38;5;124mb\u001b[39m\u001b[38;5;124m\"\u001b[39m \u001b[38;5;129;01mnot\u001b[39;00m \u001b[38;5;129;01min\u001b[39;00m mode:\n\u001b[0;32m   1704\u001b[0m         mode \u001b[38;5;241m+\u001b[39m\u001b[38;5;241m=\u001b[39m \u001b[38;5;124m\"\u001b[39m\u001b[38;5;124mb\u001b[39m\u001b[38;5;124m\"\u001b[39m\n\u001b[1;32m-> 1705\u001b[0m \u001b[38;5;28mself\u001b[39m\u001b[38;5;241m.\u001b[39mhandles \u001b[38;5;241m=\u001b[39m \u001b[43mget_handle\u001b[49m\u001b[43m(\u001b[49m\n\u001b[0;32m   1706\u001b[0m \u001b[43m    \u001b[49m\u001b[43mf\u001b[49m\u001b[43m,\u001b[49m\n\u001b[0;32m   1707\u001b[0m \u001b[43m    \u001b[49m\u001b[43mmode\u001b[49m\u001b[43m,\u001b[49m\n\u001b[0;32m   1708\u001b[0m \u001b[43m    \u001b[49m\u001b[43mencoding\u001b[49m\u001b[38;5;241;43m=\u001b[39;49m\u001b[38;5;28;43mself\u001b[39;49m\u001b[38;5;241;43m.\u001b[39;49m\u001b[43moptions\u001b[49m\u001b[38;5;241;43m.\u001b[39;49m\u001b[43mget\u001b[49m\u001b[43m(\u001b[49m\u001b[38;5;124;43m\"\u001b[39;49m\u001b[38;5;124;43mencoding\u001b[39;49m\u001b[38;5;124;43m\"\u001b[39;49m\u001b[43m,\u001b[49m\u001b[43m \u001b[49m\u001b[38;5;28;43;01mNone\u001b[39;49;00m\u001b[43m)\u001b[49m\u001b[43m,\u001b[49m\n\u001b[0;32m   1709\u001b[0m \u001b[43m    \u001b[49m\u001b[43mcompression\u001b[49m\u001b[38;5;241;43m=\u001b[39;49m\u001b[38;5;28;43mself\u001b[39;49m\u001b[38;5;241;43m.\u001b[39;49m\u001b[43moptions\u001b[49m\u001b[38;5;241;43m.\u001b[39;49m\u001b[43mget\u001b[49m\u001b[43m(\u001b[49m\u001b[38;5;124;43m\"\u001b[39;49m\u001b[38;5;124;43mcompression\u001b[39;49m\u001b[38;5;124;43m\"\u001b[39;49m\u001b[43m,\u001b[49m\u001b[43m \u001b[49m\u001b[38;5;28;43;01mNone\u001b[39;49;00m\u001b[43m)\u001b[49m\u001b[43m,\u001b[49m\n\u001b[0;32m   1710\u001b[0m \u001b[43m    \u001b[49m\u001b[43mmemory_map\u001b[49m\u001b[38;5;241;43m=\u001b[39;49m\u001b[38;5;28;43mself\u001b[39;49m\u001b[38;5;241;43m.\u001b[39;49m\u001b[43moptions\u001b[49m\u001b[38;5;241;43m.\u001b[39;49m\u001b[43mget\u001b[49m\u001b[43m(\u001b[49m\u001b[38;5;124;43m\"\u001b[39;49m\u001b[38;5;124;43mmemory_map\u001b[39;49m\u001b[38;5;124;43m\"\u001b[39;49m\u001b[43m,\u001b[49m\u001b[43m \u001b[49m\u001b[38;5;28;43;01mFalse\u001b[39;49;00m\u001b[43m)\u001b[49m\u001b[43m,\u001b[49m\n\u001b[0;32m   1711\u001b[0m \u001b[43m    \u001b[49m\u001b[43mis_text\u001b[49m\u001b[38;5;241;43m=\u001b[39;49m\u001b[43mis_text\u001b[49m\u001b[43m,\u001b[49m\n\u001b[0;32m   1712\u001b[0m \u001b[43m    \u001b[49m\u001b[43merrors\u001b[49m\u001b[38;5;241;43m=\u001b[39;49m\u001b[38;5;28;43mself\u001b[39;49m\u001b[38;5;241;43m.\u001b[39;49m\u001b[43moptions\u001b[49m\u001b[38;5;241;43m.\u001b[39;49m\u001b[43mget\u001b[49m\u001b[43m(\u001b[49m\u001b[38;5;124;43m\"\u001b[39;49m\u001b[38;5;124;43mencoding_errors\u001b[39;49m\u001b[38;5;124;43m\"\u001b[39;49m\u001b[43m,\u001b[49m\u001b[43m \u001b[49m\u001b[38;5;124;43m\"\u001b[39;49m\u001b[38;5;124;43mstrict\u001b[39;49m\u001b[38;5;124;43m\"\u001b[39;49m\u001b[43m)\u001b[49m\u001b[43m,\u001b[49m\n\u001b[0;32m   1713\u001b[0m \u001b[43m    \u001b[49m\u001b[43mstorage_options\u001b[49m\u001b[38;5;241;43m=\u001b[39;49m\u001b[38;5;28;43mself\u001b[39;49m\u001b[38;5;241;43m.\u001b[39;49m\u001b[43moptions\u001b[49m\u001b[38;5;241;43m.\u001b[39;49m\u001b[43mget\u001b[49m\u001b[43m(\u001b[49m\u001b[38;5;124;43m\"\u001b[39;49m\u001b[38;5;124;43mstorage_options\u001b[39;49m\u001b[38;5;124;43m\"\u001b[39;49m\u001b[43m,\u001b[49m\u001b[43m \u001b[49m\u001b[38;5;28;43;01mNone\u001b[39;49;00m\u001b[43m)\u001b[49m\u001b[43m,\u001b[49m\n\u001b[0;32m   1714\u001b[0m \u001b[43m\u001b[49m\u001b[43m)\u001b[49m\n\u001b[0;32m   1715\u001b[0m \u001b[38;5;28;01massert\u001b[39;00m \u001b[38;5;28mself\u001b[39m\u001b[38;5;241m.\u001b[39mhandles \u001b[38;5;129;01mis\u001b[39;00m \u001b[38;5;129;01mnot\u001b[39;00m \u001b[38;5;28;01mNone\u001b[39;00m\n\u001b[0;32m   1716\u001b[0m f \u001b[38;5;241m=\u001b[39m \u001b[38;5;28mself\u001b[39m\u001b[38;5;241m.\u001b[39mhandles\u001b[38;5;241m.\u001b[39mhandle\n",
      "File \u001b[1;32mO:\\Envs\\nycudopcs\\Lib\\site-packages\\pandas\\io\\common.py:863\u001b[0m, in \u001b[0;36mget_handle\u001b[1;34m(path_or_buf, mode, encoding, compression, memory_map, is_text, errors, storage_options)\u001b[0m\n\u001b[0;32m    858\u001b[0m \u001b[38;5;28;01melif\u001b[39;00m \u001b[38;5;28misinstance\u001b[39m(handle, \u001b[38;5;28mstr\u001b[39m):\n\u001b[0;32m    859\u001b[0m     \u001b[38;5;66;03m# Check whether the filename is to be opened in binary mode.\u001b[39;00m\n\u001b[0;32m    860\u001b[0m     \u001b[38;5;66;03m# Binary mode does not support 'encoding' and 'newline'.\u001b[39;00m\n\u001b[0;32m    861\u001b[0m     \u001b[38;5;28;01mif\u001b[39;00m ioargs\u001b[38;5;241m.\u001b[39mencoding \u001b[38;5;129;01mand\u001b[39;00m \u001b[38;5;124m\"\u001b[39m\u001b[38;5;124mb\u001b[39m\u001b[38;5;124m\"\u001b[39m \u001b[38;5;129;01mnot\u001b[39;00m \u001b[38;5;129;01min\u001b[39;00m ioargs\u001b[38;5;241m.\u001b[39mmode:\n\u001b[0;32m    862\u001b[0m         \u001b[38;5;66;03m# Encoding\u001b[39;00m\n\u001b[1;32m--> 863\u001b[0m         handle \u001b[38;5;241m=\u001b[39m \u001b[38;5;28;43mopen\u001b[39;49m\u001b[43m(\u001b[49m\n\u001b[0;32m    864\u001b[0m \u001b[43m            \u001b[49m\u001b[43mhandle\u001b[49m\u001b[43m,\u001b[49m\n\u001b[0;32m    865\u001b[0m \u001b[43m            \u001b[49m\u001b[43mioargs\u001b[49m\u001b[38;5;241;43m.\u001b[39;49m\u001b[43mmode\u001b[49m\u001b[43m,\u001b[49m\n\u001b[0;32m    866\u001b[0m \u001b[43m            \u001b[49m\u001b[43mencoding\u001b[49m\u001b[38;5;241;43m=\u001b[39;49m\u001b[43mioargs\u001b[49m\u001b[38;5;241;43m.\u001b[39;49m\u001b[43mencoding\u001b[49m\u001b[43m,\u001b[49m\n\u001b[0;32m    867\u001b[0m \u001b[43m            \u001b[49m\u001b[43merrors\u001b[49m\u001b[38;5;241;43m=\u001b[39;49m\u001b[43merrors\u001b[49m\u001b[43m,\u001b[49m\n\u001b[0;32m    868\u001b[0m \u001b[43m            \u001b[49m\u001b[43mnewline\u001b[49m\u001b[38;5;241;43m=\u001b[39;49m\u001b[38;5;124;43m\"\u001b[39;49m\u001b[38;5;124;43m\"\u001b[39;49m\u001b[43m,\u001b[49m\n\u001b[0;32m    869\u001b[0m \u001b[43m        \u001b[49m\u001b[43m)\u001b[49m\n\u001b[0;32m    870\u001b[0m     \u001b[38;5;28;01melse\u001b[39;00m:\n\u001b[0;32m    871\u001b[0m         \u001b[38;5;66;03m# Binary mode\u001b[39;00m\n\u001b[0;32m    872\u001b[0m         handle \u001b[38;5;241m=\u001b[39m \u001b[38;5;28mopen\u001b[39m(handle, ioargs\u001b[38;5;241m.\u001b[39mmode)\n",
      "\u001b[1;31mFileNotFoundError\u001b[0m: [Errno 2] No such file or directory: './/data//data_batting.csv'"
     ]
    }
   ],
   "source": [
    "# importing data from a .csv file\n",
    "batting = pd.read_csv(\".//data//data_batting.csv\")\n",
    "\n",
    "print(batting)"
   ]
  },
  {
   "cell_type": "code",
   "execution_count": null,
   "metadata": {},
   "outputs": [],
   "source": [
    "# Only show the first 5 rows\n",
    "print(batting.head())\n",
    "\n",
    "# Change n if you need\n",
    "# print(batting.head(n=7))"
   ]
  },
  {
   "cell_type": "markdown",
   "metadata": {},
   "source": [
    "#### Filter a subset of a `DataFrame`\n",
    "\n",
    "- Example: Extracting the batting statistics of **Albert Pujols**"
   ]
  },
  {
   "cell_type": "code",
   "execution_count": null,
   "metadata": {},
   "outputs": [],
   "source": [
    "# method 1\n",
    "tmp_list = []\n",
    "\n",
    "for i in range(batting.shape[0]):\n",
    "    if batting.iloc[i][\"playerID\"] == \"pujolal01\":\n",
    "        tmp_list.append(batting.iloc[i])\n",
    "\n",
    "method1 = pd.DataFrame(tmp_list, columns=batting.columns)\n",
    "\n",
    "print(method1)"
   ]
  },
  {
   "cell_type": "code",
   "execution_count": null,
   "metadata": {},
   "outputs": [],
   "source": [
    "# method 2\n",
    "method2 = batting[batting[\"playerID\"] == \"pujolal01\"]\n",
    "\n",
    "print(method2)"
   ]
  },
  {
   "cell_type": "markdown",
   "metadata": {},
   "source": [
    "#### Exercise 1: calculate the **slugging percentage (SLG)**\n",
    "\n",
    "- Please write a program that calculates the **slugging percentage (SLG)** of Albert Pujols during his first career in St. Louis Cardinals (2001-2011).\n",
    "\n",
    "- Please also calculate the average SLG of the entire league during 2001-2011.\n",
    "\n",
    "- The definition of SLG is:\n",
    "\n",
    "$$\n",
    "\\text{SLG} = \\frac{1 \\times (\\text{H}) + 2 \\times (\\text{2B}) + 3 \\times (\\text{3B}) + 4 \\times (\\text{HR})}{\\text{AB}}\n",
    "$$\n",
    "\n",
    "- Please plot the result:\n",
    "\n",
    "- - -\n",
    "\n",
    "<img align=\"center\" height=250px width=auto src=\"https://raw.githubusercontent.com/bruce88617/nycudopcs/main/Lectures/Lecture14/assets/exercise1_1.png\">\n",
    "\n",
    "<img align=\"center\" height=250px width=auto src=\"https://raw.githubusercontent.com/bruce88617/nycudopcs/main/Lectures/Lecture14/assets/exercise1_2.png\">\n",
    "\n",
    "- - -\n",
    "\n",
    "<details><summary>Click here for solution</summary>\n",
    "\n",
    "```python\n",
    "import numpy as np\n",
    "import pandas as pd\n",
    "import matplotlib.pyplot as plt\n",
    "\n",
    "batting = pd.read_csv(\".//data//data_batting.csv\")\n",
    "pujols = batting[batting[\"playerID\"] == \"pujolal01\"]\n",
    "\n",
    "data = pujols[pujols[\"teamID\"] == \"SLN\"][[\"playerID\", \"yearID\", \"teamID\", \"AB\", \"H\", \"2B\", \"3B\", \"HR\"]]\n",
    "\n",
    "data[\"SLG\"] = (((data[\"H\"]-data[\"2B\"]-data[\"3B\"]-data[\"HR\"]) + 2*data[\"2B\"] + 3*data[\"3B\"] + 4*data[\"HR\"])/data[\"AB\"]).round(2)\n",
    "\n",
    "slg_all = []\n",
    "\n",
    "for i in range(data.shape[0]):\n",
    "    data_all = batting[batting[\"yearID\"] == (2001+i) ][[\"playerID\", \"yearID\", \"teamID\", \"AB\", \"H\", \"2B\", \"3B\", \"HR\"]]\n",
    "    data_all[\"SLG\"] = (((data_all[\"H\"]-data_all[\"2B\"]-data_all[\"3B\"]-data_all[\"HR\"]) + \\\n",
    "        2*data_all[\"2B\"] + 3*data_all[\"3B\"] + 4*data_all[\"HR\"])/data_all[\"AB\"])\n",
    "\n",
    "    slg_all.append(data_all[\"SLG\"].mean())    \n",
    "\n",
    "data[\"League SLG\"] = slg_all\n",
    "\n",
    "fig = plt.figure(1, figsize=(6,4), dpi=100)\n",
    "ax = fig.add_subplot(111)\n",
    "ax.plot(data[\"yearID\"], data[\"SLG\"], label=\"Albert Pujols\")\n",
    "ax.plot(data[\"yearID\"], data[\"League SLG\"], label=\"League SLG\")\n",
    "ax.set_title(\"Albert Pujols' Batting Status\", fontweight='bold')\n",
    "ax.set_xlabel(\"Year\", fontweight='bold')\n",
    "ax.set_ylabel(\"SLG\", fontweight='bold')\n",
    "ax.grid(True)\n",
    "ax.legend()\n",
    "\n",
    "plt.show()\n",
    "```\n",
    "\n",
    "</details>\n",
    "\n",
    "- - -"
   ]
  },
  {
   "cell_type": "markdown",
   "metadata": {},
   "source": [
    "#### Exercise 2: calculate the **OPS+**\n",
    "\n",
    "- Please write a program that calculates the **On-base Plus Slugging Plus ($\\bold{OPS^+}$)** of all players that had played in MLB 2023 seasons.\n",
    "\n",
    "- The definitions of *Batting Average (BA)*, *On-based Percentage (OBP)*, *On-based Plus Slugging (OPS)*, and *$OPS^+$* are:\n",
    "\n",
    "$$\n",
    "\\begin{aligned}\n",
    "\n",
    "\\text{BA} &= \\frac{\\text{H}}{\\text{AB}}\\\\\n",
    "\n",
    "\\text{OBP} &= \\frac{\\text{H} + \\text{BB} + \\text{HBP}}{\\text{AB}}\\\\\n",
    "\n",
    "\\text{SLG} &= \\frac{1 \\times (\\text{H}) + 2 \\times (\\text{2B}) + 3 \\times (\\text{3B}) + 4 \\times (\\text{HR})}{\\text{AB}}\\\\\n",
    "\n",
    "\\text{OPS} &= \\text{OBP} + \\text{SLG}\\\\\n",
    "\n",
    "\\text{OPS}^+ &= 100*[\\frac{\\text{player OBP}}{\\text{league OBP}} + \\frac{\\text{player SLG}}{\\text{league SLG}} - 1]\\\\\n",
    "\n",
    "\\end{aligned}\n",
    "$$\n",
    "\n",
    "- [Your data is here.](.//data/data_batting_2021-2023.xlsx)\n",
    "\n",
    "- Please plot the result:\n",
    "\n",
    "<details><summary>Style 1</summary>\n",
    "\n",
    "<img align=\"center\" height=auto width=800px src=\"https://raw.githubusercontent.com/bruce88617/nycudopcs/main/Lectures/Lecture14/assets/exercise2_1.png\">\n",
    "\n",
    "</details>\n",
    "\n",
    "<br>\n",
    "\n",
    "<details><summary>Style 2</summary>\n",
    "\n",
    "<img align=\"center\" height=auto width=800px src=\"https://raw.githubusercontent.com/bruce88617/nycudopcs/main/Lectures/Lecture14/assets/exercise2_2.png\">\n",
    "\n",
    "</details>"
   ]
  },
  {
   "cell_type": "markdown",
   "metadata": {},
   "source": [
    "- - -\n",
    "\n",
    "<details><summary>Click here for solution</summary>\n",
    "\n",
    "```python\n",
    "import numpy as np\n",
    "import pandas as pd\n",
    "import matplotlib.pyplot as plt\n",
    "\n",
    "batting2023 = pd.read_excel(\"./data/data_batting_2021-2023.xlsx\", \"2023\")\n",
    "\n",
    "# PA >= 100\n",
    "batting2023 = batting2023[batting2023[\"PA\"] >= 100]\n",
    "\n",
    "# BA\n",
    "batting2023[\"BA\"] = batting2023[\"H\"]/batting2023[\"AB\"]\n",
    "\n",
    "# OBP\n",
    "batting2023[\"OBP\"] = (batting2023[\"H\"] + batting2023[\"BB\"] + batting2023[\"HBP\"])/batting2023[\"PA\"]\n",
    "\n",
    "# SLG\n",
    "batting2023[\"SLG\"] = (\n",
    "    (batting2023[\"H\"]-batting2023[\"2B\"]-batting2023[\"3B\"]-batting2023[\"HR\"])*1 + \\\n",
    "    batting2023[\"2B\"]*2 + batting2023[\"3B\"]*3 + batting2023[\"HR\"]*4\n",
    ")/batting2023[\"AB\"]\n",
    "    \n",
    "# OPS\n",
    "batting2023[\"OPS\"] = batting2023[\"OBP\"] + batting2023[\"SLG\"]\n",
    "\n",
    "# OPS+\n",
    "batting2023[\"OPS+\"] = 100*((batting2023[\"SLG\"]/batting2023.iloc[-1][\"SLG\"]) + (batting2023[\"OBP\"]/batting2023.iloc[-1][\"OBP\"]) - 1)\n",
    "\n",
    "# Extract data\n",
    "df = batting2023.sort_values(by=\"OPS+\", ascending=False)\n",
    "\n",
    "players, ops_plus, ba = [], [], []\n",
    "\n",
    "for i in range(5):\n",
    "    players.append(df.iloc[i][\"Name\"])\n",
    "    ops_plus.append(df.iloc[i][\"OPS+\"])\n",
    "    ba.append(df.iloc[i][\"BA\"])\n",
    "\n",
    "for i in range(15):\n",
    "    pick = np.random.randint(5, df.shape[0])\n",
    "    \n",
    "    players.append(df.iloc[pick][\"Name\"])\n",
    "    ops_plus.append(df.iloc[pick][\"OPS+\"])\n",
    "    ba.append(df.iloc[pick][\"BA\"])\n",
    "```\n",
    "\n",
    "</details>"
   ]
  },
  {
   "cell_type": "markdown",
   "metadata": {},
   "source": [
    "<details><summary>Click here for style 1</summary>\n",
    "\n",
    "```python\n",
    "fig = plt.figure(1, figsize=(12,4), dpi=100, facecolor=\"w\")\n",
    "\n",
    "ax = fig.add_subplot(111)\n",
    "\n",
    "ax.scatter(range(len(players)), ops_plus, c=\"r\")\n",
    "\n",
    "ax.plot(\n",
    "    range(len(players)), \n",
    "    np.ones((len(players),))*100, \n",
    "    'r--', \n",
    "    label=r\"League average OPS$^+$\",\n",
    ")\n",
    "\n",
    "ax.set_ylabel(r\"OPS$^+$\", color='r')\n",
    "ax.set_xticks(range(len(players)))\n",
    "ax.set_xticklabels(players, fontsize=8)\n",
    "\n",
    "for label in ax.get_xticklabels():\n",
    "    label.set_rotation(40)\n",
    "    label.set_horizontalalignment('center')\n",
    "\n",
    "ax.tick_params(axis='x', which='both', direction='inout')\n",
    "ax.tick_params(axis='y', labelcolor='r')\n",
    "\n",
    "ax2 = ax.twinx()\n",
    "ax2.scatter(range(len(players)), ba, c=\"b\")\n",
    "\n",
    "ax2.plot(\n",
    "    range(len(players)), \n",
    "    np.ones((len(players),))*batting2023.iloc[-1][\"BA\"], \n",
    "    'b--', \n",
    "    label=\"Average BA = {:.03f}\".format(batting2023.iloc[-1][\"BA\"]),\n",
    ")\n",
    "\n",
    "ax2.set_ylabel(\"BA\", color='b')\n",
    "ax2.tick_params(axis='y', labelcolor='b')\n",
    "\n",
    "fig.suptitle(r\"OPS$^+$ vs BA of players\")\n",
    "fig.legend(labelcolor='linecolor')\n",
    "# fig.savefig(\"exercise2_1.png\", bbox_inches='tight', facecolor='white')\n",
    "\n",
    "plt.show()\n",
    "```\n",
    "\n",
    "</details>"
   ]
  },
  {
   "cell_type": "markdown",
   "metadata": {},
   "source": [
    "<details><summary>Click here for style 2</summary>\n",
    "\n",
    "```python\n",
    "from mpl_toolkits.axes_grid1 import host_subplot\n",
    "\n",
    "fig2 = plt.figure(2, figsize=(12,4), dpi=100, facecolor=\"w\")\n",
    "\n",
    "host = host_subplot(111)\n",
    "par = host.twinx()\n",
    "\n",
    "host.scatter(range(len(players)), ops_plus, c=\"r\")\n",
    "par.scatter(range(len(players)), ba, c=\"b\")\n",
    "\n",
    "data1, = host.plot(\n",
    "    range(len(players)), \n",
    "    np.ones((len(players),))*100, \n",
    "    'r--', \n",
    "    label=r\"League average OPS$^+$\",\n",
    ")\n",
    "\n",
    "data2, = par.plot(\n",
    "    range(len(players)), \n",
    "    np.ones((len(players),))*batting2023.iloc[-1][\"BA\"], \n",
    "    'b--', \n",
    "    label=\"Average BA = {:.03f}\".format(batting2023.iloc[-1][\"BA\"]),\n",
    ")\n",
    "\n",
    "host.set_ylabel(r\"OPS$^+$\", color='r')\n",
    "host.set_xticks(range(len(players)))\n",
    "host.set_xticklabels(players, fontsize=8)\n",
    "\n",
    "for label in host.get_xticklabels():\n",
    "    label.set_rotation(40)\n",
    "    label.set_horizontalalignment('center')\n",
    "\n",
    "host.tick_params(axis='x', which='both', direction='inout')\n",
    "host.tick_params(axis='y', labelcolor='r')\n",
    "host.legend(labelcolor=\"linecolor\")\n",
    "\n",
    "par.set_ylabel(\"BA\", color='b')\n",
    "par.tick_params(axis='y', labelcolor='b')\n",
    "\n",
    "fig2.suptitle(r\"OPS$^+$ vs BA of players\")\n",
    "# fig2.savefig(\"exercise2_2.png\", bbox_inches='tight', facecolor='white')\n",
    "\n",
    "plt.show()\n",
    "```\n",
    "\n",
    "</details>\n",
    "\n",
    "- - -"
   ]
  },
  {
   "cell_type": "markdown",
   "metadata": {},
   "source": [
    "#### Exercise 3: calculate the **wOBA**, **wRAA**, and **wRC**\n",
    "\n",
    "- Please write a program that calculates the **weighted on-base average (wOBA)**, **weighted runs above average (wRAA)**, and **weighted Runs Created (wRC)** of all player that had played in MLB 2023 season.\n",
    "\n",
    "- [Your data is here.](.//data/data_batting_2021-2023.xlsx)\n",
    "\n",
    "- The definitions of **wOBA**, **wRAA**, and **wRC** of MLB 2023 are:\n",
    "\n",
    "$$\n",
    "\\begin{aligned}\n",
    "\\text{wOBA} &= \\frac{0.696 \\cdot \\text{uBB} + 0.726 \\cdot \\text{HBP} + 0.883 \\cdot \\text{1B}+ 1.244 \\cdot \\text{2B} + 1.569 \\cdot \\text{3B} + 2.004 \\cdot \\text{HR}}{\\text{AB} + \\text{BB} - \\text{IBB} + \\text{SF} + \\text{HBP}}\\\\\n",
    "\n",
    "\\text{uBB} &= \\text{BB} - \\text{IBB}\\\\\n",
    "\n",
    "\\text{wRC} &= (\\frac{\\text{wOBA} - \\text{league wOBA}}{\\text{wOBA scale}} + \\text{league \\(\\frac {\\text{R}}{\\text{PA}}\\)}) \\times \\text{PA}\\\\\n",
    "\n",
    "\\text{wRC} &= (\\frac{\\text{wOBA} - 0.318}{1.204} + 0.122) \\times \\text{PA}\n",
    "\n",
    "\\end{aligned}\n",
    "$$"
   ]
  },
  {
   "cell_type": "markdown",
   "metadata": {},
   "source": [
    "- Please plot the result:\n",
    "\n",
    "\n",
    "<details><summary>Style 1</summary>\n",
    "\n",
    "<img align=\"center\" height=auto width=800px src=\"https://raw.githubusercontent.com/bruce88617/nycudopcs/main/Lectures/Lecture14/assets/exercise3_1.png\">\n",
    "\n",
    "</details>\n",
    "\n",
    "<br>\n",
    "\n",
    "<details><summary>Style 2</summary>\n",
    "\n",
    "<img align=\"center\" height=auto width=800px src=\"https://raw.githubusercontent.com/bruce88617/nycudopcs/main/Lectures/Lecture14/assets/exercise3_2.png\">\n",
    "\n",
    "</details>"
   ]
  },
  {
   "cell_type": "markdown",
   "metadata": {},
   "source": [
    "- - -\n",
    "\n",
    "<details><summary>Click here for solution</summary>\n",
    "\n",
    "```python\n",
    "import numpy as np\n",
    "import pandas as pd\n",
    "import matplotlib.pyplot as plt\n",
    "\n",
    "batting2023 = pd.read_excel(\"./data/data_batting_2021-2023.xlsx\", \"2023\")\n",
    "\n",
    "# PA >= 100\n",
    "batting2023 = batting2023[batting2023[\"PA\"] >= 100]\n",
    "\n",
    "# wOBA\n",
    "batting2023[\"wOBA\"] = (\n",
    "    0.696 * (batting2023[\"BB\"] - batting2023[\"IBB\"]) + \\\n",
    "    0.726 * batting2023[\"HBP\"] + \\\n",
    "    0.883 * (batting2023[\"H\"]-batting2023[\"2B\"]-batting2023[\"3B\"]-batting2023[\"HR\"]) + \\\n",
    "    1.244 * batting2023[\"2B\"] + \\\n",
    "    1.569 * batting2023[\"3B\"] + \\\n",
    "    2.004 * batting2023[\"HR\"]\n",
    ") / (batting2023[\"AB\"] + batting2023[\"BB\"] + batting2023[\"SF\"] + batting2023[\"HBP\"] - batting2023[\"IBB\"])\n",
    "\n",
    "# wRC\n",
    "batting2023[\"wRC\"] = (\n",
    "    (batting2023[\"wOBA\"] - 0.318)/1.204 + 0.122\n",
    ") * batting2023[\"PA\"]\n",
    "\n",
    "# Extract data\n",
    "df = batting2023.sort_values(by=\"wRC\", ascending=False)\n",
    "\n",
    "players, wRCs, wOBAs = [], [], []\n",
    "\n",
    "for i in range(5):\n",
    "    players.append(df.iloc[i][\"Name\"])\n",
    "    wRCs.append(df.iloc[i][\"wRC\"])\n",
    "    wOBAs.append(df.iloc[i][\"wOBA\"])\n",
    "\n",
    "for i in range(15):\n",
    "    pick = np.random.randint(5, df.shape[0])\n",
    "    \n",
    "    players.append(df.iloc[pick][\"Name\"])\n",
    "    wRCs.append(df.iloc[pick][\"wRC\"])\n",
    "    wOBAs.append(df.iloc[pick][\"wOBA\"])\n",
    "```\n",
    "\n",
    "</details>\n",
    "\n",
    "- - -"
   ]
  },
  {
   "cell_type": "markdown",
   "metadata": {},
   "source": [
    "## Reference\n",
    "\n",
    "The data of this lecture is from [Baseball Reference](https://www.baseball-reference.com/), [FanGraphs BaseBall](https://www.fangraphs.com/), and [Kaggle.com](https://www.kaggle.com/datasets/saurabhshahane/major-league-baseball-dataset).\n"
   ]
  }
 ],
 "metadata": {
  "kernelspec": {
   "display_name": "Python 3.8.10 ('nycudopcs')",
   "language": "python",
   "name": "python3"
  },
  "language_info": {
   "codemirror_mode": {
    "name": "ipython",
    "version": 3
   },
   "file_extension": ".py",
   "mimetype": "text/x-python",
   "name": "python",
   "nbconvert_exporter": "python",
   "pygments_lexer": "ipython3",
   "version": "3.11.4"
  },
  "vscode": {
   "interpreter": {
    "hash": "5fe2e5cd560f36aa3aedf58cd7990de02027c6dec68ca092676a4258cbc93843"
   }
  }
 },
 "nbformat": 4,
 "nbformat_minor": 2
}