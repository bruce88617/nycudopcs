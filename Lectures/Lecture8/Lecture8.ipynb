{
 "cells": [
  {
   "cell_type": "markdown",
   "metadata": {},
   "source": [
    "<br />\n",
    "<br />\n",
    "\n",
    "<center><h1><b>Lecture 8</b></h1></center>\n",
    "<center><h1><b>Introduction to Object-Oriented Programming I</b></h1></center>\n",
    "\n",
    "<center><h4>Time: M56 (13:20 ~ 15:10) and R2 (09:00 ~ 09:50)</h4></center>\n",
    "<br />\n",
    "\n",
    "<center><h2>Chieh-En Lee<sup>1</sup> (李杰恩) and Chung-Hao Tien<sup>2</sup> (田仲豪)</h2></center>\n",
    "\n",
    "<center>\n",
    "<h4>{<a href=\"mailto:celee@nycu.edu.tw\">celee</a><sup>1</sup>, \n",
    "<a href=\"mailto:chtien@nycu.edu.tw\">chtien</a><sup>2</sup>}@nycu.edu.tw</h4>\n",
    "</center>\n",
    "\n",
    "<center><h3><a href=\"https://dop.nycu.edu.tw/ch/index.html\">Department of Photonics</a>, <a href=\"https://www.nycu.edu.tw/\">NYCU</a></h3></center>\n",
    "\n",
    "<br />\n",
    "<center><h5><a href=\"https://github.com/bruce88617/nycudopcs\">Introduction to Computer and Computer Science</a>, 2022 Fall</h5></center>\n"
   ]
  },
  {
   "cell_type": "markdown",
   "metadata": {},
   "source": [
    "## Last time\n",
    "\n",
    "- Modules  \n",
    "- Packages  \n",
    "- Exception   \n",
    "- Assertion  \n",
    "- Homework #6  "
   ]
  },
  {
   "cell_type": "markdown",
   "metadata": {},
   "source": [
    "## **Today**\n",
    "\n",
    "<html>\n",
    "<head>\n",
    "</head>\n",
    "<body>\n",
    "<ul>\n",
    "  <li><a href=\"#oop\">What is object-oriented programming?</a></li>\n",
    "  <li><a href=\"#class\">Class</a></li>\n",
    "  <li><a href=\"#attributes\">Attributes</a></li>\n",
    "  <li><a href=\"#ioai\">Iterable object and iterator</a></li>\n",
    "  <!-- <li><a href=\"#homework\">Homework #6</a></li> -->\n",
    "</ul>\n",
    "\n",
    "</body>"
   ]
  },
  {
   "cell_type": "markdown",
   "metadata": {},
   "source": [
    "<a id=\"oop\"></a>\n",
    "\n",
    "## **What is object-oriented programming?**  \n",
    "\n",
    "- Every object has a `data type` that **defines the kinds of things that programs can do with that object**.\n",
    "    * They have an **internal representation** through data attributes.\n",
    "    * They have an **interface** for interacting with object through methods.  \n",
    "\n",
    "- - -\n",
    "\n",
    "- For example, consider a list `L = ['a', 1, 'b', 2]`.\n",
    "    * How is this list **represented internally**?\n",
    "\n",
    "    <br>\n",
    "    <img align=\"center\" height=auto width=400px src=\"https://raw.githubusercontent.com/bruce88617/nycudopcs/main/Lectures/Lecture8/assets/fig01.png\">\n",
    "    <br>  \n",
    "\n",
    "\n",
    "    * How to **manipulate** this list?\n",
    "\n",
    "    ```python\n",
    "    L[1]\n",
    "    len(L)\n",
    "    min(L)\n",
    "    L.pop(1)\n",
    "    L.append('34567')\n",
    "    ```\n",
    "\n",
    "- - -"
   ]
  },
  {
   "cell_type": "markdown",
   "metadata": {},
   "source": [
    "<a id=\"class\"></a>\n",
    "\n",
    "## **Class**  \n",
    "\n",
    "- Create and use your own object with `class`  \n",
    "\n",
    "- Create a `class object` involves...\n",
    "    1. Define the **name**  \n",
    "    2. Define the **attributes** of this `class object`  \n",
    "    Example: `str`, `tuple`, `list`, `dict`, ...  \n",
    "<br>\n",
    "\n",
    "- Use a `class object` involves...\n",
    "    1. Create new instance for this `class object`  \n",
    "    2. Define the operations or methods for this `class object`  \n",
    "    Example: `len()`, `(95,) + (2, 7)`, `L.append(9487)`, `D.keys()`, ...  \n",
    "\n",
    "- - -\n",
    "\n",
    "#### Syntax\n",
    "\n",
    "```python\n",
    "class class_name(inheritance_object*):\n",
    "    \"\"\"Docstrings of this class object\"\"\"\n",
    "    \n",
    "    def __init__(self, optional_parameters):\n",
    "        \"\"\"Docstrings of this\"\"\"\n",
    "        <your code>\n",
    "    \n",
    "    def method1(self, optional_parameters):\n",
    "        \"\"\"Docstrings of this method\"\"\"\n",
    "        <your code>\n",
    "```\n",
    "\n",
    "- We are going to discuss the **inheritance** in the next lecture.\n"
   ]
  },
  {
   "cell_type": "code",
   "execution_count": 1,
   "metadata": {},
   "outputs": [],
   "source": [
    "import math\n",
    "\n",
    "class Point(object):\n",
    "    \"\"\"\n",
    "    Define a point in two dimensional space\n",
    "    \"\"\"\n",
    "    # Constructor\n",
    "    def __init__(self, x, y):\n",
    "        \"\"\"\n",
    "        Create instances by the constructor \"__init__\" and use \"self\" to refer to that instance\n",
    "        \"\"\"\n",
    "        self.x = x\n",
    "        self.y = y\n",
    "    \n",
    "    def __str__(self):\n",
    "        \"\"\"\n",
    "        Define how does Python react whenever a \"Point object\" encounters an operand \"print\"\n",
    "        \"\"\"\n",
    "        return \"({}, {})\".format(self.x, self.y)\n",
    "    \n",
    "    # Define what kind of operations you can do to a \"Point object\"\n",
    "    def cartesian(self): \n",
    "        \"\"\"Method 1\"\"\"\n",
    "        return (self.x, self.y)\n",
    "    \n",
    "    # Define what kind of operations you can do to a \"Point object\"\n",
    "    def polar(self):\n",
    "        \"\"\"Method 2\"\"\"\n",
    "        radius = math.sqrt(self.x**2 + self.y**2)\n",
    "        phi = math.atan2(self.y, self.x)\n",
    "        return (radius, phi)\n",
    "    \n",
    "    # Define what kind of operations you can do to a \"Point object\"\n",
    "    def distance(self, other):\n",
    "        \"\"\"Method 3\"\"\"\n",
    "        assert type(other) == Point, \"All input should be a Point object.\"\n",
    "        x_diff_sq = (self.x - other.x)**2\n",
    "        y_diff_sq = (self.y - other.y)**2\n",
    "        return math.sqrt(x_diff_sq + y_diff_sq)\n",
    "    "
   ]
  },
  {
   "cell_type": "code",
   "execution_count": 2,
   "metadata": {},
   "outputs": [
    {
     "name": "stdout",
     "output_type": "stream",
     "text": [
      "(3, 4)\n",
      "(0, 0)\n",
      "(5.0, 0.9272952180016122)\n",
      "5.0\n",
      "10.0\n"
     ]
    }
   ],
   "source": [
    "p1 = Point(3, 4)\n",
    "p2 = Point(-3, -4)\n",
    "origin = Point(0, 0)\n",
    "\n",
    "print(p1)\n",
    "print(origin)\n",
    "print(p1.polar())\n",
    "print(p1.distance(origin))\n",
    "print(p1.distance(p2))"
   ]
  },
  {
   "cell_type": "markdown",
   "metadata": {},
   "source": [
    "- - -\n",
    "\n",
    "- What will you get if you try these?\n",
    "\n",
    "```python\n",
    "p3 = Point()\n",
    "Point(1,0).polar()\n",
    "```\n",
    "\n",
    "- - -"
   ]
  },
  {
   "cell_type": "markdown",
   "metadata": {},
   "source": [
    "<a id=\"attributes\"></a>\n",
    "\n",
    "## **Attributes**  \n",
    "\n",
    "- The data and methods that **belong** to the class  \n",
    "- Instance attributes  \n",
    "    * You can think of **what kind of data will it looks like in this class**\n",
    "    Ex: a `Point` should have a Cartesian coordinate (x, y)  \n",
    "- Method attributes  \n",
    "    * You can think of **what kind of functions can be work in this class only**. The methods will define how Python interacts with the object.  \n",
    "    Ex: We can transform a `Point` from Cartesian coordinate to polar coordinate via method `polar()` we defined in `Point`.\n",
    "- Class attributes\n",
    "    * You can regard it as **the common attributes of all object that belongs to this class**.  \n",
    "\n",
    "- - -"
   ]
  },
  {
   "cell_type": "code",
   "execution_count": 3,
   "metadata": {},
   "outputs": [],
   "source": [
    "class Person:\n",
    "    num_head = 1\n",
    "\n",
    "    def __init__(self, name, height=None, weight=None, gender=None):\n",
    "        self.name = name\n",
    "        self.gender = self.set_gender(gender)\n",
    "        self.height = self.set_height(height)\n",
    "        self.weight = self.set_height(weight)\n",
    "\n",
    "    def set_gender(self, value):\n",
    "        \"\"\"Method: set_gender\"\"\"\n",
    "        if value is (\"Male\" or \"Female\"):\n",
    "            self.gender = value\n",
    "        else:\n",
    "            self.gender = \"Secret\"\n",
    "    \n",
    "    def get_gender(self):\n",
    "        \"\"\"Method: get_gender\"\"\"\n",
    "        return self.gender\n",
    "\n",
    "    def set_height(self, value):\n",
    "        \"\"\"Method: set_height\"\"\"\n",
    "        if value is not None:\n",
    "            if value <= 0:\n",
    "                raise ValueError(\"Height cannot be less than 0.\")\n",
    "            else:\n",
    "                self.height = value\n",
    "    \n",
    "    def get_height(self):\n",
    "        \"\"\"Method: get_height\"\"\"\n",
    "        return self.height\n",
    "    \n",
    "    def set_weight(self, value):\n",
    "        \"\"\"Method: set_weight\"\"\"\n",
    "        if value is not None:\n",
    "            if value <= 0:\n",
    "                raise ValueError(\"Weight cannot be less than 0.\")\n",
    "            else:\n",
    "                self.weight = value\n",
    "    \n",
    "    def get_weight(self):\n",
    "        \"\"\"Method: get_weight\"\"\"\n",
    "        return self.weight\n",
    "    "
   ]
  },
  {
   "cell_type": "code",
   "execution_count": 4,
   "metadata": {},
   "outputs": [
    {
     "name": "stdout",
     "output_type": "stream",
     "text": [
      "Height of Abigail = 60\n",
      "Height of Bruce = 80\n",
      "Height of Abigail = 60\n",
      "Height of Bruce = 80\n",
      "# of Abigail's head = 1\n",
      "# of Bruce's head = 1\n",
      "==================================================\n",
      "Height of Abigail = 175\n",
      "Height of Bruce = 185\n",
      "# of Abigail's head = 2\n",
      "# of Bruce's head = 2\n"
     ]
    }
   ],
   "source": [
    "A = Person(\"Abigail\", gender=\"Female\", height=170, weight=60)\n",
    "B = Person(\"Bruce\", gender=\"Male\", height=181, weight=80)\n",
    "\n",
    "# Instance attributes\n",
    "print(\"Height of Abigail =\", A.height)\n",
    "print(\"Height of Bruce =\", B.height)\n",
    "print(\"Height of Abigail =\", A.get_height())\n",
    "print(\"Height of Bruce =\", B.get_height())\n",
    "\n",
    "# Class attributes\n",
    "print(\"# of Abigail's head =\", A.num_head)\n",
    "print(\"# of Bruce's head =\", B.num_head)\n",
    "\n",
    "# Update\n",
    "print(\"=\"*50)\n",
    "A.set_height(175)\n",
    "B.height = 185\n",
    "print(\"Height of Abigail =\", A.get_height())\n",
    "print(\"Height of Bruce =\", B.get_height())\n",
    "Person.num_head = 2\n",
    "print(\"# of Abigail's head =\", A.num_head)\n",
    "print(\"# of Bruce's head =\", B.num_head)"
   ]
  },
  {
   "cell_type": "markdown",
   "metadata": {},
   "source": [
    "#### Some common special methods\n",
    "\n",
    "|Method|Meaning|\n",
    "|:--:|:--:|\n",
    "|`__add__`|Define how does Python react whenever this object encounters `+`|\n",
    "|`__sub__`|Define how does Python react whenever this object encounters `-`|\n",
    "|`__eq__`|Define how does Python react whenever this object encounters `==`|\n",
    "|`__lt__`|Define how does Python react whenever this object encounters `<`|\n",
    "|`__gt__`|Define how does Python react whenever this object encounters `>`|\n",
    "|`__str__`|Define how does Python react whenever this object encounters `print()`|\n",
    "|`__len__`|Define how does Python react whenever this object encounters `len()`|\n",
    "|`__iter__`|Define how does Python react whenever this object encounters `iter()`|\n",
    "|`__next__`|Define how does Python get a value while iteration|\n",
    "|`__getitem__`|Define how does Python get a value while iteration|\n",
    "\n",
    "- For more special methods, please use Google.\n"
   ]
  },
  {
   "cell_type": "markdown",
   "metadata": {},
   "source": [
    "<a id=\"ioai\"></a>\n",
    "\n",
    "## **Iterable object and iterator**  \n",
    "\n",
    "- Iterable object:\n",
    "    * An object that can be iterating is called an iterable object.\n",
    "    * For simplicity, an object that contains `__iter__` **or** `__getitem__` is an iterable object.\n",
    "- Iterator:\n",
    "    * An object that follows the [Python Iterator Protocol](https://docs.python.org/3/c-api/iter.html) is called an iterator.\n",
    "    * For simplicity, an object that contains `__iter__` **and** `__next__` is an iterator.\n",
    "\n",
    "- - -\n",
    "\n",
    "#### How to check?\n",
    "\n",
    "- Use `dir()` or `hasattr()`"
   ]
  },
  {
   "cell_type": "code",
   "execution_count": 5,
   "metadata": {},
   "outputs": [
    {
     "name": "stdout",
     "output_type": "stream",
     "text": [
      "['__add__', '__class__', '__contains__', '__delattr__', '__delitem__', '__dir__', '__doc__', '__eq__', '__format__', '__ge__', '__getattribute__', '__getitem__', '__gt__', '__hash__', '__iadd__', '__imul__', '__init__', '__init_subclass__', '__iter__', '__le__', '__len__', '__lt__', '__mul__', '__ne__', '__new__', '__reduce__', '__reduce_ex__', '__repr__', '__reversed__', '__rmul__', '__setattr__', '__setitem__', '__sizeof__', '__str__', '__subclasshook__', 'append', 'clear', 'copy', 'count', 'extend', 'index', 'insert', 'pop', 'remove', 'reverse', 'sort']\n",
      "['__class__', '__contains__', '__delattr__', '__delitem__', '__dir__', '__doc__', '__eq__', '__format__', '__ge__', '__getattribute__', '__getitem__', '__gt__', '__hash__', '__init__', '__init_subclass__', '__iter__', '__le__', '__len__', '__lt__', '__ne__', '__new__', '__reduce__', '__reduce_ex__', '__repr__', '__reversed__', '__setattr__', '__setitem__', '__sizeof__', '__str__', '__subclasshook__', 'clear', 'copy', 'fromkeys', 'get', 'items', 'keys', 'pop', 'popitem', 'setdefault', 'update', 'values']\n",
      "Now check: __iter__\n",
      "Does x have __iter__? True\n",
      "Does y have __iter__? True\n",
      "Now check: __getitem__\n",
      "Does x have __getitem__? True\n",
      "Does y have __getitem__? True\n",
      "Now check: __next__\n",
      "Does x have __next__? False\n",
      "Does y have __next__? False\n"
     ]
    }
   ],
   "source": [
    "x = [9,4,8,7]\n",
    "y = {\"0\": 87, \"5\": \"abc\", 3: \"100%\"}\n",
    "\n",
    "# Check attributes by dir()\n",
    "print(dir(x))\n",
    "print(dir(y))\n",
    "\n",
    "# Check attributes by hasattr()\n",
    "checklist = [\"__iter__\", \"__getitem__\", \"__next__\"]\n",
    "for item in checklist:\n",
    "    print(\"Now check: {}\".format(item))\n",
    "    print(\"Does x have {}?\".format(item), hasattr(x, item))\n",
    "    print(\"Does y have {}?\".format(item), hasattr(y, item))\n"
   ]
  },
  {
   "cell_type": "code",
   "execution_count": 6,
   "metadata": {},
   "outputs": [
    {
     "name": "stdout",
     "output_type": "stream",
     "text": [
      "<list_iterator object at 0x0000022803083460>\n",
      "9\n",
      "4\n",
      "==================================================\n",
      "9\n",
      "4\n",
      "8\n",
      "7\n",
      "==================================================\n",
      "8\n",
      "7\n"
     ]
    }
   ],
   "source": [
    "test = iter(x)\n",
    "print(test)\n",
    "print(test.__next__())\n",
    "print(test.__next__())\n",
    "print(\"=\"*50)\n",
    "\n",
    "for i in iter(x):\n",
    "    print(i)\n",
    "print(\"=\"*50)\n",
    "\n",
    "for i in test:\n",
    "    print(i)"
   ]
  },
  {
   "cell_type": "markdown",
   "metadata": {},
   "source": [
    "### Every time you call a for loop  \n",
    "\n",
    "<br>\n",
    "<img align=\"center\" height=auto width=900px src=\"https://raw.githubusercontent.com/bruce88617/nycudopcs/main/Lectures/Lecture8/assets/fig02.png\">\n",
    "<br>\n",
    "\n",
    "- - -"
   ]
  },
  {
   "cell_type": "markdown",
   "metadata": {},
   "source": [
    "#### Create an iterator\n",
    "\n",
    "1. Use `__iter__` and `__next__`"
   ]
  },
  {
   "cell_type": "code",
   "execution_count": 7,
   "metadata": {},
   "outputs": [],
   "source": [
    "class iterator1:\n",
    "    def __init__(self, max_num):\n",
    "        self.max_num = max_num\n",
    "        self.index = 0\n",
    "\n",
    "    def __iter__(self):\n",
    "        return self\n",
    "        \n",
    "    def __next__(self):\n",
    "        self.index += 1\n",
    "        if self.index < self.max_num:\n",
    "            return self.index\n",
    "        else:\n",
    "            raise StopIteration"
   ]
  },
  {
   "cell_type": "code",
   "execution_count": 8,
   "metadata": {},
   "outputs": [
    {
     "name": "stdout",
     "output_type": "stream",
     "text": [
      "1\n",
      "2\n",
      "3\n",
      "4\n",
      "End of testIterator1, the first time\n",
      "==================================================\n",
      "1\n",
      "2\n",
      "End of testIterator2\n",
      "==================================================\n",
      "End of testIterator1, the second time\n"
     ]
    }
   ],
   "source": [
    "testIterator1 = iterator1(5)\n",
    "for item in testIterator1:\n",
    "    print(item)\n",
    "\n",
    "print(\"End of testIterator1, the first time\")\n",
    "print(\"=\"*50)\n",
    "\n",
    "testIterator2 = iterator1(3)\n",
    "for item in testIterator2:\n",
    "    print(item)\n",
    "\n",
    "print(\"End of testIterator2\")\n",
    "print(\"=\"*50)\n",
    "\n",
    "for item in testIterator1:\n",
    "    print(item)\n",
    "\n",
    "print(\"End of testIterator1, the second time\")"
   ]
  },
  {
   "cell_type": "markdown",
   "metadata": {},
   "source": [
    "2. Use `__iter__` and **generator** (`yeild`)  "
   ]
  },
  {
   "cell_type": "code",
   "execution_count": 9,
   "metadata": {},
   "outputs": [],
   "source": [
    "class iterator2:\n",
    "    def __init__(self, max_num):\n",
    "        self.max_num = max_num\n",
    "\n",
    "    def __iter__(self):\n",
    "        num = 0             # refresh the initial value every time you invoke the iteration\n",
    "        while num <= self.max_num:\n",
    "            yield num       # output this value every loop\n",
    "            # yield str(num)+\"!@#\"\n",
    "            num += 1"
   ]
  },
  {
   "cell_type": "code",
   "execution_count": 10,
   "metadata": {},
   "outputs": [
    {
     "name": "stdout",
     "output_type": "stream",
     "text": [
      "0\n",
      "1\n",
      "2\n",
      "3\n",
      "4\n",
      "End of testIterator3, the first time\n",
      "==================================================\n",
      "0\n",
      "1\n",
      "2\n",
      "End of testIterator4\n",
      "==================================================\n",
      "0\n",
      "1\n",
      "2\n",
      "3\n",
      "4\n",
      "End of testIterator3, the second time\n"
     ]
    }
   ],
   "source": [
    "testIterator3 = iterator2(4)\n",
    "for item in testIterator3:\n",
    "    print(item)\n",
    "\n",
    "print(\"End of testIterator3, the first time\")\n",
    "print(\"=\"*50)\n",
    "\n",
    "testIterator4 = iterator2(2)\n",
    "for item in testIterator4:\n",
    "    print(item)\n",
    "\n",
    "print(\"End of testIterator4\")\n",
    "print(\"=\"*50)\n",
    "\n",
    "for item in testIterator3:\n",
    "    print(item)\n",
    "\n",
    "print(\"End of testIterator3, the second time\")"
   ]
  },
  {
   "cell_type": "markdown",
   "metadata": {},
   "source": [
    "### Brief summary\n",
    "\n",
    "1. Use `__iter__` and `__next__`\n",
    "    * If there is a method attribute `__iter__`, Python will use `iter()` to create an iterator.  \n",
    "    * If there is a method attribute `__next__`, Python will use `iter().__next__` to get value while iteration.  \n",
    "    * The index of the iteration is an instance attribute.  \n",
    "    * Need to invoke the iterator object if you want to use this iterator.  \n",
    "\n",
    "<br>  \n",
    "\n",
    "2. Use `__iter__` and **generator** (`yeild`)  \n",
    "    * If there is a method attribute `__iter__`, Python will use `iter()` to create an iterator.\n",
    "    * Although there is no method attribute `__next__`, Python can still get value via `yeild` in the method attribute `__iter__`.\n",
    "    * Because the index of the iteration is not an instance attribute, the initial value will be refreshed everytime Python invokes `iter()`.\n",
    "\n",
    "- - -"
   ]
  },
  {
   "cell_type": "markdown",
   "metadata": {},
   "source": [
    "3. Use `__getitem__`  "
   ]
  },
  {
   "cell_type": "code",
   "execution_count": 11,
   "metadata": {},
   "outputs": [],
   "source": [
    "class iterator3:\n",
    "    def __init__(self, max_num):\n",
    "        self.max_num = max_num\n",
    "\n",
    "    # Python will use __getitem__ to get the value while iteration\n",
    "    def __getitem__(self, key):\n",
    "        if key <= self.max_num:\n",
    "            return key\n",
    "        else:\n",
    "            # raise IndexError      # both can work\n",
    "            raise StopIteration   # both can work"
   ]
  },
  {
   "cell_type": "code",
   "execution_count": 12,
   "metadata": {},
   "outputs": [
    {
     "name": "stdout",
     "output_type": "stream",
     "text": [
      "0\n",
      "1\n",
      "2\n",
      "3\n",
      "4\n",
      "End of testIterator5, the first time\n",
      "==================================================\n",
      "0\n",
      "1\n",
      "2\n",
      "End of testIterator6\n",
      "==================================================\n",
      "0\n",
      "1\n",
      "2\n",
      "3\n",
      "4\n",
      "End of testIterator5, the second time\n"
     ]
    }
   ],
   "source": [
    "testIterator5 = iterator3(4)\n",
    "for item in testIterator5:\n",
    "    print(item)\n",
    "\n",
    "print(\"End of testIterator5, the first time\")\n",
    "print(\"=\"*50)\n",
    "\n",
    "testIterator6 = iterator3(2)\n",
    "for item in testIterator4:\n",
    "    print(item)\n",
    "\n",
    "print(\"End of testIterator6\")\n",
    "print(\"=\"*50)\n",
    "\n",
    "for item in testIterator5:\n",
    "    print(item)\n",
    "\n",
    "print(\"End of testIterator5, the second time\")"
   ]
  },
  {
   "cell_type": "markdown",
   "metadata": {},
   "source": [
    "### Summary\n",
    "\n",
    "1. Use `__iter__` and `__next__`\n",
    "    * If there is a method attribute `__iter__`, Python will use `iter()` to create an iterator.  \n",
    "    * If there is a method attribute `__next__`, Python will use `iter().__next__` to get value while iteration.  \n",
    "    * The index of the iteration is an instance attribute.  \n",
    "    * Need to invoke the iterator object if you want to use this iterator.  \n",
    "\n",
    "<br>  \n",
    "\n",
    "2. Use `__iter__` and **generator** (`yeild`)  \n",
    "    * If there is a method attribute `__iter__`, Python will use `iter()` to create an iterator.\n",
    "    * Although there is no method attribute `__next__`, Python can still get value via `yeild` in the method attribute `__iter__`.\n",
    "    * Because the index of the iteration is not an instance attribute, the initial value will be refreshed everytime Python invokes `iter()`.\n",
    "\n",
    "<br>  \n",
    "\n",
    "3. Use `__getitem__`  \n",
    "    * `__getitem__` requires a positional argument `key`.  \n",
    "    * Everytime you call a loop, Python will **create a number from 0 to $\\infty$** as the `key` of `__getitem__` sequentially.  \n",
    "    * Terminate the iteration when it meets the stop condition."
   ]
  }
 ],
 "metadata": {
  "kernelspec": {
   "display_name": "Python 3.8.10 ('nycudopcs')",
   "language": "python",
   "name": "python3"
  },
  "language_info": {
   "codemirror_mode": {
    "name": "ipython",
    "version": 3
   },
   "file_extension": ".py",
   "mimetype": "text/x-python",
   "name": "python",
   "nbconvert_exporter": "python",
   "pygments_lexer": "ipython3",
   "version": "3.8.10"
  },
  "orig_nbformat": 4,
  "vscode": {
   "interpreter": {
    "hash": "5fe2e5cd560f36aa3aedf58cd7990de02027c6dec68ca092676a4258cbc93843"
   }
  }
 },
 "nbformat": 4,
 "nbformat_minor": 2
}
