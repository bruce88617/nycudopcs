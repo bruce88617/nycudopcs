{
 "cells": [
  {
   "cell_type": "markdown",
   "metadata": {},
   "source": [
    "<br />\n",
    "<br />\n",
    "\n",
    "<center><h1><b>Lecture 6</b></h1></center>\n",
    "<center><h1><b>Recursion and Dictionaries</b></h1></center>\n",
    "\n",
    "<center><h4>Time: M56 (13:20 ~ 15:10) and R2 (09:00 ~ 09:50)</h4></center>\n",
    "<br />\n",
    "\n",
    "<center><h2>Chieh-En Lee (李杰恩)</h2></center>\n",
    "\n",
    "<center>\n",
    "<h4><a href=\"mailto:celee@nycu.edu.tw\">celee@nycu.edu.tw</a></h4>\n",
    "</center>\n",
    "\n",
    "<center><h3><a href=\"https://dop.nycu.edu.tw/ch/index.html\">Department of Photonics</a>, <a href=\"https://www.nycu.edu.tw/\">NYCU</a></h3></center>\n",
    "\n",
    "<br />\n",
    "<center><h5><a href=\"https://github.com/bruce88617/nycudopcs\">Introduction to Computer and Computer Science</a>, 2023 Fall</h5></center>\n"
   ]
  },
  {
   "cell_type": "markdown",
   "metadata": {},
   "source": [
    "## Last time\n",
    "\n",
    "- Tuples  \n",
    "- Lists  \n",
    "- Mutability and aliasing  \n",
    "- Cloning  "
   ]
  },
  {
   "cell_type": "markdown",
   "metadata": {},
   "source": [
    "## **Today**\n",
    "\n",
    "<html>\n",
    "<head>\n",
    "</head>\n",
    "<body>\n",
    "<ul>\n",
    "  <li><a href=\"#tag1\">Recursion</a></li>\n",
    "  <li><a href=\"#tag2\">Global variable</a></li>\n",
    "  <li><a href=\"#tag3\">Dictionaries</a></li>\n",
    "  <li><a href=\"#tag4\">Functions with multiple input arguments</a></li>\n",
    "</ul>\n",
    "\n",
    "</body>"
   ]
  },
  {
   "cell_type": "markdown",
   "metadata": {},
   "source": [
    "<a id=\"tag1\"></a>\n",
    "\n",
    "## **Recursion**  \n",
    "\n",
    "- The basic idea of recursion is **divide and conquer**\n",
    "\n",
    "<br />\n",
    "<img align=\"center\" height=400px width=auto src=\"https://raw.githubusercontent.com/bruce88617/nycudopcs/main/Lectures/Lecture06/assets/fig01.png\">\n",
    "<br />\n",
    "\n",
    "- How to implement by programming?\n",
    "    * Try to divide the original problem into small versions of the original problem\n",
    "    * In practical, write a function that calls itself\n",
    "    * Rule of thumb: **AVOID CALLING ITSELF INFINITELY**\n",
    "    * There must be 1 or more base cases in your algorithm\n",
    "\n",
    "- - -\n",
    "\n",
    "### Example I: multiplication\n",
    "\n",
    "- Multiplication can be regarded as adding itself with designate times\n",
    "\n",
    "    ```python\n",
    "    # iterative thinking\n",
    "    def multiI(x, a):\n",
    "        \"\"\"\n",
    "        x: multiplicand\n",
    "        a: multiplicator\n",
    "        \"\"\"\n",
    "        output = 0\n",
    "        for i in range(a):\n",
    "            output += x\n",
    "        return output\n",
    "\n",
    "    # recursive thinking\n",
    "    def multiR(x, a):\n",
    "        \"\"\"\n",
    "        x: multiplicand\n",
    "        a: multiplicator\n",
    "        \"\"\"\n",
    "        if a == 1:\n",
    "            return x\n",
    "        else:\n",
    "            return x + multiR(x, a-1)\n",
    "    ```\n",
    "\n",
    "    <br />\n",
    "    <img align=\"center\" height=400px width=auto src=\"https://raw.githubusercontent.com/bruce88617/nycudopcs/main/Lectures/Lecture06/assets/fig02.png\">\n",
    "    <br />\n",
    "\n",
    "- - -\n",
    "\n",
    "### Example II: factorial\n",
    "\n",
    "- The factorial (denoted or represented as $n!$) for a positive number or integer (which is denoted by $n$) is the product of all the positive numbers preceding or equivalent to $n$ (the positive integer).\n",
    "\n",
    "    ```python\n",
    "    # iterative thinking\n",
    "    def factI(n):\n",
    "        \"\"\"\n",
    "        Return n!\n",
    "        \"\"\"\n",
    "        output = 1\n",
    "        for i in range(n):\n",
    "            output *= (i+1)\n",
    "        return output\n",
    "\n",
    "    # recursive thinking\n",
    "    def factR(n):\n",
    "        \"\"\"\n",
    "        Return n!\n",
    "        \"\"\"\n",
    "        if n == 1:\n",
    "            return n\n",
    "        else:\n",
    "            return n * factR(n-1)\n",
    "    ```\n",
    "\n",
    "- - -"
   ]
  },
  {
   "cell_type": "markdown",
   "metadata": {},
   "source": [
    "### Think carefully before you programming\n",
    "\n",
    "<img align=\"center\" height=400px width=auto src=\"https://raw.githubusercontent.com/bruce88617/nycudopcs/main/Lectures/Lecture06/assets/fig03.png\">\n",
    "<br />\n",
    "\n",
    "- - -"
   ]
  },
  {
   "cell_type": "markdown",
   "metadata": {},
   "source": [
    "### Exercise I: sum of harmonic series\n",
    "\n",
    "- Please write a function called `harSum` that aims to return you the sum of a harmonic series $\\displaystyle\\sum_{k=1}^{n}\\frac{1}{k}$ \n",
    "\n",
    "- - -\n",
    "\n",
    "```python\n",
    "def harSum(n):\n",
    "    \"\"\"\n",
    "    Assume that n is a positive integer\n",
    "    Return the sum of n harmonic series\n",
    "    \"\"\"\n",
    "\n",
    "    # 自己想\n",
    "\n",
    "    return output\n",
    "```\n",
    "\n",
    "- - -\n",
    "\n",
    "- Test your function with different inputs $n$, for example, `harSum(87)`."
   ]
  },
  {
   "cell_type": "markdown",
   "metadata": {},
   "source": [
    "### Exercise II: Fibonacci number\n",
    "\n",
    "- Please write a function called `fib` that aims to return you the $n^{th}$ Fibonacci number $F_n$  \n",
    "    * Definition of Fibonacci number\n",
    "        1. $F_0 = 0$\n",
    "        2. $F_1 = 1$\n",
    "        3. $F_n = F_{n-1} + F_{n-2}$\n",
    "\n",
    "- - -\n",
    "\n",
    "```python\n",
    "def fib(n):\n",
    "    \"\"\"\n",
    "    Assume that n is a positive integer\n",
    "    Return the nth Fibonacci number\n",
    "    \"\"\"\n",
    "\n",
    "    # 自己想\n",
    "\n",
    "    return output\n",
    "```\n",
    "\n",
    "- - -\n",
    "\n",
    "- Test your function with different inputs $n$, for example, `fib(10)`."
   ]
  },
  {
   "cell_type": "markdown",
   "metadata": {},
   "source": [
    "<a id=\"tag2\"></a>\n",
    "\n",
    "## **Global variable**  \n",
    "\n",
    "- Try this\n",
    "\n",
    "```python\n",
    "for i in range(10, 40, 5):\n",
    "    print(\"F({}) is {}.\".format(i, fib(i)))\n",
    "```\n",
    "\n",
    "- Use global variable to pass the variables inside the scope of a function\n"
   ]
  },
  {
   "cell_type": "code",
   "execution_count": null,
   "metadata": {},
   "outputs": [],
   "source": [
    "def fib(n):\n",
    "    global numFibCalls\n",
    "    numFibCalls += 1\n",
    "    if n == 0:\n",
    "        return 0\n",
    "    elif n == 1:\n",
    "        return 1\n",
    "    else:\n",
    "        return fib(n-1) + fib(n-2)\n",
    "\n",
    "def testFib(n):\n",
    "    for i in range(0,n,5):\n",
    "        global numFibCalls\n",
    "        numFibCalls = 0\n",
    "        print(\"F({}) is {}.\".format(i, fib(i)))\n",
    "        print(\"# of fib calls = {} times.\".format(numFibCalls))\n",
    "\n",
    "testFib(30)"
   ]
  },
  {
   "cell_type": "markdown",
   "metadata": {},
   "source": [
    "<a id=\"tag3\"></a>\n",
    "\n",
    "## **Dictionaries**  \n",
    "\n",
    "- A non-scalar, non-sequenced, and mutable type object\n",
    "\n",
    "- Syntax: `ArbDict = {key1: value1, key2: value2, key3: value3, ...}`\n",
    "\n",
    "    ```python\n",
    "    ArbDict = {1: 123, \"1\": 456, \"Y\": \"YangMing\", \"C\": \"ChiaoTung\"}\n",
    "    ```\n",
    "\n",
    "- - -"
   ]
  },
  {
   "cell_type": "code",
   "execution_count": null,
   "metadata": {},
   "outputs": [],
   "source": [
    "ArbDict = {1: 123, \"1\": 456, \"Y\": \"YangMing\", \"C\": \"ChiaoTung\"}\n",
    "print(ArbDict[1])\n",
    "print(ArbDict[\"1\"])"
   ]
  },
  {
   "cell_type": "code",
   "execution_count": null,
   "metadata": {},
   "outputs": [],
   "source": [
    "print(ArbDict[2])"
   ]
  },
  {
   "cell_type": "code",
   "execution_count": null,
   "metadata": {},
   "outputs": [],
   "source": [
    "print(ArbDict.get(1))\n",
    "print(ArbDict.get(2))"
   ]
  },
  {
   "cell_type": "markdown",
   "metadata": {},
   "source": [
    "#### Add additional `key` to `dict`"
   ]
  },
  {
   "cell_type": "code",
   "execution_count": null,
   "metadata": {},
   "outputs": [],
   "source": [
    "ArbDict[\"NewKey\"] = 9876543210"
   ]
  },
  {
   "cell_type": "code",
   "execution_count": null,
   "metadata": {},
   "outputs": [],
   "source": [
    "# keys\n",
    "print(ArbDict.keys())\n",
    "# values\n",
    "print(ArbDict.values())\n",
    "\n",
    "# For more operations... VS code will show you"
   ]
  },
  {
   "cell_type": "code",
   "execution_count": null,
   "metadata": {},
   "outputs": [],
   "source": [
    "# Efficient function for Fibonacci number\n",
    "\n",
    "def fibEff(n, d):\n",
    "    \"\"\"\n",
    "    Assume that n is a positive integer\n",
    "    Return the nth Fibonacci number\n",
    "    \"\"\"\n",
    "    global numFibEffCalls\n",
    "    numFibEffCalls += 1\n",
    "\n",
    "    if n in d:\n",
    "        return d[n]\n",
    "    else:\n",
    "        ans = fibEff(n-1, d) + fibEff(n-2, d)\n",
    "        d[n] = ans\n",
    "        return ans\n",
    "\n",
    "\n",
    "d = {0: 0, 1: 1}\n",
    "numFibEffCalls = 0\n",
    "print(\"F({}) is {}.\".format(40, fibEff(40, d)))\n",
    "print(\"# of FibEff calls = {}\".format(numFibEffCalls))"
   ]
  },
  {
   "cell_type": "markdown",
   "metadata": {},
   "source": [
    "<a id=\"tag4\"></a>\n",
    "\n",
    "## **Function with multiple input arguments**  \n",
    "\n",
    "- If there are multiple input arguments in a function, you can use `*args` and `**kwargs` to pass multiple arguments to function.\n",
    "\n",
    "|Parameters|Description|\n",
    "|:--:|:--:|\n",
    "|`*args`|A tuple of positional arguments values.|\n",
    "|`**kwargs`|A dict of keyword arguments values.|"
   ]
  },
  {
   "cell_type": "code",
   "execution_count": null,
   "metadata": {},
   "outputs": [],
   "source": [
    "# Example for *args\n",
    "\n",
    "def test_func1(numList, *args):\n",
    "    for item in numList:\n",
    "        print(item)\n",
    "\n",
    "    print(\"args:\", args)\n",
    "\n",
    "    for item in args:\n",
    "        print(item)\n",
    "\n",
    "\n",
    "a = [9, 4, 8, 7]\n",
    "b = [8, 9, 6, 4]\n",
    "c = [\"习近平小熊维尼\", \"黨說不缺水不缺電不缺蛋不缺工不缺疫苗\"]\n",
    "d = [\"OO地區沒有勞基法\"]\n",
    "\n",
    "test_func1(a)"
   ]
  },
  {
   "cell_type": "code",
   "execution_count": null,
   "metadata": {},
   "outputs": [],
   "source": [
    "test_func1(a, b)\n",
    "\n",
    "print(\"=\"*100)\n",
    "\n",
    "test_func1(a, b, c, d)"
   ]
  },
  {
   "cell_type": "code",
   "execution_count": null,
   "metadata": {},
   "outputs": [],
   "source": [
    "# Example for **kwargs\n",
    "\n",
    "def test_func2(numList, **kwargs):\n",
    "    for item in numList:\n",
    "        print(item)\n",
    "\n",
    "    print(\"kwargs:\", kwargs)\n",
    "\n",
    "    for key in kwargs.keys():\n",
    "        print(kwargs[key])\n",
    "\n",
    "\n",
    "a = [9, 4, 8, 7]\n",
    "b = [8, 9, 6, 4]\n",
    "c = [\"习近平小熊维尼\", \"黨說不缺水不缺電不缺蛋不缺工不缺疫苗\"]\n",
    "d = [\"OO地區沒有勞基法\"]\n",
    "\n",
    "\n",
    "test_func2(\n",
    "           a, \n",
    "           item1=b, \n",
    "           item2=c, \n",
    "           item3=d,\n",
    "          )"
   ]
  },
  {
   "cell_type": "code",
   "execution_count": null,
   "metadata": {},
   "outputs": [],
   "source": [
    "# Using *args and **kwargs in the same time\n",
    "\n",
    "def test_func3(numList, *args, **kwargs):\n",
    "    for item in numList:\n",
    "        print(item)\n",
    "\n",
    "    print(\"args:\", args)\n",
    "\n",
    "    for item in args:\n",
    "        print(item)\n",
    "\n",
    "    print(\"kwargs:\", kwargs)\n",
    "\n",
    "    for key in kwargs.keys():\n",
    "        print(kwargs[key])\n",
    "\n",
    "test_func3(\n",
    "           a,\n",
    "           b,\n",
    "           item1=c,\n",
    "           item2=d,\n",
    "          )\n"
   ]
  },
  {
   "cell_type": "markdown",
   "metadata": {},
   "source": [
    "### Exercise III: sum of geometric series\n",
    "\n",
    "- Please write a function called `geoSum` that aims to return you the sum of a harmonic series $\\displaystyle\\sum_{k=1}^{n}\\frac{1}{2^k}$ \n",
    "\n",
    "- - -\n",
    "\n",
    "```python\n",
    "def geoSum(n):\n",
    "    \"\"\"\n",
    "    Assume that n is a positive integer\n",
    "    Return the sum of n geometric series\n",
    "    \"\"\"\n",
    "\n",
    "    # 自己想\n",
    "\n",
    "    return output\n",
    "```\n",
    "\n",
    "- - -\n",
    "\n",
    "- Test your function with different inputs $n$, for example, `geoSum(87)`."
   ]
  },
  {
   "cell_type": "code",
   "execution_count": null,
   "metadata": {},
   "outputs": [],
   "source": []
  }
 ],
 "metadata": {
  "kernelspec": {
   "display_name": "Python 3.8.10 ('nycudopcs')",
   "language": "python",
   "name": "python3"
  },
  "language_info": {
   "codemirror_mode": {
    "name": "ipython",
    "version": 3
   },
   "file_extension": ".py",
   "mimetype": "text/x-python",
   "name": "python",
   "nbconvert_exporter": "python",
   "pygments_lexer": "ipython3",
   "version": "3.11.4"
  },
  "orig_nbformat": 4,
  "vscode": {
   "interpreter": {
    "hash": "5fe2e5cd560f36aa3aedf58cd7990de02027c6dec68ca092676a4258cbc93843"
   }
  }
 },
 "nbformat": 4,
 "nbformat_minor": 2
}
