{
 "cells": [
  {
   "cell_type": "markdown",
   "metadata": {},
   "source": [
    "<br />\n",
    "<br />\n",
    "\n",
    "<center><h1><b>Lecture 7</b></h1></center>\n",
    "<center><h1><b>Modules, Packages, Exception, and Assertion</b></h1></center>\n",
    "\n",
    "<center><h4>Time: M56 (13:20 ~ 15:10) and R2 (09:00 ~ 09:50)</h4></center>\n",
    "<br />\n",
    "\n",
    "<center><h2>Chieh-En Lee (李杰恩)</h2></center>\n",
    "\n",
    "<center>\n",
    "<h4><a href=\"mailto:celee@nycu.edu.tw\">celee@nycu.edu.tw</a></h4>\n",
    "</center>\n",
    "\n",
    "<center><h3><a href=\"https://dop.nycu.edu.tw/ch/index.html\">Department of Photonics</a>, <a href=\"https://www.nycu.edu.tw/\">NYCU</a></h3></center>\n",
    "\n",
    "<br />\n",
    "<center><h5><a href=\"https://github.com/bruce88617/nycudopcs\">Introduction to Computer and Computer Science</a>, 2023 Fall</h5></center>\n"
   ]
  },
  {
   "cell_type": "markdown",
   "metadata": {},
   "source": [
    "## Last time\n",
    "\n",
    "- Recursion  \n",
    "- Global variable  \n",
    "- Dictionaries   \n"
   ]
  },
  {
   "cell_type": "markdown",
   "metadata": {},
   "source": [
    "## **Today**\n",
    "\n",
    "<html>\n",
    "<head>\n",
    "</head>\n",
    "<body>\n",
    "<ul>\n",
    "  <li><a href=\"#tag1\">Modules</a></li>\n",
    "  <li><a href=\"#tag2\">Packages</a></li>\n",
    "  <li><a href=\"#tag3\">Exception</a></li>\n",
    "  <li><a href=\"#tag4\">Assertion</a></li>\n",
    "  <li><a href=\"#tag5\">Argument parser</a></li>\n",
    "</ul>\n",
    "\n",
    "</body>"
   ]
  },
  {
   "cell_type": "markdown",
   "metadata": {},
   "source": [
    "<a id=\"tag1\"></a>\n",
    "\n",
    "## **Modules**  \n",
    "\n",
    "- As your program gets larger, you might want to divide them into several files that allows you to manage or maintain them conveniently.\n",
    "- To use the variables, functions, etc. in those files, you need to use a special function called `import`.\n",
    "\n",
    "- - -\n",
    "\n",
    "### Example: nycudopcs2023.py\n",
    "\n",
    "- A self-defined module\n",
    "\n",
    "    ```python\n",
    "    def youfool():\n",
    "        print(\"HoHoCheng:\")\n",
    "        print(\"    You fool!!!\")\n",
    "\n",
    "    def gossip(idx=0):\n",
    "        print(\"Something is calling me.\")\n",
    "        if idx == 0:\n",
    "            print(\"大二的某人：\")\n",
    "            print(\"    作業量太少，為了使下屆能夠充分學習Python知識，建議作業改成每日一份，且加入上機考，使同學能夠養成規律複習的習慣\")\n",
    "        elif idx == 1:\n",
    "            print(\"大二的某人：\")\n",
    "            print(\"    我覺得作業量有點少，每份homework不用多久就寫完了，希望下一屆可以出20份ＨＷ，每週練習2份作業才有充分且實在的體驗到程式的練習，讓coding能力更上一層樓。\")\n",
    "        else:\n",
    "            print(\"大二的某人：\")\n",
    "            print(\"    我覺得下次請給學弟妹更多的作業\")\n",
    "\n",
    "    student_id = [\"112514001\", \"112514002\", \"112514003\",]\n",
    "\n",
    "    print(\"This is nycudopcs.py. __name__:\", __name__)\n",
    "    ```\n",
    "\n",
    "\n"
   ]
  },
  {
   "cell_type": "code",
   "execution_count": null,
   "metadata": {},
   "outputs": [],
   "source": [
    "# import module \"nycudopcs2023\"\n",
    "import nycudopcs2023\n",
    "\n",
    "# call function in \"nycudopcs2023\"\n",
    "nycudopcs2023.youfool()\n",
    "\n",
    "# call variables in \"nycudopcs2023\"\n",
    "print(nycudopcs2023.student_id)\n",
    "\n",
    "# call another function in \"nycudopcs2023\"\n",
    "for i in range(3):\n",
    "    nycudopcs2023.gossip(idx=i)\n",
    "\n"
   ]
  },
  {
   "cell_type": "markdown",
   "metadata": {},
   "source": [
    "### Rename your module\n",
    "\n",
    "- For simplicity and convenience, you can rename the module."
   ]
  },
  {
   "cell_type": "code",
   "execution_count": null,
   "metadata": {},
   "outputs": [],
   "source": [
    "# import module \"nycudopcs2022\" as \"dopcs\"\n",
    "import nycudopcs2023 as dopcs\n",
    "\n",
    "# call functions in \"dopcs\"\n",
    "dopcs.youfool()\n",
    "\n",
    "# call variables in \"dopcs\"\n",
    "print(dopcs.student_id)"
   ]
  },
  {
   "cell_type": "markdown",
   "metadata": {},
   "source": [
    "### Import specific objects from module\n",
    "\n",
    "- You can only import some specific objects from module."
   ]
  },
  {
   "cell_type": "code",
   "execution_count": null,
   "metadata": {},
   "outputs": [],
   "source": [
    "# from module \"nycudopcs2022\" import \"youfool\" as \"yf\"\n",
    "from nycudopcs2023 import youfool as yf\n",
    "\n",
    "# call function \"yf\"\n",
    "if __name__ == \"__main__\":\n",
    "    yf()\n"
   ]
  },
  {
   "cell_type": "markdown",
   "metadata": {},
   "source": [
    "<a id=\"tag2\"></a>\n",
    "\n",
    "## **Packages**\n",
    "\n",
    "- Again, as your program gets larger, you might want to divide them into several files that allows you to manage or maintain them conveniently.\n",
    "- This time, we have multiple modules in the same directory. **Additional techniques are required for efficient management**.\n",
    "\n",
    "  ```\n",
    "  root\n",
    "    ├─ example1                 # \"example1\" package\n",
    "    |     ├─ __init__.py        # Initialization of \"example1\" package\n",
    "    |     ├─ module1.py         # Module1 in the \"example1\" package\n",
    "    |     └─ module2.py         # Module2 in the \"example1\" package\n",
    "    |\n",
    "    ├─ example2\n",
    "    |     ├─ ...\n",
    "    |\n",
    "    ├─ main_example1.py         # Main script 1\n",
    "    ├─ main_example2.py         # Main script 2\n",
    "    └─ nycudopcs2023.py\n",
    "  ```\n",
    "\n",
    "- The `__init__.py` file is required to make **Python** treat directory containing the file as **package**.\n",
    "\n",
    "- - -\n",
    "\n",
    "### Example: `Example1` package\n",
    "\n",
    "- Run this in **terminal**\n",
    "\n",
    "  ```\n",
    "  python main_example1.py\n",
    "  ```\n",
    "\n",
    "- - -"
   ]
  },
  {
   "cell_type": "code",
   "execution_count": null,
   "metadata": {},
   "outputs": [],
   "source": [
    "from example1.module1 import hello\n",
    "\n",
    "hello()"
   ]
  },
  {
   "cell_type": "code",
   "execution_count": null,
   "metadata": {},
   "outputs": [],
   "source": [
    "from example1 import module1\n",
    "\n",
    "module1.hello()\n",
    "\n",
    "print(dir(module1))\n",
    "\n",
    "print(module1.__name__)\n",
    "\n",
    "print(module1.__package__)"
   ]
  },
  {
   "cell_type": "markdown",
   "metadata": {},
   "source": [
    "#### Another way to use modules in packages (not recommended)"
   ]
  },
  {
   "cell_type": "code",
   "execution_count": null,
   "metadata": {},
   "outputs": [],
   "source": [
    "import example1\n",
    "\n",
    "example1.module1.hello()\n"
   ]
  },
  {
   "cell_type": "markdown",
   "metadata": {},
   "source": [
    "## Subpackages\n",
    "\n",
    "- Sometime, package consists of several subpackages.\n",
    "\n",
    "  ```\n",
    "  root\n",
    "    ├─ example1                 # \"example1\" package\n",
    "    |     ├─ __init__.py        # Initialization of \"example1\" package\n",
    "    |     ├─ module1.py         # Module1 in the \"example1\" package\n",
    "    |     └─ module2.py         # Module2 in the \"example1\" package\n",
    "    |\n",
    "    ├─ example2                 # \"example2\" package\n",
    "    |     ├─ sub1               # \"sub1\" sub-package\n",
    "    |     |    ├─ __init__.py   # Initialization of \"sub1\" sub-package\n",
    "    |     |    └─ moduleX.py    # ModuleX in the \"sub1\" sub-package\n",
    "    |     |\n",
    "    |     ├─ sub2               # \"sub2\" sub-package\n",
    "    |     |    ├─ __init__.py   # Initialization of \"sub2\" sub-package\n",
    "    |     |    └─ moduleY.py    # ModuleX in the \"sub2\" sub-package\n",
    "    |     |\n",
    "    |     ├─ __init__.py        # Initialization of \"example2\" package\n",
    "    |     ├─ main_sub1.py       # Main script for sub1\n",
    "    |     └─ main_sub2.py       # Main script for sub2\n",
    "    |\n",
    "    ├─ main_example1.py         # Main script 1\n",
    "    ├─ main_example2.py         # Main script 2\n",
    "    └─ nycudopcs2023.py\n",
    "  ```\n",
    "\n",
    "- - -\n",
    "\n",
    "### Example: `Example2` package\n",
    "\n",
    "- Run this in **terminal**\n",
    "\n",
    "  ```\n",
    "  python main_example2.py\n",
    "  ```\n",
    "\n",
    "- - -\n"
   ]
  },
  {
   "cell_type": "markdown",
   "metadata": {},
   "source": [
    "### Get organization\n",
    "\n",
    "- So far we have learned...\n",
    "    * Use **conditionals** to control the flow of program\n",
    "    * Use **loops** to complete the routine task\n",
    "    * Create **functions** to hide the details and simplify the program\n",
    "    * Use **modules** to store different portions of your program\n",
    "    * Use **packages** to organize your program\n",
    "\n",
    "<!-- <br /> -->\n",
    "\n",
    "- All these concepts and tools will help you deal with those computational problems, understand the programs written by other programmers, and most importantly, get yourself organized.\n"
   ]
  },
  {
   "cell_type": "markdown",
   "metadata": {},
   "source": [
    "<a id=\"tag3\"></a>\n",
    "\n",
    "## **Exception**  \n",
    "\n",
    "- When we run something like this...\n"
   ]
  },
  {
   "cell_type": "code",
   "execution_count": 6,
   "metadata": {},
   "outputs": [
    {
     "name": "stdout",
     "output_type": "stream",
     "text": [
      "1\n"
     ]
    },
    {
     "ename": "IndexError",
     "evalue": "list index out of range",
     "output_type": "error",
     "traceback": [
      "\u001b[1;31m---------------------------------------------------------------------------\u001b[0m",
      "\u001b[1;31mIndexError\u001b[0m                                Traceback (most recent call last)",
      "Cell \u001b[1;32mIn[6], line 3\u001b[0m\n\u001b[0;32m      1\u001b[0m testList \u001b[39m=\u001b[39m [\u001b[39m1\u001b[39m, \u001b[39m2\u001b[39m, \u001b[39m3\u001b[39m]\n\u001b[0;32m      2\u001b[0m \u001b[39mprint\u001b[39m(testList[\u001b[39m0\u001b[39m])\n\u001b[1;32m----> 3\u001b[0m \u001b[39mprint\u001b[39m(testList[\u001b[39m3\u001b[39;49m])\n\u001b[0;32m      4\u001b[0m \u001b[39mprint\u001b[39m(\u001b[39m\"\u001b[39m\u001b[39mThe End.\u001b[39m\u001b[39m\"\u001b[39m)\n",
      "\u001b[1;31mIndexError\u001b[0m: list index out of range"
     ]
    }
   ],
   "source": [
    "testList = [1, 2, 3]\n",
    "print(testList[0])\n",
    "print(testList[3])\n",
    "print(\"The End.\")"
   ]
  },
  {
   "cell_type": "markdown",
   "metadata": {},
   "source": [
    "### Syntax `try`/`except`\n",
    "\n",
    "- In python, you can use try/except block to avoid the program terminating itself as it encounters an error."
   ]
  },
  {
   "cell_type": "code",
   "execution_count": 7,
   "metadata": {},
   "outputs": [
    {
     "name": "stdout",
     "output_type": "stream",
     "text": [
      "1\n",
      "Index out of range!\n",
      "The End.\n"
     ]
    }
   ],
   "source": [
    "testList = [1, 2, 3]\n",
    "\n",
    "try:\n",
    "    print(testList[0])\n",
    "    print(testList[3])\n",
    "except IndexError:\n",
    "    print(\"Index out of range!\")\n",
    "\n",
    "print(\"The End.\")"
   ]
  },
  {
   "cell_type": "markdown",
   "metadata": {},
   "source": [
    "#### Common exceptions\n",
    "\n",
    "- AttributeError\n",
    "- IndexError\n",
    "- IOError\n",
    "- NameError\n",
    "- SyntaxError\n",
    "- TypeError\n",
    "- ValueError\n",
    "- ZeroDivisionError\n",
    "- ...\n",
    "\n",
    "### Trivia\n",
    "\n",
    "- Signal-to-noise ratio (SNR) is a very important criterion to quantify the performance of a system. In practical, noise always exists in every system, and the noise level might be infinitesimal in some cases.\n",
    "\n",
    "$$\n",
    "SNR = 10 \\log{\\frac{I_{signal}}{I_{noise}}}\n",
    "$$"
   ]
  },
  {
   "cell_type": "code",
   "execution_count": null,
   "metadata": {},
   "outputs": [],
   "source": [
    "import math\n",
    "\n",
    "def snr(sigLevel, nLevel):\n",
    "    try:\n",
    "        output = 10 * math.log10(sigLevel/nLevel)\n",
    "        print(\"SNR = {:.2f} dB\".format(output))\n",
    "    except ZeroDivisionError:\n",
    "        print(\"SNR = infinite\")\n",
    "    except:\n",
    "        print(\"Something is going wrong.\")\n",
    "\n",
    "snr(100, 10)\n",
    "snr(100, 0)\n"
   ]
  },
  {
   "cell_type": "markdown",
   "metadata": {},
   "source": [
    "### Exceptions as a control flow mechanism\n",
    "\n",
    "- Using exceptions for controlling flow"
   ]
  },
  {
   "cell_type": "code",
   "execution_count": null,
   "metadata": {},
   "outputs": [],
   "source": [
    "def getRatios(L1, L2):\n",
    "    \"\"\"\n",
    "    Assumes L1 and L2 are equal length lists of numbers\n",
    "    Returns a list containing the ratio of L1[i]/L2[i]\n",
    "    \"\"\"\n",
    "    ratio = []\n",
    "\n",
    "    for idx in range(len(L1)):\n",
    "        try:\n",
    "            ratio.append(L1[idx]/L2[idx])\n",
    "        except ZeroDivisionError:\n",
    "            ratio.append(float(\"NaN\"))\n",
    "        except:\n",
    "            raise ValueError(\"Something is going wrong!\")\n",
    "    \n",
    "    return ratio\n",
    "\n",
    "print(getRatios([9,5,2,7], [9,4,8,7]))\n",
    "print(getRatios([9,5,2,7], [0,4,8,7]))\n",
    "print(getRatios([9,5,2,7], [4,8,7]))"
   ]
  },
  {
   "cell_type": "code",
   "execution_count": null,
   "metadata": {},
   "outputs": [],
   "source": [
    "try:\n",
    "    print(getRatios([9,5,2,7], [9,4,8,7]))\n",
    "    print(getRatios([9,5,2,7], [0,4,8,7]))\n",
    "    print(getRatios([9,5,2,7], [4,8,7]))\n",
    "except ValueError as msg:\n",
    "    print(msg)"
   ]
  },
  {
   "cell_type": "markdown",
   "metadata": {},
   "source": [
    "### Exercise I\n",
    "\n",
    "- Implement a function that meets the specification below. Use a try/except block.  \n",
    "\n",
    "- - -\n",
    "\n",
    "```python\n",
    "def sumDigits(s):\n",
    "    \"\"\"\n",
    "    Assume s is a string\n",
    "    Return the sum of the decimal digits in s\n",
    "    For example, if s is \"n994v5\", it returns 27\n",
    "    \"\"\"\n",
    "\n",
    "    # 自己想\n",
    "\n",
    "    return output\n",
    "```\n",
    "\n",
    "- - -\n",
    "\n",
    "- Test your function with different inputs `s`, for example, `sumDigits(\"n994v5\")`."
   ]
  },
  {
   "cell_type": "markdown",
   "metadata": {},
   "source": [
    "<a id=\"tag4\"></a>\n",
    "\n",
    "## **Assertion**  \n",
    "\n",
    "- An useful tool for confirming the state of computation is as expected."
   ]
  },
  {
   "cell_type": "code",
   "execution_count": null,
   "metadata": {},
   "outputs": [],
   "source": [
    "def findGCD(n1, n2):\n",
    "    \"\"\"\n",
    "    Assumes n1 and n2 are two positive integers\n",
    "    Returns the greatest common divisor of them\n",
    "    \"\"\"\n",
    "    assert type(n1) == int and type(n2) == int\n",
    "    \n",
    "    L, S = max(n1, n2), min(n1, n2)\n",
    "    \n",
    "    if L%S == 0:\n",
    "        return S\n",
    "    else:\n",
    "        return findGCD(S, L%S)\n",
    "\n",
    "print(findGCD(36, 144))\n",
    "print(findGCD(7, 144))\n",
    "print(findGCD(3.6, 144))"
   ]
  },
  {
   "cell_type": "code",
   "execution_count": null,
   "metadata": {},
   "outputs": [],
   "source": [
    "try:\n",
    "    print(findGCD(36, 144))\n",
    "    print(findGCD(7, 144))\n",
    "    print(findGCD(3.6, 144))\n",
    "except AssertionError:\n",
    "    print(\"Something is going wrong!\")"
   ]
  },
  {
   "cell_type": "code",
   "execution_count": null,
   "metadata": {},
   "outputs": [],
   "source": [
    "def findGCD(n1, n2):\n",
    "    \"\"\"\n",
    "    Assumes n1 and n2 are two positive integers\n",
    "    Returns the greatest common divisor of them\n",
    "    \"\"\"\n",
    "    assert type(n1) == int and type(n2) == int, \"Variables n1 and n2 must be integers.\"\n",
    "    \n",
    "    L, S = max(n1, n2), min(n1, n2)\n",
    "    \n",
    "    if L%S == 0:\n",
    "        return S\n",
    "    else:\n",
    "        return findGCD(S, L%S)\n",
    "\n",
    "print(findGCD(36, 144))\n",
    "print(findGCD(7, 144))\n",
    "print(findGCD(3.6, 144))"
   ]
  },
  {
   "cell_type": "markdown",
   "metadata": {},
   "source": [
    "### Exercise II\n",
    "\n",
    "- Implement a function that meets the specification below. It should pop out an AssertionError instead of TypeError as you running the code.  \n",
    "\n",
    "- - -\n",
    "\n",
    "```python\n",
    "def findAnOdd(L):\n",
    "    \"\"\"\n",
    "    Assumes L is a list of integers\n",
    "    Returns the first odd number in L\n",
    "    Raises ValueError if L does not contain an odd number\n",
    "    \"\"\"\n",
    "\n",
    "    # 自己想\n",
    "\n",
    "    return output\n",
    "```\n",
    "\n",
    "- - -\n",
    "\n",
    "- Test your function with different inputs `L`, for example, `findAnOdd([4, \"v\"])`."
   ]
  },
  {
   "cell_type": "markdown",
   "metadata": {},
   "source": [
    "<a id=\"tag5\"></a>\n",
    "\n",
    "## **Argument parser**  \n",
    "\n",
    "- You may have a question about this:\n",
    "\n",
    "    <img align=\"center\" height=auto width=600px src=\"https://raw.githubusercontent.com/bruce88617/nycudopcs/main/Lectures/Lecture10/assets/fig4.png\">\n",
    "    <br>  \n",
    "\n",
    "- - -\n",
    "\n",
    "- How?\n",
    "\n",
    "    * Use `argparse` module\n",
    "\n",
    "\n",
    "    <br>\n",
    "    <img align=\"center\" height=auto width=600px src=\"https://raw.githubusercontent.com/bruce88617/nycudopcs/main/Lectures/Lecture10/assets/fig5.png\">\n",
    "    <br>  "
   ]
  },
  {
   "cell_type": "code",
   "execution_count": null,
   "metadata": {},
   "outputs": [],
   "source": [
    "import argparse\n",
    "from Pick.PickSys import pickStudent\n",
    "\n",
    "\n",
    "if __name__ == \"__main__\":\n",
    "    parser = argparse.ArgumentParser(description=\"NYCUDOPCS Random Pick System\")\n",
    "    parser.add_argument(\"--num\", default=3, type=int, help=\"How many student do you want to pick today? (default: 3)\")\n",
    "    parser.add_argument(\"--csv_dir\", default=\"1121-515401.csv\", type=str, help=\"Directory of CSV file\")\n",
    "\n",
    "    opt = parser.parse_args()\n",
    "\n",
    "    pickStudent(num=opt.num, path=opt.csv_dir)"
   ]
  },
  {
   "cell_type": "markdown",
   "metadata": {},
   "source": [
    "### Exercise 3: Taylor series of $\\sin$ and $\\cos$\n",
    "\n",
    "- Please write a function called `sin` that aims to return you $sin$ by Taylor series.\n",
    "\n",
    "$$\n",
    "\\sin{x} = \\sum_{k=1}^{n}{(-1)^{k}\\frac{x^{2k-1}}{(2k-1)!}}\n",
    "$$\n",
    "\n",
    "- - -\n",
    "\n",
    "```python\n",
    "def sin(x, n=100):\n",
    "\n",
    "    # 自己想\n",
    "\n",
    "    return output\n",
    "```\n",
    "\n",
    "- - -\n",
    "\n",
    "- Please write a function called `cos` that aims to return you $cos$ by Taylor series.\n",
    "\n",
    "$$\n",
    "\\cos{x} = \\sum_{k=0}^{n}{(-1)^{k}\\frac{x^{2k}}{(2k)!}}\n",
    "$$\n",
    "\n",
    "- - -\n",
    "\n",
    "```python\n",
    "def cos(x, n=100):\n",
    "\n",
    "    # 自己想\n",
    "\n",
    "    return output\n",
    "```\n",
    "\n",
    "- - -"
   ]
  }
 ],
 "metadata": {
  "kernelspec": {
   "display_name": "Python 3.8.10 ('nycudopcs')",
   "language": "python",
   "name": "python3"
  },
  "language_info": {
   "codemirror_mode": {
    "name": "ipython",
    "version": 3
   },
   "file_extension": ".py",
   "mimetype": "text/x-python",
   "name": "python",
   "nbconvert_exporter": "python",
   "pygments_lexer": "ipython3",
   "version": "3.11.4"
  },
  "orig_nbformat": 4,
  "vscode": {
   "interpreter": {
    "hash": "5fe2e5cd560f36aa3aedf58cd7990de02027c6dec68ca092676a4258cbc93843"
   }
  }
 },
 "nbformat": 4,
 "nbformat_minor": 2
}
