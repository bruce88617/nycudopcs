{
 "cells": [
  {
   "cell_type": "markdown",
   "metadata": {},
   "source": [
    "<br />\n",
    "<br />\n",
    "\n",
    "<center><h1><b>Lecture 7</b></h1></center>\n",
    "<center><h1><b>Modules, Packages, Exception, and Assertion</b></h1></center>\n",
    "\n",
    "<center><h4>Time: M56 (13:20 ~ 15:10) and R2 (09:00 ~ 09:50)</h4></center>\n",
    "<br />\n",
    "\n",
    "<center><h2>Chieh-En Lee<sup>1</sup> (李杰恩) and Chung-Hao Tien<sup>2</sup> (田仲豪)</h2></center>\n",
    "\n",
    "<center>\n",
    "<h4>{<a href=\"mailto:celee@nycu.edu.tw\">celee</a><sup>1</sup>, \n",
    "<a href=\"mailto:chtien@nycu.edu.tw\">chtien</a><sup>2</sup>}@nycu.edu.tw</h4>\n",
    "</center>\n",
    "\n",
    "<center><h3><a href=\"https://dop.nycu.edu.tw/ch/index.html\">Department of Photonics</a>, <a href=\"https://www.nycu.edu.tw/\">NYCU</a></h3></center>\n",
    "\n",
    "<br />\n",
    "<center><h5><a href=\"https://github.com/bruce88617/nycudopcs\">Introduction to Computer and Computer Science</a>, 2022 Fall</h5></center>\n"
   ]
  },
  {
   "cell_type": "markdown",
   "metadata": {},
   "source": [
    "## Last time\n",
    "\n",
    "- Recursion  \n",
    "- Global variable  \n",
    "- Dictionaries   \n",
    "- Homework #5  "
   ]
  },
  {
   "cell_type": "markdown",
   "metadata": {},
   "source": [
    "## **Today**\n",
    "\n",
    "<html>\n",
    "<head>\n",
    "</head>\n",
    "<body>\n",
    "<ul>\n",
    "  <li><a href=\"#modules\">Modules</a></li>\n",
    "  <li><a href=\"#packages\">Packages</a></li>\n",
    "  <li><a href=\"#exception\">Exception</a></li>\n",
    "  <li><a href=\"#assertion\">Assertion</a></li>\n",
    "  <li><a href=\"#homework\">Homework #6</a></li>\n",
    "</ul>\n",
    "\n",
    "</body>"
   ]
  },
  {
   "cell_type": "markdown",
   "metadata": {},
   "source": [
    "<a id=\"modules\"></a>\n",
    "\n",
    "## **Modules**  \n",
    "\n",
    "- As your program gets larger, you might want to divide them into several files that allows you to manage or maintain them conveniently.\n",
    "- To use the variables, functions, etc. in those files, you need to use a special function called `import`.\n",
    "\n",
    "- - -\n",
    "\n",
    "### Example: nycudopcs2022.py\n",
    "\n",
    "```python\n",
    "def youfool():\n",
    "    print(\"You fool!!!\")\n",
    "\n",
    "student_id = [\"111514001\", \"111514002\", \"111514003\",]\n",
    "\n",
    "```\n",
    "\n",
    "- - -\n",
    "\n",
    "<br />\n",
    "<img align=\"center\" height=auto width=600px src=\"https://raw.githubusercontent.com/bruce88617/nycudopcs/main/Lectures/Lecture7/assets/fig1.png\">\n",
    "<br />\n",
    "\n",
    "- - -\n"
   ]
  },
  {
   "cell_type": "code",
   "execution_count": null,
   "metadata": {},
   "outputs": [],
   "source": [
    "# import module \"nycudopcs2022\"\n",
    "import nycudopcs2022\n",
    "\n",
    "# call functions in \"nycudopcs2022\"\n",
    "nycudopcs2022.youfool()\n",
    "\n",
    "# call variables in \"nycudopcs2022\"\n",
    "print(nycudopcs2022.student_id)"
   ]
  },
  {
   "cell_type": "markdown",
   "metadata": {},
   "source": [
    "### Rename your module\n",
    "\n",
    "- For simplicity and convenience, you can rename the module."
   ]
  },
  {
   "cell_type": "code",
   "execution_count": null,
   "metadata": {},
   "outputs": [],
   "source": [
    "# import module \"nycudopcs2022\" as \"dopcs\"\n",
    "import nycudopcs2022 as dopcs\n",
    "\n",
    "# call functions in \"dopcs\"\n",
    "dopcs.youfool()\n",
    "\n",
    "# call variables in \"dopcs\"\n",
    "print(dopcs.student_id)"
   ]
  },
  {
   "cell_type": "markdown",
   "metadata": {},
   "source": [
    "### Import specific objects from module\n",
    "\n",
    "- You can only import some specific objects from module."
   ]
  },
  {
   "cell_type": "code",
   "execution_count": 1,
   "metadata": {},
   "outputs": [
    {
     "name": "stdout",
     "output_type": "stream",
     "text": [
      "You fool!!!\n"
     ]
    }
   ],
   "source": [
    "# from module \"nycudopcs2022\" import \"youfool\" as \"yf\"\n",
    "from nycudopcs2022 import youfool as yf\n",
    "\n",
    "# call function \"yf\"\n",
    "if __name__ == \"__main__\":\n",
    "    yf()\n"
   ]
  },
  {
   "cell_type": "markdown",
   "metadata": {},
   "source": [
    "<a id=\"packages\"></a>\n",
    "\n",
    "## **Packages**\n",
    "\n",
    "- Again, as your program gets larger, you might want to divide them into several files that allows you to manage or maintain them conveniently.\n",
    "- This time, we have multiple modules in the same directory. **Additional techniques are required for efficient management**.\n",
    "\n",
    "```\n",
    "example1\n",
    "  ├─ __init__.py        # Initialize the \"example1\" package\n",
    "  ├─ main1_example1.py  # Main script 1 of the \"example1\" package (absolute import)\n",
    "  ├─ main2_example1.py  # Main script 2 of the \"example1\" package (relative import)\n",
    "  ├─ module1.py\n",
    "  └─ module2.py\n",
    "```\n",
    "\n",
    "- The `__init__.py` file is required to make **Python** treat directory containing the file as **package**.\n",
    "\n",
    "- - -\n",
    "\n",
    "### Example: `Example1` package\n",
    "\n",
    "```\n",
    "cd Lectures\\Lecture7\n",
    "\n",
    "# absolute import\n",
    "python example1\\main1_example1.py\n",
    "python -m example1.main1_example1\n",
    "\n",
    "# relative import\n",
    "python example1\\main2_example1.py\n",
    "python -m example1.main2_example1\n",
    "```\n",
    "\n",
    "- - -"
   ]
  },
  {
   "cell_type": "markdown",
   "metadata": {},
   "source": [
    "### Example: Subpackages\n",
    "\n",
    "- Sometime, package consists of several subpackages.\n",
    "\n",
    "```\n",
    "example2\n",
    "  ├─ sub1\n",
    "  |   ├─ __init__.py              # Initialize the \"sub1\" subpackage\n",
    "  |   ├─ main_sub1.py             # Main script of the \"sub1\" subpackage\n",
    "  |   └─ moduleX.py\n",
    "  |      \n",
    "  ├─ sub2\n",
    "  |   ├─ __init__.py              # Initialize the \"sub2\" subpackage\n",
    "  |   ├─ main_sub2.py             # Main script of the \"sub2\" subpackage\n",
    "  |   └─ moduleY.py\n",
    "  |      \n",
    "  ├─ __init__.py                  # Initialize the \"example2\" package\n",
    "  ├─ main_example2.py             # Main script the \"example2\" package\n",
    "  └─ moduleZ.py\n",
    "```\n",
    "\n"
   ]
  },
  {
   "cell_type": "markdown",
   "metadata": {},
   "source": [
    "<a id=\"exception\"></a>\n",
    "\n",
    "## **Exception**  \n"
   ]
  },
  {
   "cell_type": "markdown",
   "metadata": {},
   "source": [
    "<a id=\"assertion\"></a>\n",
    "\n",
    "## **Assertion**  \n"
   ]
  },
  {
   "cell_type": "markdown",
   "metadata": {},
   "source": [
    "<a id=\"homework\"></a>\n",
    "\n",
    "## **Homework #6**  \n",
    "\n",
    "- - -\n",
    "\n",
    "### Deadline\n",
    "Due **23:59:59, one day in 2022**\n",
    "\n",
    "\n",
    "In this homework assignment, you will practice how to create your own functions by solving one of the most difficult issues in your entire life – *managing your money for something*. As you have learned all the related knowledge during the lectures (`if`, `while`, `for`, `def`, and so on…).\n",
    "\n",
    "- - -\n",
    "\n",
    "#### **Saving your money for the future, part II**\n",
    "\n",
    "- In the previous homework, we have realized that there is no chance for us to buy a luxury apartment in our entire life, even though you earn 100k per month. However, as an optimistic person,\n",
    "\n",
    "- - -\n",
    "\n",
    "### Hand in procedure  \n",
    "\n",
    "- As we had mentioned in the lecture, you should list all of your collaborators in your programs. Here is the template:\n",
    "\n",
    "```python\n",
    "\"\"\"\n",
    "Created on Sun Aug 7 01:23:45 2022\n",
    "\n",
    "@author: Xi Winnie, student ID\n",
    "\n",
    "@collaborators: Jane Doe, her student ID\n",
    "                John Doe, his student ID\n",
    "\"\"\"\n",
    "```\n",
    "\n",
    "- Please save your code as a `.py` file, where the file name should follow this format: `111A_hw#6_ID.py`\n",
    "- For example, `111A_hw#6_0180506.py`\n",
    "- Please be aware. **We are not going to accept any homework file with wrong file name or without signature**. Please double check the content of your file."
   ]
  },
  {
   "cell_type": "code",
   "execution_count": null,
   "metadata": {},
   "outputs": [],
   "source": []
  }
 ],
 "metadata": {
  "kernelspec": {
   "display_name": "Python 3.8.10 ('nycudopcs')",
   "language": "python",
   "name": "python3"
  },
  "language_info": {
   "codemirror_mode": {
    "name": "ipython",
    "version": 3
   },
   "file_extension": ".py",
   "mimetype": "text/x-python",
   "name": "python",
   "nbconvert_exporter": "python",
   "pygments_lexer": "ipython3",
   "version": "3.8.10"
  },
  "orig_nbformat": 4,
  "vscode": {
   "interpreter": {
    "hash": "5fe2e5cd560f36aa3aedf58cd7990de02027c6dec68ca092676a4258cbc93843"
   }
  }
 },
 "nbformat": 4,
 "nbformat_minor": 2
}
