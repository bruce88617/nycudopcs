{
 "cells": [
  {
   "cell_type": "markdown",
   "metadata": {},
   "source": [
    "<br />\n",
    "<br />\n",
    "\n",
    "<center><h1><b>Lecture 5</b></h1></center>\n",
    "<center><h1><b>Tuples, Lists, Mutability, Aliasing, and Cloning</b></h1></center>\n",
    "\n",
    "<center><h4>Time: M56 (13:20 ~ 15:10) and R2 (09:00 ~ 09:50)</h4></center>\n",
    "<br />\n",
    "\n",
    "<center><h2>Chieh-En Lee<sup>1</sup> (李杰恩) and Chung-Hao Tien<sup>2</sup> (田仲豪)</h2></center>\n",
    "\n",
    "<center>\n",
    "<h4>{<a href=\"mailto:celee@nycu.edu.tw\">celee</a><sup>1</sup>, \n",
    "<a href=\"mailto:chtien@nycu.edu.tw\">chtien</a><sup>2</sup>}@nycu.edu.tw</h4>\n",
    "</center>\n",
    "\n",
    "<center><h3><a href=\"https://dop.nycu.edu.tw/ch/index.html\">Department of Photonics</a>, <a href=\"https://www.nycu.edu.tw/\">NYCU</a></h3></center>\n",
    "\n",
    "<br />\n",
    "<center><h5><a href=\"https://github.com/bruce88617/nycudopcs\">Introduction to Computer and Computer Science</a>, 2022 Fall</h5></center>\n"
   ]
  },
  {
   "cell_type": "markdown",
   "metadata": {},
   "source": [
    "## Last time\n",
    "\n",
    "- Organization and hiding details  \n",
    "- Create your own functions  \n",
    "- Understand the concept of scope  \n",
    "- Homework #3  \n"
   ]
  },
  {
   "cell_type": "markdown",
   "metadata": {},
   "source": [
    "## **Today**\n",
    "\n",
    "<html>\n",
    "<head>\n",
    "</head>\n",
    "<body>\n",
    "<ul>\n",
    "  <li><a href=\"#tuple\">Tuples</a></li>\n",
    "  <li><a href=\"#list\">Lists</a></li>\n",
    "  <li><a href=\"#maa\">Mutability and aliasing</a></li>\n",
    "  <li><a href=\"#clone\">Cloning</a></li>\n",
    "  <li><a href=\"#homework\">Homework #4</a></li>\n",
    "</ul>\n",
    "\n",
    "</body>"
   ]
  },
  {
   "cell_type": "markdown",
   "metadata": {},
   "source": [
    "<a id=\"tuple\"></a>\n",
    "\n",
    "## **Tuples**  \n",
    "\n",
    "- A non-scalar type object can consist of different types of object.\n",
    "\n",
    "```python\n",
    "a = ()  # empty tuple\n",
    "b = (1, 'a', 2, 'b')\n",
    "c = (3, 'c', 4)\n",
    "```\n"
   ]
  },
  {
   "cell_type": "code",
   "execution_count": null,
   "metadata": {},
   "outputs": [],
   "source": [
    "a = ()  # empty tuple\n",
    "b = (1, 'a', 2, 'b')\n",
    "c = (3, 'c', 4)\n",
    "\n",
    "# An ordered sequence\n",
    "print(\"b[2] =\", b[2])\n",
    "# Tuple is additive\n",
    "print(('aa',) + ('bb',))\n",
    "print(a + b + c)\n",
    "# Tuple can be sliced\n",
    "print(b[1:])\n",
    "print(b[1:2])\n",
    "# Tuple has length\n",
    "print(len(b + c))\n",
    "# Tuple is immutable\n",
    "b[0] = 0"
   ]
  },
  {
   "cell_type": "markdown",
   "metadata": {},
   "source": [
    "#### Functionalities of **tuple**\n",
    "\n",
    "- Can be used to switch the values of variables\n",
    "\n",
    "```python\n",
    "x = \"倫理\"\n",
    "y = \"學術\"\n",
    "\n",
    "# Which one will return you \"學術倫理\"?\n",
    "\n",
    "# 1\n",
    "x = y\n",
    "y = x\n",
    "print(x + y)\n",
    "\n",
    "# 2 \n",
    "tmp = x\n",
    "x = y\n",
    "y = tmp\n",
    "print(x + y)\n",
    "\n",
    "# 3\n",
    "(x, y) = (y, x)\n",
    "print(x + y)\n",
    "```"
   ]
  },
  {
   "cell_type": "markdown",
   "metadata": {},
   "source": [
    "### Exercise 1\n",
    "\n",
    "- Please write a function called `findExtComDiv` that aims to find the extreme common divisors of two positive integers $(n_1, n_2)$. \n"
   ]
  },
  {
   "cell_type": "code",
   "execution_count": null,
   "metadata": {},
   "outputs": [],
   "source": [
    "def findExtComDiv(n1, n2):\n",
    "    \"\"\"\n",
    "    Assume that n1 and n2 are positive integers\n",
    "    Return the smallest common divisor of (n1, n2) that larger than 1, and the largest common divisor of (n1, n2).\n",
    "    If there is no common diviosrs, returns (None, None).\n",
    "\n",
    "    Params:\n",
    "        n1, n2: int, (n1, n2) >= 1\n",
    "        \n",
    "    Returns:\n",
    "        minVal: int or None\n",
    "        maxVal: int or None\n",
    "    \"\"\"\n",
    "\n",
    "    # 自己想\n",
    "\n",
    "    return (minVal, maxVal)"
   ]
  },
  {
   "cell_type": "markdown",
   "metadata": {},
   "source": [
    "- Test your function with different inputs $(n_1, n_2)$, for example, `findExtComDiv(94,87)`."
   ]
  },
  {
   "cell_type": "markdown",
   "metadata": {},
   "source": [
    "<a id=\"list\"></a>\n",
    "\n",
    "## **Lists**  \n",
    "\n",
    "- A non-scalar type object can consist of different types of object\n",
    "\n",
    "```python\n",
    "a = []  # empty list\n",
    "b = ['800英呎', '500英呎', '100英呎']\n",
    "c = ['降肉']\n",
    "d = ['中華路二段55號']\n",
    "```"
   ]
  },
  {
   "cell_type": "code",
   "execution_count": null,
   "metadata": {},
   "outputs": [],
   "source": [
    "a = []  # empty list\n",
    "b = ['800英呎', '500英呎', '100英呎']\n",
    "c = ['降肉']\n",
    "d = ['中華路二段55號']\n",
    "\n",
    "# An ordered sequence\n",
    "print(\"b[2] =\", b[2])\n",
    "# List is additive\n",
    "print(b + c + d)\n",
    "# List can be sliced\n",
    "print(b[:2])\n",
    "# List has length\n",
    "print(len(b + c + d))\n",
    "# List is mutable\n",
    "b.insert(2, c[0])\n",
    "print(b)\n",
    "b.insert(2, c[0])\n",
    "print(b)\n",
    "print(b+d)"
   ]
  },
  {
   "cell_type": "code",
   "execution_count": null,
   "metadata": {},
   "outputs": [],
   "source": [
    "a = []\n",
    "# append\n",
    "for i in range(10):\n",
    "    a.append(i)\n",
    "    print(\"i = {}, and a = {}\".format(i, a))\n",
    "\n",
    "print(\"=\"*60)\n",
    "\n",
    "# pop\n",
    "for i in range(3):\n",
    "    a.pop(i)\n",
    "    print(\"i = {}, and a = {}\".format(i, a))\n",
    "\n",
    "# methods\n",
    "# a.clear()"
   ]
  },
  {
   "cell_type": "markdown",
   "metadata": {},
   "source": [
    "<a id=\"maa\"></a>\n",
    "\n",
    "## **Mutability and aliasing**  \n",
    "\n",
    "```python\n",
    "# Total student list\n",
    "list1 = [\"111514001\", \"111514002\", \"111514003\", \"111514004\", \"111514005\", \"111514006\", \"111514007\", \"111514008\"]\n",
    "# Student list of computer science\n",
    "studentlist_CS = list1\n",
    "# Student list of semi-conductor physics\n",
    "studentlist_scp = list1\n",
    "# By the time of midterm, someone withdraw from the semi-conductor physics\n",
    "studentlist_scp.remove(\"111514005\")\n",
    "# Print the remaining students of semi-conductor physics\n",
    "print(\"Student list of SCP:\", studentlist_scp)\n",
    "# Print the remaining students of computer science\n",
    "print(\"Student list of CS:\", studentlist_CS)\n",
    "# Print the original student list\n",
    "print(\"Total student list:\", list1)\n",
    "```"
   ]
  },
  {
   "cell_type": "code",
   "execution_count": null,
   "metadata": {},
   "outputs": [],
   "source": [
    "# Total student list\n",
    "list1 = [\"111514001\", \"111514002\", \"111514003\", \"111514004\", \"111514005\", \"111514006\", \"111514007\", \"111514008\"]\n",
    "# Student list of computer science\n",
    "studentlist_CS = list1\n",
    "# Student list of semi-conductor physics\n",
    "studentlist_scp = list1\n",
    "# By the time of midterm, someone withdraw from the semi-conductor physics\n",
    "studentlist_scp.remove(\"111514005\")\n",
    "# Print the remaining students of semi-conductor physics\n",
    "print(\"Student list of SCP:\", studentlist_scp)\n",
    "# Print the remaining students of computer science\n",
    "print(\"Student list of CS:\", studentlist_CS)\n",
    "# Print the original student list\n",
    "print(\"Total student list:\", list1)"
   ]
  },
  {
   "cell_type": "markdown",
   "metadata": {},
   "source": [
    "<a id=\"clone\"></a>\n",
    "\n",
    "## **Cloning**  \n",
    "\n",
    "```python\n",
    "# Total student list\n",
    "list1 = [\"111514001\", \"111514002\", \"111514003\", \"111514004\", \"111514005\", \"111514006\", \"111514007\", \"111514008\"]\n",
    "# Student list of computer science\n",
    "studentlist_CS = list1.copy()\n",
    "# Student list of semi-conductor physics\n",
    "studentlist_scp = list1.copy()\n",
    "# By the time of midterm, someone withdraw from the semi-conductor physics\n",
    "studentlist_scp.remove(\"111514005\")\n",
    "# Print the remaining students of semi-conductor physics\n",
    "print(\"Student list of SCP:\", studentlist_scp)\n",
    "# Print the remaining students of computer science\n",
    "print(\"Student list of CS:\", studentlist_CS)\n",
    "# Print the original student list\n",
    "print(\"Total student list:\", list1)\n",
    "```"
   ]
  },
  {
   "cell_type": "code",
   "execution_count": 1,
   "metadata": {},
   "outputs": [
    {
     "name": "stdout",
     "output_type": "stream",
     "text": [
      "Student list of SCP: ['111514001', '111514002', '111514003', '111514004', '111514006', '111514007', '111514008']\n",
      "Student list of CS: ['111514001', '111514002', '111514003', '111514004', '111514005', '111514006', '111514007', '111514008']\n",
      "Total student list: ['111514001', '111514002', '111514003', '111514004', '111514005', '111514006', '111514007', '111514008']\n"
     ]
    }
   ],
   "source": [
    "# Total student list\n",
    "list1 = [\"111514001\", \"111514002\", \"111514003\", \"111514004\", \"111514005\", \"111514006\", \"111514007\", \"111514008\"]\n",
    "# Student list of computer science\n",
    "studentlist_CS = list1.copy()\n",
    "# Student list of semi-conductor physics\n",
    "studentlist_scp = list1.copy()\n",
    "# By the time of midterm, someone withdraw from the semi-conductor physics\n",
    "studentlist_scp.remove(\"111514005\")\n",
    "# Print the remaining students of semi-conductor physics\n",
    "print(\"Student list of SCP:\", studentlist_scp)\n",
    "# Print the remaining students of computer science\n",
    "print(\"Student list of CS:\", studentlist_CS)\n",
    "# Print the original student list\n",
    "print(\"Total student list:\", list1)"
   ]
  },
  {
   "cell_type": "markdown",
   "metadata": {},
   "source": [
    "### Exercise 2\n",
    "\n",
    "- Please write a function called `findLCM` that aims to find the least common multiple of two positive integers $(n_1, n_2)$. "
   ]
  },
  {
   "cell_type": "code",
   "execution_count": null,
   "metadata": {},
   "outputs": [],
   "source": [
    "def findLCM(n1, n2):\n",
    "    \"\"\"\n",
    "    Assume that n1 and n2 are positive integers\n",
    "    Return the least common multiple of (n1, n2) that larger than 1\n",
    "\n",
    "    Params:\n",
    "        n1, n2: int, (n1, n2) >= 1\n",
    "    Returns:\n",
    "        output: int\n",
    "    \"\"\"\n",
    "\n",
    "    # 自己想\n",
    "\n",
    "    return output"
   ]
  },
  {
   "cell_type": "markdown",
   "metadata": {},
   "source": [
    "- Test your function with different inputs $(n_1, n_2)$, for example, `findLCM(94,87)`."
   ]
  },
  {
   "cell_type": "markdown",
   "metadata": {},
   "source": [
    "<a id=\"homework\"></a>\n",
    "\n",
    "## **Homework #4**  \n",
    "\n",
    "- - -\n",
    "\n",
    "### Deadline\n",
    "Due **23:59:59, one day in 2022**\n",
    "\n",
    "\n",
    "In this homework assignment, you will practice how to create your own functions by solving one of the most difficult issues in your entire life – *managing your money for something*. As you have learned all the related knowledge during the lectures (`if`, `while`, `for`, `def`, and so on…).\n",
    "\n",
    "- - -\n",
    "\n",
    "#### **Saving your money for the future**\n",
    "\n",
    "- Assuming you have graduated from NYCU and now have a great job, your parents start to push you to buy a f***ing house for yourself. Since the current price of house in Taiwan is pretty irrational and ridiculous, you need a plan to save your down payment. In this homework, we are going to determine how long it will take to save enough money for paying the down payment.  \n",
    "    \n",
    "    * Before you start to write the code, here are some basic assumptions for this problem:\n",
    "        1. Call the cost of your target `target_price`.\n",
    "        2. Assuming the down payment is _25%_ of your target price, which leads you this result $down payment = 0.25 \\times target price$.\n",
    "        3. Assuming your monthly salary is `monthly_salary`.\n",
    "        4. Assuming you are going to dedicate a certain percentage of your monthly salary for the down payment. Call it `saving_rate`. Be careful, this number should be in decimal form, i.e. $saving rate = 0.87$ for $87 \\%$.\n",
    "        5. Call the amount that you have saved `current_savings`. You should start with $curret savings = 0$ unless you have wonderful parents or you have **“Fa Dà Cái”**.\n",
    "        6. Assuming you also invest your current savings wisely, with an annual return of `r`. In other words, your account of current savings will receive an additional money $current savings \\times \\frac{r}{12}$ at the end of each month. For simplicity, let assume $r = 0.04$.\n",
    "    \n",
    "    * Please write function called `savingPlan` that aims to calculate how many months it will take you to save up enough money for the down payment. The parameters of this function `savingPlan` should be:\n",
    "        `savingPlan`(`target_price`, `monthly_salary`, `saving_rate`)"
   ]
  },
  {
   "cell_type": "code",
   "execution_count": null,
   "metadata": {},
   "outputs": [],
   "source": [
    "def savingPlan(target_price, monthly_salary, saving_rate):\n",
    "    \"\"\"\n",
    "    Params: \n",
    "        target_price:   int, target_price >= 1\n",
    "        monthly_salary: int, monthly_salary >= 1\n",
    "        saving_rate:    float, 0 <= saving_rate <= 1\n",
    "\n",
    "    Returns:\n",
    "        target_month:   int\n",
    "        \n",
    "    \"\"\"\n",
    "    downpayment = 0.25 * target_price\n",
    "    current_saving = 0\n",
    "    annual_return_rate = 0.04\n",
    "\n",
    "    return target_month"
   ]
  },
  {
   "cell_type": "markdown",
   "metadata": {},
   "source": [
    "#### **Saving your money for the future, part II**\n",
    "\n",
    "- In the previous homework, we have realized that there is no chance for us to buy a luxury apartment in our entire life, even though you earn 100k per month. However, as an optimistic person, having a wonderful and unreal dream might keep us staying hunger and foolish. Therefore, it is our duty to fight for a better future for our family or those we cared for. As an employee, the easiest way to achieve this objective is asking your boss to raise your salary. Regarding the process of arguing with your boss, let us assume that we have already earned the welfare of raising salary in every six months:  \n",
    "\n",
    "    * Before you start to write the code, here are some basic assumptions for this problem:\n",
    "        1. All parameter is same as we defined in the previous homework.\n",
    "        2. Call your semi-annual salary raise `semi_annual_raise`. Again, it should be **a decimal number**, i.e., $semi annual raise = 0.05$ for $5\\%$.\n",
    "        3. Raise your salary by this rate in **every six months**.\n",
    "\n",
    "    * Please write function called `savingPlan2` that aims to calculate how many months it will take you to save up enough money for the down payment. The parameters of this function `savingPlan` should be:\n",
    "        `savingPlan2`(`target_price`, `monthly_salary`, `saving_rate`, `semi_annual_raise`)"
   ]
  },
  {
   "cell_type": "code",
   "execution_count": null,
   "metadata": {},
   "outputs": [],
   "source": [
    "def savingPlan2(target_price, monthly_salary, saving_rate, semi_annuam_raise):\n",
    "    \"\"\"\n",
    "    Params: \n",
    "        target_price:       int, target_price >= 0\n",
    "        monthly_salary:     int, monthly_salary >= 0\n",
    "        saving_rate:        float, 0 <= saving_rate <= 1\n",
    "        semi_annual_raise:  float, 0 <= semi_annuam_raise, raise monthly_salary after every 6 months\n",
    "                                ex. monthly_salary : Jan-10k, Feb-10k, Mar-10k, Apr-10k, May-10k, Jun-10k, Jul-10.5k ...\n",
    "    Returns:\n",
    "        target_month:       int\n",
    "\n",
    "    \"\"\"\n",
    "    downpayment = 0.25 * target_price\n",
    "    current_saving = 0\n",
    "    \n",
    "    annual_return_rate = 0.04\n",
    "    # ex. current_saving : Jan-10k, Feb-20k, Mar-30k, ... Nov-110k, Dec-124.8k\n",
    "    \n",
    "\n",
    "    return target_month"
   ]
  },
  {
   "cell_type": "markdown",
   "metadata": {},
   "source": [
    "### Hand in procedure  \n",
    "\n",
    "- As we had mentioned in the lecture, you should list all of your collaborators in your programs. Here is the template:\n",
    "\n",
    "```python\n",
    "\"\"\"\n",
    "Created on Sun Aug 7 01:23:45 2022\n",
    "\n",
    "@author: Xi Winnie, student ID\n",
    "\n",
    "@collaborators: Jane Doe, her student ID\n",
    "                John Doe, his student ID\n",
    "\"\"\"\n",
    "```\n",
    "\n",
    "- Please save your code as a `.py` file, where the file name should follow this format: `111A_hw#4_ID.py`\n",
    "- For example, `111A_hw#4_0180506.py`\n",
    "- Please be aware. **We are not going to accept any homework file with wrong file name or without signature**. Please double check the content of your file."
   ]
  }
 ],
 "metadata": {
  "kernelspec": {
   "display_name": "Python 3.8.13 ('nycudopcs')",
   "language": "python",
   "name": "python3"
  },
  "language_info": {
   "codemirror_mode": {
    "name": "ipython",
    "version": 3
   },
   "file_extension": ".py",
   "mimetype": "text/x-python",
   "name": "python",
   "nbconvert_exporter": "python",
   "pygments_lexer": "ipython3",
   "version": "3.8.13"
  },
  "orig_nbformat": 4,
  "vscode": {
   "interpreter": {
    "hash": "36a7e860988a2dec48667e36b26ba40342b60c8b09929bf881c8e93b3c5f85f1"
   }
  }
 },
 "nbformat": 4,
 "nbformat_minor": 2
}
