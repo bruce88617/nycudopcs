{
 "cells": [
  {
   "cell_type": "markdown",
   "metadata": {},
   "source": [
    "<br />\n",
    "<br />\n",
    "\n",
    "<center><h1><b>Lecture 3</b></h1></center>\n",
    "<center><h1><b>Simple Numerical Algorithms I</b></h1></center>\n",
    "\n",
    "<center><h4>Time: M56 (13:20 ~ 15:10) and R2 (09:00 ~ 09:50)</h4></center>\n",
    "<br />\n",
    "\n",
    "<center><h2>Chieh-En Lee<sup>1</sup> (李杰恩) and Chung-Hao Tien<sup>2</sup> (田仲豪)</h2></center>\n",
    "\n",
    "<center>\n",
    "<h4>{<a href=\"mailto:celee@nycu.edu.tw\">celee</a><sup>1</sup>, \n",
    "<a href=\"mailto:chtien@nycu.edu.tw\">chtien</a><sup>2</sup>}@nycu.edu.tw</h4>\n",
    "</center>\n",
    "\n",
    "<center><h3><a href=\"https://dop.nycu.edu.tw/ch/index.html\">Department of Photonics</a>, <a href=\"https://www.nycu.edu.tw/\">NYCU</a></h3></center>\n",
    "\n",
    "<br />\n",
    "<center><h5><a href=\"https://github.com/bruce88617/nycudopcs\">Introduction to Computer and Computer Science</a>, 2022 Fall</h5></center>\n"
   ]
  },
  {
   "cell_type": "markdown",
   "metadata": {},
   "source": [
    "## Last time\n",
    "\n",
    "- Environment control  \n",
    "- Virtual environment  \n",
    "- Windows Terminal  \n",
    "- Jupyter  \n",
    "- String  \n",
    "- Logistic operators  \n",
    "- Branching and conditionals\n",
    "- Iterations and loops\n",
    "- Homework #1  \n",
    "\n"
   ]
  },
  {
   "cell_type": "markdown",
   "metadata": {},
   "source": [
    "## **Today**\n",
    "\n",
    "<html>\n",
    "<head>\n",
    "</head>\n",
    "<body>\n",
    "<ul>\n",
    "  <li><a href=\"#ee\">Exhaustive enumeration</a></li>\n",
    "  <li><a href=\"#approximation\">Approximation</a></li>\n",
    "  <li><a href=\"#tccc\">The concept of computational complexity</a></li>\n",
    "  <li><a href=\"#bs\">Bisection search</a></li>\n",
    "  <li><a href=\"#dfpn\">Digression: Floating-point numbers</a></li>\n",
    "  <li><a href=\"#nrm\">Newton-Raphson method</a></li>\n",
    "  <li><a href=\"#homework\">Homework #2</a></li>\n",
    "</ul>\n",
    "\n",
    "</body>"
   ]
  },
  {
   "cell_type": "markdown",
   "metadata": {},
   "source": [
    "<a id=\"ee\"></a>\n",
    "\n",
    "## **Exhaustive enumeration**  \n",
    "\n",
    "- The fundamental of algorithms\n",
    "    1. Start with a guess\n",
    "    2. Check if the guess is the solution\n",
    "    3. If not, keep guessing until you get the solution\n",
    "\n",
    "<br />\n",
    "\n",
    "- Example: finding the **square root** of a perfect square number $x$\n",
    "    1. Start with a guess $g$\n",
    "    2. If $g \\times g$ is close enough to $x$, stop and say that $g$ is the answer\n",
    "    3. Otherwise create a new guess $g = g + 1$\n",
    "    4. Repeat the process until close enough\n",
    "    \n"
   ]
  },
  {
   "cell_type": "code",
   "execution_count": 2,
   "metadata": {},
   "outputs": [
    {
     "name": "stdout",
     "output_type": "stream",
     "text": [
      "The square root of 90003169 is 9487.\n"
     ]
    }
   ],
   "source": [
    "# Find the square root of a perfect square number\n",
    "x = int(input(\"Please enter an integer: \"))\n",
    "# Start with a guess\n",
    "g = 0\n",
    "while g**2 < x:\n",
    "    g += 1\n",
    "# Check the result\n",
    "if g**2 != x:\n",
    "    print(x, \"is not a perfect square number.\")\n",
    "else:\n",
    "    print(\"The square root of {} is {}.\".format(x, g))\n"
   ]
  },
  {
   "cell_type": "markdown",
   "metadata": {},
   "source": [
    "### Exercise\n",
    "\n",
    "- Finding the **cube root** of a perfect cube $x$\n",
    "- Here is your instruction:\n",
    "    1. Start with a guess $g$\n",
    "    2. If $g^3$ is close enough to $x$, stop and say that $g$ is the answer\n",
    "    3. Otherwise create a new guess $g = g + 1$\n",
    "    4. Repeat the process until close enough\n",
    "- Try these two numbers:\n",
    "    1. 786,330,467  \n",
    "    2. 853,860,064,303  \n"
   ]
  },
  {
   "cell_type": "markdown",
   "metadata": {},
   "source": [
    "<a id=\"approximation\"></a>\n",
    "\n",
    "## **Approximation**  \n",
    "\n",
    "- Aims to find a \"good enough\" solution  \n",
    "    1. Start with a guess $g$\n",
    "    2. Define an acceptable minimum deviation $\\epsilon$\n",
    "    2. Check if the guess is “close enough” to solution\n",
    "    3. Otherwise create a new guess by $g = g + \\epsilon^2$\n",
    "    4. Repeat the process until close enough\n",
    "\n"
   ]
  },
  {
   "cell_type": "code",
   "execution_count": 4,
   "metadata": {},
   "outputs": [
    {
     "name": "stdout",
     "output_type": "stream",
     "text": [
      "Failed on finding the square root of 0.04\n",
      "# of guesses = 400\n"
     ]
    }
   ],
   "source": [
    "# Find the square root of an arbitrary number\n",
    "x = float(input(\"Please enter an integer: \"))\n",
    "# Start with a guess\n",
    "g = 0.0\n",
    "# Define minimum deviation\n",
    "epsilon = 0.01\n",
    "# Step\n",
    "step = epsilon**2\n",
    "numGuesses = 0\n",
    "\n",
    "while abs(g**2 - x) >= epsilon and g <= x:\n",
    "    g += step\n",
    "    numGuesses += 1\n",
    "# Check the result\n",
    "if abs(g**2 - x) >= epsilon:\n",
    "    print(\"Failed on finding the square root of {:.2f}\".format(x))\n",
    "else:\n",
    "    print(\"{:.4f} is close to the square root of {:.2f}\".format(g, x))\n",
    "# How many steps do we have?\n",
    "print(\"# of guesses = {}\".format(numGuesses))\n"
   ]
  },
  {
   "cell_type": "markdown",
   "metadata": {},
   "source": [
    "### The blindside of exhaustive enumeration\n",
    "\n",
    "- Exhaustive enumeration only works when the set of value being searched includes the answer\n",
    "- Try any number less than **1**, e.g. **0.04**  \n",
    "\n",
    "<br />\n",
    "<img align=\"center\" height=auto width=900px src=\"https://raw.githubusercontent.com/bruce88617/nycudopcs/main/Lectures/Lecture3/assets/fig1.png\">\n",
    "<br />\n"
   ]
  },
  {
   "cell_type": "markdown",
   "metadata": {},
   "source": [
    "<a id=\"tccc\"></a>\n",
    "\n",
    "## **The concept of computational complexity**  \n",
    "\n",
    "- How many guesses do our program need to find an approximated solution?\n",
    "\n",
    "<br />\n",
    "<img align=\"center\" height=auto width=900px src=\"https://raw.githubusercontent.com/bruce88617/nycudopcs/main/Lectures/Lecture3/assets/fig2.png\">\n",
    "<br />\n",
    "\n"
   ]
  },
  {
   "cell_type": "markdown",
   "metadata": {},
   "source": [
    "<a id=\"bs\"></a>\n",
    "\n",
    "## **Bisection search**  \n",
    "\n",
    "- Divide the searching domain into half after each iteration\n",
    "- An efficient way to search the answer\n",
    "\n",
    "<br />\n",
    "<img align=\"center\" height=auto width=900px src=\"https://raw.githubusercontent.com/bruce88617/nycudopcs/main/Lectures/Lecture3/assets/fig3.png\">\n",
    "<br />\n"
   ]
  },
  {
   "cell_type": "code",
   "execution_count": 2,
   "metadata": {},
   "outputs": [
    {
     "name": "stdout",
     "output_type": "stream",
     "text": [
      "Current search region: [0.0000, 1.0000]\n",
      "Current search region: [0.0000, 0.5000]\n",
      "Current search region: [0.0000, 0.2500]\n",
      "Current search region: [0.1250, 0.2500]\n",
      "Current search region: [0.1875, 0.2500]\n",
      "Current search region: [0.1875, 0.2188]\n",
      "Current search region: [0.1875, 0.2031]\n",
      "0.1992 is close to the square root of 0.04\n",
      "# of guesses = 7\n"
     ]
    }
   ],
   "source": [
    "# Example of bisection search\n",
    "x = float(input(\"Please enter an integer: \"))\n",
    "# Define minimum deviation\n",
    "epsilon = 0.01\n",
    "# Set searching region\n",
    "lower_bnd = 0.0\n",
    "upper_bnd = max(1., x)\n",
    "# Start with a guess\n",
    "g = (upper_bnd + lower_bnd)/2\n",
    "numGuesses = 0\n",
    "\n",
    "while abs(g**2 - x) >= epsilon:\n",
    "    print(\"Current search region: [{:.4f}, {:.4f}]\".format(lower_bnd, upper_bnd))\n",
    "    numGuesses += 1\n",
    "    # bisection search\n",
    "    if g**2 < x:\n",
    "        lower_bnd = g\n",
    "    else:\n",
    "        upper_bnd = g\n",
    "    # define a new searching region\n",
    "    g = (upper_bnd + lower_bnd)/2\n",
    "\n",
    "# Check the result\n",
    "if abs(g**2 - x) >= epsilon:\n",
    "    print(\"Failed on finding the square root of {:.2f}\".format(x))\n",
    "else:\n",
    "    print(\"{:.4f} is close to the square root of {:.2f}\".format(g, x))\n",
    "# How many steps do we have?\n",
    "print(\"# of guesses = {}\".format(numGuesses))\n",
    "\n"
   ]
  },
  {
   "cell_type": "markdown",
   "metadata": {},
   "source": [
    "<center><h4><b>Now you should realize what is your homework?</b></h4></center>"
   ]
  },
  {
   "cell_type": "markdown",
   "metadata": {},
   "source": [
    "<a id=\"dfpn\"></a>\n",
    "\n",
    "## **Digression: Floating-point numbers**  \n",
    "\n",
    "- Something you should know\n",
    "- Try this  \n",
    "\n",
    "```python\n",
    "x = 0.\n",
    "for i in range(10):\n",
    "    x += 0.1\n",
    "if x == 1.:\n",
    "    print(x, \"= 1.0\")\n",
    "else:\n",
    "    print(x, \"!= 1.0\")\n",
    "```\n",
    "\n",
    "<h4><b>>>> 你的1不是1</b></h4>\n",
    "\n"
   ]
  },
  {
   "cell_type": "code",
   "execution_count": 1,
   "metadata": {},
   "outputs": [
    {
     "name": "stdout",
     "output_type": "stream",
     "text": [
      "0.9999999999999999 != 1.0\n",
      "1.4142135623730951\n"
     ]
    }
   ],
   "source": [
    "x = 0.\n",
    "for i in range(10):\n",
    "    x += 0.1\n",
    "if x == 1.:\n",
    "    print(x, \"= 1.0\")\n",
    "else:\n",
    "    print(x, \"!= 1.0\")\n",
    "\n",
    "print(2**.5)"
   ]
  },
  {
   "cell_type": "markdown",
   "metadata": {},
   "source": [
    "### Floating-point numbers\n",
    "\n",
    "#### Numbers in decimal system  \n",
    "\n",
    "- Mantissa, exponent, and sign\n",
    "\n",
    "<img align=\"center\" height=100px width=auto src=\"https://raw.githubusercontent.com/bruce88617/nycudopcs/main/Lectures/Lecture3/assets/fig4.png\">\n",
    "<br />\n",
    "\n",
    "- General form\n",
    "\n",
    "<img align=\"center\" height=100px width=auto src=\"https://raw.githubusercontent.com/bruce88617/nycudopcs/main/Lectures/Lecture3/assets/fig5.png\">\n",
    "<br />\n",
    "\n",
    "#### Approximation and precision  \n",
    "\n",
    "- Single-precision floating-point number\n",
    "\n",
    "<img align=\"center\" height=auto width=600px src=\"https://raw.githubusercontent.com/bruce88617/nycudopcs/main/Lectures/Lecture3/assets/fig6.png\">\n",
    "<br />\n",
    "\n",
    "- Double-precision floating-point number  \n",
    "\n",
    "<img align=\"center\" height=auto width=600px src=\"https://raw.githubusercontent.com/bruce88617/nycudopcs/main/Lectures/Lecture3/assets/fig7.png\">\n",
    "<br />\n",
    "\n",
    "- Binary numbers: base-2 numbers\n",
    "    1. $(10100110)_2 = 0 \\times 2^0 + 1 \\times 2^1 + 1 \\times 2^2 + ... + 1 \\times 2^5 + ... + 1 \\times 2^7 = (166)_{10}$\n",
    "    2. $(1.1101)_2 = 1 \\times 2^0 + 1 \\times 2^{-1} + 1 \\times 2^{-2} + 0 \\times 2^{-3} + 1 \\times 2^{-4} = (1.8125)_{10}$\n",
    "\n",
    "<br />\n",
    "  \n",
    "- General form of floating-point number: $\\pm (1.mantissa) \\times 2^{exponent}$\n",
    "    \n"
   ]
  },
  {
   "cell_type": "markdown",
   "metadata": {},
   "source": [
    "<a id=\"nrm\"></a>\n",
    "\n",
    "## **Newton-Raphson method**  \n",
    "\n",
    "- A simple and iconic technique for optimization problem (searching the local extreme values)\n",
    "- For example: finding a square root of an arbitrary number $t$\n",
    "    1. It is equivalent to find the solution of this equation: $f(x) = x^2 - t = 0$\n",
    "    2. The solution can be found iteratively via $x_{n+1} = x_{n} - \\frac{f(x_{n})}{f'({x_{n})}} $\n",
    "- Gradient descent algorithm"
   ]
  },
  {
   "cell_type": "code",
   "execution_count": 1,
   "metadata": {},
   "outputs": [
    {
     "name": "stdout",
     "output_type": "stream",
     "text": [
      "# of guesses: 3\n",
      "0.9333 is close enough to the square root of 0.87.\n"
     ]
    }
   ],
   "source": [
    "# Example of Newton-Raphson method\n",
    "# Find the square root of an arbitrary number\n",
    "t = float(input(\"Please enter an integer: \"))\n",
    "# Start with a guess\n",
    "ans = t/2\n",
    "# Define minimum deviation\n",
    "epsilon = 0.01\n",
    "numGuesses = 0\n",
    "\n",
    "while abs(ans**2 - t) >= epsilon:\n",
    "    numGuesses += 1\n",
    "    ans = ans - (ans**2 - t) / (2*ans)\n",
    "\n",
    "print(\"# of guesses: {}\".format(numGuesses))\n",
    "print(\"{:0.4f} is close enough to the square root of {}.\".format(ans, t))"
   ]
  },
  {
   "cell_type": "markdown",
   "metadata": {},
   "source": [
    "<a id=\"homework\"></a>\n",
    "\n",
    "## **Homework #2**  \n",
    "\n",
    "- - -\n",
    "\n",
    "### Deadline\n",
    "Due **23:59:59, one day in 2022**\n",
    "\n",
    "- - -\n",
    "\n",
    "- In this homework assignment, you will practice how to solve some simple numerical problems by writing some simple programs. As you have learned all the related knowledge during the lectures (if, while, for, exhaustive search, and so on…).\n",
    "\n",
    "    1. Let `s` be a string that contains a sequence of decimal numbers separated by commas, e.g., `s=\"4.99,3.2,5.487,0.18\"`. Please write a program that prints the sum of numbers in string `s`.\n",
    "\n",
    "    2. We have already illustrated how to find a *cube root* via **exhaustive enumeration** during the class, yet we never demonstrate how to find a *cube root* via **bisection search** or **Newton-Raphson method**. It is time for you to complete our unaccomplished duty. __Please write a program that asks users to type in one arbitrary number and print out the corresponding cube root based on the concepts of **bisection search** and **Newton-Raphson method**.__ You should also print out how much iterations (guesses) your program takes for searching the solution based on these two methods as well.\n",
    "\n",
    "    3. **(Optional)** Solving the roots of an equation had been bothering us during our high-school time. Most of the high-school students in Taiwan has dedicated their passion for learning so many techniques in order to find those lovely roots. Fortunately, you had already started to learn some powerful tools for solving the roots of equations since you graduated from high school. This is a great chance for you to forget those dispensable techniques and start to utilize all these efficient tools around you.  \n",
    "    Please write a program that can solve the equation as following:  \n",
    "\n",
    "        $ \\cos⁡^2{x} - x^3 = 0 $  \n",
    "    \n",
    "        You may wonder how to calculate the “cosine” function in Python. Well, try to figure it out by yourself. That’s why this problem is a bonus.\n",
    "\n",
    "- - -\n",
    "\n",
    "### Hand in procedure  \n",
    "\n",
    "- As we had mentioned in the lecture, you should list all of your collaborators in your programs. Here is the template:\n",
    "\n",
    "```python\n",
    "\"\"\"\n",
    "Created on Sun Aug 7 01:23:45 2022\n",
    "\n",
    "@author: Xi Winnie, student ID\n",
    "\n",
    "@collaborators: Jane Doe, her student ID\n",
    "                John Doe, his student ID\n",
    "\"\"\"\n",
    "```\n",
    "\n",
    "- Please save your code as a `.py` file, where the file name should follow this format: `111A_hw#2_ID.py`\n",
    "- For example, `111A_hw#2_0180506.py`\n",
    "- Please be aware. **We are not going to accept any homework file with wrong file name or without signature**. Please double check the content of your file."
   ]
  }
 ],
 "metadata": {
  "kernelspec": {
   "display_name": "Python 3.8.13 ('nycudopcs')",
   "language": "python",
   "name": "python3"
  },
  "language_info": {
   "codemirror_mode": {
    "name": "ipython",
    "version": 3
   },
   "file_extension": ".py",
   "mimetype": "text/x-python",
   "name": "python",
   "nbconvert_exporter": "python",
   "pygments_lexer": "ipython3",
   "version": "3.8.13"
  },
  "orig_nbformat": 4,
  "vscode": {
   "interpreter": {
    "hash": "36a7e860988a2dec48667e36b26ba40342b60c8b09929bf881c8e93b3c5f85f1"
   }
  }
 },
 "nbformat": 4,
 "nbformat_minor": 2
}
