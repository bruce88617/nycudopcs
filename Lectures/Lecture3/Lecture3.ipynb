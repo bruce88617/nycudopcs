{
 "cells": [
  {
   "cell_type": "markdown",
   "metadata": {},
   "source": [
    "<br />\n",
    "<br />\n",
    "\n",
    "<center><h1><b>Lecture 3</b></h1></center>\n",
    "<center><h1><b>Simple Numerical Algorithms I</b></h1></center>\n",
    "\n",
    "<center><h4>Time: 1EF (13:20 ~ 15:10) and 4B (09:00 ~ 09:50)</h4></center>\n",
    "<br />\n",
    "\n",
    "<center><h2>Chieh-En Lee<sup>1</sup> (李杰恩) and Chung-Hao Tien<sup>2</sup> (田仲豪)</h2></center>\n",
    "\n",
    "<center>\n",
    "<h4>{<a href=\"mailto:celee@nycu.edu.tw\">celee</a><sup>1</sup>, \n",
    "<a href=\"mailto:chtien@nycu.edu.tw\">chtien</a><sup>2</sup>}@nycu.edu.tw</h4>\n",
    "</center>\n",
    "\n",
    "<center><h3><a href=\"https://dop.nycu.edu.tw/ch/index.html\">Department of Photonics, NYCU</h3></center>\n",
    "\n",
    "<br />\n",
    "<center><h5><a href=\"https://github.com/bruce88617/nycudopcs\">Introduction to Computer and Computer Science, 2022 Fall</h5></center>"
   ]
  },
  {
   "cell_type": "markdown",
   "metadata": {},
   "source": [
    "## Last time\n",
    "\n",
    "- Environment control  \n",
    "- Virtual environment  \n",
    "- Windows Terminal  \n",
    "- Jupyter  \n",
    "- String  \n",
    "- Logistic operators  \n",
    "- Branching and conditionals\n",
    "- Iterations and loops\n",
    "- Homework #1  \n",
    "\n"
   ]
  },
  {
   "cell_type": "markdown",
   "metadata": {},
   "source": [
    "## **Today**\n",
    "\n",
    "<html>\n",
    "<head>\n",
    "</head>\n",
    "<body>\n",
    "<ul>\n",
    "  <li><a href=\"#ee\">Exhaustive enumeration</a></li>\n",
    "  <li><a href=\"#approximation\">Approximation</a></li>\n",
    "  <li><a href=\"#tccc\">The concept of computational complexity</a></li>\n",
    "  <li><a href=\"#bs\">Bisection search</a></li>\n",
    "  <li><a href=\"#dfpn\">Digression: Floating-point numbers</a></li>\n",
    "  <li><a href=\"#nrm\">Newton-Raphson method</a></li>\n",
    "  <li><a href=\"#homework\">Homework #2</a></li>\n",
    "</ul>\n",
    "\n",
    "</body>"
   ]
  },
  {
   "cell_type": "markdown",
   "metadata": {},
   "source": [
    "<a id=\"ee\"></a>\n",
    "\n",
    "## **Exhaustive enumeration**  \n",
    "\n",
    "- The fundamental of algorithms\n",
    "    1. Start with a guess\n",
    "    2. Check if the guess if the solution\n",
    "    3. If not, keep guessing until you get the solution\n",
    "\n",
    "<br />\n",
    "\n",
    "- Example: finding the **square root** of a perfect square number $x$\n",
    "    1. Start with a guess $g$\n",
    "    2. If $g \\times g$ is close enough to $x$, stop and say that $g$ is the answer\n",
    "    3. Otherwise create a new guess $g = g + 1$\n",
    "    4. Repeat the process until close enough\n",
    "    \n"
   ]
  },
  {
   "cell_type": "code",
   "execution_count": 2,
   "metadata": {},
   "outputs": [
    {
     "name": "stdout",
     "output_type": "stream",
     "text": [
      "The square root of 90003169 is 9487.\n"
     ]
    }
   ],
   "source": [
    "# Find the square root of a perfect square number\n",
    "x = int(input(\"Please enter an integer: \"))\n",
    "# Start with a guess\n",
    "g = 0\n",
    "while g**2 < x:\n",
    "    g += 1\n",
    "# Check the result\n",
    "if g**2 != x:\n",
    "    print(x, \"is not a perfect square number.\")\n",
    "else:\n",
    "    print(\"The square root of {} is {}.\".format(x, g))\n"
   ]
  },
  {
   "cell_type": "markdown",
   "metadata": {},
   "source": [
    "### Exercise\n",
    "\n",
    "- Finding the **cube root** of a perfect cube $x$\n",
    "- Here is your instruction:\n",
    "    1. Start with a guess $g$\n",
    "    2. If $g^3$ is close enough to $x$, stop and say that $g$ is the answer\n",
    "    3. Otherwise create a new guess $g = g + 1$\n",
    "    4. Repeat the process until close enough\n",
    "- Try these two numbers:\n",
    "    1. 786,330,467  \n",
    "    2. 853,860,064,303  \n"
   ]
  },
  {
   "cell_type": "markdown",
   "metadata": {},
   "source": [
    "<a id=\"approximation\"></a>\n",
    "\n",
    "## **Approximation**  \n",
    "\n",
    "- Aims to find a \"good enough\" solution  \n",
    "    1. Start with a guess $g$\n",
    "    2. Define an acceptable minimum deviation $\\epsilon$\n",
    "    2. Check if the guess is “close enough” to solution\n",
    "    3. Otherwise create a new guess by $g = g + \\epsilon^2$\n",
    "    4. Repeat the process until close enough\n",
    "\n"
   ]
  },
  {
   "cell_type": "code",
   "execution_count": 4,
   "metadata": {},
   "outputs": [
    {
     "name": "stdout",
     "output_type": "stream",
     "text": [
      "Failed on finding the square root of 0.04\n",
      "# of guesses = 400\n"
     ]
    }
   ],
   "source": [
    "# Find the square root of an arbitrary number\n",
    "x = float(input(\"Please enter an integer: \"))\n",
    "# Start with a guess\n",
    "g = 0.0\n",
    "# Define minimum deviation\n",
    "epsilon = 0.01\n",
    "# Step\n",
    "step = epsilon**2\n",
    "numGuesses = 0\n",
    "\n",
    "while abs(g**2 - x) >= epsilon and g <= x:\n",
    "    g += step\n",
    "    numGuesses += 1\n",
    "# Check the result\n",
    "if abs(g**2 - x) >= epsilon:\n",
    "    print(\"Failed on finding the square root of {:.2f}\".format(x))\n",
    "else:\n",
    "    print(\"{:.4f} is close to the square root of {:.2f}\".format(g, x))\n",
    "# How many steps do we have?\n",
    "print(\"# of guesses = {}\".format(numGuesses))\n"
   ]
  },
  {
   "cell_type": "markdown",
   "metadata": {},
   "source": [
    "### The blindside of exhaustive enumeration\n",
    "\n",
    "- Exhaustive enumeration only works when the set of value being searched includes the answer\n",
    "- Try any number less than **1**, e.g. **0.04**  \n",
    "\n",
    "<br />\n",
    "<img align=\"center\" height=auto width=900px src=\"https://raw.githubusercontent.com/bruce88617/nycudopcs/main/Lectures/Lecture3/assets/fig1.png\">\n",
    "<br />\n"
   ]
  },
  {
   "cell_type": "markdown",
   "metadata": {},
   "source": [
    "<a id=\"tccc\"></a>\n",
    "\n",
    "## **The concept of computational complexity**  \n",
    "\n",
    "- How many guesses do our program need to find an approximated solution?\n",
    "\n",
    "<br />\n",
    "<img align=\"center\" height=auto width=900px src=\"https://raw.githubusercontent.com/bruce88617/nycudopcs/main/Lectures/Lecture3/assets/fig2.png\">\n",
    "<br />\n",
    "\n"
   ]
  },
  {
   "cell_type": "markdown",
   "metadata": {},
   "source": [
    "<a id=\"bs\"></a>\n",
    "\n",
    "## **Bisection search**  \n",
    "\n",
    "- Divide the searching domain into half after each iteration\n",
    "- An efficient way to search the answer\n",
    "\n",
    "<br />\n",
    "<img align=\"center\" height=auto width=900px src=\"https://raw.githubusercontent.com/bruce88617/nycudopcs/main/Lectures/Lecture3/assets/fig3.png\">\n",
    "<br />\n"
   ]
  },
  {
   "cell_type": "code",
   "execution_count": 2,
   "metadata": {},
   "outputs": [
    {
     "name": "stdout",
     "output_type": "stream",
     "text": [
      "Current search region: [0.0000, 1.0000]\n",
      "Current search region: [0.0000, 0.5000]\n",
      "Current search region: [0.0000, 0.2500]\n",
      "Current search region: [0.1250, 0.2500]\n",
      "Current search region: [0.1875, 0.2500]\n",
      "Current search region: [0.1875, 0.2188]\n",
      "Current search region: [0.1875, 0.2031]\n",
      "0.1992 is close to the square root of 0.04\n",
      "# of guesses = 7\n"
     ]
    }
   ],
   "source": [
    "# Example of bisection search\n",
    "x = float(input(\"Please enter an integer: \"))\n",
    "# Define minimum deviation\n",
    "epsilon = 0.01\n",
    "# Set searching region\n",
    "lower_bnd = 0.0\n",
    "upper_bnd = max(1., x)\n",
    "# Start with a guess\n",
    "g = (upper_bnd + lower_bnd)/2\n",
    "numGuesses = 0\n",
    "\n",
    "while abs(g**2 - x) >= epsilon:\n",
    "    print(\"Current search region: [{:.4f}, {:.4f}]\".format(lower_bnd, upper_bnd))\n",
    "    numGuesses += 1\n",
    "    # bisection search\n",
    "    if g**2 < x:\n",
    "        lower_bnd = g\n",
    "    else:\n",
    "        upper_bnd = g\n",
    "    # define a new searching region\n",
    "    g = (upper_bnd + lower_bnd)/2\n",
    "\n",
    "# Check the result\n",
    "if abs(g**2 - x) >= epsilon:\n",
    "    print(\"Failed on finding the square root of {:.2f}\".format(x))\n",
    "else:\n",
    "    print(\"{:.4f} is close to the square root of {:.2f}\".format(g, x))\n",
    "# How many steps do we have?\n",
    "print(\"# of guesses = {}\".format(numGuesses))\n",
    "\n"
   ]
  },
  {
   "cell_type": "markdown",
   "metadata": {},
   "source": [
    "<center><h4><b>Now you should realize what is your homework?</b></h4></center>"
   ]
  },
  {
   "cell_type": "markdown",
   "metadata": {},
   "source": [
    "<a id=\"dfpn\"></a>\n",
    "\n",
    "## **Digression: Floating-point numbers**  \n",
    "\n",
    "- Something you should know\n",
    "- Try this  \n",
    "\n",
    "```python\n",
    "x = 0.\n",
    "for i in range(10):\n",
    "    x += 1\n",
    "if x == 1.:\n",
    "    print(x, \"= 1.0\")\n",
    "else:\n",
    "    print(x, \"!= 1.0\")\n",
    "```\n",
    "\n",
    "<h4><b>>>> 你的1不是1</b></h4>\n",
    "\n"
   ]
  },
  {
   "cell_type": "code",
   "execution_count": 1,
   "metadata": {},
   "outputs": [
    {
     "name": "stdout",
     "output_type": "stream",
     "text": [
      "10.0 != 1.0\n",
      "1.4142135623730951\n"
     ]
    }
   ],
   "source": [
    "x = 0.\n",
    "for i in range(10):\n",
    "    x += 1\n",
    "if x == 1.:\n",
    "    print(x, \"= 1.0\")\n",
    "else:\n",
    "    print(x, \"!= 1.0\")\n",
    "\n",
    "print(2**.5)"
   ]
  },
  {
   "cell_type": "markdown",
   "metadata": {},
   "source": [
    "### Floating-point numbers\n",
    "\n",
    "- Numbers in decimal system\n",
    "\n",
    "- Approximation and precision\n"
   ]
  },
  {
   "cell_type": "markdown",
   "metadata": {},
   "source": [
    "<a id=\"nrm\"></a>\n",
    "\n",
    "## **Newton-Raphson method**  \n"
   ]
  },
  {
   "cell_type": "markdown",
   "metadata": {},
   "source": [
    "<a id=\"homework\"></a>\n",
    "\n",
    "## **Homework #2**  \n"
   ]
  },
  {
   "cell_type": "code",
   "execution_count": null,
   "metadata": {},
   "outputs": [],
   "source": []
  }
 ],
 "metadata": {
  "interpreter": {
   "hash": "5fe2e5cd560f36aa3aedf58cd7990de02027c6dec68ca092676a4258cbc93843"
  },
  "kernelspec": {
   "display_name": "Python 3.8.10 ('nycudopcs')",
   "language": "python",
   "name": "python3"
  },
  "language_info": {
   "codemirror_mode": {
    "name": "ipython",
    "version": 3
   },
   "file_extension": ".py",
   "mimetype": "text/x-python",
   "name": "python",
   "nbconvert_exporter": "python",
   "pygments_lexer": "ipython3",
   "version": "3.8.10"
  },
  "orig_nbformat": 4
 },
 "nbformat": 4,
 "nbformat_minor": 2
}
