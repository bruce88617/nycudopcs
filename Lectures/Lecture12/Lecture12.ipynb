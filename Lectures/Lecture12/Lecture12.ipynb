{
 "cells": [
  {
   "cell_type": "markdown",
   "metadata": {},
   "source": [
    "<br />\n",
    "<br />\n",
    "\n",
    "<center><h1><b>Lecture 12</b></h1></center>\n",
    "<center><h1><b>Scientific Computing and Data Visualization with Python I</b></h1></center>\n",
    "\n",
    "<center><h4>Time: M56 (13:20 ~ 15:10) and R2 (09:00 ~ 09:50)</h4></center>\n",
    "<br />\n",
    "\n",
    "<center><h2>Chieh-En Lee (李杰恩)</h2></center>\n",
    "\n",
    "<center>\n",
    "<h4><a href=\"mailto:celee@nycu.edu.tw\">celee@nycu.edu.tw</a></h4>\n",
    "</center>\n",
    "\n",
    "<center><h3><a href=\"https://dop.nycu.edu.tw/ch/index.html\">Department of Photonics</a>, <a href=\"https://www.nycu.edu.tw/\">NYCU</a></h3></center>\n",
    "\n",
    "<br />\n",
    "<center><h5><a href=\"https://github.com/bruce88617/nycudopcs\">Introduction to Computer and Computer Science</a>, 2023 Fall</h5></center>\n"
   ]
  },
  {
   "cell_type": "markdown",
   "metadata": {},
   "source": [
    "## Last time\n",
    "\n",
    "- Searching algorithms  \n",
    "- Sorting algorithms  \n",
    "- Lambda  \n",
    "- Hash table"
   ]
  },
  {
   "cell_type": "markdown",
   "metadata": {},
   "source": [
    "## **Today**\n",
    "\n",
    "<html>\n",
    "<head>\n",
    "</head>\n",
    "<body>\n",
    "<ul>\n",
    "  <li><a href=\"#tag1\">Python package: NumPy</a></li>\n",
    "  <li><a href=\"#tag2\">Python package: Matplotlib</a></li>\n",
    "  <!-- <li><a href=\"#tag3\">???</a></li> -->\n",
    "</ul>\n",
    "\n",
    "</body>"
   ]
  },
  {
   "cell_type": "markdown",
   "metadata": {},
   "source": [
    "<a id=\"tag1\"></a>\n",
    "\n",
    "## **Python package: `NumPy`**  \n",
    "\n",
    "#### What is `NumPy`?\n",
    "\n",
    "- **Numerical Python (NumPy)** is the fundamental package for scientific computing in Python.\n",
    "\n",
    "- It is an open source library that's used in every fields of science and engineering. You can say that it is the universal standard for working with numerical data in Python.\n",
    "\n",
    "- Reference:  \n",
    "    1. [NumPy documentation](https://numpy.org/doc/stable/#)\n",
    "    2. [NumPy: the absolute basics for beginners](https://numpy.org/doc/stable/user/absolute_beginners.html)\n",
    "\n",
    "- - -\n",
    "\n",
    "#### Installing `NumPy`\n",
    "\n",
    "1. Activate your virtual environment\n",
    "\n",
    "2. Install `NumPy`\n",
    "\n",
    "    ```\n",
    "    pip install numpy\n",
    "    ```\n",
    "\n",
    "    <img align=\"center\" height=auto width=800px src=\"https://raw.githubusercontent.com/bruce88617/nycudopcs/main/Lectures/Lecture12/assets/fig1.png\">\n",
    "\n",
    "- - -"
   ]
  },
  {
   "cell_type": "markdown",
   "metadata": {},
   "source": [
    "#### Array: `numpy.ndarray`\n",
    "\n",
    "- A grid of values with the same data type (can be check via `numpy.ndarray.dtype`)\n",
    "\n",
    "- Indexed by a tuple of nonnegative integers\n",
    "\n",
    "    * Rank: the number of dimensions (can be check via `numpy.ndarray.ndim`)\n",
    "\n",
    "    * Shape: the size of the array along each dimension (can be check via `numpy.ndarray.shape`)\n",
    "\n",
    "    * More array attributes: [Refer to here](https://numpy.org/doc/stable/reference/generated/numpy.ndarray.html)"
   ]
  },
  {
   "cell_type": "code",
   "execution_count": null,
   "metadata": {},
   "outputs": [],
   "source": [
    "import numpy as np\n",
    "\n",
    "a = np.arange(5)\n",
    "\n",
    "print(a)\n",
    "print(\"Type of a:\", type(a))\n",
    "print(\"Data type of a:\", a.dtype)\n",
    "print(\"Rank of a:\", a.ndim)\n",
    "print(\"Shape of a:\", a.shape)\n",
    "\n",
    "print(\"=\"*50)\n",
    "\n",
    "b = np.ones((4,3), dtype=np.float16)\n",
    "\n",
    "print(b)\n",
    "print(\"Type of b:\", type(b))\n",
    "print(\"Data type of b:\", b.dtype)\n",
    "print(\"Rank of b:\", b.ndim)\n",
    "print(\"Shape of b:\", b.shape)"
   ]
  },
  {
   "cell_type": "markdown",
   "metadata": {},
   "source": [
    "#### Important skill: read the documentation\n",
    "\n",
    "<img align=\"center\" height=auto width=800px src=\"https://raw.githubusercontent.com/bruce88617/nycudopcs/main/Lectures/Lecture12/assets/fig2.png\">\n",
    "\n",
    "- - -"
   ]
  },
  {
   "cell_type": "markdown",
   "metadata": {},
   "source": [
    "#### NumPy array vs. Python list\n",
    "\n",
    "- Example 1: Add two arrays"
   ]
  },
  {
   "cell_type": "code",
   "execution_count": null,
   "metadata": {},
   "outputs": [],
   "source": [
    "# list\n",
    "a = [1, 2, 3, 4, 5]\n",
    "b = [-5, 3, 2, 0, 8]\n",
    "print(\"a + b =\", a + b)\n",
    "print([v1+v2 for v1, v2 in zip(a, b)])"
   ]
  },
  {
   "cell_type": "code",
   "execution_count": null,
   "metadata": {},
   "outputs": [],
   "source": [
    "# numpy array\n",
    "a = np.array([1, 2, 3, 4, 5])\n",
    "b = np.array([-5, 3, 2, 0, 8])\n",
    "print(\"a + b =\", a + b)"
   ]
  },
  {
   "cell_type": "markdown",
   "metadata": {},
   "source": [
    "- Example 2: Multiply two arrays element-wisely"
   ]
  },
  {
   "cell_type": "code",
   "execution_count": null,
   "metadata": {},
   "outputs": [],
   "source": [
    "# list\n",
    "a = [1, 2, 3, 4, 5]\n",
    "b = [-5, 3, 2, 0, 8]\n",
    "# print(\"a * b =\", a * b)\n",
    "print([v1*v2 for v1, v2 in zip(a, b)])"
   ]
  },
  {
   "cell_type": "code",
   "execution_count": null,
   "metadata": {},
   "outputs": [],
   "source": [
    "# numpy array\n",
    "a = np.array([1, 2, 3, 4, 5])\n",
    "b = np.array([-5, 3, 2, 0, 8])\n",
    "print(\"a * b =\", a * b)"
   ]
  },
  {
   "cell_type": "markdown",
   "metadata": {},
   "source": [
    "#### 1D array\n",
    "\n",
    "- Can be directly ceated by `list` or other methods\n",
    "\n",
    "    <img align=\"center\" height=auto width=800px src=\"https://raw.githubusercontent.com/bruce88617/nycudopcs/main/Lectures/Lecture12/assets/fig3.png\">"
   ]
  },
  {
   "cell_type": "code",
   "execution_count": null,
   "metadata": {},
   "outputs": [],
   "source": [
    "tmp = [1,3,5,7,9]\n",
    "a = np.array(tmp)\n",
    "b = np.zeros(5, dtype=np.int16)\n",
    "c = np.ones((5,))\n",
    "d = np.full_like(a, fill_value=5)\n",
    "\n",
    "print(\"a:\", a, \"dtype:\", a.dtype)\n",
    "print(\"b:\", b, \"dtype:\", b.dtype)\n",
    "print(\"c:\", c, \"dtype:\", c.dtype)\n",
    "print(\"d:\", d, \"dtype:\", d.dtype)"
   ]
  },
  {
   "cell_type": "markdown",
   "metadata": {},
   "source": [
    "- Create evenly spaced numbers\n",
    "\n",
    "1. `np.arange`\n",
    "\n",
    "    <img align=\"center\" height=auto width=800px src=\"https://raw.githubusercontent.com/bruce88617/nycudopcs/main/Lectures/Lecture12/assets/fig4.png\">"
   ]
  },
  {
   "cell_type": "code",
   "execution_count": null,
   "metadata": {},
   "outputs": [],
   "source": [
    "a = np.arange(5)\n",
    "b = np.arange(5,10)\n",
    "c = np.arange(0,10,2)\n",
    "\n",
    "print(\"a:\", a, \"dtype:\", a.dtype)\n",
    "print(\"b:\", b, \"dtype:\", b.dtype)\n",
    "print(\"c:\", c, \"dtype:\", c.dtype)"
   ]
  },
  {
   "cell_type": "markdown",
   "metadata": {},
   "source": [
    "2. `np.linspace`\n",
    "\n",
    "    <img align=\"center\" height=auto width=800px src=\"https://raw.githubusercontent.com/bruce88617/nycudopcs/main/Lectures/Lecture12/assets/fig5.png\">"
   ]
  },
  {
   "cell_type": "code",
   "execution_count": null,
   "metadata": {},
   "outputs": [],
   "source": [
    "a = np.linspace(0, 4, 5)\n",
    "b = np.linspace(start=-1, stop=1, num=5)\n",
    "c = np.linspace(\n",
    "    start=0, \n",
    "    stop=10, \n",
    "    num=5,\n",
    ")\n",
    "\n",
    "print(\"a:\", a, \"dtype:\", a.dtype)\n",
    "print(\"b:\", b, \"dtype:\", b.dtype)\n",
    "print(\"c:\", c, \"dtype:\", c.dtype)"
   ]
  },
  {
   "cell_type": "markdown",
   "metadata": {},
   "source": [
    "3. `np.logspace` and `np.geomspace`\n",
    "\n",
    "    - Return numbers spaced evenly on a log scale.\n",
    "\n",
    "    <img align=\"center\" height=auto width=800px src=\"https://raw.githubusercontent.com/bruce88617/nycudopcs/main/Lectures/Lecture12/assets/fig6.png\">\n",
    "    \n",
    "    <img align=\"center\" height=auto width=800px src=\"https://raw.githubusercontent.com/bruce88617/nycudopcs/main/Lectures/Lecture12/assets/fig7.png\">"
   ]
  },
  {
   "cell_type": "code",
   "execution_count": null,
   "metadata": {},
   "outputs": [],
   "source": [
    "a = np.logspace(start=0, stop=4, num=5, base=10.)\n",
    "b = np.geomspace(start=1e0, stop=1e4, num=5)\n",
    "\n",
    "print(\"a:\", a, \"dtype:\", a.dtype)\n",
    "print(\"b:\", b, \"dtype:\", b.dtype)"
   ]
  },
  {
   "cell_type": "markdown",
   "metadata": {},
   "source": [
    "- - -\n",
    "\n",
    "### Exercise 12.1\n",
    "\n",
    "- Please create the following `np.array`:\n",
    "\n",
    "|Index|Array|\n",
    "|:---:|:---:|\n",
    "|1|`[ 5  4  3  2  1  0 -1 -2 -3 -4]`|\n",
    "|2|`[-100.  -80.  -60.  -40.  -20.    0.   20.   40.   60.   80.  100.]`|\n",
    "|3|`[1.e-05 1.e-04 1.e-03 1.e-02 1.e-01 1.e+00 1.e+01 1.e+02]`|\n",
    "\n",
    "- - -"
   ]
  },
  {
   "cell_type": "markdown",
   "metadata": {},
   "source": [
    "#### Boolean indexing"
   ]
  },
  {
   "cell_type": "code",
   "execution_count": null,
   "metadata": {},
   "outputs": [],
   "source": [
    "x = np.linspace(-5, 5, 11)\n",
    "\n",
    "print(\"x:          \", x)\n",
    "print(\"x >= 0:     \", x>=0)\n",
    "\n",
    "x[x>=3] = 3\n",
    "print(\"x[x>=3] = 3:\", x)\n",
    "\n",
    "print(\"np.where:   \", np.where(x>-2, 9, x))\n",
    "print(\"np.clip:    \", np.clip(x, -2, 2))"
   ]
  },
  {
   "cell_type": "markdown",
   "metadata": {},
   "source": [
    "<img align=\"center\" height=auto width=800px src=\"https://raw.githubusercontent.com/bruce88617/nycudopcs/main/Lectures/Lecture12/assets/fig8.png\">"
   ]
  },
  {
   "cell_type": "markdown",
   "metadata": {},
   "source": [
    "#### Numerical operations on arrays\n",
    "\n",
    "- Numpy provides a variety of mathematical functions\n",
    "\n",
    "    * Trigonometric functions\n",
    "\n",
    "        `np.sin`, `np.cos`, `np.tan`, `np.arcsin`, `np.arccos`, `np.deg2rad`, `np.rad2deg`\n",
    "\n",
    "    * Hyperbolic functions\n",
    "\n",
    "        `np.sinh`, `np.cosh`, `np.tanh`, `np.arcsinh`, `np.arccosh`, `np.arctanh`\n",
    "\n",
    "    * Rounding\n",
    "    \n",
    "        `np.around`, `np.floor`, `np.ceil`, `np.trunc`, `np.fix`\n",
    "    \n",
    "    * Complex numbers\n",
    "\n",
    "        `np.angle`, `np.real`, `np.imag`, `np.conj`"
   ]
  },
  {
   "cell_type": "markdown",
   "metadata": {},
   "source": [
    "<a id=\"tag2\"></a>\n",
    "\n",
    "## **Python package: `Matplotlib`**  \n",
    "\n",
    "#### What is `Matplotlib`?\n",
    "\n",
    "- A popular visualization library, most importantly, it is **free** and open source (vs. Matlab).\n",
    "\n",
    "- Good for visualizing 1D, 2D (or 3D) data\n",
    "\n",
    "- Support `numpy.ndarray` and `list`\n",
    "\n",
    "- Reference:\n",
    "    1. [Matplotlib documentation](https://matplotlib.org/stable/tutorials/index.html)\n",
    "    2. [Learning matplotlib](https://riptutorial.com/Download/matplotlib.pdf)\n",
    "\n",
    "- - -\n",
    "\n",
    "#### Installing `matplotlib`\n",
    "\n",
    "1. Activate your virtual environment\n",
    "\n",
    "2. Install `matplotlib`\n",
    "\n",
    "    ```\n",
    "    pip install matplotlib\n",
    "    ```\n",
    "    \n",
    "- - -"
   ]
  },
  {
   "cell_type": "markdown",
   "metadata": {},
   "source": [
    "#### Types of plotting in Matplotlib\n",
    "\n",
    "- [Line plot](https://matplotlib.org/stable/api/_as_gen/matplotlib.axes.Axes.plot.html)\n",
    "- [Shaded plot](https://matplotlib.org/stable/api/_as_gen/matplotlib.axes.Axes.fill_between.html)\n",
    "- [Scatter plot](https://matplotlib.org/stable/api/_as_gen/matplotlib.axes.Axes.scatter.html)\n",
    "- [Boxplot](https://matplotlib.org/stable/api/_as_gen/matplotlib.axes.Axes.boxplot.html)\n",
    "- [Histogram](https://matplotlib.org/stable/api/_as_gen/matplotlib.axes.Axes.hist.html)\n",
    "- [Heatmap](https://matplotlib.org/stable/api/_as_gen/matplotlib.axes.Axes.hist2d.html)\n",
    "- [Contour map](https://matplotlib.org/stable/api/_as_gen/matplotlib.axes.Axes.contour.html)\n",
    "- [Stream plot](https://matplotlib.org/stable/api/_as_gen/matplotlib.axes.Axes.streamplot.html) (To display 2D vector fields)\n",
    "- [Imshow](https://matplotlib.org/stable/api/_as_gen/matplotlib.axes.Axes.imshow.html)\n",
    "- And so on...\n",
    "\n",
    "Supplement: [Grid control](https://matplotlib.org/stable/tutorials/intermediate/gridspec.html)\n",
    "\n"
   ]
  },
  {
   "cell_type": "markdown",
   "metadata": {},
   "source": [
    "#### Draw a first plot\n",
    "\n",
    "- Import module"
   ]
  },
  {
   "cell_type": "code",
   "execution_count": null,
   "metadata": {},
   "outputs": [],
   "source": [
    "import matplotlib.pyplot as plt"
   ]
  },
  {
   "cell_type": "markdown",
   "metadata": {},
   "source": [
    "- Imperative syntax"
   ]
  },
  {
   "cell_type": "code",
   "execution_count": null,
   "metadata": {},
   "outputs": [],
   "source": [
    "x = np.linspace(0, 2 * np.pi, 200)\n",
    "y = np.sin(x)\n",
    "\n",
    "plt.figure(1, figsize=(4,3), dpi=100)\n",
    "plt.plot(x, y, label=\"sin(x)\")\n",
    "plt.title(\"My First Plot\", fontsize=14, fontweight='bold')\n",
    "plt.xlabel(\"x\")\n",
    "plt.ylabel(\"f(x)\")\n",
    "plt.grid(True)\n",
    "plt.legend(loc=\"best\")\n",
    "plt.show()"
   ]
  },
  {
   "cell_type": "markdown",
   "metadata": {},
   "source": [
    "- Object-oriented syntax"
   ]
  },
  {
   "cell_type": "code",
   "execution_count": null,
   "metadata": {},
   "outputs": [],
   "source": [
    "fig = plt.figure(2, figsize=(4,3), dpi=100)\n",
    "ax = fig.add_subplot(111)\n",
    "ax.plot(x, y, label=\"sin(x)\")\n",
    "ax.set_title(\"My First Plot\", fontsize=14, fontweight='bold')\n",
    "ax.set_xlabel('x')\n",
    "ax.set_ylabel('f(x)')\n",
    "ax.legend(loc='best')\n",
    "ax.grid(True)\n",
    "# fig.clear()\n",
    "plt.show()"
   ]
  },
  {
   "cell_type": "markdown",
   "metadata": {},
   "source": [
    "#### Anatomy of a figure\n",
    "\n",
    "\n",
    "<img align=\"center\" height=auto width=800px src=\"https://matplotlib.org/stable/_images/sphx_glr_anatomy_001.png\">\n",
    "\n",
    "- [Reference: matplotlib](https://matplotlib.org/stable/gallery/showcase/anatomy.html#sphx-glr-gallery-showcase-anatomy-py)"
   ]
  },
  {
   "cell_type": "markdown",
   "metadata": {},
   "source": [
    "- - -\n",
    "\n",
    "### Exercise 12.2: Plot a function\n",
    "\n",
    "- Please write a program that can plot this function $f(x)$ \n",
    "\n",
    "$$\n",
    "\\begin{equation}\n",
    "f(x) = \n",
    "    \\begin{cases}\n",
    "        \\sin{5x}, \\; x < 0 \\\\\n",
    "        x^2+2x+4, \\; 0 \\le x < 1 \\\\\n",
    "        x^3, \\; x \\ge 1\n",
    "    \\end{cases}\n",
    "\\end{equation}\n",
    "$$\n",
    "\n",
    "- Try to meet below's figure\n",
    "\n",
    "\n",
    "<img align=\"center\" height=auto width=500px src=\"https://raw.githubusercontent.com/bruce88617/nycudopcs/main/Lectures/Lecture12/assets/exercise1.png\">\n",
    "\n",
    "- - -"
   ]
  },
  {
   "cell_type": "code",
   "execution_count": 4,
   "metadata": {},
   "outputs": [
    {
     "data": {
      "image/png": "[encoded data removed]",
      "text/plain": [
       "<Figure size 500x400 with 1 Axes>"
      ]
     },
     "metadata": {},
     "output_type": "display_data"
    }
   ],
   "source": [
    "import matplotlib.pyplot as plt\n",
    "import numpy as np\n",
    "\n",
    "x = np.linspace(-3, 3, 201)\n",
    "y = np.where(x < 0, np.sin(5*x), x)\n",
    "y = np.where(((x >= 0) & (x < 1)), x**2+2*x+4, y)\n",
    "y = np.where(x >= 1, x**3, y)\n",
    "\n",
    "fig = plt.figure(figsize=(5, 4), dpi=100, layout=\"constrained\", facecolor=\"white\")\n",
    "# ax = fig.add_axes((20,3,4,3))\n",
    "ax = fig.add_subplot(111)\n",
    "ax.plot(x, y, 'r', label=\"Exercise 1: f(x)\")\n",
    "ax.minorticks_on()\n",
    "ax.xaxis.set_tick_params(rotation=50, labelsize=10)\n",
    "ax.set_xlim(-3,3)\n",
    "x_start, x_end = ax.get_xlim()\n",
    "# ax.xaxis.set_ticks(np.arange(x_start, x_end, 0.5))\n",
    "ax.xaxis.set_ticks(np.linspace(x_start, x_end, 13))\n",
    "ax.set_xlabel(\"x\", fontweight='bold')\n",
    "ax.set_ylabel(\"f(x)\", fontweight='bold')\n",
    "ax.set_title(\"Exercise 1\", fontweight='bold')\n",
    "ax.grid(True)\n",
    "# fig.tight_layout()\n",
    "# fig.savefig('Exercise1.png')\n",
    "plt.show()"
   ]
  },
  {
   "cell_type": "markdown",
   "metadata": {},
   "source": [
    "#### Polar plot\n",
    "\n",
    "- Plot a curve on a polar axis.\n",
    "- Define $r$ and $\\theta$ first."
   ]
  },
  {
   "cell_type": "code",
   "execution_count": null,
   "metadata": {},
   "outputs": [],
   "source": [
    "theta = np.linspace(0, 2*np.pi, 1000)\n",
    "r1 = 1 + np.sin(theta)\n",
    "r2 = np.linspace(0, 2, 1000)\n",
    "\n",
    "fig = plt.figure(figsize=(12,5), dpi=100, layout=\"constrained\")\n",
    "\n",
    "ax1 = fig.add_subplot(121)\n",
    "ax1.plot(theta, r1, label=\"r1\")\n",
    "ax1.plot(theta, r2, label=\"r2\")\n",
    "ax1.set_xticks(np.linspace(0, 2*np.pi, 5))\n",
    "ax1.grid(True)\n",
    "ax1.set_title(\"Subplot 121\")\n",
    "ax1.set_xlabel(r\"$\\theta$\", fontsize=15)\n",
    "ax1.set_ylabel(r\"$r$\", fontsize=15)\n",
    "ax1.legend()\n",
    "\n",
    "ax2 = fig.add_subplot(122, projection='polar')\n",
    "ax2.plot(theta, r1, label=\"r1\")\n",
    "ax2.plot(theta, r2, label=\"r2\")\n",
    "ax2.set_title(\"Subplot 122\")\n",
    "ax2.set_rticks(np.linspace(0,2,5))\n",
    "ax2.set_rlabel_position(-90)\n",
    "ax2.legend()\n",
    "\n",
    "# fig.savefig(\"polar_plot.png\", bbox_inches='tight', facecolor='white')\n",
    "\n",
    "plt.show()"
   ]
  },
  {
   "cell_type": "markdown",
   "metadata": {},
   "source": [
    "- - -\n",
    "\n",
    "### Exercise 12.3: Plot a function\n",
    "\n",
    "- Please write a program that can plot this function $f(\\theta)$ \n",
    "\n",
    "$$\n",
    "f(\\theta) = a + b \\times \\sin^{2}(\\theta - c)\n",
    "$$\n",
    "\n",
    "- Please try different combinations of (a, b, c)\n",
    "\n",
    "<img align=\"center\" height=auto width=800px src=\"https://raw.githubusercontent.com/bruce88617/nycudopcs/main/Lectures/Lecture12/assets/exercise2.png\">\n",
    "\n",
    "- - -"
   ]
  },
  {
   "cell_type": "markdown",
   "metadata": {},
   "source": [
    "#### Shaded plot\n",
    "\n",
    "- Fill the area between two horizontal curves.\n",
    "\n",
    "- [Please refer to the documentation](https://matplotlib.org/stable/api/_as_gen/matplotlib.axes.Axes.fill_between.html)"
   ]
  },
  {
   "cell_type": "code",
   "execution_count": null,
   "metadata": {},
   "outputs": [],
   "source": [
    "freq = 440.0\n",
    "period = 1 / freq\n",
    "\n",
    "t = np.linspace(0, 2*period, 100)\n",
    "\n",
    "c1 = np.sin(2*np.pi*freq*t)\n",
    "c2 = np.sin(2*np.pi*freq/(2**(1/12))*t)\n",
    "\n",
    "xticks = []\n",
    "xticklabels = []\n",
    "total_ticks = 9\n",
    "\n",
    "for i in range(total_ticks):\n",
    "    xticks.append(2*period/8*i)\n",
    "    xticklabels.append(\"{:.2f}T\".format(i/4))\n",
    "\n",
    "fig, ax = plt.subplots(1, 1, figsize=(8, 3), dpi=100) \n",
    "ax.fill_between(t, y1=c1, y2=c2, where=None, color='green', alpha=0.1)\n",
    "ax.plot(t, c1, label='A')\n",
    "ax.plot(t, c2, label='G#')\n",
    "ax.set_xticks(xticks)\n",
    "ax.set_xticklabels(xticklabels)\n",
    "# ax.set_xlim(t.max(), 0) # reverse x-axis\n",
    "ax.legend()\n",
    "ax.grid(True)\n",
    "plt.show()"
   ]
  },
  {
   "cell_type": "markdown",
   "metadata": {},
   "source": [
    "- - -\n",
    "\n",
    "### Exercise 12.4: Shaded plot\n",
    "\n",
    "- Please write a program that plots 2 sinusoidal curves with C4 and A4 frequencies.\n",
    "\n",
    "$$\n",
    "f_n = f_0 \\times (\\sqrt[12]{2})^n\n",
    "$$\n",
    "\n",
    "- Try to meet below's figure\n",
    "\n",
    "<img align=\"center\" height=auto width=800px src=\"https://raw.githubusercontent.com/bruce88617/nycudopcs/main/Lectures/Lecture12/assets/exercise3.png\">\n",
    "\n",
    "- - -"
   ]
  },
  {
   "cell_type": "markdown",
   "metadata": {},
   "source": [
    "#### Scatter plot\n",
    "\n",
    "- A scatter plot of $y$ vs. $x$ with varying marker size and/or color.  \n",
    "- [Please refer to the documentation](https://matplotlib.org/stable/api/_as_gen/matplotlib.axes.Axes.scatter.html)\n",
    "\n",
    "- Syntax\n",
    "    ```python\n",
    "    Axes.scatter(x, y, s=None, c=None, marker=None, ...)\n",
    "    ```\n",
    "\n",
    "- [Marker](https://matplotlib.org/stable/api/markers_api.html#module-matplotlib.markers)"
   ]
  },
  {
   "cell_type": "code",
   "execution_count": 5,
   "metadata": {},
   "outputs": [
    {
     "data": {
      "image/png": "[encoded data removed]",
      "text/plain": [
       "<Figure size 400x400 with 1 Axes>"
      ]
     },
     "metadata": {},
     "output_type": "display_data"
    }
   ],
   "source": [
    "num = 100\n",
    "\n",
    "theta = np.linspace(0, np.pi/2, num)\n",
    "\n",
    "pdf = np.random.rand(num, num)\n",
    "cir = np.array([np.cos(theta), np.sin(theta)])\n",
    "\n",
    "colors = ['green', 'red']\n",
    "labels = ['Uniform', 'Circle']\n",
    "markers = ['^', 'x']\n",
    "\n",
    "fig, ax = plt.subplots(1, 1, figsize=(4, 4), dpi=100) \n",
    "\n",
    "for color, name, marker, data in zip(colors, labels, markers, (pdf, cir)):\n",
    "    ax.scatter(data[0], data[1], c=color, label=name, marker=marker)\n",
    "\n",
    "ax.set_xlim([0,1])\n",
    "ax.set_ylim([0,1])\n",
    "ax.legend()\n",
    "ax.grid(True)\n",
    "plt.show()\n"
   ]
  },
  {
   "cell_type": "markdown",
   "metadata": {},
   "source": [
    "#### Boxplot\n",
    "\n",
    "- Draw a box and whisker plot\n",
    "\n",
    "- [Documentation](https://matplotlib.org/stable/api/_as_gen/matplotlib.axes.Axes.boxplot.html)  \n",
    "\n",
    "- Syntax\n",
    "\n",
    "    ```python\n",
    "    Axes.boxplot(self, x, notch=None, sym=None, vert=None, whis=None, \n",
    "                positions=None, widths=None, patch_artist=None, \n",
    "                bootstrap=None, usermedians=None, conf_intervals=None, \n",
    "                meanline=None, showmeans=None, showcaps=None, showbox=None, \n",
    "                showfliers=None, labels=None)\n",
    "    ```"
   ]
  },
  {
   "cell_type": "code",
   "execution_count": 6,
   "metadata": {},
   "outputs": [
    {
     "data": {
      "image/png": "[encoded data removed]",
      "text/plain": [
       "<Figure size 600x300 with 3 Axes>"
      ]
     },
     "metadata": {},
     "output_type": "display_data"
    }
   ],
   "source": [
    "num = 100\n",
    "\n",
    "pdf1 = np.random.rand(num)\n",
    "pdf2 = np.random.randn(num)\n",
    "\n",
    "fig = plt.figure(figsize=(6, 3))\n",
    "\n",
    "ax1 = fig.add_subplot(131)\n",
    "ax1.boxplot([pdf1, pdf2], meanline=True, showfliers=True)\n",
    "ax1.set_xticklabels([\"Uniform\", \"Gaussian\"])\n",
    "\n",
    "ax2 = fig.add_subplot(132)\n",
    "ax2.boxplot([pdf1, pdf2], meanline=True, showfliers=False)\n",
    "ax2.set_xticklabels([\"Uniform\", \"Gaussian\"])\n",
    "\n",
    "ax3 = fig.add_subplot(133)\n",
    "ax3.boxplot([pdf1, pdf2], patch_artist=True, meanline=True, showfliers=True)\n",
    "ax3.set_xticklabels([\"Uniform\", \"Gaussian\"])\n",
    "\n",
    "plt.show()"
   ]
  },
  {
   "cell_type": "markdown",
   "metadata": {},
   "source": [
    "#### Histogram\n",
    "\n",
    "- Compute and plot a histogram\n",
    "\n",
    "- [Documentation](https://matplotlib.org/stable/api/_as_gen/matplotlib.axes.Axes.hist.html)  \n",
    "\n",
    "- Syntax\n",
    "\n",
    "    ```python\n",
    "    Axes.hist(x, bins=None, range=None, density=False, weights=None, \n",
    "            cumulative=False, bottom=None, histtype='bar', align='mid', \n",
    "            orientation='vertical', rwidth=None, log=False, color=None, \n",
    "            label=None, stacked=False, *, data=None, **kwargs)\n",
    "    ```"
   ]
  },
  {
   "cell_type": "code",
   "execution_count": 7,
   "metadata": {},
   "outputs": [
    {
     "data": {
      "image/png": "[encoded data removed]",
      "text/plain": [
       "<Figure size 500x300 with 1 Axes>"
      ]
     },
     "metadata": {},
     "output_type": "display_data"
    }
   ],
   "source": [
    "num = 10000\n",
    "rwidth = 1\n",
    "nBins = 100\n",
    "meanGaus, varGaus = 0.5, 0.1\n",
    "\n",
    "pdf1 = np.random.rand(num)\n",
    "pdf2 = varGaus*np.random.randn(num) + meanGaus\n",
    "\n",
    "fig = plt.figure(figsize=(5,3), dpi=100)\n",
    "ax = fig.add_subplot(111)\n",
    "\n",
    "n1, bins1, patches1 = ax.hist(\n",
    "    pdf1, \n",
    "    bins=nBins, \n",
    "    rwidth=rwidth, \n",
    "    facecolor='blue', \n",
    "    alpha=0.5, \n",
    "    align='mid', \n",
    "    label=\"Uniform distribution\"\n",
    ")\n",
    "n2, bins2, patches2 = ax.hist(\n",
    "    pdf2, \n",
    "    bins=nBins, \n",
    "    rwidth=rwidth, \n",
    "    facecolor='red', \n",
    "    alpha=0.5, \n",
    "    align='mid', \n",
    "    label=\"Gaussian distribution (mean = {}, var = {})\".format(meanGaus, varGaus)\n",
    ")\n",
    "\n",
    "# ax.set_xlim([0, 1])\n",
    "# ax.set_ylim([0, np.max(n2)*1.5])\n",
    "ax.legend(loc=\"best\")\n",
    "ax.grid(True)\n",
    "\n",
    "plt.show()"
   ]
  },
  {
   "cell_type": "markdown",
   "metadata": {},
   "source": [
    "<details><summary>Don't click this</summary>\n",
    "\n",
    "<details><summary>Exercise 12.2</summary>\n",
    "\n",
    "```python\n",
    "x = np.linspace(-3, 3, 201)\n",
    "y = np.where(x < 0, np.sin(5*x), x)\n",
    "y = np.where(((x >= 0) & (x < 1)), x**2+2*x+4, y)\n",
    "y = np.where(x >= 1, x**3, y)\n",
    "\n",
    "fig = plt.figure(figsize=(8, 5), dpi=100)\n",
    "ax = fig.add_subplot()\n",
    "ax.plot(x, y, 'r', label=\"Exercise 1: f(x)\")\n",
    "ax.set_xlim(-3,3)\n",
    "ax.set_xlabel(\"x\", fontweight='bold')\n",
    "ax.set_ylabel(\"f(x)\", fontweight='bold')\n",
    "ax.set_title(\"Exercise 1\", fontweight='bold')\n",
    "plt.grid(True)\n",
    "# fig.savefig('Exercise1.png', bbox_inches='tight')\n",
    "plt.show()\n",
    "```\n",
    "\n",
    "</details>\n",
    "\n",
    "<details><summary>Exercise 12.3</summary>\n",
    "\n",
    "```python\n",
    "theta = np.linspace(0, 2*np.pi, 200)\n",
    "\n",
    "set1 = (4, 1, np.pi/2)\n",
    "set2 = (3.5, 1.5, np.pi/4)\n",
    "\n",
    "f = lambda set: set[0] + set[1]*(np.sin(theta-set[2]))**2\n",
    "\n",
    "fig = plt.figure(figsize=(10,4), dpi=100)\n",
    "\n",
    "ax1 = fig.add_subplot(121)\n",
    "ax1.plot(theta, f(set1), label=\"(a, b, c) = ({:.2f}, {:.2f}, {:.0f}$\\degree$)\".format(set1[0], set1[1], set1[2]/np.pi*180))\n",
    "ax1.plot(theta, f(set2), label=\"(a, b, c) = ({:.2f}, {:.2f}, {:.0f}$\\degree$)\".format(set2[0], set2[1], set2[2]/np.pi*180))\n",
    "ax1.set_xticks(np.linspace(0, 2*np.pi, 5))\n",
    "ax1.grid(True)\n",
    "ax1.set_title(\"Subplot 121\")\n",
    "ax1.set_xlabel(r\"$\\theta$\", fontsize=15)\n",
    "ax1.set_ylabel(r\"$f$\", fontsize=15)\n",
    "ax1.legend()\n",
    "\n",
    "ax2 = fig.add_subplot(122, projection='polar')\n",
    "ax2.plot(theta, f(set1), label=\"(a, b, c) = ({:.2f}, {:.2f}, {:.0f}$\\degree$)\".format(set1[0], set1[1], set1[2]/np.pi*180))\n",
    "ax2.plot(theta, f(set2), label=\"(a, b, c) = ({:.2f}, {:.2f}, {:.0f}$\\degree$)\".format(set2[0], set2[1], set2[2]/np.pi*180))\n",
    "ax2.set_title(\"Subplot 122\")\n",
    "ax2.set_rticks(np.linspace(0,7,8))\n",
    "ax2.set_rlabel_position(-90)\n",
    "ax2.legend()\n",
    "\n",
    "fig.savefig(\"exercise2.png\", bbox_inches='tight', facecolor='white')\n",
    "\n",
    "plt.show()\n",
    "```\n",
    "    \n",
    "</details>\n",
    "\n",
    "<details><summary>Exercise 12.4</summary>\n",
    "\n",
    "```python\n",
    "freq = 440.0\n",
    "period = 1 / freq\n",
    "\n",
    "freq1 = freq/(2**(1/12))**9\n",
    "\n",
    "t = np.linspace(0, 2*period, 1000)\n",
    "\n",
    "c1 = np.sin(2*np.pi*freq*t)\n",
    "c2 = np.sin(2*np.pi*freq1*t)\n",
    "\n",
    "xticks = []\n",
    "xticklabels = []\n",
    "total_ticks = 9\n",
    "\n",
    "for i in range(total_ticks):\n",
    "    xticks.append(2*period/8*i)\n",
    "    xticklabels.append(\"{:.2f}T\".format(i/4))\n",
    "\n",
    "fig, ax = plt.subplots(1, 1, figsize=(8, 3), dpi=100) \n",
    "ax.fill_between(t, y1=c1, y2=c2, where=None, color='green', alpha=0.1)\n",
    "ax.plot(t, c1, label='A4')\n",
    "ax.plot(t, c2, label='C4')\n",
    "ax.set_title(\"Sinusoidal waves\", fontweight='bold')\n",
    "ax.set_ylabel(\"Amplitude\", fontweight='bold')\n",
    "ax.set_xlabel(\"# of Period\", fontweight='bold')\n",
    "ax.set_xlim([0, t.max()])\n",
    "ax.set_xticks(xticks)\n",
    "ax.set_xticklabels(xticklabels, fontweight='bold')\n",
    "ax.set_yticks([-1., -0.5, 0., 0.5, 1.])\n",
    "ax.set_yticklabels([-1., -0.5, 0., 0.5, 1.], fontweight='bold')\n",
    "ax.legend()\n",
    "ax.grid(True)\n",
    "fig.savefig(\"exercise3.png\", bbox_inches='tight', facecolor='white')\n",
    "plt.show()\n",
    "```\n",
    "\n",
    "</details>\n",
    "\n",
    "</details>"
   ]
  }
 ],
 "metadata": {
  "kernelspec": {
   "display_name": "Python 3.8.10 ('nycudopcs')",
   "language": "python",
   "name": "python3"
  },
  "language_info": {
   "codemirror_mode": {
    "name": "ipython",
    "version": 3
   },
   "file_extension": ".py",
   "mimetype": "text/x-python",
   "name": "python",
   "nbconvert_exporter": "python",
   "pygments_lexer": "ipython3",
   "version": "3.11.4"
  },
  "orig_nbformat": 4,
  "vscode": {
   "interpreter": {
    "hash": "27a5e9f8adabff48c696181191940ab098c1fe9cc8d5f2a3a5a18bfc70121f6d"
   }
  }
 },
 "nbformat": 4,
 "nbformat_minor": 2
}
