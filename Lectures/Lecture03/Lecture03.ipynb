{
 "cells": [
  {
   "cell_type": "markdown",
   "metadata": {},
   "source": [
    "<br />\n",
    "<br />\n",
    "\n",
    "<center><h1><b>Lecture 3</b></h1></center>\n",
    "<center><h1><b>Simple Numerical Algorithms I</b></h1></center>\n",
    "\n",
    "<center><h4>Time: M56 (13:20 ~ 15:10) and R2 (09:00 ~ 09:50)</h4></center>\n",
    "<br />\n",
    "\n",
    "<center><h2>Chieh-En Lee (李杰恩)</h2></center>\n",
    "\n",
    "<center>\n",
    "<h4><a href=\"mailto:celee@nycu.edu.tw\">celee@nycu.edu.tw</a></h4>\n",
    "</center>\n",
    "\n",
    "<center><h3><a href=\"https://dop.nycu.edu.tw/ch/index.html\">Department of Photonics</a>, <a href=\"https://www.nycu.edu.tw/\">NYCU</a></h3></center>\n",
    "\n",
    "<br />\n",
    "<center><h5><a href=\"https://github.com/bruce88617/nycudopcs\">Introduction to Computer and Computer Science</a>, 2024 Fall</h5></center>\n"
   ]
  },
  {
   "cell_type": "markdown",
   "metadata": {},
   "source": [
    "## Last time\n",
    "\n",
    "- Introduction to Python  \n",
    "- String  \n",
    "- Logistic operators  \n",
    "- Branching and conditionals\n",
    "- Iterations and loops\n"
   ]
  },
  {
   "cell_type": "markdown",
   "metadata": {},
   "source": [
    "## **Today**\n",
    "\n",
    "<html>\n",
    "<head>\n",
    "</head>\n",
    "<body>\n",
    "<ul>\n",
    "  <li><a href=\"#tag1\">Exhaustive enumeration</a></li>\n",
    "  <li><a href=\"#tag2\">Approximation</a></li>\n",
    "  <li><a href=\"#tag3\">The concept of computational complexity</a></li>\n",
    "  <li><a href=\"#tag4\">A small function object: lambda</a></li>\n",
    "  <li><a href=\"#tag5\">Bisection search</a></li>\n",
    "  <li><a href=\"#tag6\">Digression: Floating-point numbers</a></li>\n",
    "  <li><a href=\"#tag7\">Newton-Raphson method</a></li>\n",
    "</ul>\n",
    "\n",
    "</body>"
   ]
  },
  {
   "cell_type": "markdown",
   "metadata": {},
   "source": [
    "<a id=\"tag1\"></a>\n",
    "\n",
    "## **Exhaustive enumeration**  \n",
    "\n",
    "- The fundamental of algorithms\n",
    "    1. Start with a guess\n",
    "    2. Check if the guess is the solution\n",
    "    3. If not, keep guessing until you get the solution\n",
    "\n",
    "<br />\n",
    "\n",
    "- Example: finding the **square root** of a perfect square number $x$\n",
    "    1. Start with a guess $g$\n",
    "    2. If $g \\times g$ is close enough to $x$, stop and say that $g$ is the answer\n",
    "    3. Otherwise create a new guess $g = g + 1$\n",
    "    4. Repeat the process until close enough\n",
    "    \n"
   ]
  },
  {
   "cell_type": "code",
   "execution_count": 1,
   "metadata": {},
   "outputs": [
    {
     "name": "stdout",
     "output_type": "stream",
     "text": [
      "The square root of 121 is 11.\n"
     ]
    }
   ],
   "source": [
    "# Find the square root of a perfect square number\n",
    "x = 121\n",
    "\n",
    "# Start with a guess\n",
    "g = 0\n",
    "while g**2 < x:\n",
    "    g += 1\n",
    "\n",
    "# Check the result\n",
    "if g**2 != x:\n",
    "    print(x, \"is not a perfect square number.\")\n",
    "else:\n",
    "    print(\"The square root of {} is {}.\".format(x, g))\n"
   ]
  },
  {
   "cell_type": "markdown",
   "metadata": {},
   "source": [
    "- - -\n",
    "\n",
    "### Exercise 3.1\n",
    "\n",
    "- Finding the **cube root** of a perfect cube $x$\n",
    "- Here is your instruction:\n",
    "    1. Start with a guess $g$\n",
    "    2. If $g^3$ is close enough to $x$, stop and say that $g$ is the answer\n",
    "    3. Otherwise create a new guess $g = g + 1$\n",
    "    4. Repeat the process until close enough\n",
    "- Try these two numbers:\n",
    "    1. 781,229,961  \n",
    "    2. 853,860,064,303  \n",
    "\n",
    "- - -"
   ]
  },
  {
   "cell_type": "markdown",
   "metadata": {},
   "source": [
    "<a id=\"tag2\"></a>\n",
    "\n",
    "## **Approximation**  \n",
    "\n",
    "- Aims to find a \"good enough\" solution  \n",
    "    1. Start with a guess $g$\n",
    "    2. Define an acceptable minimum deviation $\\epsilon$\n",
    "    2. Check if the guess is “close enough” to solution\n",
    "    3. Otherwise create a new guess by $g = g + \\epsilon^2$\n",
    "    4. Repeat the process until close enough\n",
    "\n"
   ]
  },
  {
   "cell_type": "code",
   "execution_count": 2,
   "metadata": {},
   "outputs": [
    {
     "name": "stdout",
     "output_type": "stream",
     "text": [
      "10.9996 is close to the square root of 121.00\n",
      "# of guesses = 109996\n"
     ]
    }
   ],
   "source": [
    "# Find the square root of an arbitrary number\n",
    "x = 121.\n",
    "\n",
    "# Start with a guess\n",
    "g = 0.0\n",
    "\n",
    "# Define minimum deviation\n",
    "epsilon = 0.01\n",
    "\n",
    "# Step\n",
    "step = epsilon**2\n",
    "numGuesses = 0\n",
    "\n",
    "while abs(g**2 - x) >= epsilon and g <= x:\n",
    "    g += step\n",
    "    numGuesses += 1\n",
    "\n",
    "# Check the result\n",
    "if abs(g**2 - x) >= epsilon:\n",
    "    print(\"Failed on finding the square root of {:.2f}\".format(x))\n",
    "else:\n",
    "    print(\"{:.4f} is close to the square root of {:.2f}\".format(g, x))\n",
    "\n",
    "# How many steps do we have?\n",
    "print(\"# of guesses = {}\".format(numGuesses))\n"
   ]
  },
  {
   "cell_type": "markdown",
   "metadata": {},
   "source": [
    "### The blindside of exhaustive enumeration\n",
    "\n",
    "- Exhaustive enumeration only works when the set of value being searched includes the answer\n",
    "- Try any number less than **1**, e.g. **0.04**  \n",
    "\n",
    "<br />\n",
    "<img align=\"center\" height=auto width=700px src=\"https://raw.githubusercontent.com/bruce88617/nycudopcs/main/Lectures/Lecture03/assets/fig1.png\">\n",
    "<br />\n"
   ]
  },
  {
   "cell_type": "markdown",
   "metadata": {},
   "source": [
    "<a id=\"tag3\"></a>\n",
    "\n",
    "## **The concept of computational complexity**  \n",
    "\n",
    "- How many guesses do our program need to find an approximated solution?\n",
    "\n",
    "<br />\n",
    "<img align=\"center\" height=auto width=700px src=\"https://raw.githubusercontent.com/bruce88617/nycudopcs/main/Lectures/Lecture03/assets/fig2.png\">\n",
    "<br />\n",
    "\n"
   ]
  },
  {
   "cell_type": "markdown",
   "metadata": {},
   "source": [
    "### Find a root of an equation  \n",
    "\n",
    "- Previous examples have shown as how to find an approximated squared or cubic root. This is equivalent to find a root of an equation:  \n",
    "\n",
    "$$\n",
    "\\begin{aligned}\n",
    "f(x) &= x^2 \\\\\n",
    "f(x) &= 0 \\\\\n",
    "x^2 &= 0\n",
    "\\end{aligned}\n",
    "$$\n",
    "\n",
    "- Therefore, we can numerically \"solve\" an equation via the same technique. For example, we want to solve this:\n",
    "\n",
    "$$\n",
    "f(x) = 2x^3 - 11x^2 + 2x + 15 \\\\\n",
    "f(x) = 0 \\\\\n",
    "2x^3 - 11x^2 + 2x + 15 = 0\n",
    "$$\n",
    "\n",
    "- We just need to follow the same procedure.  \n",
    "    1. Start with a guess $g$\n",
    "    2. Define an acceptable minimum deviation $\\epsilon$\n",
    "    2. Check if the guess is “close enough” to solution\n",
    "    3. Otherwise create a new guess by $g = g + \\epsilon^2$\n",
    "    4. Repeat the process until close enough"
   ]
  },
  {
   "cell_type": "code",
   "execution_count": null,
   "metadata": {},
   "outputs": [],
   "source": [
    "# Find the root of an equation\n",
    "\n",
    "# Create a function object\n",
    "f = lambda x: 2*x**3 - 11*x**2 + 2*x + 15\n",
    "\n",
    "# Start with a guess\n",
    "g = 0.0\n",
    "\n",
    "# Define minimum deviation\n",
    "epsilon = 0.1\n",
    "\n",
    "# Step\n",
    "step = epsilon**2\n",
    "numGuesses = 0\n",
    "\n",
    "while abs(f(g) - 0) >= epsilon:\n",
    "    g += step\n",
    "    numGuesses += 1\n",
    "\n",
    "# Check the result\n",
    "if abs(f(g) - 0) >= epsilon:\n",
    "    print(\"Failed on finding the root.\")\n",
    "else:\n",
    "    print(\"Find an approximated root: {:.04f}\".format(g))\n",
    "\n",
    "# How many steps do we have?\n",
    "print(\"# of guesses = {}\".format(numGuesses))"
   ]
  },
  {
   "cell_type": "markdown",
   "metadata": {},
   "source": [
    "<a id=\"tag4\"></a>\n",
    "\n",
    "## **A small function object**: `lambda`\n",
    "\n",
    "- A lambda function is a small anonymous function.\n",
    "\n",
    "- A lambda function can take any number of arguments, but can only have one expression.\n",
    "\n",
    "```python\n",
    "# Syntax\n",
    "a = lambda arguments: expression\n",
    "\n",
    "# Examples\n",
    "# 1 \n",
    "f = lambda x: 2*x**3 - 11*x**2 + 2*x + 15\n",
    "# 2\n",
    "a = lambda x, y: (x + y) * (x - y)\n",
    "```\n",
    "\n",
    "- More details about the function object will be introduced in the next lecture."
   ]
  },
  {
   "cell_type": "code",
   "execution_count": 7,
   "metadata": {},
   "outputs": [
    {
     "name": "stdout",
     "output_type": "stream",
     "text": [
      "f(0) = 15\n",
      "f(1) = 8\n",
      "f(2) = -9\n",
      "f(3) = -24\n",
      "f(4) = -25\n",
      "====================\n",
      "a(0, -1) = -1\n",
      "a(1, 0) = 1\n",
      "a(4, 1) = 15\n",
      "a(9, 2) = 77\n",
      "a(16, 3) = 247\n"
     ]
    }
   ],
   "source": [
    "# Examples\n",
    "# 1 \n",
    "f = lambda x: 2*x**3 - 11*x**2 + 2*x + 15\n",
    "\n",
    "for i in range(5):\n",
    "    print(\"f({}) = {}\".format(i, f(i)))\n",
    "\n",
    "print(\"=\"*20)\n",
    "\n",
    "# 2\n",
    "a = lambda x, y: (x + y) * (x - y)\n",
    "\n",
    "for i in range(5):\n",
    "    x = i**2\n",
    "    y = i-1\n",
    "    print(\"a({}, {}) = {}\".format(x, y, a(x, y)))\n",
    "\n"
   ]
  },
  {
   "cell_type": "markdown",
   "metadata": {},
   "source": [
    "- - -\n",
    "\n",
    "### Exercise 3.2\n",
    "\n",
    "- We have already found a root of equation $2x^3 - 11x^2 + 2x + 15 = 0$. \n",
    "\n",
    "$$\n",
    "2x^3 - 11x^2 + 2x + 15 = 0\n",
    "$$\n",
    "\n",
    "- However, our mathematical intuition tells us there are more roots for a cubic equation. Please find an another root of this equation.\n",
    "\n",
    "- Hint: try to find a root along $x<0$.\n",
    "\n",
    "- - -"
   ]
  },
  {
   "cell_type": "markdown",
   "metadata": {},
   "source": [
    "<a id=\"tag5\"></a>\n",
    "\n",
    "## **Bisection search**  \n",
    "\n",
    "- Divide the searching domain into half after each iteration\n",
    "- An efficient way to search the answer\n",
    "\n",
    "<br />\n",
    "<img align=\"center\" height=auto width=700px src=\"https://raw.githubusercontent.com/bruce88617/nycudopcs/main/Lectures/Lecture03/assets/fig3.png\">\n",
    "<br />\n"
   ]
  },
  {
   "cell_type": "code",
   "execution_count": 8,
   "metadata": {},
   "outputs": [
    {
     "name": "stdout",
     "output_type": "stream",
     "text": [
      "Current search region: [0.0000, 1.0000]\n",
      "Current search region: [0.0000, 0.5000]\n",
      "Current search region: [0.0000, 0.2500]\n",
      "0.1875 is close to the square root of 0.04\n",
      "# of guesses = 3\n"
     ]
    }
   ],
   "source": [
    "# Example of bisection search\n",
    "x = 0.04\n",
    "# Define minimum deviation\n",
    "epsilon = 0.01\n",
    "# Set searching region\n",
    "lower_bnd = 0.0\n",
    "upper_bnd = max(1., x)\n",
    "# Start with a guess\n",
    "g = (upper_bnd + lower_bnd)/2\n",
    "numGuesses = 0\n",
    "\n",
    "while abs(g**2 - x) >= epsilon:\n",
    "    print(\"Current search region: [{:.4f}, {:.4f}]\".format(lower_bnd, upper_bnd))\n",
    "    numGuesses += 1\n",
    "    # bisection search\n",
    "    if g**2 < x:\n",
    "        lower_bnd = g\n",
    "    else:\n",
    "        upper_bnd = g\n",
    "    # define a new searching region\n",
    "    g = (upper_bnd + lower_bnd)/2\n",
    "\n",
    "# Check the result\n",
    "if abs(g**2 - x) >= epsilon:\n",
    "    print(\"Failed on finding the square root of {:.2f}\".format(x))\n",
    "else:\n",
    "    print(\"{:.4f} is close to the square root of {:.2f}\".format(g, x))\n",
    "# How many steps do we have?\n",
    "print(\"# of guesses = {}\".format(numGuesses))\n",
    "\n"
   ]
  },
  {
   "cell_type": "markdown",
   "metadata": {},
   "source": [
    "### Find a root of an equation via bisection search \n",
    "\n",
    "- Again, we can numerically solve an equantion via bisection search. For example, find a root of this equation:  \n",
    "\n",
    "$$\n",
    "x^2 - 2x - 2 = 0\n",
    "$$\n",
    "\n",
    "- To achieve this, we have to understand a theorem called the **intermediate value theorem**.\n",
    "\n",
    "> Consider an interval $\\displaystyle I=[a,b]$ of real numbers $\\mathbb{R}$ and a continuous function ${\\displaystyle f\\colon I\\to \\mathbb {R} }$. Then\n",
    "> - Version 1: if $u$ is a number between $f(a)$ and $f(b)$, that is, $$\\min(f(a),f(b))<u<\\max(f(a),f(b)),$$ then there is a $c\\in (a,b)$ such that $f(c)=u$.\n",
    "> \n",
    "> - Version 2: the image set $f(I)$ is also a closed interval, and it contains ${\\bigl [}\\min(f(a),f(b)),\\max(f(a),f(b)){\\bigr ]}$\n",
    "> \n",
    "\n"
   ]
  },
  {
   "cell_type": "code",
   "execution_count": 19,
   "metadata": {},
   "outputs": [
    {
     "name": "stdout",
     "output_type": "stream",
     "text": [
      "Current search region: [0.0000, 10.0000]\n",
      "    Current guess = 5.0000\n",
      "    (lower, current, upper) = (False, True, True)\n",
      "Current search region: [0.0000, 5.0000]\n",
      "    Current guess = 2.5000\n",
      "    (lower, current, upper) = (False, False, True)\n",
      "Current search region: [2.5000, 5.0000]\n",
      "    Current guess = 3.7500\n",
      "    (lower, current, upper) = (False, True, True)\n",
      "Current search region: [2.5000, 3.7500]\n",
      "    Current guess = 3.1250\n",
      "    (lower, current, upper) = (False, True, True)\n",
      "Current search region: [2.5000, 3.1250]\n",
      "    Current guess = 2.8125\n",
      "    (lower, current, upper) = (False, True, True)\n",
      "Current search region: [2.5000, 2.8125]\n",
      "    Current guess = 2.6562\n",
      "    (lower, current, upper) = (False, False, True)\n",
      "==================================================\n",
      "Find an approximated root: 2.7344\n",
      "# of guesses = 6\n"
     ]
    }
   ],
   "source": [
    "# Find the root of an equation via bisection search\n",
    "\n",
    "# Create a function object\n",
    "f = lambda x: x**2 - 2*x - 2\n",
    "\n",
    "# Define minimum deviation\n",
    "epsilon = 0.01\n",
    "\n",
    "# Set searching region\n",
    "lower_bnd = 0.\n",
    "upper_bnd = 10.\n",
    "\n",
    "# Check boundary state\n",
    "lowerState = True if f(lower_bnd) > 0 else False\n",
    "upperState = True if f(upper_bnd) > 0 else False\n",
    "\n",
    "# Start with a guess\n",
    "g = (upper_bnd + lower_bnd)/2\n",
    "numGuesses = 0\n",
    "\n",
    "while abs(f(g) - 0) >= epsilon:\n",
    "    print(\"Current search region: [{:.4f}, {:.4f}]\".format(lower_bnd, upper_bnd))\n",
    "    numGuesses += 1\n",
    "    currentState = True if f(g) > 0 else False\n",
    "    print(\"    Current guess = {:.04f}\".format(g))\n",
    "    print(\"    (lower, current, upper) = ({}, {}, {})\".format(lowerState, currentState, upperState))\n",
    "    # bisection search\n",
    "    if currentState == lowerState:\n",
    "        lower_bnd = g\n",
    "    else:\n",
    "        upper_bnd = g\n",
    "\n",
    "    # define a new searching region\n",
    "    g = (upper_bnd + lower_bnd)/2\n",
    "\n",
    "print(\"=\"*50)\n",
    "# Check the result\n",
    "if abs(f(g) - 0) >= epsilon:\n",
    "    print(\"Failed on finding the root.\")\n",
    "else:\n",
    "    print(\"Find an approximated root: {:.04f}\".format(g))\n",
    "# How many steps do we have?\n",
    "print(\"# of guesses = {}\".format(numGuesses))\n"
   ]
  },
  {
   "cell_type": "markdown",
   "metadata": {},
   "source": [
    "- - -\n",
    "\n",
    "### Exercise 3.3\n",
    "\n",
    "- We have already found a root of equation. \n",
    "\n",
    "$$\n",
    "x^2 - 2x - 2 = 0\n",
    "$$\n",
    "\n",
    "- However, our mathematical intuition tells us there are more roots for a quadratic equation. Please find the other root of this equation.\n",
    "\n",
    "- Hint: we had already found a root within $x \\in [0, 10]$ last time. You should try another region.\n",
    "\n",
    "- - -"
   ]
  },
  {
   "cell_type": "markdown",
   "metadata": {},
   "source": [
    "<center><h4><b>Now you should realize what is your homework?</b></h4></center>"
   ]
  },
  {
   "cell_type": "markdown",
   "metadata": {},
   "source": [
    "<a id=\"tag6\"></a>\n",
    "\n",
    "## **Digression: Floating-point numbers**  \n",
    "\n",
    "- Something you should know\n",
    "- Try this  \n",
    "\n",
    "    ```python\n",
    "    x = 0.\n",
    "    for i in range(10):\n",
    "        x += 0.1\n",
    "    if x == 1.:\n",
    "        print(x, \"= 1.0\")\n",
    "    else:\n",
    "        print(x, \"!= 1.0\")\n",
    "    ```\n"
   ]
  },
  {
   "cell_type": "code",
   "execution_count": 17,
   "metadata": {},
   "outputs": [
    {
     "name": "stdout",
     "output_type": "stream",
     "text": [
      "0.9999999999999999 != 1.0\n",
      "1.4142135623730951\n"
     ]
    }
   ],
   "source": [
    "x = 0.\n",
    "for i in range(10):\n",
    "    x += 0.1\n",
    "if x == 1.:\n",
    "    print(x, \"= 1.0\")\n",
    "else:\n",
    "    print(x, \"!= 1.0\")\n",
    "\n",
    "print(2**.5)"
   ]
  },
  {
   "cell_type": "markdown",
   "metadata": {},
   "source": [
    "### Floating-point numbers\n",
    "\n",
    "#### Numbers in decimal system  \n",
    "\n",
    "- Mantissa, exponent, and sign\n",
    "\n",
    "    <img align=\"center\" height=100px width=auto src=\"https://raw.githubusercontent.com/bruce88617/nycudopcs/main/Lectures/Lecture03/assets/fig4.png\">\n",
    "    <br />\n",
    "\n",
    "- General form\n",
    "\n",
    "    <img align=\"center\" height=100px width=auto src=\"https://raw.githubusercontent.com/bruce88617/nycudopcs/main/Lectures/Lecture03/assets/fig5.png\">\n",
    "    <br />\n",
    "\n",
    "#### Approximation and precision  \n",
    "\n",
    "- Single-precision floating-point number\n",
    "\n",
    "    <img align=\"center\" height=auto width=600px src=\"https://raw.githubusercontent.com/bruce88617/nycudopcs/main/Lectures/Lecture03/assets/fig6.png\">\n",
    "    <br />\n",
    "\n",
    "- Double-precision floating-point number  \n",
    "\n",
    "    <img align=\"center\" height=auto width=600px src=\"https://raw.githubusercontent.com/bruce88617/nycudopcs/main/Lectures/Lecture03/assets/fig7.png\">\n",
    "    <br />\n",
    "\n",
    "- Binary numbers: base-2 numbers\n",
    "    1. $(10100110)_2 = 0 \\times 2^0 + 1 \\times 2^1 + 1 \\times 2^2 + ... + 1 \\times 2^5 + ... + 1 \\times 2^7 = (166)_{10}$\n",
    "    2. $(1.1101)_2 = 1 \\times 2^0 + 1 \\times 2^{-1} + 1 \\times 2^{-2} + 0 \\times 2^{-3} + 1 \\times 2^{-4} = (1.8125)_{10}$\n",
    "\n",
    "<br />\n",
    "  \n",
    "- General form of floating-point number: $\\pm (1.mantissa) \\times 2^{exponent}$\n",
    "    \n"
   ]
  },
  {
   "cell_type": "markdown",
   "metadata": {},
   "source": [
    "<a id=\"tag7\"></a>\n",
    "\n",
    "## **Newton-Raphson method**  \n",
    "\n",
    "- A simple and iconic technique for optimization problem (searching the local extreme values)\n",
    "- For example: finding a square root of an arbitrary number $t$\n",
    "    1. It is equivalent to find the solution of this equation: $f(x) = x^2 - t = 0$\n",
    "    2. The solution can be found iteratively via $x_{n+1} = x_{n} - \\frac{f(x_{n})}{f'({x_{n})}} $\n",
    "- Gradient descent algorithm"
   ]
  },
  {
   "cell_type": "code",
   "execution_count": null,
   "metadata": {},
   "outputs": [],
   "source": [
    "# Example of Newton-Raphson method\n",
    "# Find the square root of an arbitrary number\n",
    "t = 9487\n",
    "# Start with a guess\n",
    "ans = t/2\n",
    "# Define minimum deviation\n",
    "epsilon = 0.01\n",
    "numGuesses = 0\n",
    "\n",
    "while abs(ans**2 - t) >= epsilon:\n",
    "    numGuesses += 1\n",
    "    ans = ans - (ans**2 - t) / (2*ans)\n",
    "\n",
    "print(\"# of guesses: {}\".format(numGuesses))\n",
    "print(\"{:0.4f} is close enough to the square root of {}.\".format(ans, t))"
   ]
  },
  {
   "cell_type": "markdown",
   "metadata": {},
   "source": [
    "### Find a root of an equation via Newton-Raphson method\n",
    "\n",
    "- Again, we can numerically solve an equantion via Newton-Raphson method. For example, find a root of this equation:  \n",
    "\n",
    "$$\n",
    "x^2 - 4x - 5 = 0\n",
    "$$\n",
    "\n",
    "- You just need to follow this procedure:\n",
    "    1. Start with a guess $x_n$\n",
    "    2. Calculate the error $E = f(x_n)$.\n",
    "    3. If the error $E$ is less than the minimum deviation $\\epsilon$, then we can say we have found an approximated root $x_n$. \n",
    "    4. If not, update the guess via $x_{n+1} = x_{n} - \\frac{f(x_{n})}{f'({x_{n})}}$ and repeat step 2 & 3."
   ]
  },
  {
   "cell_type": "code",
   "execution_count": 24,
   "metadata": {},
   "outputs": [
    {
     "name": "stdout",
     "output_type": "stream",
     "text": [
      "# of guesses: 9\n",
      "Find an approximated root: -1.0009\n"
     ]
    }
   ],
   "source": [
    "# Find the root of an equation via Newton-Raphson method\n",
    "\n",
    "# Create a function object\n",
    "f = lambda x: x**2 - 4*x - 5\n",
    "\n",
    "# Start with a guess\n",
    "ans = 0\n",
    "# Define minimum deviation\n",
    "epsilon = 0.01\n",
    "numGuesses = 0\n",
    "\n",
    "while abs(f(ans) - 0) >= epsilon:\n",
    "    numGuesses += 1\n",
    "    ans = ans - (f(ans)) / (2*ans - 2)\n",
    "\n",
    "print(\"# of guesses: {}\".format(numGuesses))\n",
    "print(\"Find an approximated root: {:.04f}\".format(ans))"
   ]
  },
  {
   "cell_type": "markdown",
   "metadata": {},
   "source": [
    "- - -\n",
    "\n",
    "### Exercise 3.4\n",
    "\n",
    "- We have already found a root of equation $x^2 - 4x - 5 = 0$ based on the Newton-Raphson method. However, our mathematical intuition tells us there are more roots for a quadratic equation. \n",
    "\n",
    "- Please try to find the other root of this equation via Newton-Raphson method and explain why we can achieve this.\n",
    "\n",
    "- - -"
   ]
  }
 ],
 "metadata": {
  "kernelspec": {
   "display_name": "Python 3.8.10 ('nycudopcs')",
   "language": "python",
   "name": "python3"
  },
  "language_info": {
   "codemirror_mode": {
    "name": "ipython",
    "version": 3
   },
   "file_extension": ".py",
   "mimetype": "text/x-python",
   "name": "python",
   "nbconvert_exporter": "python",
   "pygments_lexer": "ipython3",
   "version": "3.11.4"
  },
  "orig_nbformat": 4,
  "vscode": {
   "interpreter": {
    "hash": "5fe2e5cd560f36aa3aedf58cd7990de02027c6dec68ca092676a4258cbc93843"
   }
  }
 },
 "nbformat": 4,
 "nbformat_minor": 2
}
