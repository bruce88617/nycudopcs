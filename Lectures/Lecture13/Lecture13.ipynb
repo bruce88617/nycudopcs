{
 "cells": [
  {
   "cell_type": "markdown",
   "metadata": {},
   "source": [
    "<br />\n",
    "<br />\n",
    "\n",
    "<center><h1><b>Lecture 13</b></h1></center>\n",
    "<center><h1><b>Scientific Computing and Data Visualization with Python II</b></h1></center>\n",
    "\n",
    "<center><h4>Time: M56 (13:20 ~ 15:10) and R2 (09:00 ~ 09:50)</h4></center>\n",
    "<br />\n",
    "\n",
    "<center><h2>Chieh-En Lee (李杰恩)</h2></center>\n",
    "\n",
    "<center>\n",
    "<h4><a href=\"mailto:celee@nycu.edu.tw\">celee@nycu.edu.tw</a></h4>\n",
    "</center>\n",
    "\n",
    "<center><h3><a href=\"https://dop.nycu.edu.tw/ch/index.html\">Department of Photonics</a>, <a href=\"https://www.nycu.edu.tw/\">NYCU</a></h3></center>\n",
    "\n",
    "<br />\n",
    "<center><h5><a href=\"https://github.com/bruce88617/nycudopcs\">Introduction to Computer and Computer Science</a>, 2023 Fall</h5></center>\n"
   ]
  },
  {
   "cell_type": "markdown",
   "metadata": {},
   "source": [
    "## Last time\n",
    "\n",
    "- Python package: NumPy  \n",
    "- Python package: Matplotlib  "
   ]
  },
  {
   "cell_type": "markdown",
   "metadata": {},
   "source": [
    "## **Today**\n",
    "\n",
    "<html>\n",
    "<head>\n",
    "</head>\n",
    "<body>\n",
    "<ul>\n",
    "  <li><a href=\"#tag1\">More on Python package: NumPy</a></li>\n",
    "  <li><a href=\"#tag2\">More on Python package: Matplotlib</a></li>\n",
    "  <li><a href=\"#tag3\">The colorbar of Matplotlib</a></li>\n",
    "</ul>\n",
    "\n",
    "</body>"
   ]
  },
  {
   "cell_type": "markdown",
   "metadata": {},
   "source": [
    "<a id=\"tag1\"></a>\n",
    "\n",
    "## **More on Python package: `NumPy`**  \n",
    "\n",
    "#### 2D array\n",
    "\n",
    "- Can be directly ceated by `list` or other methods"
   ]
  },
  {
   "cell_type": "code",
   "execution_count": null,
   "metadata": {},
   "outputs": [],
   "source": [
    "import numpy as np\n",
    "import matplotlib.pyplot as plt"
   ]
  },
  {
   "cell_type": "code",
   "execution_count": null,
   "metadata": {},
   "outputs": [],
   "source": [
    "tmp = [\n",
    "    [1,3,5,7,9],\n",
    "    [2,4,6,8,10],\n",
    "    ]\n",
    "a = np.array(tmp)\n",
    "\n",
    "print(\"a:\", a)\n",
    "print(\"dtype:\", a.dtype)\n",
    "print(\"shape:\", a.shape)"
   ]
  },
  {
   "cell_type": "markdown",
   "metadata": {},
   "source": [
    "<img align=\"center\" height=auto width=800px src=\"https://raw.githubusercontent.com/bruce88617/nycudopcs/main/Lectures/Lecture13/assets/fig1.png\">"
   ]
  },
  {
   "cell_type": "code",
   "execution_count": null,
   "metadata": {},
   "outputs": [],
   "source": [
    "print(\"a.sum():\", a.sum())\n",
    "print(\"a.mean():\", a.mean())\n",
    "print(\"a.sum(axis=0):\", a.sum(axis=0))\n",
    "print(\"a.mean(axis=1):\", a.mean(axis=1))"
   ]
  },
  {
   "cell_type": "markdown",
   "metadata": {},
   "source": [
    "#### `np.unravel_index`\n",
    "\n",
    "- Converts a flat index or array of flat indices into a tuple of coordinate arrays.\n",
    "\n",
    "- Syntax\n",
    "\n",
    "    ```python\n",
    "    np.unravel_index(indices, shape, order='C')\n",
    "    ```"
   ]
  },
  {
   "cell_type": "code",
   "execution_count": null,
   "metadata": {},
   "outputs": [],
   "source": [
    "# b = np.random.randint(0, 99, size=(15,))\n",
    "b = np.array([57,6,72,68,52,45,68,49,3,69,79,11,6,26,98])\n",
    "c = b.copy().reshape(3,5)\n",
    "\n",
    "print(\"b:\", b)\n",
    "print(\"c:\\n\", c)"
   ]
  },
  {
   "cell_type": "code",
   "execution_count": null,
   "metadata": {},
   "outputs": [],
   "source": [
    "print(\"Index of b.min():\", np.argmin(b))\n",
    "print(\"Index of c.min():\", np.argmin(c))    # Return an index of flattened array\n",
    "print(\"=\"*50)\n",
    "print(\"Index of c.min():\", np.unravel_index(np.argmin(c), c.shape))"
   ]
  },
  {
   "cell_type": "markdown",
   "metadata": {},
   "source": [
    "<img align=\"center\" height=auto width=800px src=\"https://raw.githubusercontent.com/bruce88617/nycudopcs/main/Lectures/Lecture13/assets/fig2.png\">\n",
    "\n",
    "- - -"
   ]
  },
  {
   "cell_type": "code",
   "execution_count": null,
   "metadata": {},
   "outputs": [],
   "source": [
    "# Array reshape\n",
    "print(\"c:\\n\", c)\n",
    "print(\"c.ravel():\\n\", c.ravel())\n",
    "print(\"c.reshape(-1):\\n\", c.reshape(-1))\n",
    "print(\"c.flatten():\\n\", c.flatten())\n",
    "# add new axis\n",
    "print(\"c[np.newaxis,:].shape:\", c[np.newaxis,:].shape)\n",
    "print(\"c[None,:].shape:\", c[None,:].shape)\n",
    "print(\"c.reshape(1,3,5):\", c.reshape(1,3,5).shape)\n",
    "print(\"c[:,np.newaxis].shape:\", c[:,np.newaxis].shape)\n",
    "print(\"c[:,:,np.newaxis].shape:\", c[:,:,np.newaxis].shape)"
   ]
  },
  {
   "cell_type": "markdown",
   "metadata": {},
   "source": [
    "#### Array combination and seperation\n",
    "\n",
    "<img align=\"center\" height=auto width=800px src=\"https://raw.githubusercontent.com/bruce88617/nycudopcs/main/Lectures/Lecture13/assets/fig3.png\">"
   ]
  },
  {
   "cell_type": "code",
   "execution_count": null,
   "metadata": {},
   "outputs": [],
   "source": [
    "a = np.array([57,6,72,68,52,45,68,49,3,69,79,11,6,26,98]).reshape(3,5)\n",
    "\n",
    "# horizontal split\n",
    "# b, c = np.hsplit(a, [-2])\n",
    "b, c = np.split(a, [-2], axis=1)\n",
    "\n",
    "print(\"a:\\n\", a)\n",
    "print(\"b:\\n\", b)\n",
    "print(\"c:\\n\", c)\n",
    "\n",
    "# vertical split\n",
    "# d, e = np.vsplit(a, [-1])\n",
    "d, e = np.split(a, [-1], axis=0)\n",
    "\n",
    "print(\"d:\\n\", d)\n",
    "print(\"e:\\n\", e)"
   ]
  },
  {
   "cell_type": "code",
   "execution_count": null,
   "metadata": {},
   "outputs": [],
   "source": [
    "print(\"np.c_[b,c]:\\n\", np.c_[b,c])\n",
    "print(\"np.hstack((b,c)):\\n\", np.hstack((b,c)))\n",
    "print(\"np.column_stack((b,c)):\\n\", np.column_stack((b,c)))\n",
    "print(\"np.append(b,c,axis=1):\\n\", np.append(b,c,axis=1))\n",
    "print(\"np.concatenate((b,c),axis=1):\\n\", np.concatenate((b,c),axis=1))"
   ]
  },
  {
   "cell_type": "code",
   "execution_count": null,
   "metadata": {},
   "outputs": [],
   "source": [
    "print(\"np.r_[d,e]:\\n\", np.r_[d,e])\n",
    "print(\"np.vstack((d,e)):\\n\", np.vstack((d,e)))\n",
    "print(\"np.row_stack((d,e)):\\n\", np.row_stack((d,e)))\n",
    "print(\"np.append(d,e,axis=0):\\n\", np.append(d,e,axis=0))\n",
    "print(\"np.concatenate((d,e),axis=0):\\n\", np.concatenate((d,e),axis=0))"
   ]
  },
  {
   "cell_type": "markdown",
   "metadata": {},
   "source": [
    "#### Array padding\n",
    "\n",
    "- Pad an array\n",
    "\n",
    "<img align=\"center\" height=auto width=800px src=\"https://raw.githubusercontent.com/bruce88617/nycudopcs/main/Lectures/Lecture13/assets/fig4.png\">"
   ]
  },
  {
   "cell_type": "code",
   "execution_count": null,
   "metadata": {},
   "outputs": [],
   "source": [
    "a = np.array([57,6,72,68,52,45,68,49,3,69,79,11,6,26,98]).reshape(3,5)\n",
    "\n",
    "print(\"np.pad(a, ((0,0),(2,0))):\\n\", np.pad(a, ((0,0),(2,0))))\n",
    "print(\"np.pad(a, ((0,0),(0,2)), mode='reflect'):\\n\", np.pad(a, ((0,0),(0,2)), mode='reflect'))\n",
    "print(\"np.pad(a, 1, mode='symmetric'):\\n\", np.pad(a, 1, mode='symmetric'))\n",
    "print(\"np.pad(a, ((0,3),(2,2)), constant_values=1):\\n\", np.pad(a, ((0,3),(2,2)), constant_values=1))"
   ]
  },
  {
   "cell_type": "markdown",
   "metadata": {},
   "source": [
    "#### 3D array or n-dimensional array\n",
    "\n",
    "<img align=\"center\" height=auto width=800px src=\"https://raw.githubusercontent.com/bruce88617/nycudopcs/main/Lectures/Lecture13/assets/fig5.png\">\n",
    "\n",
    "- - -"
   ]
  },
  {
   "cell_type": "markdown",
   "metadata": {},
   "source": [
    "<a id=\"tag2\"></a>\n",
    "\n",
    "## **More on Python package: `Matplotlib`**  \n",
    "\n"
   ]
  },
  {
   "cell_type": "markdown",
   "metadata": {},
   "source": [
    "#### Types of plotting in Matplotlib\n",
    "\n",
    "- [Line plot](https://matplotlib.org/stable/api/_as_gen/matplotlib.axes.Axes.plot.html)\n",
    "- [Shaded plot](https://matplotlib.org/stable/api/_as_gen/matplotlib.axes.Axes.fill_between.html)\n",
    "- [Scatter plot](https://matplotlib.org/stable/api/_as_gen/matplotlib.axes.Axes.scatter.html)\n",
    "- [Boxplot](https://matplotlib.org/stable/api/_as_gen/matplotlib.axes.Axes.boxplot.html)\n",
    "- [Histogram](https://matplotlib.org/stable/api/_as_gen/matplotlib.axes.Axes.hist.html)\n",
    "\n",
    "- - -\n",
    "\n",
    "- [Heatmap](https://matplotlib.org/stable/api/_as_gen/matplotlib.axes.Axes.hist2d.html)\n",
    "- [Contour map](https://matplotlib.org/stable/api/_as_gen/matplotlib.axes.Axes.contour.html)\n",
    "- [Stream plot](https://matplotlib.org/stable/api/_as_gen/matplotlib.axes.Axes.streamplot.html) (To display 2D vector fields)\n",
    "- [Imshow](https://matplotlib.org/stable/api/_as_gen/matplotlib.axes.Axes.imshow.html)\n",
    "\n",
    "Supplement: [Grid control](https://matplotlib.org/stable/tutorials/intermediate/gridspec.html)"
   ]
  },
  {
   "cell_type": "markdown",
   "metadata": {},
   "source": [
    "#### Imshow\n",
    "\n",
    "- Display data as an image, i.e., on a 2D regular raster.\n",
    "\n",
    "- Syntax\n",
    "\n",
    "    ```python\n",
    "    Axes.imshow(X, cmap=None, norm=None, *, aspect=None, interpolation=None, alpha=None, \n",
    "                vmin=None, vmax=None, origin=None, extent=None, interpolation_stage=None, \n",
    "                filternorm=True, filterrad=4.0, resample=None, url=None, data=None, **kwargs)\n",
    "    ```\n",
    "\n",
    "- [Documentation](https://matplotlib.org/stable/api/_as_gen/matplotlib.axes.Axes.imshow.html)\n",
    "- [Choosing Colormaps](https://matplotlib.org/stable/users/explain/colors/colormaps.html)"
   ]
  },
  {
   "cell_type": "code",
   "execution_count": null,
   "metadata": {},
   "outputs": [],
   "source": [
    "import numpy as np\n",
    "import matplotlib.pyplot as plt\n",
    "\n",
    "img = np.load(\".//data//arr3d.npy\")\n",
    "\n",
    "fig = plt.figure(1, figsize=(10,4), dpi=100)\n",
    "ax1 = fig.add_subplot(141)\n",
    "ax1.imshow(img)\n",
    "ax1.axis(\"off\")\n",
    "ax2 = fig.add_subplot(142)\n",
    "ax2.imshow(img[:,:,0], cmap=\"Reds\")\n",
    "ax2.axis(\"off\")\n",
    "ax3 = fig.add_subplot(143)\n",
    "ax3.imshow(img[:,:,1], cmap='Greens')\n",
    "ax3.axis(\"off\")\n",
    "ax4 = fig.add_subplot(144)\n",
    "ax4.imshow(img[:,:,2], cmap='Blues')\n",
    "ax4.axis(\"off\")\n",
    "\n",
    "plt.show()"
   ]
  },
  {
   "cell_type": "code",
   "execution_count": null,
   "metadata": {},
   "outputs": [],
   "source": [
    "fig, axes = plt.subplots(1, 4, dpi=100, figsize=(10,4))\n",
    "\n",
    "axes[0].imshow(img)\n",
    "axes[0].axis(\"off\")\n",
    "\n",
    "axes[1].imshow(img[:,:,0], cmap=\"Reds\")\n",
    "axes[1].axis(\"off\")\n",
    "\n",
    "axes[2].imshow(img[:,:,1], cmap='Greens')\n",
    "axes[2].axis(\"off\")\n",
    "\n",
    "axes[3].imshow(img[:,:,2], cmap='Blues')\n",
    "axes[3].axis(\"off\")\n",
    "\n",
    "plt.show()"
   ]
  },
  {
   "cell_type": "code",
   "execution_count": null,
   "metadata": {},
   "outputs": [],
   "source": [
    "fig, axes = plt.subplots(1, 4, dpi=100, figsize=(10,4))\n",
    "\n",
    "style = [\"Reds\", \"Greens\", \"Blues\"]\n",
    "\n",
    "for i in range(len(axes)):\n",
    "    if i == 0:\n",
    "        axes[i].imshow(img)\n",
    "    else:\n",
    "        axes[i].imshow(img[:,:,i-1], cmap=style[i-1])\n",
    "    axes[i].axis(\"off\")\n",
    "\n",
    "plt.show()"
   ]
  },
  {
   "cell_type": "code",
   "execution_count": null,
   "metadata": {},
   "outputs": [],
   "source": [
    "fig, axes = plt.subplots(2, 2, dpi=100, figsize=(5,4))\n",
    "\n",
    "axes[0,0].imshow(img)\n",
    "axes[0,0].axis(\"off\")\n",
    "\n",
    "axes[0,1].imshow(img[:,:,0], cmap=\"Reds\")\n",
    "axes[0,1].axis(\"off\")\n",
    "\n",
    "axes[1,0].imshow(img[:,:,1], cmap='Greens')\n",
    "axes[1,0].axis(\"off\")\n",
    "\n",
    "axes[1,1].imshow(img[:,:,2], cmap='Blues')\n",
    "axes[1,1].axis(\"off\")\n",
    "\n",
    "plt.show()"
   ]
  },
  {
   "cell_type": "markdown",
   "metadata": {},
   "source": [
    "#### Exercise 1: Image\n",
    "\n",
    "- Please write a program that plots below's figure.\n",
    "\n",
    "- Your data is [here (exercise1.npy)](.//data//exercise1.npy)\n",
    "\n",
    "    ```python\n",
    "    img = np.load(\".//data//exercise1.npy\")\n",
    "    ```\n",
    "\n",
    "- How to generate graylevel image?  \n",
    "\n",
    "$$\n",
    "Y = 0.299 * R + 0.587 * G + 0.114 * B\n",
    "$$\n",
    "\n",
    "- - -\n",
    "\n",
    "<img align=\"center\" height=auto width=800px src=\"https://raw.githubusercontent.com/bruce88617/nycudopcs/main/Lectures/Lecture13/assets/exercise1.png\">\n",
    "\n",
    "- - -"
   ]
  },
  {
   "cell_type": "markdown",
   "metadata": {},
   "source": [
    "#### 2D histogram\n",
    "\n",
    "- Make a 2D histogram plot.\n",
    "\n",
    "- Syntax\n",
    "\n",
    "    ```python\n",
    "    Axes.hist2d(x, y, bins=10, range=None, density=False, weights=None, cmin=None, cmax=None, *, data=None, **kwargs)\n",
    "    ```\n",
    "\n",
    "- [Documentation](https://matplotlib.org/stable/api/_as_gen/matplotlib.axes.Axes.hist2d.html)\n",
    "\n",
    "- - -\n",
    "\n",
    "- Example 1: Normal distribution\n",
    "\n",
    "$$\n",
    "f(x;\\mu, \\sigma) = \\dfrac{1}{\\sigma \\sqrt{2\\pi}} e^{-\\frac{1}{2} \\left(\\frac{x-\\mu}{\\sigma}\\right)^2}\n",
    "$$"
   ]
  },
  {
   "cell_type": "code",
   "execution_count": null,
   "metadata": {},
   "outputs": [],
   "source": [
    "x1 = np.random.normal(loc=2., scale=0.5, size=1000)\n",
    "x2 = np.random.normal(loc=6., scale=1., size=1000)\n",
    "\n",
    "fig = plt.figure(figsize=(10, 4))\n",
    "ax1 = fig.add_subplot(121)\n",
    "h = ax1.hist2d(x1, x2, bins=30, cmap='jet')\n",
    "# plt.colorbar(h[3], ax=ax1)\n",
    "cbar = fig.colorbar(h[3])\n",
    "\n",
    "ax2 = fig.add_subplot(122)\n",
    "h = ax2.hist(x1, bins=30, facecolor='blue', alpha=0.5, label='x1')\n",
    "h = ax2.hist(x2, bins=30, facecolor='red', alpha=0.5, label='x2')\n",
    "ax2.legend()\n",
    "plt.show()"
   ]
  },
  {
   "cell_type": "markdown",
   "metadata": {},
   "source": [
    "#### Contour map\n",
    "\n",
    "- Plot contour lines.\n",
    "\n",
    "- Syntax\n",
    "\n",
    "    ```python\n",
    "    Axes.contour([X, Y,] Z, [levels,] alpha, cmap, linewidths, linestyles, **kwargs)\n",
    "    Axes.contourf([X, Y,] Z, [levels,] alpha, cmap, linewidths, linestyles, **kwargs)\n",
    "    ```\n",
    "\n",
    "- [Documentation](https://matplotlib.org/stable/api/_as_gen/matplotlib.axes.Axes.contour.html)\n",
    "\n",
    "- - -\n",
    "\n",
    "- Example: Himmelblau's function\n",
    "\n",
    "$$\n",
    "\\begin{equation}\n",
    "f(x,y) = (x^{2}+y-11)^{2} + (x+y^{2}-7)^{2}\n",
    "\\end{equation}\n",
    "$$\n",
    "\n",
    "- Four identical local minimum @$(3.00,2.00),(−2.81,3.13),(−3.80,−3.28),(3.58,−1.85)$"
   ]
  },
  {
   "cell_type": "code",
   "execution_count": null,
   "metadata": {},
   "outputs": [],
   "source": [
    "# Two ways to compute 2D function\n",
    "\n",
    "# 1. Use np.meshgrid\n",
    "x = np.linspace(-5, 5, 501)    # Create a 1D array, shape: (501,)\n",
    "y = np.linspace(-5, 5, 501)    # Create a 1D array, shape: (501,)\n",
    "xx ,yy = np.meshgrid(x, y)     # Create two 2D arrays, shape: (501, 501)\n",
    "f1 = (xx**2 + yy - 11)**2 + (xx + yy**2 -7)**2\n",
    "\n",
    "# 2. Use broadcasting\n",
    "x = np.linspace(-5, 5, 501).reshape(1, -1)    # Create a 1D array then reshape into 2D, shape: (1, 501)\n",
    "y = np.linspace(-5, 5, 501).reshape(-1, 1)    # Create a 1D array then reshape into 2D, shape: (1, 501)\n",
    "f2 = (x**2 + y - 11)**2 + (x + y**2 -7)**2\n",
    "\n",
    "# Verify f1 and f2\n",
    "print(\"Is f1 equal to f2?\\n\", np.array_equal(f1, f2))"
   ]
  },
  {
   "cell_type": "code",
   "execution_count": null,
   "metadata": {},
   "outputs": [],
   "source": [
    "fig = plt.figure(figsize=(14, 4))\n",
    "\n",
    "ax1 = fig.add_subplot(121)\n",
    "im1 = ax1.contour(f2, cmap='jet', levels=20, extent=[-5, 5, -5, 5])\n",
    "ax1.clabel(im1, inline=True, fontsize=8)\n",
    "# Use logarithm to enhance the contrast\n",
    "ax2 = fig.add_subplot(122)\n",
    "im2 = ax2.contour(xx, yy, np.log(1+f2), cmap='jet', levels=20, extent=[-5, 5, -5, 5])\n",
    "ax2.clabel(im2, inline=True, fontsize=8)\n",
    "\n",
    "plt.show()"
   ]
  },
  {
   "cell_type": "code",
   "execution_count": null,
   "metadata": {},
   "outputs": [],
   "source": [
    "fig = plt.figure(figsize=(18, 6))\n",
    "\n",
    "# contourf\n",
    "ax1 = fig.add_subplot(121)\n",
    "im1 = ax1.contourf(f2, cmap='jet', levels=10, extent=[-5, 5, -5, 5])\n",
    "ax1.clabel(im1, levels=im1.levels[::2], inline=True, fontsize=8)\n",
    "cbar = fig.colorbar(im1)\n",
    "\n",
    "# Use logarithm to enhance the contrast\n",
    "ax2 = fig.add_subplot(122)\n",
    "im2 = ax2.contourf(f2, cmap='jet', levels=10, extent=[-5, 5, -5, 5])\n",
    "ax2.clabel(im2, levels=im2.levels[::2], inline=True, fontsize=8)\n",
    "# Add contour lines\n",
    "im3 = ax2.contour(f2, cmap='Reds_r', levels=im1.levels[::1], linestyles='dashed', extent=[-5, 5, -5, 5])\n",
    "cbar = fig.colorbar(im2)\n",
    "cbar.add_lines(im3)\n",
    "\n",
    "plt.show()"
   ]
  },
  {
   "cell_type": "markdown",
   "metadata": {},
   "source": [
    "#### Stream plot\n",
    "\n",
    "- Draw streamlines of a vector flow.\n",
    "\n",
    "- Syntax\n",
    "\n",
    "    ```python\n",
    "    Axes.streamplot(x, y, u, v, density=1, linewidth=None, color=None, cmap=None, norm=None, \n",
    "                    arrowsize=1, arrowstyle='-|>', minlength=0.1,\n",
    "                    transform=None, zorder=None, start_points=None, maxlength=4.0, \n",
    "                    integration_direction='both', broken_streamlines=True, *, data=None)\n",
    "    ```\n",
    "\n",
    "    * x, y: Evenly spaced strictly increasing arrays to make a grid.\n",
    "    * u, v: $x$ and $y$-velocities. The number of rows and columns must match the length of y and x, respectively.  \n",
    "<br>\n",
    "\n",
    "- [Documentation](https://matplotlib.org/stable/api/_as_gen/matplotlib.axes.Axes.streamplot.html)\n",
    "\n",
    "- Example: Himmelblau's function\n",
    "\n",
    "$$\n",
    "\\begin{equation}\n",
    "f(x,y) = (x^{2}+y-11)^{2} + (x+y^{2}-7)^{2}\n",
    "\\end{equation}\n",
    "$$\n",
    "\n",
    "$$\n",
    "\\begin{align}\n",
    "\\nabla f(x,y) &= \\dfrac{\\partial f}{\\partial x} \\hat{x} + \\dfrac{\\partial f}{\\partial y} \\hat{y} \\\\\n",
    "\\rightarrow u &= \\dfrac{\\partial f}{\\partial x} = 4 x^3 + 4xy + 2y^2 - 42x - 14 \\\\\n",
    "\\rightarrow v &= \\dfrac{\\partial f}{\\partial y} = 4 y^3 + 4xy + 2x^2 - 26y - 22\n",
    "\\end{align}\n",
    "$$"
   ]
  },
  {
   "cell_type": "code",
   "execution_count": null,
   "metadata": {},
   "outputs": [],
   "source": [
    "x = np.linspace(-5, 5, 501).reshape(1, -1)    # Create a 1D array then reshape into 2D, shape: (1, 501)\n",
    "y = np.linspace(-5, 5, 501).reshape(-1, 1)    # Create a 1D array then reshape into 2D, shape: (1, 501)\n",
    "f = (x**2 + y - 11)**2 + (x + y**2 -7)**2\n",
    "u = 4*x**3 + 4*x*y + 2*y**2 - 42*x - 14\n",
    "v = 4*y**3 + 4*x*x + 2*x**2 - 26*y - 22"
   ]
  },
  {
   "cell_type": "code",
   "execution_count": null,
   "metadata": {},
   "outputs": [],
   "source": [
    "fig = plt.figure(figsize=(10, 6))\n",
    "\n",
    "ax1 = fig.add_subplot(111)\n",
    "im1 = ax1.contour(f, cmap='jet', levels=20, extent=[-5, 5, -5, 5])\n",
    "ax1.clabel(im1, inline=True, fontsize=8)\n",
    "\n",
    "color = np.log(np.hypot(u, v))\n",
    "# im2 = ax1.streamplot(x, y, u, v, color=color, cmap=\"terrain\")\n",
    "im2 = ax1.streamplot(x, y, u, v, color=color, cmap=\"Reds_r\")\n",
    "\n",
    "plt.colorbar(im1, ax=ax1)\n",
    "plt.show()"
   ]
  },
  {
   "cell_type": "markdown",
   "metadata": {},
   "source": [
    "#### Exercise 2: electric field of point charges\n",
    "\n",
    "$$\n",
    "\\begin{equation}\n",
    "V_{net} = \\sum_{i}{V_{i}} = \\dfrac{1}{4\\pi\\epsilon_{0}} \\sum_{i}{\\dfrac{q_{i}}{r_{i}}}\n",
    ", \\; \\text{where} \\; r_{i} = \\sqrt{(x-x_i)^2 + (y-y_i)^2} \n",
    "\\; \\text{and} \\; (x_i, y_i) \\; \\text{is the location of point source}\n",
    "\\end{equation}\n",
    "$$\n",
    "\n",
    "\n",
    "\n",
    "$$\n",
    "\\begin{aligned}\n",
    "E_{i} = -\\nabla V_{i} &= -\\dfrac{\\partial V_{i}}{\\partial x} \\hat{x} -\\dfrac{\\partial V_{i}}{\\partial y} \\hat{y} \\\\\n",
    "\\rightarrow E_{i,x} &= -\\dfrac{\\partial V_{i}}{\\partial x}= \\dfrac{1}{4\\pi\\epsilon_{0}} \\sum_{i}{\\dfrac{q}{r_{i}^{3}} \\cdot (x-x_i)}\\\\\n",
    "\\rightarrow E_{i,y} &= -\\dfrac{\\partial V_{i}}{\\partial y}= \\dfrac{1}{4\\pi\\epsilon_{0}} \\sum_{i}{\\dfrac{q}{r_{i}^{3}} \\cdot (y-y_i)}\\\\\n",
    "\\rightarrow E_{i} &= \\dfrac{1}{4\\pi\\epsilon_{0}} \\sum_{i}{\\dfrac{q_i}{r_{i}^{2}}}\n",
    "\\end{aligned}\n",
    "$$\n",
    "\n",
    "- Please write a program that plots the electric field of the following conditions:  \n",
    "\n",
    "    1. 1 positive charge $(+q)$ at $(1, 1)$ and 1 negative charge $(-q)$ at $(-1, -1)$\n",
    "    2. 2 positive charges $(+q)$ at $(1, 1), (-1,-1)$ and 2 negative charges $(-q)$ at $(1, -1), (-1, 1)$\n",
    "\n",
    "- - -\n",
    "\n",
    "#### Exercise 2-1\n",
    "\n",
    "<img align=\"center\" height=auto width=500px src=\"https://raw.githubusercontent.com/bruce88617/nycudopcs/main/Lectures/Lecture13/assets/exercise2-1.png\">\n",
    "\n",
    "- - -\n",
    "\n",
    "#### Exercise 2-2\n",
    "\n",
    "<img align=\"center\" height=auto width=500px src=\"https://raw.githubusercontent.com/bruce88617/nycudopcs/main/Lectures/Lecture13/assets/exercise2-2.png\">\n",
    "\n",
    "- - -"
   ]
  },
  {
   "cell_type": "markdown",
   "metadata": {},
   "source": [
    "<details><summary>Click here for solution</summary>\n",
    "\n",
    "    ```python\n",
    "    import numpy as np\n",
    "    import matplotlib.pyplot as plt\n",
    "\n",
    "    def electricPotential(x, y, charges, positions):\n",
    "        k = (4 * np.pi * 8.854e-12)**(-1)\n",
    "        V = np.zeros_like(x)\n",
    "        for charge, position in zip(charges, positions):\n",
    "            V += k*charge / np.sqrt((x-position[0]) ** 2 + (y-position[1]) ** 2)\n",
    "        return V\n",
    "\n",
    "    def electricField(x, y, charges, positions):\n",
    "        k = (4 * np.pi * 8.854e-12)**(-1)\n",
    "        Ex = np.zeros_like(x)\n",
    "        Ey = np.zeros_like(x)\n",
    "        for charge, position in zip(charges, positions):\n",
    "            den = np.hypot(x-position[0], y-position[1]) ** 3\n",
    "            Ex += k*charge * (x - position[0]) / den\n",
    "            Ey += k*charge * (y - position[1]) / den\n",
    "        return Ex, Ey\n",
    "\n",
    "    x = np.linspace(-3, 3, 200)\n",
    "    y = np.linspace(-3, 3, 200)\n",
    "    xx, yy = np.meshgrid(x, y)\n",
    "\n",
    "    # 1\n",
    "    charges = [-1., 1.]\n",
    "    positions = [(-1, -1), (1, 1)]\n",
    "\n",
    "    V = electricPotential(xx, yy, charges, positions)\n",
    "    Ex, Ey = electricField(xx, yy, charges, positions)\n",
    "\n",
    "    fig = plt.figure(1, figsize=(10, 6), dpi=100)\n",
    "\n",
    "    ax1 = fig.add_subplot(111)\n",
    "    im1 = ax1.imshow(V, origin='lower', cmap='bwr', extent=[-3,3,-3,3])\n",
    "    ax1.grid(True)\n",
    "\n",
    "    color = np.log(np.hypot(Ex, Ey))\n",
    "    im2 = ax1.streamplot(x, y, Ex, Ey, color=color, cmap=\"terrain\")\n",
    "\n",
    "    plt.colorbar(im1, ax=ax1)\n",
    "    plt.show()\n",
    "\n",
    "    ```\n",
    "\n",
    "</details>"
   ]
  },
  {
   "cell_type": "markdown",
   "metadata": {},
   "source": [
    "<a id=\"tag3\"></a>\n",
    "\n",
    "## **The `colorbar` of `Matplotlib`**  "
   ]
  },
  {
   "cell_type": "code",
   "execution_count": null,
   "metadata": {},
   "outputs": [],
   "source": [
    "fig = plt.figure(2, figsize=(12,2), dpi=100)\n",
    "ax1 = fig.add_subplot(141)\n",
    "im1 = ax1.imshow(img)\n",
    "cbar = fig.colorbar(im1, ax=ax1, orientation='vertical', pad=0.05)\n",
    "# cbar = fig.colorbar(im1, ax=ax1, orientation='vertical', shrink=1, aspect=20, pad=0.05)\n",
    "ax1.axis(\"off\")\n",
    "\n",
    "ax2 = fig.add_subplot(142)\n",
    "im2 = ax2.imshow(img[:,:,0], cmap=\"Reds\")\n",
    "ax2.axis(\"off\")\n",
    "ax3 = fig.add_subplot(143)\n",
    "ax3.imshow(img[:,:,1], cmap='Greens')\n",
    "ax3.axis(\"off\")\n",
    "ax4 = fig.add_subplot(144)\n",
    "ax4.imshow(img[:,:,2], cmap='Blues')\n",
    "ax4.axis(\"off\")\n",
    "\n",
    "plt.show()"
   ]
  },
  {
   "cell_type": "code",
   "execution_count": null,
   "metadata": {},
   "outputs": [],
   "source": [
    "import matplotlib.transforms as mtransforms\n",
    "\n",
    "\n",
    "def add_right_cax(ax, pad, width):\n",
    "    axpos = ax.get_position()\n",
    "    caxpos = mtransforms.Bbox.from_extents(\n",
    "        axpos.x1 + pad,\n",
    "        axpos.y0,\n",
    "        axpos.x1 + pad + width,\n",
    "        axpos.y1,\n",
    "    )\n",
    "    cax = ax.figure.add_axes(caxpos)\n",
    "    return cax\n",
    "\n",
    "\n",
    "pad = 0.02\n",
    "width = 0.02\n",
    "\n",
    "fig = plt.figure(2, figsize=(8,6), dpi=100)\n",
    "fig.subplots_adjust(wspace=0.4)\n",
    "\n",
    "ax1 = fig.add_subplot(221)\n",
    "im1 = ax1.imshow(img)\n",
    "cbar1 = fig.colorbar(im1, ax=ax1, orientation='vertical', pad=pad)\n",
    "\n",
    "ax2 = fig.add_subplot(222)\n",
    "im2 = ax2.imshow(img[:,:,0], cmap=\"Reds\")\n",
    "ax2pos = ax2.get_position()\n",
    "cax2 = ax2.figure.add_axes(\n",
    "    mtransforms.Bbox.from_extents(\n",
    "        ax2pos.x1 + pad,\n",
    "        ax2pos.y0,\n",
    "        ax2pos.x1 + pad + width,\n",
    "        ax2pos.y1,\n",
    "    )\n",
    ")\n",
    "cbar2 = fig.colorbar(im2, cax=cax2)\n",
    "\n",
    "ax3 = fig.add_subplot(223)\n",
    "im3 = ax3.imshow(img[:,:,1], cmap='Greens')\n",
    "cax3 = add_right_cax(ax=ax3, pad=pad, width=width)\n",
    "cbar3 = fig.colorbar(im3, cax=cax3)\n",
    "\n",
    "ax4 = fig.add_subplot(224)\n",
    "im4 = ax4.imshow(img[:,:,2], cmap='Blues')\n",
    "cax4 = add_right_cax(ax=ax4, pad=pad, width=width)\n",
    "cbar4 = fig.colorbar(im4, cax=cax4)\n",
    "\n",
    "plt.show()"
   ]
  }
 ],
 "metadata": {
  "kernelspec": {
   "display_name": "Python 3.8.10 ('nycudopcs')",
   "language": "python",
   "name": "python3"
  },
  "language_info": {
   "codemirror_mode": {
    "name": "ipython",
    "version": 3
   },
   "file_extension": ".py",
   "mimetype": "text/x-python",
   "name": "python",
   "nbconvert_exporter": "python",
   "pygments_lexer": "ipython3",
   "version": "3.11.4"
  },
  "orig_nbformat": 4,
  "vscode": {
   "interpreter": {
    "hash": "5fe2e5cd560f36aa3aedf58cd7990de02027c6dec68ca092676a4258cbc93843"
   }
  }
 },
 "nbformat": 4,
 "nbformat_minor": 2
}
