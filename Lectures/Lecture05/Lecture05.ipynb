{
 "cells": [
  {
   "cell_type": "markdown",
   "metadata": {},
   "source": [
    "<br />\n",
    "<br />\n",
    "\n",
    "<center><h1><b>Lecture 5</b></h1></center>\n",
    "<center><h1><b>Tuples, Lists, Mutability, Aliasing, and Cloning</b></h1></center>\n",
    "\n",
    "<center><h4>Time: M56 (13:20 ~ 15:10) and R2 (09:00 ~ 09:50)</h4></center>\n",
    "<br />\n",
    "\n",
    "<center><h2>Chieh-En Lee (李杰恩)</h2></center>\n",
    "\n",
    "<center>\n",
    "<h4><a href=\"mailto:celee@nycu.edu.tw\">celee@nycu.edu.tw</a></h4>\n",
    "</center>\n",
    "\n",
    "<center><h3><a href=\"https://dop.nycu.edu.tw/ch/index.html\">Department of Photonics</a>, <a href=\"https://www.nycu.edu.tw/\">NYCU</a></h3></center>\n",
    "\n",
    "<br />\n",
    "<center><h5><a href=\"https://github.com/bruce88617/nycudopcs\">Introduction to Computer and Computer Science</a>, 2024 Fall</h5></center>\n"
   ]
  },
  {
   "cell_type": "markdown",
   "metadata": {},
   "source": [
    "## Last time\n",
    "\n",
    "- Organization and hiding details  \n",
    "- Create your own functions  \n",
    "- Understand the concept of scope  \n"
   ]
  },
  {
   "cell_type": "markdown",
   "metadata": {},
   "source": [
    "## **Today**\n",
    "\n",
    "<html>\n",
    "<head>\n",
    "</head>\n",
    "<body>\n",
    "<ul>\n",
    "  <li><a href=\"#tag1\">Tuples</a></li>\n",
    "  <li><a href=\"#tag2\">Lists</a></li>\n",
    "  <li><a href=\"#tag3\">Mutability and aliasing</a></li>\n",
    "  <li><a href=\"#tag4\">Cloning</a></li>\n",
    "</ul>\n",
    "\n",
    "</body>"
   ]
  },
  {
   "cell_type": "markdown",
   "metadata": {},
   "source": [
    "<a id=\"tag1\"></a>\n",
    "\n",
    "## **Tuples**  \n",
    "\n",
    "- A non-scalar type object can consist of different types of object.\n",
    "\n",
    "    ```python\n",
    "    a = ()  # empty tuple\n",
    "    b = (1, 'a', 2, 'b')\n",
    "    c = (3, 'c', 4)\n",
    "    ```\n"
   ]
  },
  {
   "cell_type": "code",
   "execution_count": null,
   "metadata": {},
   "outputs": [],
   "source": [
    "a = ()  # empty tuple\n",
    "b = (1, 'a', 2, 'b')\n",
    "c = (3, 'c', 4)\n",
    "\n",
    "# An ordered sequence\n",
    "print(\"b[2] =\", b[2])\n",
    "# Tuple is additive\n",
    "print(('aa',) + ('bb',))\n",
    "print(a + b + c)\n",
    "# Tuple can be sliced\n",
    "print(b[1:])\n",
    "print(b[1:2])\n",
    "# Tuple has length\n",
    "print(len(b + c))\n",
    "# Tuple is immutable\n",
    "b[0] = 0"
   ]
  },
  {
   "cell_type": "markdown",
   "metadata": {},
   "source": [
    "#### Functionalities of **tuple**\n",
    "\n",
    "- Can be used to switch the values of variables\n",
    "\n",
    "    ```python\n",
    "    x = \"倫理\"\n",
    "    y = \"學術\"\n",
    "\n",
    "    # Which one will return you \"學術倫理\"?\n",
    "\n",
    "    # 1\n",
    "    x = y\n",
    "    y = x\n",
    "    print(x + y)\n",
    "\n",
    "    # 2 \n",
    "    tmp = x\n",
    "    x = y\n",
    "    y = tmp\n",
    "    print(x + y)\n",
    "\n",
    "    # 3\n",
    "    (x, y) = (y, x)\n",
    "    print(x + y)\n",
    "    ```"
   ]
  },
  {
   "cell_type": "markdown",
   "metadata": {},
   "source": [
    "- - -\n",
    "\n",
    "### Exercise 5.1\n",
    "\n",
    "- Please write a function called `findExtComDiv` that aims to find the extreme common divisors of two positive integers $(n_1, n_2)$. \n",
    "\n",
    "- Test your function with different inputs $(n_1, n_2)$, for example, `findExtComDiv(94,87)`.\n",
    "\n",
    "- Here is your sample code:\n",
    "\n",
    "```python\n",
    "def findExtComDiv(n1, n2):\n",
    "    \"\"\"\n",
    "    Assume that n1 and n2 are positive integers\n",
    "    Return the smallest common divisor of (n1, n2) that larger than 1, and the largest common divisor of (n1, n2).\n",
    "    If there is no common diviosrs, returns (None, None).\n",
    "\n",
    "    Params:\n",
    "        n1, n2: int, (n1, n2) >= 1\n",
    "        \n",
    "    Returns:\n",
    "        minVal: int or None\n",
    "        maxVal: int or None\n",
    "    \"\"\"\n",
    "\n",
    "    # 自己想\n",
    "\n",
    "    return (minVal, maxVal)\n",
    "```\n",
    "\n",
    "- - -"
   ]
  },
  {
   "cell_type": "markdown",
   "metadata": {},
   "source": [
    "<a id=\"tag2\"></a>\n",
    "\n",
    "## **Lists**  \n",
    "\n",
    "- A non-scalar type object can consist of different types of object"
   ]
  },
  {
   "cell_type": "code",
   "execution_count": null,
   "metadata": {},
   "outputs": [],
   "source": [
    "a = []  # empty list\n",
    "b = ['賴功德', '习近平', 'Joe Biden']\n",
    "c = ['shooting', 'store robbers!']\n",
    "d = ['less than', '$950']\n",
    "\n",
    "# An ordered sequence\n",
    "print(\"b[2] =\", b[2])\n",
    "# List is additive\n",
    "print(b + c + d)\n",
    "# List can be sliced\n",
    "print(b[:2])\n",
    "# List has length\n",
    "print(len(b + c + d))\n",
    "# List is mutable\n",
    "b.insert(2, c[0])\n",
    "print(b)\n",
    "b.insert(2, c[0])\n",
    "print(b)\n",
    "print(b+d)"
   ]
  },
  {
   "cell_type": "code",
   "execution_count": null,
   "metadata": {},
   "outputs": [],
   "source": [
    "a = []\n",
    "# append\n",
    "for i in range(10):\n",
    "    a.append(i)\n",
    "    print(\"i = {}, and a = {}\".format(i, a))\n",
    "\n",
    "print(\"=\"*60)\n",
    "\n",
    "# pop\n",
    "for i in range(3):\n",
    "    a.pop(i)\n",
    "    print(\"i = {}, and a = {}\".format(i, a))\n",
    "\n",
    "# methods\n",
    "# a.clear()"
   ]
  },
  {
   "cell_type": "markdown",
   "metadata": {},
   "source": [
    "<a id=\"tag3\"></a>\n",
    "\n",
    "## **Mutability and aliasing**  \n",
    "\n"
   ]
  },
  {
   "cell_type": "code",
   "execution_count": null,
   "metadata": {},
   "outputs": [],
   "source": [
    "# Total student list\n",
    "list1 = [\"112514001\", \"112514002\", \"112514003\", \"112514004\", \"112514005\", \"112514006\", \"112514007\", \"112514008\"]\n",
    "# Student list of computer science\n",
    "studentlist_CS = list1\n",
    "# Student list of semi-conductor physics\n",
    "studentlist_scp = list1\n",
    "# By the time of midterm, someone withdraw from the semi-conductor physics\n",
    "studentlist_scp.remove(\"112514005\")\n",
    "# Print the remaining students of semi-conductor physics\n",
    "print(\"Student list of SCP:\", studentlist_scp)\n",
    "# Print the remaining students of computer science\n",
    "print(\"Student list of CS:\", studentlist_CS)\n",
    "# Print the original student list\n",
    "print(\"Total student list:\", list1)"
   ]
  },
  {
   "cell_type": "markdown",
   "metadata": {},
   "source": [
    "<a id=\"tag4\"></a>\n",
    "\n",
    "## **Cloning**  \n",
    "\n"
   ]
  },
  {
   "cell_type": "code",
   "execution_count": null,
   "metadata": {},
   "outputs": [],
   "source": [
    "# Total student list\n",
    "list1 = [\"112514001\", \"112514002\", \"112514003\", \"112514004\", \"112514005\", \"112514006\", \"112514007\", \"112514008\"]\n",
    "# Student list of computer science\n",
    "studentlist_CS = list1.copy()\n",
    "# Student list of semi-conductor physics\n",
    "studentlist_scp = list1.copy()\n",
    "# By the time of midterm, someone withdraw from the semi-conductor physics\n",
    "studentlist_scp.remove(\"112514005\")\n",
    "# Print the remaining students of semi-conductor physics\n",
    "print(\"Student list of SCP:\", studentlist_scp)\n",
    "# Print the remaining students of computer science\n",
    "print(\"Student list of CS:\", studentlist_CS)\n",
    "# Print the original student list\n",
    "print(\"Total student list:\", list1)"
   ]
  },
  {
   "cell_type": "markdown",
   "metadata": {},
   "source": [
    "- - -\n",
    "\n",
    "### Exercise 5.2\n",
    "\n",
    "- Please write a function called `findLCM` that aims to find the least common multiple of two positive integers $(n_1, n_2)$. \n",
    "\n",
    "- Test your function with different inputs $(n_1, n_2)$, for example, `findLCM(94,87)`.\n",
    "\n",
    "- Here is your sample code:\n",
    "\n",
    "```python\n",
    "def findLCM(n1, n2):\n",
    "    \"\"\"\n",
    "    Assume that n1 and n2 are positive integers\n",
    "    Return the least common multiple of (n1, n2) that larger than 1\n",
    "\n",
    "    Params:\n",
    "        n1, n2: int, (n1, n2) >= 1\n",
    "    Returns:\n",
    "        output: int\n",
    "    \"\"\"\n",
    "\n",
    "    # 自己想\n",
    "\n",
    "    return output\n",
    "```\n",
    "\n",
    "- - -"
   ]
  }
 ],
 "metadata": {
  "kernelspec": {
   "display_name": "Python 3.8.10 ('nycudopcs')",
   "language": "python",
   "name": "python3"
  },
  "language_info": {
   "codemirror_mode": {
    "name": "ipython",
    "version": 3
   },
   "file_extension": ".py",
   "mimetype": "text/x-python",
   "name": "python",
   "nbconvert_exporter": "python",
   "pygments_lexer": "ipython3",
   "version": "3.11.4"
  },
  "orig_nbformat": 4,
  "vscode": {
   "interpreter": {
    "hash": "5fe2e5cd560f36aa3aedf58cd7990de02027c6dec68ca092676a4258cbc93843"
   }
  }
 },
 "nbformat": 4,
 "nbformat_minor": 2
}
