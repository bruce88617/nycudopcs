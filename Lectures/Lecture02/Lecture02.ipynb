{
 "cells": [
  {
   "cell_type": "markdown",
   "metadata": {},
   "source": [
    "<br />\n",
    "<br />\n",
    "\n",
    "<center><h1><b>Lecture 2</b></h1></center>\n",
    "<center><h1><b>Python Basics, Branching, and Iteration</b></h1></center>\n",
    "\n",
    "<center><h4>Time: M56 (13:20 ~ 15:10) and R2 (09:00 ~ 09:50)</h4></center>\n",
    "<br />\n",
    "\n",
    "<center><h2>Chieh-En Lee (李杰恩)</h2></center>\n",
    "\n",
    "<center>\n",
    "<h4><a href=\"mailto:celee@nycu.edu.tw\">celee@nycu.edu.tw</a></h4>\n",
    "</center>\n",
    "\n",
    "<center><h3><a href=\"https://dop.nycu.edu.tw/ch/index.html\">Department of Photonics</a>, <a href=\"https://www.nycu.edu.tw/\">NYCU</a></h3></center>\n",
    "\n",
    "<br />\n",
    "<center><h5><a href=\"https://github.com/bruce88617/nycudopcs\">Introduction to Computer and Computer Science</a>, 2023 Fall</h5></center>"
   ]
  },
  {
   "cell_type": "markdown",
   "metadata": {},
   "source": [
    "## Last time\n",
    "\n",
    "- Course information\n",
    "- Setup the environment\n",
    "    - [Python](https://www.python.org/)\n",
    "    - [VS code](https://code.visualstudio.com/)\n",
    "    - [Git](https://git-scm.com/) and [GitHub](https://github.com/)  \n",
    "    - [Windows terminal](https://apps.microsoft.com/store/detail/windows-terminal/9N0DX20HK701?hl=zh-tw&gl=tw)\n",
    "- Homework\n"
   ]
  },
  {
   "cell_type": "markdown",
   "metadata": {},
   "source": [
    "## **Today**\n",
    "\n",
    "<body>\n",
    "<ul>\n",
    "  <li><a href=\"#tag1\">Introduction to Python</a></li>\n",
    "  <li><a href=\"#tag2\">String</a></li>\n",
    "  <li><a href=\"#tag3\">Logistic operators</a></li>\n",
    "  <li><a href=\"#tag4\">Branching and conditionals</a></li>\n",
    "  <li><a href=\"#tag5\">Iterations and loops</a></li>\n",
    "</ul>\n",
    "\n",
    "</body>"
   ]
  },
  {
   "cell_type": "markdown",
   "metadata": {},
   "source": [
    "<a id='tag1'></a>\n",
    "\n",
    "## **Introduction to Python**\n",
    "\n",
    "- An interpreted programming language, not a compiled programming language\n",
    "\n",
    "- Can be typed directly in a **Python Shell** or in a file"
   ]
  },
  {
   "cell_type": "code",
   "execution_count": null,
   "metadata": {},
   "outputs": [],
   "source": [
    "print(\"Hello, world!\")\n",
    "print(\"Xi Winnie the Pooh\")\n",
    "print(\"蔡EE - 天棄之子\")"
   ]
  },
  {
   "cell_type": "markdown",
   "metadata": {},
   "source": [
    "### Objects\n",
    "\n",
    "- It’s something that Python can manipulate. In other words, you can write a program to manipulate it.\n",
    "- There are different types of objects in Python, which defines what kinds of things the programs can do to them.  \n",
    "- Common objects in Python:\n",
    "\n",
    "\n",
    "    |Name|Type|Example|\n",
    "    |:--:|:--:|:--:|\n",
    "    |String|**str**|`9527`|\n",
    "    |Integer|**int**|`87`|\n",
    "    |Floating-point number|**float**|`3.14152`|\n",
    "    |Complex number|**complex**|`1.3+4j`|\n",
    "    |Boolean|**bool**|`True` or `False`|\n",
    "    |Nonetype|**None**|`None`|\n",
    "    |Tuple|**tuple**|`(1, 2, 3)`|\n",
    "    |List|**list**|`[4, 5, 6]`|\n",
    "    |Dictionary|**dict**|`{\"key1\": (1, 2, 3)}`|"
   ]
  },
  {
   "cell_type": "code",
   "execution_count": null,
   "metadata": {},
   "outputs": [],
   "source": [
    "type(5487)"
   ]
  },
  {
   "cell_type": "code",
   "execution_count": null,
   "metadata": {},
   "outputs": [],
   "source": [
    "type(\"5487\")"
   ]
  },
  {
   "cell_type": "code",
   "execution_count": null,
   "metadata": {},
   "outputs": [],
   "source": [
    "type(\"5487\")\n",
    "type(5487)"
   ]
  },
  {
   "cell_type": "code",
   "execution_count": null,
   "metadata": {},
   "outputs": [],
   "source": [
    "print(type(5487))\n",
    "print(type(\"5487\"))"
   ]
  },
  {
   "cell_type": "markdown",
   "metadata": {},
   "source": [
    "### Data type conversion\n",
    "\n",
    "- You can convert the type of object."
   ]
  },
  {
   "cell_type": "code",
   "execution_count": null,
   "metadata": {},
   "outputs": [],
   "source": [
    "print(type(5487))\n",
    "print(type(str(5487)))\n",
    "print(type(float(5487)))"
   ]
  },
  {
   "cell_type": "markdown",
   "metadata": {},
   "source": [
    "### Variables and assignment\n",
    "\n",
    "- `=` is an assignment of an object to a variable.\n",
    "- Example:\n",
    "\n",
    "    <img align=\"center\" height=auto width=700px src=\"https://raw.githubusercontent.com/bruce88617/nycudopcs/main/Lectures/Lecture02/assets/fig01.png\">\n",
    "\n",
    "- Values are stored in the computer memory.\n",
    "- An assignment binds name to value.\n",
    "- Binding values can be invoked by typing variables.\n",
    "- Multiple assignments is also allowed in Python."
   ]
  },
  {
   "cell_type": "code",
   "execution_count": null,
   "metadata": {},
   "outputs": [],
   "source": [
    "pi = 3\n",
    "radius = 10\n",
    "circum = 2*pi*radius\n",
    "print(\"pi =\", pi)\n",
    "print(\"radius =\", radius)\n",
    "print(\"circum =\", circum)"
   ]
  },
  {
   "cell_type": "code",
   "execution_count": null,
   "metadata": {},
   "outputs": [],
   "source": [
    "pi, radius = 3, 10\n",
    "circum = 2*pi*radius\n",
    "print(\"pi =\", pi)\n",
    "print(\"radius =\", radius)\n",
    "print(\"circum =\", circum)"
   ]
  },
  {
   "cell_type": "code",
   "execution_count": null,
   "metadata": {},
   "outputs": [],
   "source": [
    "radius = 94\n",
    "print(\"radius =\", radius)\n",
    "radius = radius + 1\n",
    "print(\"radius =\", radius)"
   ]
  },
  {
   "cell_type": "markdown",
   "metadata": {},
   "source": [
    "<a id=\"tag2\"></a>\n",
    "\n",
    "## **String**  \n",
    "\n",
    "- Letters, special characters, spaces, ... can be a `string object`.\n",
    "\n",
    "- Using *quotes* to specify the object type\n",
    "\n",
    "- Strings can be **concatenated** or **multiplied** by an *integer*.\n"
   ]
  },
  {
   "cell_type": "code",
   "execution_count": null,
   "metadata": {},
   "outputs": [],
   "source": [
    "hi = \"你好\"\n",
    "name = \"Winnie the Pooh\"\n",
    "\n",
    "# Concatenated\n",
    "greeting1 = hi + \", \" + name\n",
    "print(greeting1)\n",
    "\n",
    "greeting2 = \"Xi \" + name\n",
    "print(greeting2)\n",
    "\n",
    "# Multiplied by an integer\n",
    "greeting3 = \"You f\" + \"o\"*10 + \"l\"\n",
    "print(greeting3)"
   ]
  },
  {
   "cell_type": "markdown",
   "metadata": {},
   "source": [
    "### More about `print`\n",
    "\n",
    "- Different types of objects can be concatenated by `print`.\n",
    "- Use `sep` and `end` to change its functionality.\n",
    "\n",
    "#### Try this  \n",
    "\n",
    "```python\n",
    "# 1\n",
    "print(\"hello,\" + 3)\n",
    "# 2\n",
    "print(\"hello,\", 3)\n",
    "# 3\n",
    "print(\"hello,\", 3, sep=\"\", end=\"!\")\n",
    "# 4\n",
    "print(\"塔綠班\"*1.3)\n",
    "```"
   ]
  },
  {
   "cell_type": "markdown",
   "metadata": {},
   "source": [
    "### Function `input`\n",
    "\n",
    "- A function to interact with users\n",
    "- Be careful with the data type"
   ]
  },
  {
   "cell_type": "code",
   "execution_count": null,
   "metadata": {},
   "outputs": [],
   "source": [
    "xxx = input(\"Please tell me something: \")\n",
    "\n",
    "print(\"type(xxx):\", type(xxx))"
   ]
  },
  {
   "cell_type": "markdown",
   "metadata": {},
   "source": [
    "### Indexing  \n",
    "\n",
    "- The indexing in Python is zero-based\n",
    "\n",
    "    <img align=\"center\" height=auto width=400px src=\"https://raw.githubusercontent.com/bruce88617/nycudopcs/main/Lectures/Lecture02/assets/fig02.png\">\n",
    "    <br />\n",
    "\n",
    "### Slicing  \n",
    "\n",
    "- Using slicing to extract the objects  \n",
    "\n",
    "- Try this  \n",
    "\n",
    "    ```python\n",
    "    xxx = \"0123456789\"\n",
    "    # 1\n",
    "    print(xxx[0])\n",
    "    # 2\n",
    "    print(xxx[-1])\n",
    "    # 3\n",
    "    print(xxx[2:5])\n",
    "    # 4\n",
    "    print(xxx[:7])\n",
    "    # 5\n",
    "    print(xxx[7:])\n",
    "    ```\n"
   ]
  },
  {
   "cell_type": "markdown",
   "metadata": {},
   "source": [
    "### String formatting\n",
    "\n",
    "- %-formatting"
   ]
  },
  {
   "cell_type": "code",
   "execution_count": 19,
   "metadata": {},
   "outputs": [
    {
     "name": "stdout",
     "output_type": "stream",
     "text": [
      "hello world!\n",
      "a\n",
      "Xi Winnie the Pooh\n"
     ]
    }
   ],
   "source": [
    "# Example of %-formatting\n",
    "\n",
    "text = 'world'\n",
    "# %s: string\n",
    "print('hello %s!' % text)\n",
    "# %x: hexadecimal\n",
    "print('%x' % 10)\n",
    "# multiple %-formatting\n",
    "print('Xi %s %s' % ('Winnie', 'the Pooh'))"
   ]
  },
  {
   "cell_type": "markdown",
   "metadata": {},
   "source": [
    "- str-format"
   ]
  },
  {
   "cell_type": "code",
   "execution_count": 20,
   "metadata": {},
   "outputs": [
    {
     "name": "stdout",
     "output_type": "stream",
     "text": [
      "Hello world!\n",
      "a\n",
      "Xi Winnie the Pooh\n"
     ]
    }
   ],
   "source": [
    "# Example of str-formatting\n",
    "\n",
    "text = 'world'\n",
    "# {}: string\n",
    "print('Hello {}!'.format(text))\n",
    "# {:x}: hexadecimal\n",
    "print('{:x}'.format(10))\n",
    "# multiple str-formating\n",
    "print('Xi {} {}'.format('Winnie', 'the Pooh'))"
   ]
  },
  {
   "cell_type": "markdown",
   "metadata": {},
   "source": [
    "- f-string"
   ]
  },
  {
   "cell_type": "code",
   "execution_count": 22,
   "metadata": {},
   "outputs": [
    {
     "name": "stdout",
     "output_type": "stream",
     "text": [
      "Hello world!\n",
      "Xi Winnie the Pooh\n"
     ]
    }
   ],
   "source": [
    "# Example of f-string\n",
    "\n",
    "text = 'world'\n",
    "print(f'Hello {text}!')\n",
    "\n",
    "first = 'Winnie'\n",
    "title = 'the Pooh'\n",
    "print(f'Xi {first} {title}')"
   ]
  },
  {
   "cell_type": "code",
   "execution_count": 25,
   "metadata": {},
   "outputs": [
    {
     "name": "stdout",
     "output_type": "stream",
     "text": [
      "50/4 = 12.500000\n",
      "50/4 = 12.500000\n",
      "50/4 = 12.5\n"
     ]
    }
   ],
   "source": [
    "# String formatting\n",
    "a = 50\n",
    "b = 4\n",
    "\n",
    "# %-formatting\n",
    "print(\"%d/%d = %f\" % (a, b, a/b))\n",
    "# str-formatting\n",
    "print(\"{:d}/{:d} = {:f}\".format(a, b, a/b))\n",
    "# f-string\n",
    "print(f'{a}/{b} = {a/b}')"
   ]
  },
  {
   "cell_type": "markdown",
   "metadata": {},
   "source": [
    "- - -\n",
    "\n",
    "### Exercise 2.1\n",
    "\n",
    "- Please write a program that aims to print an arbitrary number into the following format:\n",
    "    1. Binary (`b`)\n",
    "    2. Octal (`o`)\n",
    "    3. Decimal (`d`)\n",
    "    4. Hexadecimal (`x`)\n",
    "\n",
    "- For example, 9487:\n",
    "    1. Binary: 10010100001111\n",
    "    2. Octal: 22417\n",
    "    3. Decimal: 9487\n",
    "    4. Hexadecimal: 250F\n",
    "\n",
    "- - -"
   ]
  },
  {
   "cell_type": "markdown",
   "metadata": {},
   "source": [
    "<a id=\"tag3\"></a>\n",
    "\n",
    "## **Logistic operators**  \n",
    "\n",
    "- Logical operators\n",
    "    - `and`, `or`, `not`\n",
    "\n",
    "    ```python\n",
    "    A = 0 #False\n",
    "    B = 1 #True\n",
    "    print(A and B)\n",
    "    print(A or B)\n",
    "    print(not A)\n",
    "    ```\n",
    "\n",
    "- Logical operators with none boolean objects\n",
    "\n",
    "    |Object|Result|\n",
    "    |:--:|:--:|\n",
    "    |`0`|`False`|\n",
    "    |`()`,`[]`,`{}`|`False`|\n",
    "    |`None`|`False`|\n",
    "    |`False`|`False`|\n",
    "    |others|`True`|\n"
   ]
  },
  {
   "cell_type": "code",
   "execution_count": null,
   "metadata": {},
   "outputs": [],
   "source": [
    "print(not 0)\n",
    "print(not ())\n",
    "print(not None)\n",
    "print(not 8)\n",
    "print(not \"string\")"
   ]
  },
  {
   "cell_type": "markdown",
   "metadata": {},
   "source": [
    "#### Multiple objects\n",
    "\n",
    "- From left to right\n",
    "- Priority:\n",
    "    1. `not`\n",
    "    2. `and`\n",
    "    3. `or`\n",
    "- `and`: \n",
    "    * return the far right object if all objects are `True`, return the first `False` object otherwise.\n",
    "- `or`:\n",
    "    * return the far right object if all objects are `False`, return the first `True` object otherwise.\n"
   ]
  },
  {
   "cell_type": "code",
   "execution_count": null,
   "metadata": {},
   "outputs": [],
   "source": [
    "print(3 and 4 and 5)        # return 5\n",
    "print(3 and 0 and 5)        # return 0\n",
    "print(3 or 4 or 5)          # return 3\n",
    "print(() or None or {})     # return {}\n",
    "print(2 and 3 or 4)         # return 3\n",
    "print(2 and 0 or 4)         # return 4"
   ]
  },
  {
   "cell_type": "markdown",
   "metadata": {},
   "source": [
    "\n",
    "- Bitwise operators\n",
    "    - and: `&`\n",
    "    - or: `|`\n",
    "    - xor: `^`\n",
    "\n",
    "<table>\n",
    "    <thead align=center>\n",
    "        <tr>\n",
    "            <td><b>Input</b></td><td colspan=\"3\"><b>Result</b></td>\n",
    "        </tr>\n",
    "    </thead>\n",
    "    <tbody align=center>\n",
    "        <tr>\n",
    "            <td><code>A</code></td><td>1</td><td>0</td><td>1</td>\n",
    "        </tr>\n",
    "        <tr>\n",
    "            <td><code>B</code></td><td>0</td><td>1</td><td>1</td>\n",
    "        </tr>\n",
    "        <tr>\n",
    "            <td><code>A & B</code></td><td>0</td><td>0</td><td>1</td>\n",
    "        </tr>\n",
    "        <tr>\n",
    "            <td><code>A | B</code></td><td>1</td><td>1</td><td>1</td>\n",
    "        </tr>\n",
    "        <tr>\n",
    "            <td><code>A ^ B</code></td><td>1</td><td>1</td><td>0</td>\n",
    "        </tr>\n",
    "</table>\n"
   ]
  },
  {
   "cell_type": "code",
   "execution_count": null,
   "metadata": {},
   "outputs": [],
   "source": [
    "A = 5\n",
    "B = 3\n",
    "\n",
    "# format(Number, '{number to filled}{width}{format}')\n",
    "print('  A binary:', format(A, '03b'), A)\n",
    "\n",
    "# f-string\n",
    "print('  B binary:', f'{B:03b}', B)\n",
    "print('A&B binary:', f'{A & B:03b}', A & B)\n",
    "print('A|B binary:', f'{A | B:03b}', A | B)\n",
    "print('A^B binary:', f'{A ^ B:03b}', A ^ B)"
   ]
  },
  {
   "cell_type": "code",
   "execution_count": 28,
   "metadata": {},
   "outputs": [
    {
     "name": "stdout",
     "output_type": "stream",
     "text": [
      "  A binary: 101 5\n",
      "  B binary: 011 3\n",
      "A&B binary: 001 1\n",
      "A|B binary: 111 7\n",
      "A^B binary: 110 6\n"
     ]
    }
   ],
   "source": [
    "A = 5\n",
    "B = 3\n",
    "\n",
    "# str-format\n",
    "print('  A binary: {:03b} {}'.format(A, A))\n",
    "print('  B binary: {:03b} {}'.format(B, B))\n",
    "print('A&B binary: {:03b} {}'.format(A & B, A & B))\n",
    "print('A|B binary: {:03b} {}'.format(A | B, A | B))\n",
    "print('A^B binary: {:03b} {}'.format(A ^ B, A ^ B))"
   ]
  },
  {
   "cell_type": "markdown",
   "metadata": {},
   "source": [
    "- - -\n",
    "\n",
    "### Exercise 2.2\n",
    "\n",
    "- Please write a program that can print a variable `a` as the following string:\n",
    "\n",
    "    1. 94.8700\n",
    "    2. 0.949%\n",
    "    3. 00095\n",
    "\n",
    "- Here is your sample code:\n",
    "\n",
    "```python\n",
    "a = 94.87\n",
    "\n",
    "print(\"自己想\")\n",
    "print(\"自己想\")\n",
    "print(\"自己想\")\n",
    "```\n",
    "\n",
    "- - -"
   ]
  },
  {
   "cell_type": "markdown",
   "metadata": {},
   "source": [
    "- Identity operators\n",
    "    - `is`\n",
    "\n",
    "    |Operators|Meaning|Example|\n",
    "    |:--:|:--:|:--:|\n",
    "    |`is`|Is A same object as B?|`True is True`|\n",
    "    |`is not`|Is A not same objest as B?|`True is not False`|\n",
    "\n",
    "<br>\n",
    "\n",
    "- Do not confuse with comparison operator `==`."
   ]
  },
  {
   "cell_type": "code",
   "execution_count": null,
   "metadata": {},
   "outputs": [],
   "source": [
    "a = [1, 2, 3]\n",
    "b = [1, 2, 3]\n",
    "print(a == b)\n",
    "print(a is b)\n",
    "print(id(a), id(b))"
   ]
  },
  {
   "cell_type": "markdown",
   "metadata": {},
   "source": [
    "<a id=\"tag4\"></a>\n",
    "\n",
    "## **Branching & conditional**  \n",
    "\n",
    "- Using branching to control the flow of algorithm\n"
   ]
  },
  {
   "cell_type": "code",
   "execution_count": null,
   "metadata": {},
   "outputs": [],
   "source": [
    "your_id = \"113514087\"\n",
    "\n",
    "if your_id[:3] == \"112\":\n",
    "    # branch 1\n",
    "    print(\"Welcome, freshman!\")\n",
    "elif your_id[0:3] == \"108\":\n",
    "    # branch 2\n",
    "    print(\"Why are you still here?\")\n",
    "else:\n",
    "    # branch 3\n",
    "    print(\"You have to pass this if you want to graduate.\")"
   ]
  },
  {
   "cell_type": "markdown",
   "metadata": {},
   "source": [
    "<a id=\"tag5\"></a>\n",
    "\n",
    "## **Iterations and loops**  \n",
    "\n",
    "- A method for executing repeatable instructions  \n",
    "\n",
    "### `while` loop\n",
    "\n",
    "- Keep iterating the loop while the condition is `True`\n",
    "\n",
    "    ```python\n",
    "    # Syntax\n",
    "    while <condition>:\n",
    "        <expression>\n",
    "        <expression>\n",
    "        <expression>\n",
    "        ...\n",
    "    ```\n",
    "\n"
   ]
  },
  {
   "cell_type": "code",
   "execution_count": null,
   "metadata": {},
   "outputs": [],
   "source": [
    "# Example of while loop\n",
    "\n",
    "# Example 1\n",
    "n = 0\n",
    "ans = 0\n",
    "\n",
    "while n < 11:\n",
    "    print(\"(n, ans) = ({}, {})\".format(n, ans))\n",
    "    ans += n\n",
    "    n += 1\n"
   ]
  },
  {
   "cell_type": "code",
   "execution_count": null,
   "metadata": {},
   "outputs": [],
   "source": [
    "# Example 2\n",
    "n = 0\n",
    "ans = 0\n",
    "\n",
    "while n < 11:\n",
    "    ans += n\n",
    "    n += 1\n",
    "    print(\"(n, ans) = ({}, {})\".format(n, ans))\n"
   ]
  },
  {
   "cell_type": "markdown",
   "metadata": {},
   "source": [
    "- - -\n",
    "\n",
    "### Exercise 2.3: sum of harmonic series\n",
    "\n",
    "- Please write a program with `while` that aims to return you the sum of a harmonic series \n",
    "\n",
    "$$\n",
    "f(n) = \\sum_{k=1}^{n}\\frac{1}{k}\n",
    "$$ \n",
    "\n",
    "- Note: $n$ is a positive integer\n",
    "\n",
    "- Test your program with different $n$, for example, $n = 1, 2, 3, ...$\n",
    "\n",
    "- - -"
   ]
  },
  {
   "cell_type": "markdown",
   "metadata": {},
   "source": [
    "### `for` loop\n",
    "\n",
    "- Keep iterating the loop for a specific number of times\n",
    "\n",
    "    ```python\n",
    "    # Syntax\n",
    "    for idx in <iterable object>:\n",
    "        <expression>\n",
    "        <expression>\n",
    "        <expression>\n",
    "        ...\n",
    "    # Simple version\n",
    "    for idx in <number of times>:\n",
    "        <expression>\n",
    "        <expression>\n",
    "        <expression>\n",
    "        ...\n",
    "    ```\n",
    "\n",
    "- We will explain what is `iterable object` in the future\n"
   ]
  },
  {
   "cell_type": "code",
   "execution_count": null,
   "metadata": {},
   "outputs": [],
   "source": [
    "# Example of for loop\n",
    "\n",
    "# Example 1\n",
    "ans = 0\n",
    "\n",
    "for n in range(11):\n",
    "    print(\"(n, ans) = ({}, {})\".format(n, ans))\n",
    "    ans += n\n"
   ]
  },
  {
   "cell_type": "code",
   "execution_count": null,
   "metadata": {},
   "outputs": [],
   "source": [
    "# Example 2\n",
    "ans = 0\n",
    "\n",
    "for n in range(11):\n",
    "    ans += n\n",
    "    print(\"(n, ans) = ({}, {})\".format(n, ans))\n"
   ]
  },
  {
   "cell_type": "markdown",
   "metadata": {},
   "source": [
    "- - -\n",
    "\n",
    "### Exercise 2.4: sum of harmonic series\n",
    "\n",
    "- Please write a program with `for` that aims to return you the sum of a harmonic series \n",
    "\n",
    "$$\n",
    "f(n) = \\sum_{k=1}^{n}\\frac{1}{k}\n",
    "$$ \n",
    "\n",
    "- Note: $n$ is a positive integer\n",
    "\n",
    "- Test your program with different $n$, for example, $n = 1, 2, 3, ...$\n",
    "\n",
    "- - -"
   ]
  },
  {
   "cell_type": "markdown",
   "metadata": {},
   "source": [
    "### Function `enumerate`"
   ]
  },
  {
   "cell_type": "code",
   "execution_count": null,
   "metadata": {},
   "outputs": [],
   "source": [
    "# Example of for loop\n",
    "text = \"3.14159265359\"\n",
    "\n",
    "# 1\n",
    "for i in range(len(text)):\n",
    "    print(\"{}: {}\".format(i, text[i]))\n",
    "\n",
    "# 2\n",
    "for idx, string in enumerate(text):\n",
    "    print(str(idx) + \": \" + string)\n"
   ]
  },
  {
   "cell_type": "markdown",
   "metadata": {},
   "source": [
    "- - -\n",
    "\n",
    "### Exercise 2.5: the factorial\n",
    "\n",
    "- Please write a program that aims to return you a factorial of a non-negative integer $n$. \n",
    "\n",
    "$$\n",
    "\\begin{aligned}\n",
    "n! &= n \\times (n-1) \\times (n-2) \\times (n-3) \\times \\cdots \\times 3 \\times 2 \\times 1 \\\\\n",
    "&= n \\times (n-1)!\n",
    "\\end{aligned}\n",
    "$$ \n",
    "\n",
    "- Note: $n$ is a non-negative integer\n",
    "\n",
    "- Test your program with different $n$, for example, $n = 1, 2, 3, ...$\n",
    "\n",
    "- - -"
   ]
  }
 ],
 "metadata": {
  "kernelspec": {
   "display_name": "Python 3.8.10 ('nycudopcs')",
   "language": "python",
   "name": "python3"
  },
  "language_info": {
   "codemirror_mode": {
    "name": "ipython",
    "version": 3
   },
   "file_extension": ".py",
   "mimetype": "text/x-python",
   "name": "python",
   "nbconvert_exporter": "python",
   "pygments_lexer": "ipython3",
   "version": "3.11.4"
  },
  "orig_nbformat": 4,
  "vscode": {
   "interpreter": {
    "hash": "5fe2e5cd560f36aa3aedf58cd7990de02027c6dec68ca092676a4258cbc93843"
   }
  }
 },
 "nbformat": 4,
 "nbformat_minor": 2
}
