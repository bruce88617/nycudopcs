{
 "cells": [
  {
   "cell_type": "markdown",
   "metadata": {},
   "source": [
    "<br />\n",
    "<br />\n",
    "\n",
    "<center><h1><b>Lecture 14</b></h1></center>\n",
    "<center><h1><b>Data Analysis with Python</b></h1></center>\n",
    "\n",
    "<center><h4>Time: M56 (13:20 ~ 15:10) and R2 (09:00 ~ 09:50)</h4></center>\n",
    "<br />\n",
    "\n",
    "<center><h2>Chieh-En Lee<sup>1</sup> (李杰恩) and Chung-Hao Tien<sup>2</sup> (田仲豪)</h2></center>\n",
    "\n",
    "<center>\n",
    "<h4>{<a href=\"mailto:celee@nycu.edu.tw\">celee</a><sup>1</sup>, \n",
    "<a href=\"mailto:chtien@nycu.edu.tw\">chtien</a><sup>2</sup>}@nycu.edu.tw</h4>\n",
    "</center>\n",
    "\n",
    "<center><h3><a href=\"https://dop.nycu.edu.tw/ch/index.html\">Department of Photonics</a>, <a href=\"https://www.nycu.edu.tw/\">NYCU</a></h3></center>\n",
    "\n",
    "<br />\n",
    "<center><h5><a href=\"https://github.com/bruce88617/nycudopcs\">Introduction to Computer and Computer Science</a>, 2022 Fall</h5></center>\n"
   ]
  },
  {
   "cell_type": "markdown",
   "metadata": {},
   "source": [
    "## Last time\n",
    "\n",
    "- Python package: NumPy  \n",
    "- Python package: Matplotlib  "
   ]
  },
  {
   "cell_type": "markdown",
   "metadata": {},
   "source": [
    "## **Today**\n",
    "\n",
    "<html>\n",
    "<head>\n",
    "</head>\n",
    "<body>\n",
    "<ul>\n",
    "  <li><a href=\"#tag1\">Python package: Pandas</a></li>\n",
    "  <!-- <li><a href=\"#tag2\">More on Python package: Matplotlib</a></li> -->\n",
    "  <!-- <li><a href=\"#tag3\">???</a></li> -->\n",
    "</ul>\n",
    "\n",
    "</body>"
   ]
  },
  {
   "cell_type": "markdown",
   "metadata": {},
   "source": [
    "<a id=\"tag1\"></a>\n",
    "\n",
    "## **Python package: `pandas`**  \n",
    "\n",
    "- `pandas` is a Python package providing fast, flexible, and expressive data structures designed to make working with **relational** or **labeled** data both easy and intuitive.\n",
    "\n",
    "- Reference:  \n",
    "    1. [Pandas documentation](https://pandas.pydata.org/docs/index.html)\n",
    "    2. [Pandas tutorials](https://pandas.pydata.org/docs/getting_started/intro_tutorials/index.html)\n",
    "\n",
    "- - -\n",
    "\n",
    "#### Install `pandas`\n",
    "\n",
    "1. Activate your virtual environment\n",
    "\n",
    "2. Install `pandas`\n",
    "\n",
    "    ```\n",
    "    pip install pandas\n",
    "    ```\n",
    "\n",
    "<img align=\"center\" height=auto width=500px src=\"https://raw.githubusercontent.com/bruce88617/nycudopcs/main/Lectures/Lecture14/assets/fig1.png\">\n",
    "\n",
    "- - -"
   ]
  },
  {
   "cell_type": "markdown",
   "metadata": {},
   "source": [
    "#### DataFrame and Series\n",
    "\n",
    "- A `DataFrame` is a 2-dimensional data structure that can store data of different types (including characters, integers, floating point values, categorical data and more) in columns.\n",
    "\n",
    "- Each column in a `DataFrame` is a `Series`.\n",
    "\n",
    "<img align=\"center\" height=auto width=500px src=\"https://raw.githubusercontent.com/bruce88617/nycudopcs/main/Lectures/Lecture14/assets/fig2.png\">\n",
    "\n",
    "- - -"
   ]
  },
  {
   "cell_type": "code",
   "execution_count": 1,
   "metadata": {},
   "outputs": [
    {
     "name": "stdout",
     "output_type": "stream",
     "text": [
      "  Student ID  Gender  HW#1  HW#2  HW#3\n",
      "0  112514001  Female   100    90   100\n",
      "1  112514002    Male     0    60    75\n",
      "2  112514003   Third    70    95    80\n",
      "3  112514004  Female    90    85   100\n",
      "4  112514005    Male    80   100    60\n"
     ]
    }
   ],
   "source": [
    "import pandas as pd\n",
    "\n",
    "df1 = pd.DataFrame({\n",
    "    \"Student ID\": [\"112514001\", \"112514002\", \"112514003\", \"112514004\", \"112514005\"],\n",
    "    \"Gender\": [\"Female\", \"Male\", \"Third\", \"Female\", \"Male\"],\n",
    "    \"HW#1\": [100, 0, 70, 90, 80],\n",
    "    \"HW#2\": [90, 60, 95, 85, 100],\n",
    "    \"HW#3\": [100, 75, 80, 100, 60],\n",
    "})\n",
    "\n",
    "print(df1)"
   ]
  },
  {
   "cell_type": "code",
   "execution_count": 2,
   "metadata": {},
   "outputs": [
    {
     "name": "stdout",
     "output_type": "stream",
     "text": [
      "0    100\n",
      "1      0\n",
      "2     70\n",
      "3     90\n",
      "4     80\n",
      "Name: HW#1, dtype: int64\n"
     ]
    }
   ],
   "source": [
    "print(df1[\"HW#1\"])"
   ]
  },
  {
   "cell_type": "code",
   "execution_count": 3,
   "metadata": {},
   "outputs": [
    {
     "name": "stdout",
     "output_type": "stream",
     "text": [
      "Student ID    112514001\n",
      "Gender           Female\n",
      "HW#1                100\n",
      "HW#2                 90\n",
      "HW#3                100\n",
      "Name: 0, dtype: object\n",
      "type(df1.iloc[0]): <class 'pandas.core.series.Series'>\n"
     ]
    }
   ],
   "source": [
    "print(df1.iloc[0])\n",
    "print(\"type(df1.iloc[0]):\", type(df1.iloc[0]))"
   ]
  },
  {
   "cell_type": "code",
   "execution_count": 4,
   "metadata": {},
   "outputs": [
    {
     "name": "stdout",
     "output_type": "stream",
     "text": [
      "0    53\n",
      "1    63\n",
      "2    39\n",
      "3    21\n",
      "4    86\n",
      "Name: HW#4, dtype: int32\n"
     ]
    }
   ],
   "source": [
    "import numpy as np\n",
    "\n",
    "hw4 = pd.Series(np.random.randint(0, 100, size=(5,)), name=\"HW#4\")\n",
    "\n",
    "print(hw4)"
   ]
  },
  {
   "cell_type": "code",
   "execution_count": 5,
   "metadata": {},
   "outputs": [
    {
     "name": "stdout",
     "output_type": "stream",
     "text": [
      "  Student ID  Gender  HW#1  HW#2  HW#3  HW#4\n",
      "0  112514001  Female   100    90   100    53\n",
      "1  112514002    Male     0    60    75    63\n",
      "2  112514003   Third    70    95    80    39\n",
      "3  112514004  Female    90    85   100    21\n",
      "4  112514005    Male    80   100    60    86\n"
     ]
    }
   ],
   "source": [
    "# Add new column\n",
    "df1[\"HW#4\"] = hw4\n",
    "\n",
    "print(df1)"
   ]
  },
  {
   "cell_type": "code",
   "execution_count": 6,
   "metadata": {},
   "outputs": [
    {
     "name": "stdout",
     "output_type": "stream",
     "text": [
      "  Student ID  Gender  HW#1  HW#2  HW#3  HW#4  Final\n",
      "0  112514001  Female   100    90   100    53   92.3\n",
      "1  112514002    Male     0    60    75    63   46.8\n",
      "2  112514003   Third    70    95    80    39   77.4\n",
      "3  112514004  Female    90    85   100    21   84.6\n",
      "4  112514005    Male    80   100    60    86   80.6\n"
     ]
    }
   ],
   "source": [
    "# Add new column from existing columns\n",
    "df1[\"Final\"] = df1[\"HW#1\"]*0.3 + df1[\"HW#2\"]*0.3 + df1[\"HW#3\"]*0.3 + df1[\"HW#4\"]*0.1\n",
    "\n",
    "print(df1)"
   ]
  },
  {
   "cell_type": "markdown",
   "metadata": {},
   "source": [
    "- Using `pd.DataFrame.describe()` to acquire the basic statistics"
   ]
  },
  {
   "cell_type": "code",
   "execution_count": 7,
   "metadata": {},
   "outputs": [
    {
     "data": {
      "text/html": [
       "<div>\n",
       "<style scoped>\n",
       "    .dataframe tbody tr th:only-of-type {\n",
       "        vertical-align: middle;\n",
       "    }\n",
       "\n",
       "    .dataframe tbody tr th {\n",
       "        vertical-align: top;\n",
       "    }\n",
       "\n",
       "    .dataframe thead th {\n",
       "        text-align: right;\n",
       "    }\n",
       "</style>\n",
       "<table border=\"1\" class=\"dataframe\">\n",
       "  <thead>\n",
       "    <tr style=\"text-align: right;\">\n",
       "      <th></th>\n",
       "      <th>HW#1</th>\n",
       "      <th>HW#2</th>\n",
       "      <th>HW#3</th>\n",
       "      <th>HW#4</th>\n",
       "      <th>Final</th>\n",
       "    </tr>\n",
       "  </thead>\n",
       "  <tbody>\n",
       "    <tr>\n",
       "      <th>count</th>\n",
       "      <td>5.000000</td>\n",
       "      <td>5.000000</td>\n",
       "      <td>5.000000</td>\n",
       "      <td>5.000000</td>\n",
       "      <td>5.00000</td>\n",
       "    </tr>\n",
       "    <tr>\n",
       "      <th>mean</th>\n",
       "      <td>68.000000</td>\n",
       "      <td>86.000000</td>\n",
       "      <td>83.000000</td>\n",
       "      <td>52.400000</td>\n",
       "      <td>76.34000</td>\n",
       "    </tr>\n",
       "    <tr>\n",
       "      <th>std</th>\n",
       "      <td>39.623226</td>\n",
       "      <td>15.572412</td>\n",
       "      <td>17.175564</td>\n",
       "      <td>24.531612</td>\n",
       "      <td>17.42722</td>\n",
       "    </tr>\n",
       "    <tr>\n",
       "      <th>min</th>\n",
       "      <td>0.000000</td>\n",
       "      <td>60.000000</td>\n",
       "      <td>60.000000</td>\n",
       "      <td>21.000000</td>\n",
       "      <td>46.80000</td>\n",
       "    </tr>\n",
       "    <tr>\n",
       "      <th>25%</th>\n",
       "      <td>70.000000</td>\n",
       "      <td>85.000000</td>\n",
       "      <td>75.000000</td>\n",
       "      <td>39.000000</td>\n",
       "      <td>77.40000</td>\n",
       "    </tr>\n",
       "    <tr>\n",
       "      <th>50%</th>\n",
       "      <td>80.000000</td>\n",
       "      <td>90.000000</td>\n",
       "      <td>80.000000</td>\n",
       "      <td>53.000000</td>\n",
       "      <td>80.60000</td>\n",
       "    </tr>\n",
       "    <tr>\n",
       "      <th>75%</th>\n",
       "      <td>90.000000</td>\n",
       "      <td>95.000000</td>\n",
       "      <td>100.000000</td>\n",
       "      <td>63.000000</td>\n",
       "      <td>84.60000</td>\n",
       "    </tr>\n",
       "    <tr>\n",
       "      <th>max</th>\n",
       "      <td>100.000000</td>\n",
       "      <td>100.000000</td>\n",
       "      <td>100.000000</td>\n",
       "      <td>86.000000</td>\n",
       "      <td>92.30000</td>\n",
       "    </tr>\n",
       "  </tbody>\n",
       "</table>\n",
       "</div>"
      ],
      "text/plain": [
       "             HW#1        HW#2        HW#3       HW#4     Final\n",
       "count    5.000000    5.000000    5.000000   5.000000   5.00000\n",
       "mean    68.000000   86.000000   83.000000  52.400000  76.34000\n",
       "std     39.623226   15.572412   17.175564  24.531612  17.42722\n",
       "min      0.000000   60.000000   60.000000  21.000000  46.80000\n",
       "25%     70.000000   85.000000   75.000000  39.000000  77.40000\n",
       "50%     80.000000   90.000000   80.000000  53.000000  80.60000\n",
       "75%     90.000000   95.000000  100.000000  63.000000  84.60000\n",
       "max    100.000000  100.000000  100.000000  86.000000  92.30000"
      ]
     },
     "execution_count": 7,
     "metadata": {},
     "output_type": "execute_result"
    }
   ],
   "source": [
    "# Only for the numerical data\n",
    "df1.describe()"
   ]
  },
  {
   "cell_type": "code",
   "execution_count": 11,
   "metadata": {},
   "outputs": [
    {
     "name": "stdout",
     "output_type": "stream",
     "text": [
      "Student ID     object\n",
      "Gender         object\n",
      "HW#1            int64\n",
      "HW#2            int64\n",
      "HW#3            int64\n",
      "HW#4            int32\n",
      "Final         float64\n",
      "dtype: object\n",
      "(5, 7)\n"
     ]
    }
   ],
   "source": [
    "# Get dtype of each column\n",
    "print(df1.dtypes)\n",
    "\n",
    "# Get the shape of the DataFrame\n",
    "print(df1.shape)"
   ]
  },
  {
   "cell_type": "code",
   "execution_count": 8,
   "metadata": {},
   "outputs": [
    {
     "name": "stdout",
     "output_type": "stream",
     "text": [
      "           2050-12-29  2051-01-05  2051-01-12  2051-01-19  2051-01-26\n",
      "139514001           0           1           1           0           2\n",
      "139514002           2           1           1           1           1\n",
      "139514003           1           1           0           0           0\n",
      "139514004           2           2           0           2           2\n",
      "139514005           1           1           0           1           0\n",
      "139514006           0           2           2           2           0\n",
      "139514007           2           0           0           0           1\n",
      "139514008           0           2           0           2           2\n",
      "139514009           1           2           0           0           0\n",
      "139514010           0           0           1           0           1\n",
      "Index(['139514001', '139514002', '139514003', '139514004', '139514005',\n",
      "       '139514006', '139514007', '139514008', '139514009', '139514010'],\n",
      "      dtype='object')\n",
      "DatetimeIndex(['2050-12-29', '2051-01-05', '2051-01-12', '2051-01-19',\n",
      "               '2051-01-26'],\n",
      "              dtype='datetime64[ns]', freq='W-THU')\n"
     ]
    }
   ],
   "source": [
    "# data_range\n",
    "\n",
    "num = 10\n",
    "dates = pd.date_range(\"2050-12-25\", periods=5, freq=\"W-THU\")\n",
    "idx = [\"1395140{:02d}\".format(i+1) for i in range(num)]\n",
    "\n",
    "df2 = pd.DataFrame(np.random.randint(0, 3, (num, len(dates))), index=idx, columns=dates)\n",
    "\n",
    "print(df2)\n",
    "print(df2.index)\n",
    "print(df2.columns)"
   ]
  },
  {
   "cell_type": "markdown",
   "metadata": {},
   "source": [
    "#### Read and write tabular data\n",
    "\n",
    "- Use `DataFrame.to_*` for exporting data\n",
    "    1. [to_csv](https://pandas.pydata.org/docs/reference/api/pandas.DataFrame.to_csv.html)\n",
    "    2. [to_excel](https://pandas.pydata.org/docs/reference/api/pandas.DataFrame.to_excel.html)\n",
    "    3. ...  \n",
    "<br>\n",
    "\n",
    "- Use `pd.read_*` for reading data\n",
    "    1. [read_csv](https://pandas.pydata.org/docs/reference/api/pandas.read_csv.html)\n",
    "    2. [read_excel](https://pandas.pydata.org/docs/reference/api/pandas.read_excel.html)\n",
    "    3. ...  "
   ]
  },
  {
   "cell_type": "code",
   "execution_count": null,
   "metadata": {},
   "outputs": [],
   "source": [
    "# exporting df1 as a .csv file\n",
    "\n",
    "# df1.to_csv(\"test.csv\")"
   ]
  },
  {
   "cell_type": "code",
   "execution_count": 9,
   "metadata": {},
   "outputs": [
    {
     "name": "stdout",
     "output_type": "stream",
     "text": [
      "        playerID  yearID  stint teamID lgID    G   AB   R   H  2B  ...  RBI  \\\n",
      "0       abadan01    2001      1    OAK   AL    1    1   0   0   0  ...    0   \n",
      "1      abbotje01    2001      1    FLO   NL   28   42   5  11   3  ...    5   \n",
      "2      abbotku01    2001      1    ATL   NL    6    9   0   2   0  ...    0   \n",
      "3      abbotpa01    2001      1    SEA   AL   28    4   0   1   0  ...    0   \n",
      "4      abernbr01    2001      1    TBA   AL   79  304  43  82  17  ...   33   \n",
      "...          ...     ...    ...    ...  ...  ...  ...  ..  ..  ..  ...  ...   \n",
      "20695   zitoba01    2015      1    OAK   AL    3    0   0   0   0  ...    0   \n",
      "20696  zobribe01    2015      1    OAK   AL   67  235  39  63  20  ...   33   \n",
      "20697  zobribe01    2015      2    KCA   AL   59  232  37  66  16  ...   23   \n",
      "20698  zuninmi01    2015      1    SEA   AL  112  350  28  61  11  ...   28   \n",
      "20699   zychto01    2015      1    SEA   AL   13    0   0   0   0  ...    0   \n",
      "\n",
      "       SB  CS  BB   SO  IBB  HBP  SH  SF  GIDP  \n",
      "0       0   0   0    0    0    0   0   0     0  \n",
      "1       0   0   3    7    0    1   0   0     1  \n",
      "2       1   0   0    3    0    0   0   0     0  \n",
      "3       0   0   0    1    0    0   1   0     0  \n",
      "4       8   3  27   35    1    0   3   1     3  \n",
      "...    ..  ..  ..  ...  ...  ...  ..  ..   ...  \n",
      "20695   0   0   0    0    0    0   0   0     0  \n",
      "20696   1   1  33   26    2    0   0   3     5  \n",
      "20697   2   3  29   30    1    1   0   2     3  \n",
      "20698   0   1  21  132    0    5   8   2     6  \n",
      "20699   0   0   0    0    0    0   0   0     0  \n",
      "\n",
      "[20700 rows x 22 columns]\n"
     ]
    }
   ],
   "source": [
    "# importing data from a .csv file\n",
    "batting = pd.read_csv(\".//data//data_batting.csv\")\n",
    "\n",
    "print(batting)"
   ]
  },
  {
   "cell_type": "code",
   "execution_count": 10,
   "metadata": {},
   "outputs": [
    {
     "name": "stdout",
     "output_type": "stream",
     "text": [
      "    playerID  yearID  stint teamID lgID   G   AB   R   H  2B  ...  RBI  SB  \\\n",
      "0   abadan01    2001      1    OAK   AL   1    1   0   0   0  ...    0   0   \n",
      "1  abbotje01    2001      1    FLO   NL  28   42   5  11   3  ...    5   0   \n",
      "2  abbotku01    2001      1    ATL   NL   6    9   0   2   0  ...    0   1   \n",
      "3  abbotpa01    2001      1    SEA   AL  28    4   0   1   0  ...    0   0   \n",
      "4  abernbr01    2001      1    TBA   AL  79  304  43  82  17  ...   33   8   \n",
      "\n",
      "   CS  BB  SO  IBB  HBP  SH  SF  GIDP  \n",
      "0   0   0   0    0    0   0   0     0  \n",
      "1   0   3   7    0    1   0   0     1  \n",
      "2   0   0   3    0    0   0   0     0  \n",
      "3   0   0   1    0    0   1   0     0  \n",
      "4   3  27  35    1    0   3   1     3  \n",
      "\n",
      "[5 rows x 22 columns]\n"
     ]
    }
   ],
   "source": [
    "# Only show the first 5 rows\n",
    "print(batting.head())\n",
    "\n",
    "# Change n if you need\n",
    "# print(batting.head(n=7))"
   ]
  },
  {
   "cell_type": "markdown",
   "metadata": {},
   "source": [
    "#### Filter a subset of a `DataFrame`\n",
    "\n",
    "- Example: Extracting the batting statistics of **Albert Pujols**"
   ]
  },
  {
   "cell_type": "code",
   "execution_count": null,
   "metadata": {},
   "outputs": [],
   "source": [
    "# method 1\n",
    "tmp_list = []\n",
    "\n",
    "for i in range(batting.shape[0]):\n",
    "    if batting.iloc[i][\"playerID\"] == \"pujolal01\":\n",
    "        tmp_list.append(batting.iloc[i])\n",
    "\n",
    "method1 = pd.DataFrame(tmp_list, columns=batting.columns)\n",
    "\n",
    "print(method1)"
   ]
  },
  {
   "cell_type": "code",
   "execution_count": null,
   "metadata": {},
   "outputs": [],
   "source": [
    "# method 2\n",
    "\n",
    "method2 = batting[batting[\"playerID\"] == \"pujolal01\"]\n",
    "\n",
    "print(method2)"
   ]
  },
  {
   "cell_type": "markdown",
   "metadata": {},
   "source": [
    "#### Exercise 1: calculate the **slugging percentage (SLG)**\n",
    "\n",
    "- Please write a program that calculates the **slugging percentage (SLG)** of Albert Pujols during his first career in St. Louis Cardinals (2001-2011).\n",
    "\n",
    "- Please also calculate the average SLG of the entire league during 2001-2011.\n",
    "\n",
    "- The definition of SLG is:\n",
    "\n",
    "$$\n",
    "\\text{SLG} = \\frac{1 \\times (\\text{1B}) + 2 \\times (\\text{2B}) + 3 \\times (\\text{3B}) + 4 \\times (\\text{HR})}{\\text{AB}}\n",
    "$$\n",
    "\n",
    "- Please plot the result:\n",
    "\n",
    "- - -\n",
    "\n",
    "<img align=\"center\" height=auto width=500px src=\"https://raw.githubusercontent.com/bruce88617/nycudopcs/main/Lectures/Lecture14/assets/exercise1_1.png\">\n",
    "\n",
    "<img align=\"center\" height=auto width=500px src=\"https://raw.githubusercontent.com/bruce88617/nycudopcs/main/Lectures/Lecture14/assets/exercise1_2.png\">\n",
    "\n",
    "- - -\n",
    "\n",
    "<details><summary>Click here for solution</summary>\n",
    "\n",
    "    ```python\n",
    "    import numpy as np\n",
    "    import pandas as pd\n",
    "    import matplotlib.pyplot as plt\n",
    "\n",
    "    batting = pd.read_csv(\".//data//data_batting.csv\")\n",
    "    pujols = batting[batting[\"playerID\"] == \"pujolal01\"]\n",
    "\n",
    "    data = pujols[pujols[\"teamID\"] == \"SLN\"][[\"playerID\", \"yearID\", \"teamID\", \"AB\", \"H\", \"2B\", \"3B\", \"HR\"]]\n",
    "\n",
    "    data[\"SLG\"] = (((data[\"H\"]-data[\"2B\"]-data[\"3B\"]-data[\"HR\"]) + 2*data[\"2B\"] + 3*data[\"3B\"] + 4*data[\"HR\"])/data[\"AB\"]).round(2)\n",
    "\n",
    "    slg_all = []\n",
    "\n",
    "    for i in range(data.shape[0]):\n",
    "        data_all = batting[batting[\"yearID\"] == (2001+i) ][[\"playerID\", \"yearID\", \"teamID\", \"AB\", \"H\", \"2B\", \"3B\", \"HR\"]]\n",
    "        data_all[\"SLG\"] = (((data_all[\"H\"]-data_all[\"2B\"]-data_all[\"3B\"]-data_all[\"HR\"]) + \\\n",
    "            2*data_all[\"2B\"] + 3*data_all[\"3B\"] + 4*data_all[\"HR\"])/data_all[\"AB\"])\n",
    "\n",
    "        slg_all.append(data_all[\"SLG\"].mean())    \n",
    "\n",
    "    data[\"League SLG\"] = slg_all\n",
    "\n",
    "    fig = plt.figure(1, figsize=(6,4), dpi=100)\n",
    "    ax = fig.add_subplot(111)\n",
    "    ax.plot(data[\"yearID\"], data[\"SLG\"], label=\"Albert Pujols\")\n",
    "    ax.plot(data[\"yearID\"], data[\"League SLG\"], label=\"League AVG\")\n",
    "    ax.set_title(\"Albert Pujols' Batting Status\", fontweight='bold')\n",
    "    ax.set_xlabel(\"Year\", fontweight='bold')\n",
    "    ax.set_ylabel(\"SLG\", fontweight='bold')\n",
    "    ax.grid(True)\n",
    "    ax.legend()\n",
    "\n",
    "    plt.show()\n",
    "    ```\n",
    "\n",
    "</details>"
   ]
  },
  {
   "cell_type": "code",
   "execution_count": null,
   "metadata": {},
   "outputs": [],
   "source": []
  }
 ],
 "metadata": {
  "kernelspec": {
   "display_name": "Python 3.8.10 ('nycudopcs')",
   "language": "python",
   "name": "python3"
  },
  "language_info": {
   "codemirror_mode": {
    "name": "ipython",
    "version": 3
   },
   "file_extension": ".py",
   "mimetype": "text/x-python",
   "name": "python",
   "nbconvert_exporter": "python",
   "pygments_lexer": "ipython3",
   "version": "3.8.10"
  },
  "orig_nbformat": 4,
  "vscode": {
   "interpreter": {
    "hash": "5fe2e5cd560f36aa3aedf58cd7990de02027c6dec68ca092676a4258cbc93843"
   }
  }
 },
 "nbformat": 4,
 "nbformat_minor": 2
}
