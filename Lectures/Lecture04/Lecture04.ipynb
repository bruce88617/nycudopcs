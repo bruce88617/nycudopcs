{
 "cells": [
  {
   "cell_type": "markdown",
   "metadata": {},
   "source": [
    "<br />\n",
    "<br />\n",
    "\n",
    "<center><h1><b>Lecture 4</b></h1></center>\n",
    "<center><h1><b>Abstraction, Decomposition, and Functions</b></h1></center>\n",
    "\n",
    "<center><h4>Time: M56 (13:20 ~ 15:10) and R2 (09:00 ~ 09:50)</h4></center>\n",
    "<br />\n",
    "\n",
    "<center><h2>Chieh-En Lee (李杰恩)</h2></center>\n",
    "\n",
    "<center>\n",
    "<h4><a href=\"mailto:celee@nycu.edu.tw\">celee@nycu.edu.tw</a></h4>\n",
    "</center>\n",
    "\n",
    "<center><h3><a href=\"https://dop.nycu.edu.tw/ch/index.html\">Department of Photonics</a>, <a href=\"https://www.nycu.edu.tw/\">NYCU</a></h3></center>\n",
    "\n",
    "<br />\n",
    "<center><h5><a href=\"https://github.com/bruce88617/nycudopcs\">Introduction to Computer and Computer Science</a>, 2024 Fall</h5></center>\n"
   ]
  },
  {
   "cell_type": "markdown",
   "metadata": {},
   "source": [
    "## Last time\n",
    "\n",
    "- Exhaustive enumeration  \n",
    "- Approximation  \n",
    "- The concept of computational complexity  \n",
    "- A small function object: `lambda`\n",
    "- Bisection search  \n",
    "- Digression: Floating-point numbers  \n",
    "- Newton-Raphson method  \n",
    " \n"
   ]
  },
  {
   "cell_type": "markdown",
   "metadata": {},
   "source": [
    "## **Today**\n",
    "\n",
    "<html>\n",
    "<head>\n",
    "</head>\n",
    "<body>\n",
    "<ul>\n",
    "  <li><a href=\"#tag1\">Organization and hiding details</a></li>\n",
    "  <li><a href=\"#tag2\">Create your own functions</a></li>\n",
    "  <li><a href=\"#tag3\">Understand the concept of scope</a></li>\n",
    "</ul>\n",
    "\n",
    "</body>"
   ]
  },
  {
   "cell_type": "markdown",
   "metadata": {},
   "source": [
    "<a id=\"tag1\"></a>\n",
    "\n",
    "## **Organization and hiding details**  \n",
    "\n",
    "- What we have learned so far...\n",
    "    * It will be difficult to maintain or debug once your program becomes bigger and bigger.  \n",
    "    * We need to learn how to divide problem into sub-problems and hide those unnecessary details for solving each small issues.  \n",
    "    \n",
    "    <br />\n",
    "    <img align=\"center\" height=auto width=700px src=\"https://raw.githubusercontent.com/bruce88617/nycudopcs/main/Lectures/Lecture04/assets/fig1.png\">\n",
    "    <br />\n",
    "\n",
    "- - -\n",
    "\n",
    "- The truth is...\n",
    "    * Most of the users doesn't care how it works but the result.\n",
    "    * The only thing they do care is how to use it.\n",
    "\n",
    "    <br />\n",
    "    <img align=\"center\" height=auto width=700px src=\"https://raw.githubusercontent.com/bruce88617/nycudopcs/main/Lectures/Lecture04/assets/fig2.png\">\n",
    "    <br />\n",
    "\n",
    "- - -\n",
    "\n",
    "### Organizing your code  \n",
    "\n",
    "- Divide the problem into sub-problems and solve them separately.\n",
    "    * Maintaining small pieces of code is easier.  \n",
    "    * Reuse them in the rest of parts of the code or in the future.  \n",
    "    * Keep your code organized, keep your code clean, and keep your code coherent.  \n",
    "- Today, we are going to achieve this by creating `function`.  \n",
    "- A few weeks later, we are going to achieve this by using `class`.  \n",
    "\n"
   ]
  },
  {
   "cell_type": "markdown",
   "metadata": {},
   "source": [
    "<a id=\"tag2\"></a>\n",
    "\n",
    "## **Create your own functions**  \n",
    "\n",
    "### Functions\n",
    "\n",
    "- It’s a piece of reusable code, which will not be executed until they are called.  \n",
    "    * Has a **name**\n",
    "    * Has some **input parameters** (0 or more)\n",
    "    * Has a **docstring/specification** (optional)\n",
    "    * Has a **body**\n",
    "    * **Returns something** (optional)\n",
    "- You can assign the result of a function to an arbitrary variable.\n",
    "\n",
    "- - -\n",
    "\n",
    "#### Syntax example\n",
    "\n",
    "```python\n",
    "def hello(params1, params2, default_params1=None, default_params2=1.):\n",
    "    \"\"\"\n",
    "    Docstring/specification\n",
    "    \"\"\"\n",
    "    # function body\n",
    "    # function body\n",
    "    # function body\n",
    "    return None\n",
    "```"
   ]
  },
  {
   "cell_type": "code",
   "execution_count": null,
   "metadata": {},
   "outputs": [],
   "source": [
    "# Example of bisection search function\n",
    "def sqrtBi(target, epsilon=1e-4):\n",
    "    \"\"\"\n",
    "    Assume the input is a positive number\n",
    "    Return the approximate square root via bisection search\n",
    "    - - -\n",
    "    Params:\n",
    "        target:     float, target number\n",
    "        epsilon:    float, minimum acceptable difference\n",
    "\n",
    "    Returns:\n",
    "        g:          float, the square root of input number\n",
    "        \n",
    "    \"\"\"\n",
    "    # Set searching region\n",
    "    lower_bnd = 0.0\n",
    "    upper_bnd = max(1., target)\n",
    "    # Start with a guess\n",
    "    g = (upper_bnd + lower_bnd)/2\n",
    "    numGuesses = 0\n",
    "    # bisection search\n",
    "    while abs(g**2 - target) >= epsilon:\n",
    "        # print(\"Current search region: [{:.4f}, {:.4f}]\".format(lower_bnd, upper_bnd))\n",
    "        numGuesses += 1\n",
    "        if g**2 < target:\n",
    "            lower_bnd = g\n",
    "        else:\n",
    "            upper_bnd = g\n",
    "        # define a new searching region\n",
    "        g = (upper_bnd + lower_bnd)/2\n",
    "    # return the answer\n",
    "    print(\"# of guesses = {}\".format(numGuesses))\n",
    "    return g\n",
    "\n"
   ]
  },
  {
   "cell_type": "code",
   "execution_count": null,
   "metadata": {},
   "outputs": [],
   "source": [
    "ans = sqrtBi(2)\n",
    "print(\"The square root of 2 =\", ans)"
   ]
  },
  {
   "cell_type": "code",
   "execution_count": null,
   "metadata": {},
   "outputs": [],
   "source": [
    "# Change the default parameters\n",
    "ans = sqrtBi(2, epsilon=1e0)\n",
    "print(\"The square root of 2 =\", ans)\n",
    "# Change the default parameters\n",
    "ans = sqrtBi(2, epsilon=1e-6)\n",
    "print(\"The square root of 2 =\", ans)"
   ]
  },
  {
   "cell_type": "code",
   "execution_count": null,
   "metadata": {},
   "outputs": [],
   "source": [
    "# Call docstring\n",
    "help(sqrtBi)\n",
    "print(\"=\"*50)\n",
    "\n",
    "# Module __main__ ???\n",
    "help(abs)"
   ]
  },
  {
   "cell_type": "markdown",
   "metadata": {},
   "source": [
    "- - -\n",
    "\n",
    "### Exercise 4.1\n",
    "\n",
    "- Please write a function called `fact`, which will calculate the result of $n!$.\n",
    "\n",
    "- - -"
   ]
  },
  {
   "cell_type": "code",
   "execution_count": null,
   "metadata": {},
   "outputs": [],
   "source": [
    "def fact(n):\n",
    "    \"\"\"\n",
    "    Params:\n",
    "        n: int, n >= 0\n",
    "\n",
    "    Returns: \n",
    "        n_factorial: int\n",
    "    \n",
    "    \"\"\"\n",
    "\n",
    "    # 自己想\n",
    "\n",
    "    return n_factorial"
   ]
  },
  {
   "cell_type": "markdown",
   "metadata": {},
   "source": [
    "- Test your function with different inputs $n$, for example, `fact(87)`."
   ]
  },
  {
   "cell_type": "markdown",
   "metadata": {},
   "source": [
    "<a id=\"tag3\"></a>\n",
    "\n",
    "## **Understand the concept of scope**  \n",
    "\n",
    "- Each function has its own **scope**, i.e., its own **name space**.\n",
    "\n"
   ]
  },
  {
   "cell_type": "code",
   "execution_count": 1,
   "metadata": {},
   "outputs": [],
   "source": [
    "def sqrtNR(target, epsilon=1e-4):\n",
    "    \"\"\"\n",
    "    Assume the input is a positive number\n",
    "    Return the approximate square root via Newton-Raphson method\n",
    "    - - -\n",
    "    Params:\n",
    "        target:     float, target number\n",
    "        epsilon:    float, minimum acceptable difference\n",
    "    \n",
    "    Returns:\n",
    "        ans: float\n",
    "        \n",
    "    \"\"\"\n",
    "    ans = target/2\n",
    "    numGuesses = 0\n",
    "\n",
    "    # NR method\n",
    "    while abs(ans**2 - target) >= epsilon:\n",
    "        numGuesses += 1\n",
    "        ans = ans - (ans**2 - target) / (2*ans)\n",
    "\n",
    "    # return the answer\n",
    "    print(\"# of guesses: {}\".format(numGuesses))\n",
    "    return ans"
   ]
  },
  {
   "cell_type": "code",
   "execution_count": null,
   "metadata": {},
   "outputs": [],
   "source": [
    "target = 87\n",
    "print(\"{:f} is close enought to the square root of {}.\".format(sqrtNR(target), target))"
   ]
  },
  {
   "cell_type": "code",
   "execution_count": null,
   "metadata": {},
   "outputs": [],
   "source": [
    "# A simple example\n",
    "def f(x):\n",
    "    y = 1\n",
    "    x = x + y\n",
    "    print(\"x =\", x)\n",
    "    return x\n",
    "\n",
    "x = 3\n",
    "y = 2\n",
    "z = f(x)\n",
    "\n",
    "print(\"x, y, z = {}, {}, {}\".format(x, y, z))\n",
    "print(\"f:\", f)"
   ]
  },
  {
   "cell_type": "markdown",
   "metadata": {},
   "source": [
    "### What happend?\n",
    "\n",
    "<img align=\"center\" height=auto width=1000px src=\"https://raw.githubusercontent.com/bruce88617/nycudopcs/main/Lectures/Lecture04/assets/fig3.png\">\n",
    "<br />\n",
    "\n",
    "- After invoking `f` by $𝑧=𝑓(𝑥)$, the scope of `f` will disappear.\n",
    "\n"
   ]
  },
  {
   "cell_type": "markdown",
   "metadata": {},
   "source": [
    "- - -\n",
    "\n",
    "### Exercise 4.2\n",
    "\n",
    "- What will you observe after you running this?\n",
    "\n",
    "- - -"
   ]
  },
  {
   "cell_type": "code",
   "execution_count": null,
   "metadata": {},
   "outputs": [],
   "source": [
    "def f(x):\n",
    "    def g():\n",
    "        x = \"abc\"\n",
    "        print(\"x =\", x)\n",
    "    def h():\n",
    "        z = x\n",
    "        print(\"z =\", z)\n",
    "    x += 1\n",
    "    print(\"x =\", x)\n",
    "    h()\n",
    "    g()\n",
    "    print(\"x =\", x)\n",
    "    return g\n",
    "\n",
    "x = 3\n",
    "z = f(x)\n",
    "print(\"x =\", x)\n",
    "print(\"z =\", z)\n",
    "z()"
   ]
  },
  {
   "cell_type": "markdown",
   "metadata": {},
   "source": [
    "#### Details in exercise 2\n",
    "\n",
    "<img align=\"center\" height=auto width=800px src=\"https://raw.githubusercontent.com/bruce88617/nycudopcs/main/Lectures/Lecture04/assets/fig4.png\">\n",
    "<br >\n",
    "<img align=\"center\" height=auto width=800px src=\"https://raw.githubusercontent.com/bruce88617/nycudopcs/main/Lectures/Lecture04/assets/fig5.png\">\n",
    "<br >\n",
    "<img align=\"center\" height=auto width=800px src=\"https://raw.githubusercontent.com/bruce88617/nycudopcs/main/Lectures/Lecture04/assets/fig6.png\">\n",
    "<br >\n",
    "<img align=\"center\" height=auto width=800px src=\"https://raw.githubusercontent.com/bruce88617/nycudopcs/main/Lectures/Lecture04/assets/fig7.png\">\n",
    "<br >\n",
    "<img align=\"center\" height=auto width=800px src=\"https://raw.githubusercontent.com/bruce88617/nycudopcs/main/Lectures/Lecture04/assets/fig8.png\">\n",
    "<br >\n",
    "<img align=\"center\" height=auto width=800px src=\"https://raw.githubusercontent.com/bruce88617/nycudopcs/main/Lectures/Lecture04/assets/fig9.png\">\n",
    "<br >\n",
    "<img align=\"center\" height=auto width=800px src=\"https://raw.githubusercontent.com/bruce88617/nycudopcs/main/Lectures/Lecture04/assets/fig10.png\">\n",
    "<br >\n",
    "<img align=\"center\" height=auto width=800px src=\"https://raw.githubusercontent.com/bruce88617/nycudopcs/main/Lectures/Lecture04/assets/fig11.png\">\n",
    "<br >\n",
    "\n"
   ]
  },
  {
   "cell_type": "markdown",
   "metadata": {},
   "source": [
    "- - -\n",
    "\n",
    "### Exercise 4.3\n",
    "\n",
    "- For a given positive number $x$ and a given positive integer $n$, please write a function that returns you a real number $y$ such that $y^n = x$. If there does not exist such number $y$, your function should also return the corresponding message.\n",
    "\n",
    "- You can also add a parameter that allows user to choose either bisection search or Newton-Raphson method.\n",
    "\n",
    "- Here is your sample code:\n",
    "\n",
    "```python\n",
    "def findRoot(x, n, epsilon=1e-4, method='NR method'):\n",
    "    \"\"\"\n",
    "    Using Newton-Raphson method or bisection search method to find root, do not directly calculate it with ** operator.\n",
    "\n",
    "    Params:\n",
    "        x:          float, x > 0, input number\n",
    "        n:          int, n > 0, exponential power of x\n",
    "        epsilon:    float, 1e-4, minimum acceptable difference\n",
    "        method:     string, using Newton-Raphson method(NR method) or bisection search method(BS method)\n",
    "    \n",
    "    Returns:\n",
    "        answer:     float or string, if no such answer, return 'NA' instead\n",
    "    \"\"\"\n",
    "\n",
    "    # 自己想\n",
    "\n",
    "    return answer\n",
    "```\n",
    "\n",
    "- - -\n"
   ]
  }
 ],
 "metadata": {
  "kernelspec": {
   "display_name": "Python 3.8.10 ('nycudopcs')",
   "language": "python",
   "name": "python3"
  },
  "language_info": {
   "codemirror_mode": {
    "name": "ipython",
    "version": 3
   },
   "file_extension": ".py",
   "mimetype": "text/x-python",
   "name": "python",
   "nbconvert_exporter": "python",
   "pygments_lexer": "ipython3",
   "version": "3.11.5"
  },
  "orig_nbformat": 4,
  "vscode": {
   "interpreter": {
    "hash": "5fe2e5cd560f36aa3aedf58cd7990de02027c6dec68ca092676a4258cbc93843"
   }
  }
 },
 "nbformat": 4,
 "nbformat_minor": 2
}
