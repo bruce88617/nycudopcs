{
 "cells": [
  {
   "cell_type": "markdown",
   "metadata": {},
   "source": [
    "<br />\n",
    "<br />\n",
    "\n",
    "<center><h1><b>Lecture 15</b></h1></center>\n",
    "<center><h1><b>Introduction to Concurrency and Parallelism</b></h1></center>\n",
    "\n",
    "<center><h4>Time: M56 (13:20 ~ 15:10) and R2 (09:00 ~ 09:50)</h4></center>\n",
    "<br />\n",
    "\n",
    "<center><h2>Chieh-En Lee<sup>1</sup> (李杰恩) and Chung-Hao Tien<sup>2</sup> (田仲豪)</h2></center>\n",
    "\n",
    "<center>\n",
    "<h4>{<a href=\"mailto:celee@nycu.edu.tw\">celee</a><sup>1</sup>, \n",
    "<a href=\"mailto:chtien@nycu.edu.tw\">chtien</a><sup>2</sup>}@nycu.edu.tw</h4>\n",
    "</center>\n",
    "\n",
    "<center><h3><a href=\"https://dop.nycu.edu.tw/ch/index.html\">Department of Photonics</a>, <a href=\"https://www.nycu.edu.tw/\">NYCU</a></h3></center>\n",
    "\n",
    "<br />\n",
    "<center><h5><a href=\"https://github.com/bruce88617/nycudopcs\">Introduction to Computer and Computer Science</a>, 2022 Fall</h5></center>\n"
   ]
  },
  {
   "cell_type": "markdown",
   "metadata": {},
   "source": [
    "## Last time\n",
    "\n",
    "- Searching algorithms  \n",
    "- Sorting algorithms  \n",
    "- Lambda  "
   ]
  },
  {
   "cell_type": "markdown",
   "metadata": {},
   "source": [
    "## **Today**\n",
    "\n",
    "<html>\n",
    "<head>\n",
    "</head>\n",
    "<body>\n",
    "<ul>\n",
    "  <li><a href=\"#tag1\">Concurrency vs. parallelism</a></li>\n",
    "  <li><a href=\"#tag2\">Multi-threading</a></li>\n",
    "  <li><a href=\"#tag3\">Multi-processing</a></li>\n",
    "</ul>\n",
    "\n",
    "</body>"
   ]
  },
  {
   "cell_type": "markdown",
   "metadata": {},
   "source": [
    "<a id=\"tag1\"></a>\n",
    "\n",
    "## **Concurrency vs. parallelism**  \n",
    "\n",
    ">\n",
    "> Concurrency is about dealing with lots of things at once.  \n",
    "> Parallelism is about doing lots of things at once.  \n",
    "> \n",
    ">                                           - Rob Pike\n",
    "> \n",
    "\n",
    "<img align=\"center\" height=auto width=600px src=\"https://raw.githubusercontent.com/bruce88617/nycudopcs/main/Lectures/Lecture15/assets/fig1.png\">\n",
    "\n",
    "- - -\n",
    "\n",
    "#### Practical example\n",
    "\n",
    "<img align=\"center\" height=auto width=700px src=\"https://raw.githubusercontent.com/bruce88617/nycudopcs/main/Lectures/Lecture15/assets/fig2.png\">\n",
    "\n",
    "- - -"
   ]
  },
  {
   "cell_type": "markdown",
   "metadata": {},
   "source": [
    "<a id=\"tag2\"></a>\n",
    "\n",
    "## **Multi-threading**  \n",
    "\n",
    "#### Python build-in module `threading` \n",
    "\n",
    "- Thread-based parallelism\n",
    "- Suitable for heavy I/O task (e.g. reading & writing files)"
   ]
  },
  {
   "cell_type": "code",
   "execution_count": 6,
   "metadata": {},
   "outputs": [],
   "source": [
    "import threading\n",
    "import time\n",
    "\n",
    "def job1(msg, t=1):\n",
    "    print(\"Current thread:\", threading.current_thread())\n",
    "    print(\"Active threads:\", threading.active_count())\n",
    "    print(\"Print message: {} is working.\".format(msg))\n",
    "    time.sleep(t)\n",
    "    print(\"{} is done.\".format(msg))\n",
    "\n",
    "def job2(msg, t=5):\n",
    "    print(\"Current thread:\", threading.current_thread())\n",
    "    print(\"Active threads:\", threading.active_count())\n",
    "    print(\"Print message: {} is working.\".format(msg))\n",
    "    time.sleep(t)\n",
    "    print(\"{} is done.\".format(msg))"
   ]
  },
  {
   "cell_type": "markdown",
   "metadata": {},
   "source": [
    "#### Example 1: create 2 threads by `Thread`"
   ]
  },
  {
   "cell_type": "code",
   "execution_count": 7,
   "metadata": {},
   "outputs": [
    {
     "name": "stdout",
     "output_type": "stream",
     "text": [
      "Current thread: <_MainThread(MainThread, started 17416)>\n",
      "==================================================\n",
      "Current thread: <Thread(T1, started 8184)>\n",
      "Active threads: 7\n",
      "Print message: Thread 1 is working.\n",
      "Current thread: <Thread(T2, started 17244)>\n",
      "Active threads: 8\n",
      "Print message: Thread 2 is working.\n",
      "==================================================\n",
      "Current thread: <_MainThread(MainThread, started 17416)>\n",
      "Active threads: 8\n"
     ]
    },
    {
     "name": "stdout",
     "output_type": "stream",
     "text": [
      "Thread 1 is done.\n",
      "Thread 2 is done.\n"
     ]
    }
   ],
   "source": [
    "thread1 = threading.Thread(target=job1, name=\"T1\", args=(\"Thread 1\",))\n",
    "thread2 = threading.Thread(target=job2, name=\"T2\", args=(\"Thread 2\",))\n",
    "\n",
    "print(\"Current thread:\", threading.current_thread())\n",
    "\n",
    "print(\"=\"*50)\n",
    "thread1.start()\n",
    "thread2.start()\n",
    "print(\"=\"*50)\n",
    "\n",
    "print(\"Current thread:\", threading.current_thread())\n",
    "print(\"Active threads:\", threading.active_count())\n"
   ]
  },
  {
   "cell_type": "markdown",
   "metadata": {},
   "source": [
    "#### Example 2: `join`\n",
    "\n",
    "-  Temporately stop the `MainThread` until all thread has finished."
   ]
  },
  {
   "cell_type": "code",
   "execution_count": 8,
   "metadata": {},
   "outputs": [
    {
     "name": "stdout",
     "output_type": "stream",
     "text": [
      "Current thread: <_MainThread(MainThread, started 17416)>\n",
      "==================================================\n",
      "Current thread: <Thread(T1, started 4976)>\n",
      "Active threads: 7\n",
      "Print message: Thread 1 is working.\n",
      "Current thread: <Thread(T2, started 16676)>\n",
      "Active threads: 8\n",
      "Print message: Thread 2 is working.\n",
      "Thread 1 is done.\n",
      "Thread 2 is done.\n",
      "==================================================\n",
      "Current thread: <_MainThread(MainThread, started 17416)>\n",
      "Active threads: 6\n"
     ]
    }
   ],
   "source": [
    "thread1 = threading.Thread(target=job1, name=\"T1\", args=(\"Thread 1\",))\n",
    "thread2 = threading.Thread(target=job2, name=\"T2\", args=(\"Thread 2\",))\n",
    "\n",
    "print(\"Current thread:\", threading.current_thread())\n",
    "\n",
    "print(\"=\"*50)\n",
    "thread1.start()\n",
    "thread2.start()\n",
    "thread1.join()\n",
    "thread2.join()\n",
    "print(\"=\"*50)\n",
    "\n",
    "print(\"Current thread:\", threading.current_thread())\n",
    "print(\"Active threads:\", threading.active_count())"
   ]
  },
  {
   "cell_type": "markdown",
   "metadata": {},
   "source": [
    "#### Example 3: `daemon` thread\n",
    "\n",
    "- Automatically stop the thread when `MainThread` terminates.\n",
    "- There are bugs in `ipython kernel`."
   ]
  },
  {
   "cell_type": "code",
   "execution_count": 10,
   "metadata": {},
   "outputs": [
    {
     "name": "stdout",
     "output_type": "stream",
     "text": [
      "Current thread: <_MainThread(MainThread, started 17416)>\n",
      "==================================================\n",
      "Current thread: <Thread(T1, started daemon 17108)>\n",
      "Active threads: 7\n",
      "Print message: Thread 1 is working.\n",
      "Current thread: <Thread(T2, started daemon 9968)>\n",
      "Active threads: 8\n",
      "Print message: Thread 2 is working.\n",
      "==================================================\n",
      "Current thread: <_MainThread(MainThread, started 17416)>\n",
      "Active threads: 8\n"
     ]
    },
    {
     "name": "stdout",
     "output_type": "stream",
     "text": [
      "Thread 1 is done.\n",
      "Thread 2 is done.\n"
     ]
    }
   ],
   "source": [
    "thread1 = threading.Thread(target=job1, name=\"T1\", args=(\"Thread 1\",), daemon=True)\n",
    "thread2 = threading.Thread(target=job2, name=\"T2\", args=(\"Thread 2\",), daemon=True)\n",
    "\n",
    "print(\"Current thread:\", threading.current_thread())\n",
    "\n",
    "print(\"=\"*50)\n",
    "thread1.start()\n",
    "thread2.start()\n",
    "print(\"=\"*50)\n",
    "\n",
    "print(\"Current thread:\", threading.current_thread())\n",
    "print(\"Active threads:\", threading.active_count())"
   ]
  },
  {
   "cell_type": "code",
   "execution_count": 55,
   "metadata": {},
   "outputs": [],
   "source": [
    "class multithread1:\n",
    "    def __init__(self, input_list):\n",
    "        self.data = input_list.copy()\n",
    "\n",
    "    def get_data(self):\n",
    "        return self.data\n",
    "\n",
    "    def job1(self, data, idx):\n",
    "        print(\"Thread {} is starting.\".format(idx))\n",
    "        for j in range(len(data)):\n",
    "            self.data[idx][j] = data[j]**2\n",
    "            time.sleep(1)\n",
    "\n",
    "    def run(self):\n",
    "\n",
    "        all_thread = []\n",
    "\n",
    "        for i in range(len(self.data)):\n",
    "            thread = threading.Thread(target=self.job1, name=\"T{}\".format(i), args=(self.data[i],i))\n",
    "            \n",
    "            thread.start()\n",
    "            all_thread.append(thread)    \n",
    "        \n",
    "        for thread in all_thread:\n",
    "            thread.join()\n"
   ]
  },
  {
   "cell_type": "code",
   "execution_count": 56,
   "metadata": {},
   "outputs": [
    {
     "name": "stdout",
     "output_type": "stream",
     "text": [
      "Thread 1 is starting.\n",
      "Thread 1 is starting.\n",
      "Thread 1 is starting.\n",
      "Thread 1 is starting.\n",
      "[[1, 2, 3], [100, 4, 9], [7, 8, 9], [10, 11, 12]]\n"
     ]
    }
   ],
   "source": [
    "N = 3\n",
    "\n",
    "arr1 = [[1,2,3],[4,5,6],[7,8,9],[10,11,12]]\n",
    "\n",
    "test1 = multithread1(arr1)\n",
    "test1.run()\n",
    "print(test1.get_data())"
   ]
  },
  {
   "cell_type": "markdown",
   "metadata": {},
   "source": [
    "<a id=\"tag3\"></a>\n",
    "\n",
    "## **Multi-processing**  "
   ]
  },
  {
   "cell_type": "code",
   "execution_count": null,
   "metadata": {},
   "outputs": [],
   "source": []
  }
 ],
 "metadata": {
  "kernelspec": {
   "display_name": "Python 3.8.10 ('nycudopcs')",
   "language": "python",
   "name": "python3"
  },
  "language_info": {
   "codemirror_mode": {
    "name": "ipython",
    "version": 3
   },
   "file_extension": ".py",
   "mimetype": "text/x-python",
   "name": "python",
   "nbconvert_exporter": "python",
   "pygments_lexer": "ipython3",
   "version": "3.8.10"
  },
  "orig_nbformat": 4,
  "vscode": {
   "interpreter": {
    "hash": "5fe2e5cd560f36aa3aedf58cd7990de02027c6dec68ca092676a4258cbc93843"
   }
  }
 },
 "nbformat": 4,
 "nbformat_minor": 2
}
